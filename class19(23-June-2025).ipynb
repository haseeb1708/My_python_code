{
 "cells": [
  {
   "cell_type": "code",
   "execution_count": 2,
   "id": "15acaf0d-027d-47a2-a18b-df85d359f9a7",
   "metadata": {},
   "outputs": [],
   "source": [
    "def addition(a, b):\n",
    "    c = a + b\n",
    "    return c"
   ]
  },
  {
   "cell_type": "code",
   "execution_count": 3,
   "id": "6911d09f-2825-4ef9-904f-d5f513972cc5",
   "metadata": {},
   "outputs": [
    {
     "data": {
      "text/plain": [
       "8"
      ]
     },
     "execution_count": 3,
     "metadata": {},
     "output_type": "execute_result"
    }
   ],
   "source": [
    "addition(3, 5)"
   ]
  },
  {
   "cell_type": "code",
   "execution_count": 6,
   "id": "f549d2c6-933b-4e3d-b1a3-3d9077638b12",
   "metadata": {},
   "outputs": [],
   "source": [
    "def multiply(a, b):\n",
    "    c = a * b\n",
    "    return c"
   ]
  },
  {
   "cell_type": "code",
   "execution_count": 10,
   "id": "0f171ab9-765d-485d-aa04-ddf1966fd082",
   "metadata": {},
   "outputs": [
    {
     "data": {
      "text/plain": [
       "24"
      ]
     },
     "execution_count": 10,
     "metadata": {},
     "output_type": "execute_result"
    }
   ],
   "source": [
    "multiply(4, 6)"
   ]
  },
  {
   "cell_type": "code",
   "execution_count": 12,
   "id": "96620fa4-3d33-43a3-a162-bc309cb26a46",
   "metadata": {},
   "outputs": [
    {
     "data": {
      "text/plain": [
       "8"
      ]
     },
     "execution_count": 12,
     "metadata": {},
     "output_type": "execute_result"
    }
   ],
   "source": [
    "def power(a, b):\n",
    "    return a ** b\n",
    "power(2, 3)"
   ]
  },
  {
   "cell_type": "code",
   "execution_count": 13,
   "id": "a09d607b-f2c5-47d0-974e-1327fadd049a",
   "metadata": {},
   "outputs": [],
   "source": [
    "def is_even(num):\n",
    "    if num % 2 == 0:\n",
    "        return True\n",
    "    else:\n",
    "        return False"
   ]
  },
  {
   "cell_type": "code",
   "execution_count": 14,
   "id": "b920ca92-e17f-48a9-ace7-436c08a8cc39",
   "metadata": {},
   "outputs": [
    {
     "data": {
      "text/plain": [
       "False"
      ]
     },
     "execution_count": 14,
     "metadata": {},
     "output_type": "execute_result"
    }
   ],
   "source": [
    "is_even(9)"
   ]
  },
  {
   "cell_type": "code",
   "execution_count": 15,
   "id": "6cb8b92a-ebac-4cb6-8231-d50691475b9c",
   "metadata": {},
   "outputs": [],
   "source": [
    "def is_even(num):\n",
    "    if num % 2 == 0:\n",
    "        return True\n",
    "    else:\n",
    "        return False"
   ]
  },
  {
   "cell_type": "code",
   "execution_count": 17,
   "id": "f08e93f8-cdba-4cde-aa5d-706d84cd9625",
   "metadata": {},
   "outputs": [
    {
     "data": {
      "text/plain": [
       "True"
      ]
     },
     "execution_count": 17,
     "metadata": {},
     "output_type": "execute_result"
    }
   ],
   "source": [
    "is_even(6)"
   ]
  },
  {
   "cell_type": "code",
   "execution_count": 30,
   "id": "7486ec3e-f996-4790-b3ad-ea026699f0bf",
   "metadata": {},
   "outputs": [],
   "source": [
    "def factorial(a):\n",
    "    total = 1\n",
    "    for n in range (a,0,-1):\n",
    "        total *= n \n",
    "    return total"
   ]
  },
  {
   "cell_type": "code",
   "execution_count": 31,
   "id": "4a345a3f-d12b-4871-854c-19a02fa5fdf0",
   "metadata": {},
   "outputs": [
    {
     "data": {
      "text/plain": [
       "24"
      ]
     },
     "execution_count": 31,
     "metadata": {},
     "output_type": "execute_result"
    }
   ],
   "source": [
    "factorial(4)"
   ]
  },
  {
   "cell_type": "code",
   "execution_count": 27,
   "id": "80e0cd77-f032-423a-a733-8a63dcce25f7",
   "metadata": {},
   "outputs": [
    {
     "name": "stdout",
     "output_type": "stream",
     "text": [
      "5\n",
      "4\n",
      "3\n",
      "2\n",
      "1\n"
     ]
    }
   ],
   "source": [
    "for i in range(5,0,-1):\n",
    "    print(i)"
   ]
  },
  {
   "cell_type": "code",
   "execution_count": 40,
   "id": "5725293a-da64-451f-8911-ab02aab9a705",
   "metadata": {},
   "outputs": [
    {
     "data": {
      "text/plain": [
       "120"
      ]
     },
     "execution_count": 40,
     "metadata": {},
     "output_type": "execute_result"
    }
   ],
   "source": [
    "# List comprehension\n",
    "eval('*'.join([str(i) for i in range(5,0,-1)]))"
   ]
  },
  {
   "cell_type": "code",
   "execution_count": 46,
   "id": "b547ebfd-b2f8-472a-90ab-455bd59ef847",
   "metadata": {},
   "outputs": [],
   "source": [
    "def unique_elements(lst):\n",
    "    result = set(lst)\n",
    "    return list(result)"
   ]
  },
  {
   "cell_type": "code",
   "execution_count": 47,
   "id": "c9c3b17b-657f-4fc9-8be4-86728e1cf942",
   "metadata": {},
   "outputs": [
    {
     "data": {
      "text/plain": [
       "[1, 2, 3]"
      ]
     },
     "execution_count": 47,
     "metadata": {},
     "output_type": "execute_result"
    }
   ],
   "source": [
    "unique_elements([1,2,2,3])"
   ]
  },
  {
   "cell_type": "code",
   "execution_count": 48,
   "id": "0708514b-25d3-406d-828c-65272be7dfca",
   "metadata": {},
   "outputs": [
    {
     "data": {
      "text/plain": [
       "[1, 2, 3]"
      ]
     },
     "execution_count": 48,
     "metadata": {},
     "output_type": "execute_result"
    }
   ],
   "source": [
    "def unique_elements(lst):\n",
    "    result = []\n",
    "    for n in lst:\n",
    "        if n not in result:\n",
    "            result.append(n)\n",
    "    return result\n",
    "\n",
    "unique_elements([1,2,2,3])"
   ]
  },
  {
   "cell_type": "code",
   "execution_count": 53,
   "id": "9db4470c-49ad-4b3c-bbad-3d89cde6ecba",
   "metadata": {},
   "outputs": [],
   "source": [
    "def average(lst):\n",
    "    avg = 0\n",
    "    length = 0\n",
    "    for i in (lst):\n",
    "        avg += i\n",
    "        length += 1\n",
    "    return avg/length"
   ]
  },
  {
   "cell_type": "code",
   "execution_count": 54,
   "id": "0cb4f450-3b2c-4057-9208-c1d4f859741f",
   "metadata": {},
   "outputs": [
    {
     "data": {
      "text/plain": [
       "2.5"
      ]
     },
     "execution_count": 54,
     "metadata": {},
     "output_type": "execute_result"
    }
   ],
   "source": [
    "average([1,2,3,4])"
   ]
  },
  {
   "cell_type": "code",
   "execution_count": 67,
   "id": "acb34c46-dd4c-42f2-aa75-7b50ce8d4123",
   "metadata": {},
   "outputs": [],
   "source": [
    "def even(lst):\n",
    "    even_numbers = []\n",
    "    for num in lst:\n",
    "        if num % 2 == 0:\n",
    "            even_numbers.append(num)\n",
    "    return even_numbers"
   ]
  },
  {
   "cell_type": "code",
   "execution_count": 68,
   "id": "3b4b8a2c-60a3-4418-8c30-3651f61cdcd5",
   "metadata": {},
   "outputs": [
    {
     "data": {
      "text/plain": [
       "[2, 6, 4]"
      ]
     },
     "execution_count": 68,
     "metadata": {},
     "output_type": "execute_result"
    }
   ],
   "source": [
    "even([1,3,3,5,3,2,6,4])"
   ]
  },
  {
   "cell_type": "code",
   "execution_count": 69,
   "id": "fd775767-52e7-4890-b751-8efc43523f82",
   "metadata": {},
   "outputs": [
    {
     "name": "stdout",
     "output_type": "stream",
     "text": [
      "Uppercase letters: 4\n",
      "Lowercase letters: 18\n"
     ]
    }
   ],
   "source": [
    "def count_case_letters(text):\n",
    "    upper_count = 0\n",
    "    lower_count = 0\n",
    "\n",
    "    for char in text:\n",
    "        if char.isupper():\n",
    "            upper_count += 1\n",
    "        elif char.islower():\n",
    "            lower_count += 1\n",
    "\n",
    "    print(\"Uppercase letters:\", upper_count)\n",
    "    print(\"Lowercase letters:\", lower_count)\n",
    "\n",
    "# Example usage\n",
    "input_string = \"Hello World! This is Python 101.\"\n",
    "count_case_letters(input_string)"
   ]
  },
  {
   "cell_type": "code",
   "execution_count": 4,
   "id": "40497624-1f06-4c2e-97ff-f4698127d9bd",
   "metadata": {},
   "outputs": [
    {
     "name": "stdout",
     "output_type": "stream",
     "text": [
      "\n",
      "No. of upper case characters : 5\n",
      "No. of upper case characters : 14\n",
      "    \n"
     ]
    }
   ],
   "source": [
    "def count(string):\n",
    "    lower = 0\n",
    "    upper = 0\n",
    "    for char in string:\n",
    "        if char.islower():\n",
    "            lower += 1\n",
    "        elif char.isupper():\n",
    "            upper += 1\n",
    "    print(f'''\n",
    "No. of upper case characters : {upper}\n",
    "No. of upper case characters : {lower}\n",
    "    ''')\n",
    "\n",
    "count('My Name Is Abdul Haseeb')"
   ]
  },
  {
   "cell_type": "code",
   "execution_count": 4,
   "id": "74d9f8c2-b635-4c42-90ab-74c4c24d384b",
   "metadata": {},
   "outputs": [
    {
     "name": "stdout",
     "output_type": "stream",
     "text": [
      "\n",
      "No. of Upper case characters : 3\n",
      "No. of Lower case Characters : 12\n",
      "    \n"
     ]
    }
   ],
   "source": [
    "def text(string):\n",
    "    upper = 0\n",
    "    lower = 0\n",
    "    for word in string:\n",
    "        if word.isupper():\n",
    "            upper+=1\n",
    "        elif word.islower():\n",
    "            lower+=1\n",
    "    print(f'''\n",
    "No. of Upper case characters : {upper}\n",
    "No. of Lower case Characters : {lower}\n",
    "    ''')\n",
    "    \n",
    "text('The quick Brow Fox')"
   ]
  },
  {
   "cell_type": "code",
   "execution_count": 3,
   "id": "188125fd-ae01-4b9c-bf9b-4a3d5debc88c",
   "metadata": {},
   "outputs": [
    {
     "name": "stdout",
     "output_type": "stream",
     "text": [
      "\n",
      "No. of Upper case characters : 3\n",
      "No. of Lower case Characters : 12\n",
      "    \n"
     ]
    }
   ],
   "source": [
    "def text(string):\n",
    "    upper = len([word for word in string if word.isupper()])\n",
    "    lower = len([word for word in string if word.islower()])\n",
    "    print(f'''\n",
    "No. of Upper case characters : {upper}\n",
    "No. of Lower case Characters : {lower}\n",
    "    ''')\n",
    "\n",
    "text('The quick Brow Fox')"
   ]
  },
  {
   "cell_type": "code",
   "execution_count": null,
   "id": "dd962e01-7edf-4f0e-934b-234c08c36447",
   "metadata": {},
   "outputs": [],
   "source": []
  }
 ],
 "metadata": {
  "kernelspec": {
   "display_name": "Python 3 (ipykernel)",
   "language": "python",
   "name": "python3"
  },
  "language_info": {
   "codemirror_mode": {
    "name": "ipython",
    "version": 3
   },
   "file_extension": ".py",
   "mimetype": "text/x-python",
   "name": "python",
   "nbconvert_exporter": "python",
   "pygments_lexer": "ipython3",
   "version": "3.11.7"
  }
 },
 "nbformat": 4,
 "nbformat_minor": 5
}
