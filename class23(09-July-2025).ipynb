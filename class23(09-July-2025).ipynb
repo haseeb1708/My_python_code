{
 "cells": [
  {
   "cell_type": "code",
   "execution_count": 1,
   "id": "f8e17103-75fa-4f6f-b26f-77c244548aea",
   "metadata": {},
   "outputs": [],
   "source": [
    "f = open('newfile.txt', 'r+')"
   ]
  },
  {
   "cell_type": "code",
   "execution_count": 2,
   "id": "4791be8a-8fdb-405c-960b-348ce0553ca2",
   "metadata": {},
   "outputs": [
    {
     "data": {
      "text/plain": [
       "19"
      ]
     },
     "execution_count": 2,
     "metadata": {},
     "output_type": "execute_result"
    }
   ],
   "source": [
    "f.write('My name is ali khan')"
   ]
  },
  {
   "cell_type": "code",
   "execution_count": 3,
   "id": "ff835d61-1c91-486a-ad20-1e271e69ae1d",
   "metadata": {},
   "outputs": [
    {
     "data": {
      "text/plain": [
       "'file using java'"
      ]
     },
     "execution_count": 3,
     "metadata": {},
     "output_type": "execute_result"
    }
   ],
   "source": [
    "f.read()"
   ]
  },
  {
   "cell_type": "code",
   "execution_count": 4,
   "id": "edd9f35a-f7d7-4f36-8a28-8367dfc99e5a",
   "metadata": {},
   "outputs": [
    {
     "data": {
      "text/plain": [
       "''"
      ]
     },
     "execution_count": 4,
     "metadata": {},
     "output_type": "execute_result"
    }
   ],
   "source": [
    "f.read()"
   ]
  },
  {
   "cell_type": "code",
   "execution_count": 5,
   "id": "b5546797-09d1-4865-be1f-efa1d6f61c67",
   "metadata": {},
   "outputs": [],
   "source": [
    "f.close()"
   ]
  },
  {
   "cell_type": "code",
   "execution_count": 6,
   "id": "5040d12b-f6d1-4521-bc68-77e1b451ffd8",
   "metadata": {},
   "outputs": [],
   "source": [
    "f = open('newfile.txt', 'w+')"
   ]
  },
  {
   "cell_type": "code",
   "execution_count": 7,
   "id": "457982ff-4922-49ae-8eba-e31529064bf2",
   "metadata": {},
   "outputs": [
    {
     "data": {
      "text/plain": [
       "13"
      ]
     },
     "execution_count": 7,
     "metadata": {},
     "output_type": "execute_result"
    }
   ],
   "source": [
    "f.write('I am using w+')"
   ]
  },
  {
   "cell_type": "code",
   "execution_count": 8,
   "id": "b3a53101-c111-40c5-a1ea-6477efeefba9",
   "metadata": {},
   "outputs": [
    {
     "data": {
      "text/plain": [
       "''"
      ]
     },
     "execution_count": 8,
     "metadata": {},
     "output_type": "execute_result"
    }
   ],
   "source": [
    "f.read()"
   ]
  },
  {
   "cell_type": "code",
   "execution_count": 9,
   "id": "4f27e39a-bc00-4c60-b76b-f5f4639cdd4f",
   "metadata": {},
   "outputs": [],
   "source": [
    "f.close()"
   ]
  },
  {
   "cell_type": "code",
   "execution_count": 10,
   "id": "d31d7c07-4019-4449-8128-25640244be04",
   "metadata": {},
   "outputs": [],
   "source": [
    "f = open('newfile.txt', 'a+')"
   ]
  },
  {
   "cell_type": "code",
   "execution_count": 11,
   "id": "1a269145-d2b4-4006-8410-21c24c317bc0",
   "metadata": {},
   "outputs": [
    {
     "data": {
      "text/plain": [
       "''"
      ]
     },
     "execution_count": 11,
     "metadata": {},
     "output_type": "execute_result"
    }
   ],
   "source": [
    "f.read()"
   ]
  },
  {
   "cell_type": "code",
   "execution_count": 12,
   "id": "3f09ddb9-c29a-4e5a-96a3-816ee7cfcf0c",
   "metadata": {},
   "outputs": [
    {
     "data": {
      "text/plain": [
       "27"
      ]
     },
     "execution_count": 12,
     "metadata": {},
     "output_type": "execute_result"
    }
   ],
   "source": [
    "f.write('i am using append plus mode')"
   ]
  },
  {
   "cell_type": "code",
   "execution_count": 13,
   "id": "7b1e0ced-d2d5-462e-8fe8-1d9b2addbc93",
   "metadata": {},
   "outputs": [],
   "source": [
    "f.close()"
   ]
  },
  {
   "cell_type": "markdown",
   "id": "24d089d7-ed54-4a5e-a8cd-f68deecf4190",
   "metadata": {},
   "source": [
    "#### Context Manager(with)\n"
   ]
  },
  {
   "cell_type": "code",
   "execution_count": 14,
   "id": "1907b73e-04fa-4666-aa35-9704ff816d96",
   "metadata": {},
   "outputs": [],
   "source": [
    "# f------alias\n",
    "with open('newfile.txt') as f:\n",
    "    content = f.read()"
   ]
  },
  {
   "cell_type": "code",
   "execution_count": 15,
   "id": "9f3a8a66-363f-4cb2-b36f-939466e187c8",
   "metadata": {},
   "outputs": [],
   "source": [
    "with open('newfile.txt', 'w+') as f:\n",
    "    f.write('I am using context manager')\n",
    "    f.seek(0)\n",
    "    content = f.read()"
   ]
  },
  {
   "cell_type": "code",
   "execution_count": 16,
   "id": "188757de-3dea-45ce-8f21-1ee785cdaeac",
   "metadata": {},
   "outputs": [
    {
     "data": {
      "text/plain": [
       "'I am using context manager'"
      ]
     },
     "execution_count": 16,
     "metadata": {},
     "output_type": "execute_result"
    }
   ],
   "source": [
    "content"
   ]
  },
  {
   "cell_type": "code",
   "execution_count": 17,
   "id": "55061d9d-0b2e-4cd2-90f1-d2f57cb26f59",
   "metadata": {},
   "outputs": [
    {
     "ename": "UnsupportedOperation",
     "evalue": "not readable",
     "output_type": "error",
     "traceback": [
      "\u001b[1;31m---------------------------------------------------------------------------\u001b[0m",
      "\u001b[1;31mUnsupportedOperation\u001b[0m                      Traceback (most recent call last)",
      "Cell \u001b[1;32mIn[17], line 4\u001b[0m\n\u001b[0;32m      2\u001b[0m f\u001b[38;5;241m.\u001b[39mwrite(\u001b[38;5;124m'\u001b[39m\u001b[38;5;124mI am using context manager\u001b[39m\u001b[38;5;124m'\u001b[39m)\n\u001b[0;32m      3\u001b[0m f\u001b[38;5;241m.\u001b[39mseek(\u001b[38;5;241m0\u001b[39m)\n\u001b[1;32m----> 4\u001b[0m content \u001b[38;5;241m=\u001b[39m f\u001b[38;5;241m.\u001b[39mread()\n",
      "\u001b[1;31mUnsupportedOperation\u001b[0m: not readable"
     ]
    }
   ],
   "source": [
    "with open('newfile.txt', 'w') as f:\n",
    "    f.write('I am using context manager')\n",
    "    f.seek(0)\n",
    "    content = f.read()"
   ]
  },
  {
   "cell_type": "code",
   "execution_count": 18,
   "id": "301ffe37-b674-4929-a082-ceb07ad81a39",
   "metadata": {},
   "outputs": [],
   "source": [
    "with open('newfile.txt', 'a+') as f:\n",
    "    f.seek(0)\n",
    "    content = f.read()"
   ]
  },
  {
   "cell_type": "code",
   "execution_count": 19,
   "id": "5436f5ea-2ad5-4fac-9394-a2d27d812b52",
   "metadata": {},
   "outputs": [
    {
     "data": {
      "text/plain": [
       "'I am using context manager'"
      ]
     },
     "execution_count": 19,
     "metadata": {},
     "output_type": "execute_result"
    }
   ],
   "source": [
    "content"
   ]
  },
  {
   "cell_type": "code",
   "execution_count": 20,
   "id": "43ab4d30-bc57-4bee-96dd-46b719352359",
   "metadata": {},
   "outputs": [],
   "source": [
    "with open('newfile.txt', 'a+') as f:\n",
    "    f.seek(0)\n",
    "    f.write('ali khan')\n",
    "    content = f.read()"
   ]
  },
  {
   "cell_type": "code",
   "execution_count": 21,
   "id": "8111005d-fb03-4df5-bfb1-0399a9d6f896",
   "metadata": {},
   "outputs": [
    {
     "data": {
      "text/plain": [
       "''"
      ]
     },
     "execution_count": 21,
     "metadata": {},
     "output_type": "execute_result"
    }
   ],
   "source": [
    "content"
   ]
  }
 ],
 "metadata": {
  "kernelspec": {
   "display_name": "Python 3 (ipykernel)",
   "language": "python",
   "name": "python3"
  },
  "language_info": {
   "codemirror_mode": {
    "name": "ipython",
    "version": 3
   },
   "file_extension": ".py",
   "mimetype": "text/x-python",
   "name": "python",
   "nbconvert_exporter": "python",
   "pygments_lexer": "ipython3",
   "version": "3.11.7"
  }
 },
 "nbformat": 4,
 "nbformat_minor": 5
}
