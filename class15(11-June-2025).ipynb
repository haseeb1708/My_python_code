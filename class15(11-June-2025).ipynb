{
 "cells": [
  {
   "cell_type": "code",
   "execution_count": 4,
   "id": "647f964b-245d-4f39-b54d-599789a7f01a",
   "metadata": {},
   "outputs": [
    {
     "name": "stdout",
     "output_type": "stream",
     "text": [
      "False\n"
     ]
    }
   ],
   "source": [
    "if (0.1 + 0.2 == 0.3):\n",
    "    print('True')\n",
    "else:\n",
    "    print('False')"
   ]
  },
  {
   "cell_type": "code",
   "execution_count": 5,
   "id": "52359e05-c2e8-4ea0-af88-20fcf507a4c3",
   "metadata": {},
   "outputs": [
    {
     "data": {
      "text/plain": [
       "0.30000000000000004"
      ]
     },
     "execution_count": 5,
     "metadata": {},
     "output_type": "execute_result"
    }
   ],
   "source": [
    "0.1 + 0.2 "
   ]
  },
  {
   "cell_type": "code",
   "execution_count": 6,
   "id": "a39aae06-805a-4127-85a0-8f518005e6c8",
   "metadata": {},
   "outputs": [],
   "source": [
    "def add_numbers(a, b):\n",
    "    '''This function prints the sum of two numbers'''\n",
    "    c = a + b\n",
    "    print(c)"
   ]
  },
  {
   "cell_type": "code",
   "execution_count": 7,
   "id": "5d3ec411-9480-4271-9e34-7a7642c3ca09",
   "metadata": {},
   "outputs": [
    {
     "name": "stdout",
     "output_type": "stream",
     "text": [
      "7\n"
     ]
    }
   ],
   "source": [
    "add_numbers(3, 4)"
   ]
  },
  {
   "cell_type": "code",
   "execution_count": 8,
   "id": "c07d1bca-5d82-40c7-86dd-c5c7149e14ab",
   "metadata": {},
   "outputs": [],
   "source": [
    "def display_message():\n",
    "    print('This is a message')"
   ]
  },
  {
   "cell_type": "code",
   "execution_count": 9,
   "id": "2be92be3-0abb-475c-af1c-be600283d4d1",
   "metadata": {},
   "outputs": [
    {
     "name": "stdout",
     "output_type": "stream",
     "text": [
      "This is a message\n"
     ]
    }
   ],
   "source": [
    "display_message()"
   ]
  },
  {
   "cell_type": "code",
   "execution_count": 10,
   "id": "fe637e77-5dbf-4433-b987-f154df85b1af",
   "metadata": {},
   "outputs": [],
   "source": [
    "def favourite_book(title):\n",
    "    print(f'My favourite book is {title}')"
   ]
  },
  {
   "cell_type": "code",
   "execution_count": 11,
   "id": "dce9174a-1038-48d8-b332-849a8634d354",
   "metadata": {},
   "outputs": [
    {
     "name": "stdout",
     "output_type": "stream",
     "text": [
      "My favourite book is Alice in Wonderland\n"
     ]
    }
   ],
   "source": [
    "favourite_book('Alice in Wonderland')"
   ]
  },
  {
   "cell_type": "markdown",
   "id": "b14de419-5d41-467e-ae74-f1f62d077072",
   "metadata": {},
   "source": [
    "#### Positional Arguments"
   ]
  },
  {
   "cell_type": "code",
   "execution_count": 12,
   "id": "87f5b026-74d6-4fc2-bbb5-3922127240af",
   "metadata": {},
   "outputs": [],
   "source": [
    "def add_numbers(a, b):\n",
    "    '''This function prints the sum of two numbers'''\n",
    "    c = a + b\n",
    "    print(c)"
   ]
  },
  {
   "cell_type": "code",
   "execution_count": 13,
   "id": "eace8fb1-4f82-4523-a56d-80ecc1a7c009",
   "metadata": {},
   "outputs": [
    {
     "name": "stdout",
     "output_type": "stream",
     "text": [
      "5\n"
     ]
    }
   ],
   "source": [
    "add_numbers(2, 3)"
   ]
  },
  {
   "cell_type": "code",
   "execution_count": 14,
   "id": "aca72fce-d1e0-468c-a6c4-d449c8414e1e",
   "metadata": {},
   "outputs": [],
   "source": [
    "def display_name(lname, fname):\n",
    "    print(f'My name is {fname} {lname}')"
   ]
  },
  {
   "cell_type": "code",
   "execution_count": 15,
   "id": "85489a5d-b0ad-4c6a-bf19-9b46b1e8b9a4",
   "metadata": {},
   "outputs": [
    {
     "name": "stdout",
     "output_type": "stream",
     "text": [
      "My name is Khan Ali\n"
     ]
    }
   ],
   "source": [
    "display_name('Ali', 'Khan')"
   ]
  },
  {
   "cell_type": "markdown",
   "id": "a164e935-6566-436d-855d-adec8f04d7d4",
   "metadata": {},
   "source": [
    "#### Keyword Arguments"
   ]
  },
  {
   "cell_type": "code",
   "execution_count": 16,
   "id": "2db65f1e-dcfa-4444-8634-eb81f488ab7a",
   "metadata": {},
   "outputs": [
    {
     "name": "stdout",
     "output_type": "stream",
     "text": [
      "My name is Ali Khan\n"
     ]
    }
   ],
   "source": [
    "display_name(fname = 'Ali', lname = 'Khan')"
   ]
  },
  {
   "cell_type": "code",
   "execution_count": 17,
   "id": "5da43c91-5625-4a77-bf2c-38ef61f46a14",
   "metadata": {},
   "outputs": [
    {
     "ename": "SyntaxError",
     "evalue": "positional argument follows keyword argument (2306420144.py, line 1)",
     "output_type": "error",
     "traceback": [
      "\u001b[1;36m  Cell \u001b[1;32mIn[17], line 1\u001b[1;36m\u001b[0m\n\u001b[1;33m    display_name(fname = 'Ali', 'khan')\u001b[0m\n\u001b[1;37m                                      ^\u001b[0m\n\u001b[1;31mSyntaxError\u001b[0m\u001b[1;31m:\u001b[0m positional argument follows keyword argument\n"
     ]
    }
   ],
   "source": [
    "display_name(fname = 'Ali', 'khan')"
   ]
  },
  {
   "cell_type": "code",
   "execution_count": 18,
   "id": "dba30fc2-230c-4682-8fb0-a4776d585577",
   "metadata": {},
   "outputs": [
    {
     "ename": "TypeError",
     "evalue": "display_name() got multiple values for argument 'lname'",
     "output_type": "error",
     "traceback": [
      "\u001b[1;31m---------------------------------------------------------------------------\u001b[0m",
      "\u001b[1;31mTypeError\u001b[0m                                 Traceback (most recent call last)",
      "Cell \u001b[1;32mIn[18], line 1\u001b[0m\n\u001b[1;32m----> 1\u001b[0m display_name(\u001b[38;5;124m'\u001b[39m\u001b[38;5;124mali\u001b[39m\u001b[38;5;124m'\u001b[39m, lname \u001b[38;5;241m=\u001b[39m \u001b[38;5;124m'\u001b[39m\u001b[38;5;124mkhan\u001b[39m\u001b[38;5;124m'\u001b[39m)\n",
      "\u001b[1;31mTypeError\u001b[0m: display_name() got multiple values for argument 'lname'"
     ]
    }
   ],
   "source": [
    "display_name('ali', lname = 'khan')"
   ]
  },
  {
   "cell_type": "code",
   "execution_count": 19,
   "id": "b1971935-47c4-474c-a559-6af73104ed5e",
   "metadata": {},
   "outputs": [
    {
     "name": "stdout",
     "output_type": "stream",
     "text": [
      "My name is ali khan\n"
     ]
    }
   ],
   "source": [
    "display_name('khan', fname= 'ali')"
   ]
  },
  {
   "cell_type": "code",
   "execution_count": 20,
   "id": "381a7b4a-34fd-4ca1-9863-b097a5df95f5",
   "metadata": {},
   "outputs": [],
   "source": [
    "def details(fname, lname, city):\n",
    "    print(f'My name is {fname} {lname} and live in {city}')"
   ]
  },
  {
   "cell_type": "code",
   "execution_count": 21,
   "id": "749cdc35-3239-4f3c-a5b8-202bd4bca2b9",
   "metadata": {},
   "outputs": [
    {
     "name": "stdout",
     "output_type": "stream",
     "text": [
      "My name is ali khan and live in karachi\n"
     ]
    }
   ],
   "source": [
    "details('ali', 'khan', 'karachi')"
   ]
  },
  {
   "cell_type": "code",
   "execution_count": 22,
   "id": "f14def29-a4d8-47bd-b2a1-fde2937e8d0c",
   "metadata": {},
   "outputs": [
    {
     "name": "stdout",
     "output_type": "stream",
     "text": [
      "My name is ali khan and live in Karachi\n"
     ]
    }
   ],
   "source": [
    "details(city='Karachi', lname = 'khan', fname = 'ali')"
   ]
  },
  {
   "cell_type": "code",
   "execution_count": 23,
   "id": "b920272a-2b54-4f13-96b2-bdaaf1c1eb62",
   "metadata": {},
   "outputs": [
    {
     "ename": "SyntaxError",
     "evalue": "positional argument follows keyword argument (532390599.py, line 1)",
     "output_type": "error",
     "traceback": [
      "\u001b[1;36m  Cell \u001b[1;32mIn[23], line 1\u001b[1;36m\u001b[0m\n\u001b[1;33m    details('ali', lname = 'khan', 'Karachi')\u001b[0m\n\u001b[1;37m                                            ^\u001b[0m\n\u001b[1;31mSyntaxError\u001b[0m\u001b[1;31m:\u001b[0m positional argument follows keyword argument\n"
     ]
    }
   ],
   "source": [
    "details('ali', lname = 'khan', 'Karachi')"
   ]
  },
  {
   "cell_type": "code",
   "execution_count": 24,
   "id": "506525e0-83a1-42f6-9665-e0d46182b3e2",
   "metadata": {},
   "outputs": [
    {
     "ename": "TypeError",
     "evalue": "details() got multiple values for argument 'lname'",
     "output_type": "error",
     "traceback": [
      "\u001b[1;31m---------------------------------------------------------------------------\u001b[0m",
      "\u001b[1;31mTypeError\u001b[0m                                 Traceback (most recent call last)",
      "Cell \u001b[1;32mIn[24], line 1\u001b[0m\n\u001b[1;32m----> 1\u001b[0m details(\u001b[38;5;124m'\u001b[39m\u001b[38;5;124mali\u001b[39m\u001b[38;5;124m'\u001b[39m, \u001b[38;5;124m'\u001b[39m\u001b[38;5;124mKarachi\u001b[39m\u001b[38;5;124m'\u001b[39m, lname \u001b[38;5;241m=\u001b[39m \u001b[38;5;124m'\u001b[39m\u001b[38;5;124mkhan\u001b[39m\u001b[38;5;124m'\u001b[39m)\n",
      "\u001b[1;31mTypeError\u001b[0m: details() got multiple values for argument 'lname'"
     ]
    }
   ],
   "source": [
    "details('ali', 'Karachi', lname = 'khan')"
   ]
  },
  {
   "cell_type": "code",
   "execution_count": 25,
   "id": "ba034857-2fe6-4888-ab53-fc47d2bfe5be",
   "metadata": {},
   "outputs": [
    {
     "name": "stdout",
     "output_type": "stream",
     "text": [
      "My name is ali khan and live in Karachi\n"
     ]
    }
   ],
   "source": [
    "details('ali', city ='Karachi', lname = 'khan')"
   ]
  },
  {
   "cell_type": "code",
   "execution_count": 26,
   "id": "6eb1606b-485a-4685-a715-c2f4ad4e8537",
   "metadata": {},
   "outputs": [
    {
     "name": "stdout",
     "output_type": "stream",
     "text": [
      "My name is ali khan and live in Karachi\n"
     ]
    }
   ],
   "source": [
    "details('ali', 'khan', city = 'Karachi')"
   ]
  },
  {
   "cell_type": "markdown",
   "id": "18d37d87-a1f3-4dc2-a894-a3e9c8bb1586",
   "metadata": {},
   "source": [
    "#### Default Value"
   ]
  },
  {
   "cell_type": "code",
   "execution_count": 27,
   "id": "d33301d2-f68d-419c-b73f-7fece476a4b8",
   "metadata": {},
   "outputs": [],
   "source": [
    "def display_name(fname, lname, city='Karachi'):\n",
    "    print(f'My name is {fname} {lname},lives in {city}')"
   ]
  },
  {
   "cell_type": "code",
   "execution_count": 28,
   "id": "af5ac638-2107-4e16-9c17-614ab0c4ffc1",
   "metadata": {},
   "outputs": [
    {
     "name": "stdout",
     "output_type": "stream",
     "text": [
      "My name is ali khan,lives in Karachi\n"
     ]
    }
   ],
   "source": [
    "display_name('ali', 'khan')"
   ]
  },
  {
   "cell_type": "code",
   "execution_count": 29,
   "id": "68dfbd47-25d7-4558-bed2-605f356adb5f",
   "metadata": {},
   "outputs": [
    {
     "ename": "SyntaxError",
     "evalue": "non-default argument follows default argument (451287082.py, line 1)",
     "output_type": "error",
     "traceback": [
      "\u001b[1;36m  Cell \u001b[1;32mIn[29], line 1\u001b[1;36m\u001b[0m\n\u001b[1;33m    def display_name(city='Karachi', fname, lname):\u001b[0m\n\u001b[1;37m                                     ^\u001b[0m\n\u001b[1;31mSyntaxError\u001b[0m\u001b[1;31m:\u001b[0m non-default argument follows default argument\n"
     ]
    }
   ],
   "source": [
    "def display_name(city='Karachi', fname, lname):\n",
    "    print(f'My name is {fname} {lname},lives in {city}')"
   ]
  },
  {
   "cell_type": "code",
   "execution_count": 31,
   "id": "b224070f-5ab4-4602-a910-10107db7a4b9",
   "metadata": {},
   "outputs": [],
   "source": [
    "def make_shirt(size, text):\n",
    "    print(f'A {size} {text}')"
   ]
  },
  {
   "cell_type": "code",
   "execution_count": 32,
   "id": "d910c2c2-86f2-48ca-b53e-a3a5b8dc55ad",
   "metadata": {},
   "outputs": [
    {
     "name": "stdout",
     "output_type": "stream",
     "text": [
      "A large Elephant\n"
     ]
    }
   ],
   "source": [
    "make_shirt('large', 'Elephant')"
   ]
  },
  {
   "cell_type": "code",
   "execution_count": 33,
   "id": "d10cb91b-4cfe-4895-98da-138067d51cb8",
   "metadata": {},
   "outputs": [
    {
     "name": "stdout",
     "output_type": "stream",
     "text": [
      "A Medium elephant\n"
     ]
    }
   ],
   "source": [
    "make_shirt(text='elephant', size = 'Medium')"
   ]
  },
  {
   "cell_type": "code",
   "execution_count": 34,
   "id": "8b145af3-a068-4e73-9f51-50e226798f04",
   "metadata": {},
   "outputs": [],
   "source": [
    "def make_shirt(size = 'large', text='I love python'):\n",
    "    print(f'{text} with {size} tshirt')"
   ]
  },
  {
   "cell_type": "code",
   "execution_count": 35,
   "id": "cb1a0d4f-d6ab-44b3-923f-3ae699fc6545",
   "metadata": {},
   "outputs": [
    {
     "name": "stdout",
     "output_type": "stream",
     "text": [
      "I love python with large tshirt\n"
     ]
    }
   ],
   "source": [
    "make_shirt()"
   ]
  },
  {
   "cell_type": "code",
   "execution_count": 36,
   "id": "c9d431eb-e3b4-4eb6-a811-438e07c9c129",
   "metadata": {},
   "outputs": [
    {
     "name": "stdout",
     "output_type": "stream",
     "text": [
      "I love python with medium tshirt\n"
     ]
    }
   ],
   "source": [
    "make_shirt(size = 'medium')"
   ]
  },
  {
   "cell_type": "code",
   "execution_count": 37,
   "id": "20712f91-1376-4dda-b7fd-b667144b9cea",
   "metadata": {},
   "outputs": [
    {
     "name": "stdout",
     "output_type": "stream",
     "text": [
      "I love js with large tshirt\n"
     ]
    }
   ],
   "source": [
    "make_shirt(text = 'I love js')"
   ]
  },
  {
   "cell_type": "code",
   "execution_count": 38,
   "id": "df391764-a84f-4362-8905-82323f9ada95",
   "metadata": {},
   "outputs": [],
   "source": [
    "def describe_city(city, country):\n",
    "    print(f'{city} is in {country}')"
   ]
  },
  {
   "cell_type": "code",
   "execution_count": 39,
   "id": "9c89acbf-4c4f-4595-8c06-6e73e186fd23",
   "metadata": {},
   "outputs": [
    {
     "name": "stdout",
     "output_type": "stream",
     "text": [
      "Karachi is in Pakistan\n"
     ]
    }
   ],
   "source": [
    "describe_city('Karachi', 'Pakistan')"
   ]
  },
  {
   "cell_type": "code",
   "execution_count": 40,
   "id": "137b5d2e-0eec-4bb6-ac35-b7f437e5414d",
   "metadata": {},
   "outputs": [],
   "source": [
    "def describe_city(city, country='Pakistan'):\n",
    "    print(f'{city} is in {country}')"
   ]
  },
  {
   "cell_type": "code",
   "execution_count": 41,
   "id": "8a084b68-eb8a-4ae0-ac39-5b03f45a5d46",
   "metadata": {},
   "outputs": [
    {
     "name": "stdout",
     "output_type": "stream",
     "text": [
      "Newyork is in Pakistan\n"
     ]
    }
   ],
   "source": [
    "describe_city('Newyork')"
   ]
  },
  {
   "cell_type": "code",
   "execution_count": 42,
   "id": "5248b260-e397-4f27-b606-e6e37cb34ddc",
   "metadata": {},
   "outputs": [
    {
     "name": "stdout",
     "output_type": "stream",
     "text": [
      "Newyork is in Pakistan\n"
     ]
    }
   ],
   "source": [
    "result = describe_city('Newyork')"
   ]
  },
  {
   "cell_type": "code",
   "execution_count": 43,
   "id": "7aaa7873-0168-4f1b-9e76-057baf33d975",
   "metadata": {},
   "outputs": [
    {
     "name": "stdout",
     "output_type": "stream",
     "text": [
      "None\n"
     ]
    }
   ],
   "source": [
    "print(result)"
   ]
  },
  {
   "cell_type": "code",
   "execution_count": 44,
   "id": "29859ed9-c53d-4180-99e2-721235f37164",
   "metadata": {},
   "outputs": [],
   "source": [
    "def describe_city(city, country='Pakistan'):\n",
    "    return f'{city} is in {country}'"
   ]
  },
  {
   "cell_type": "code",
   "execution_count": 45,
   "id": "89821043-90e0-4da4-a3aa-f968fb8f739a",
   "metadata": {},
   "outputs": [],
   "source": [
    "result = describe_city('Larkana')"
   ]
  },
  {
   "cell_type": "code",
   "execution_count": 46,
   "id": "3b45d2db-1ff3-48f8-96c6-cd92e7f2094e",
   "metadata": {},
   "outputs": [
    {
     "name": "stdout",
     "output_type": "stream",
     "text": [
      "LARKANA IS IN PAKISTAN\n"
     ]
    }
   ],
   "source": [
    "print(result.upper())"
   ]
  },
  {
   "cell_type": "code",
   "execution_count": 47,
   "id": "a2f22c6b-f677-4f37-8a4d-d6f99f16170e",
   "metadata": {},
   "outputs": [],
   "source": [
    "def make_album(name, album):\n",
    "    return {name: album}"
   ]
  },
  {
   "cell_type": "code",
   "execution_count": 48,
   "id": "333f5a31-be0b-4cfc-b701-cb8a0125e5fb",
   "metadata": {},
   "outputs": [
    {
     "data": {
      "text/plain": [
       "{'Chahat bhai': 'Bado badi'}"
      ]
     },
     "execution_count": 48,
     "metadata": {},
     "output_type": "execute_result"
    }
   ],
   "source": [
    "make_album('Chahat bhai', 'Bado badi')"
   ]
  },
  {
   "cell_type": "code",
   "execution_count": 2,
   "id": "050601dd-7c20-4a61-bae6-7ec61710fcb8",
   "metadata": {},
   "outputs": [],
   "source": [
    "def display_name(fname, lname):\n",
    "    print(f'My name is {fname} {lname}')"
   ]
  },
  {
   "cell_type": "code",
   "execution_count": 3,
   "id": "de42d2be-0406-49f6-a1bd-27ce95cdb524",
   "metadata": {},
   "outputs": [
    {
     "name": "stdout",
     "output_type": "stream",
     "text": [
      "My name is Abdul Haseeb\n"
     ]
    }
   ],
   "source": [
    "display_name(fname='Abdul', lname='Haseeb')"
   ]
  },
  {
   "cell_type": "code",
   "execution_count": 4,
   "id": "450698f6-75f2-4a78-8ffa-60a6ebebd49e",
   "metadata": {},
   "outputs": [
    {
     "name": "stdout",
     "output_type": "stream",
     "text": [
      "My name is Abdul Haseeb\n"
     ]
    }
   ],
   "source": [
    "display_name(lname='Haseeb', fname='Abdul')"
   ]
  },
  {
   "cell_type": "code",
   "execution_count": 5,
   "id": "257ef3ac-c1c8-44d2-ad00-6a0977dd02d9",
   "metadata": {},
   "outputs": [
    {
     "name": "stdout",
     "output_type": "stream",
     "text": [
      "My name is Abdul Haseeb\n"
     ]
    }
   ],
   "source": [
    "display_name('Abdul', lname='Haseeb')"
   ]
  },
  {
   "cell_type": "code",
   "execution_count": 9,
   "id": "8503777d-08c5-439c-bdd8-d97deb8d47e8",
   "metadata": {},
   "outputs": [
    {
     "name": "stdout",
     "output_type": "stream",
     "text": [
      "Hi, Ali!\n"
     ]
    }
   ],
   "source": [
    "def greet(name, greeting=\"Hello\"):\n",
    "    print(f\"{greeting}, {name}!\")\n",
    "\n",
    "greet(\"Ali\", greeting=\"Hi\")\n"
   ]
  },
  {
   "cell_type": "code",
   "execution_count": null,
   "id": "2c09a400-c85c-4ef2-b19d-d3f35657269a",
   "metadata": {},
   "outputs": [],
   "source": []
  }
 ],
 "metadata": {
  "kernelspec": {
   "display_name": "Python 3 (ipykernel)",
   "language": "python",
   "name": "python3"
  },
  "language_info": {
   "codemirror_mode": {
    "name": "ipython",
    "version": 3
   },
   "file_extension": ".py",
   "mimetype": "text/x-python",
   "name": "python",
   "nbconvert_exporter": "python",
   "pygments_lexer": "ipython3",
   "version": "3.11.7"
  }
 },
 "nbformat": 4,
 "nbformat_minor": 5
}
