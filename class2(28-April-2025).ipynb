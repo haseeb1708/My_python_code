{
 "cells": [
  {
   "cell_type": "code",
   "execution_count": 2,
   "id": "89f8305e-db0c-4ef3-9a2c-436af64a964d",
   "metadata": {},
   "outputs": [
    {
     "name": "stdout",
     "output_type": "stream",
     "text": [
      "Ali Khan\n"
     ]
    }
   ],
   "source": [
    "print('Ali Khan')"
   ]
  },
  {
   "cell_type": "code",
   "execution_count": 3,
   "id": "b95feada-0c47-450a-b77e-8a5e8b807fba",
   "metadata": {},
   "outputs": [
    {
     "data": {
      "text/plain": [
       "123"
      ]
     },
     "execution_count": 3,
     "metadata": {},
     "output_type": "execute_result"
    }
   ],
   "source": [
    "123"
   ]
  },
  {
   "cell_type": "code",
   "execution_count": 5,
   "id": "5a643936-2398-454e-aacc-4c5a06d355d8",
   "metadata": {},
   "outputs": [
    {
     "name": "stdout",
     "output_type": "stream",
     "text": [
      "hello world 23 21.2 True\n"
     ]
    }
   ],
   "source": [
    "print('hello world', 23, 21.2,True,sep=' ')"
   ]
  },
  {
   "cell_type": "code",
   "execution_count": 8,
   "id": "68af8614-c0af-42cc-9174-a5f2497de2a1",
   "metadata": {},
   "outputs": [
    {
     "name": "stdout",
     "output_type": "stream",
     "text": [
      "Ali Khan\n"
     ]
    }
   ],
   "source": [
    "print('Ali Khan')"
   ]
  },
  {
   "cell_type": "code",
   "execution_count": 9,
   "id": "27615899-999b-4ac3-98a4-b07169e582d2",
   "metadata": {},
   "outputs": [
    {
     "name": "stdout",
     "output_type": "stream",
     "text": [
      "Haseeb\n"
     ]
    }
   ],
   "source": [
    "print('Haseeb')"
   ]
  },
  {
   "cell_type": "code",
   "execution_count": 10,
   "id": "09016c4b-2bec-43f9-ac06-52270cae7b63",
   "metadata": {},
   "outputs": [
    {
     "name": "stdout",
     "output_type": "stream",
     "text": [
      "hello world\n",
      "23\n",
      "12.3\n",
      "True\n"
     ]
    }
   ],
   "source": [
    "print('hello world', 23, 12.3, True,sep='\\n')"
   ]
  },
  {
   "cell_type": "code",
   "execution_count": 11,
   "id": "82f4172e-27f0-432a-8346-ec964da3149a",
   "metadata": {},
   "outputs": [
    {
     "name": "stdout",
     "output_type": "stream",
     "text": [
      "haseeb\n"
     ]
    }
   ],
   "source": [
    "print('haseeb')"
   ]
  },
  {
   "cell_type": "code",
   "execution_count": 12,
   "id": "76a5c67d-225a-478d-9231-2672e591115c",
   "metadata": {},
   "outputs": [
    {
     "name": "stdout",
     "output_type": "stream",
     "text": [
      "1123\n"
     ]
    }
   ],
   "source": [
    "print(1123)"
   ]
  },
  {
   "cell_type": "code",
   "execution_count": 13,
   "id": "34b19571-bfb7-4297-9b05-15cc43ec0ee1",
   "metadata": {},
   "outputs": [
    {
     "name": "stdout",
     "output_type": "stream",
     "text": [
      "12.3\n"
     ]
    }
   ],
   "source": [
    "print(12.3)"
   ]
  },
  {
   "cell_type": "code",
   "execution_count": 14,
   "id": "69242b3e-2af5-4924-8edf-075522ccba3c",
   "metadata": {},
   "outputs": [
    {
     "name": "stdout",
     "output_type": "stream",
     "text": [
      "haseeb\n"
     ]
    }
   ],
   "source": [
    "print('haseeb')"
   ]
  },
  {
   "cell_type": "code",
   "execution_count": 15,
   "id": "1f541491-5361-408d-83ab-8faffed23e36",
   "metadata": {},
   "outputs": [
    {
     "name": "stdout",
     "output_type": "stream",
     "text": [
      "hello\t123\n"
     ]
    }
   ],
   "source": [
    "print('hello', 123, sep='\\t')"
   ]
  },
  {
   "cell_type": "code",
   "execution_count": 16,
   "id": "f70f52fe-cc07-499f-9408-4e7e9442a23a",
   "metadata": {},
   "outputs": [
    {
     "name": "stdout",
     "output_type": "stream",
     "text": [
      "14 10 24 6.0\n"
     ]
    }
   ],
   "source": [
    "print(12+2, 12-2, 12*2, 12/2)"
   ]
  },
  {
   "cell_type": "code",
   "execution_count": 17,
   "id": "0bb60dc9-9427-4249-8824-df2904f73ecb",
   "metadata": {},
   "outputs": [
    {
     "name": "stdout",
     "output_type": "stream",
     "text": [
      "4.0\n"
     ]
    }
   ],
   "source": [
    "print(12/3)"
   ]
  },
  {
   "cell_type": "code",
   "execution_count": 18,
   "id": "f15fd155-a374-4451-b0a3-ed6414f93cb9",
   "metadata": {},
   "outputs": [
    {
     "name": "stdout",
     "output_type": "stream",
     "text": [
      "7.666666666666667\n"
     ]
    }
   ],
   "source": [
    "print(23/3)"
   ]
  },
  {
   "cell_type": "code",
   "execution_count": 19,
   "id": "a076419b-73b2-49c2-8700-2604a59f3bf0",
   "metadata": {},
   "outputs": [
    {
     "name": "stdout",
     "output_type": "stream",
     "text": [
      "7\n"
     ]
    }
   ],
   "source": [
    "print(23//3)"
   ]
  },
  {
   "cell_type": "code",
   "execution_count": 20,
   "id": "8af6bc3b-cc7d-49ee-9137-f2c4ea0d9a6c",
   "metadata": {},
   "outputs": [],
   "source": [
    "result = 23//3"
   ]
  },
  {
   "cell_type": "code",
   "execution_count": 21,
   "id": "54f640e1-87cd-473a-9bd2-0a730fba9945",
   "metadata": {},
   "outputs": [
    {
     "name": "stdout",
     "output_type": "stream",
     "text": [
      "7\n"
     ]
    }
   ],
   "source": [
    "print(result)"
   ]
  },
  {
   "cell_type": "code",
   "execution_count": 22,
   "id": "58de5f30-3d36-434f-9fd0-a4aece51249f",
   "metadata": {},
   "outputs": [
    {
     "name": "stdout",
     "output_type": "stream",
     "text": [
      "1\n"
     ]
    }
   ],
   "source": [
    "print(3%2)"
   ]
  },
  {
   "cell_type": "code",
   "execution_count": 23,
   "id": "259107bb-3826-4677-8095-06a18883bae7",
   "metadata": {},
   "outputs": [
    {
     "name": "stdout",
     "output_type": "stream",
     "text": [
      "0\n"
     ]
    }
   ],
   "source": [
    "print(12%2)"
   ]
  },
  {
   "cell_type": "code",
   "execution_count": 24,
   "id": "50dd69d3-86a6-4fd6-8805-651355a29c77",
   "metadata": {},
   "outputs": [],
   "source": [
    "result = 500%3"
   ]
  },
  {
   "cell_type": "code",
   "execution_count": 25,
   "id": "06264a9c-2a13-4dfe-b41a-983ae91e1a2c",
   "metadata": {},
   "outputs": [
    {
     "name": "stdout",
     "output_type": "stream",
     "text": [
      "2\n"
     ]
    }
   ],
   "source": [
    "print(result)"
   ]
  },
  {
   "cell_type": "code",
   "execution_count": 27,
   "id": "975f5a13-212b-4712-8d6f-69af08d11d98",
   "metadata": {},
   "outputs": [
    {
     "name": "stdout",
     "output_type": "stream",
     "text": [
      "166.66666666666666\n"
     ]
    }
   ],
   "source": [
    "print(500/3)"
   ]
  }
 ],
 "metadata": {
  "kernelspec": {
   "display_name": "Python 3 (ipykernel)",
   "language": "python",
   "name": "python3"
  },
  "language_info": {
   "codemirror_mode": {
    "name": "ipython",
    "version": 3
   },
   "file_extension": ".py",
   "mimetype": "text/x-python",
   "name": "python",
   "nbconvert_exporter": "python",
   "pygments_lexer": "ipython3",
   "version": "3.11.7"
  }
 },
 "nbformat": 4,
 "nbformat_minor": 5
}
