{
 "cells": [
  {
   "cell_type": "code",
   "execution_count": 1,
   "id": "065b8d79-96b8-4cd5-a0c5-653a3534d809",
   "metadata": {},
   "outputs": [],
   "source": [
    "cities =['Karachi','Lahore','Quetta','Multan']"
   ]
  },
  {
   "cell_type": "code",
   "execution_count": 2,
   "id": "38a28cb6-49d5-4232-9c3e-368dd26fe530",
   "metadata": {},
   "outputs": [
    {
     "data": {
      "text/plain": [
       "4"
      ]
     },
     "execution_count": 2,
     "metadata": {},
     "output_type": "execute_result"
    }
   ],
   "source": [
    "len(cities)"
   ]
  },
  {
   "cell_type": "code",
   "execution_count": 3,
   "id": "a871e35c-f4fc-48d2-8fd6-d11736eb2e15",
   "metadata": {},
   "outputs": [
    {
     "data": {
      "text/plain": [
       "list"
      ]
     },
     "execution_count": 3,
     "metadata": {},
     "output_type": "execute_result"
    }
   ],
   "source": [
    "type(cities)"
   ]
  },
  {
   "cell_type": "code",
   "execution_count": 4,
   "id": "740784c6-fcd3-4f3c-a617-c6953084b64a",
   "metadata": {},
   "outputs": [
    {
     "data": {
      "text/plain": [
       "['Karachi', 'Lahore', 'Quetta', 'Multan']"
      ]
     },
     "execution_count": 4,
     "metadata": {},
     "output_type": "execute_result"
    }
   ],
   "source": [
    "cities"
   ]
  },
  {
   "cell_type": "code",
   "execution_count": 5,
   "id": "c1da8a2d-7b5a-4f13-8711-a3c94d40d016",
   "metadata": {},
   "outputs": [],
   "source": [
    "cities.append('Peshawar')"
   ]
  },
  {
   "cell_type": "code",
   "execution_count": 6,
   "id": "a72baa6f-f80f-408e-b6e9-33dfaed6f249",
   "metadata": {},
   "outputs": [
    {
     "data": {
      "text/plain": [
       "['Karachi', 'Lahore', 'Quetta', 'Multan', 'Peshawar']"
      ]
     },
     "execution_count": 6,
     "metadata": {},
     "output_type": "execute_result"
    }
   ],
   "source": [
    "cities"
   ]
  },
  {
   "cell_type": "code",
   "execution_count": 7,
   "id": "3f4009ca-e277-4c9b-8f52-d1ce3c37b691",
   "metadata": {},
   "outputs": [],
   "source": [
    "cities.append('Murree')"
   ]
  },
  {
   "cell_type": "code",
   "execution_count": 8,
   "id": "b23b0d5b-142e-4117-a89a-556f430d00c0",
   "metadata": {},
   "outputs": [
    {
     "data": {
      "text/plain": [
       "['Karachi', 'Lahore', 'Quetta', 'Multan', 'Peshawar', 'Murree']"
      ]
     },
     "execution_count": 8,
     "metadata": {},
     "output_type": "execute_result"
    }
   ],
   "source": [
    "cities"
   ]
  },
  {
   "cell_type": "code",
   "execution_count": 9,
   "id": "1170876f-e364-4f2a-8028-61e808188766",
   "metadata": {},
   "outputs": [
    {
     "data": {
      "text/plain": [
       "'Quetta'"
      ]
     },
     "execution_count": 9,
     "metadata": {},
     "output_type": "execute_result"
    }
   ],
   "source": [
    "cities[2]"
   ]
  },
  {
   "cell_type": "code",
   "execution_count": 10,
   "id": "55a904a8-79ad-401c-bba8-0e9b2de75820",
   "metadata": {},
   "outputs": [
    {
     "data": {
      "text/plain": [
       "'Murree'"
      ]
     },
     "execution_count": 10,
     "metadata": {},
     "output_type": "execute_result"
    }
   ],
   "source": [
    "cities[5]"
   ]
  },
  {
   "cell_type": "code",
   "execution_count": 11,
   "id": "5b02c7c7-3e88-4850-b6c3-9bdc3c29a114",
   "metadata": {},
   "outputs": [],
   "source": [
    "#FORWARD indexing\n",
    "   #          0         1        2        3         4         5\n",
    "cities = ['Karachi','Lahore','Quetta','Multan','Peshawar','Murree']"
   ]
  },
  {
   "cell_type": "code",
   "execution_count": 12,
   "id": "f9e2dfa2-146f-4ea9-9fc2-187b518351bf",
   "metadata": {},
   "outputs": [
    {
     "data": {
      "text/plain": [
       "['Karachi', 'Lahore', 'Quetta']"
      ]
     },
     "execution_count": 12,
     "metadata": {},
     "output_type": "execute_result"
    }
   ],
   "source": [
    "#Indexing and slicing\n",
    "cities[:3]"
   ]
  },
  {
   "cell_type": "code",
   "execution_count": 13,
   "id": "19561519-85f5-4061-91da-2103996e416c",
   "metadata": {},
   "outputs": [],
   "source": [
    "#cities[start:end]\n",
    "#start--->inclusive(included)\n",
    "#end--->exclusive(not included)"
   ]
  },
  {
   "cell_type": "code",
   "execution_count": 14,
   "id": "8e0c781a-070f-4126-af9f-dc08c2d507d8",
   "metadata": {},
   "outputs": [
    {
     "data": {
      "text/plain": [
       "['Karachi', 'Lahore', 'Quetta']"
      ]
     },
     "execution_count": 14,
     "metadata": {},
     "output_type": "execute_result"
    }
   ],
   "source": [
    "cities[0:3]"
   ]
  },
  {
   "cell_type": "code",
   "execution_count": 15,
   "id": "b41b33e5-3a55-4c40-a7ba-a34b6af14a2a",
   "metadata": {},
   "outputs": [
    {
     "data": {
      "text/plain": [
       "['Karachi', 'Lahore']"
      ]
     },
     "execution_count": 15,
     "metadata": {},
     "output_type": "execute_result"
    }
   ],
   "source": [
    "cities[0:2]"
   ]
  },
  {
   "cell_type": "code",
   "execution_count": 16,
   "id": "75b9debf-6252-49f8-96f2-668f1f579960",
   "metadata": {},
   "outputs": [
    {
     "data": {
      "text/plain": [
       "['Karachi', 'Lahore', 'Quetta']"
      ]
     },
     "execution_count": 16,
     "metadata": {},
     "output_type": "execute_result"
    }
   ],
   "source": [
    "cities[0:3]"
   ]
  },
  {
   "cell_type": "code",
   "execution_count": 17,
   "id": "79369db3-aafe-4253-b95e-6510c48fdc47",
   "metadata": {},
   "outputs": [
    {
     "data": {
      "text/plain": [
       "['Karachi', 'Lahore', 'Quetta', 'Multan']"
      ]
     },
     "execution_count": 17,
     "metadata": {},
     "output_type": "execute_result"
    }
   ],
   "source": [
    "cities[0:4]"
   ]
  },
  {
   "cell_type": "code",
   "execution_count": 19,
   "id": "2bdb9db9-ba76-49b8-b833-2e004e0c63c8",
   "metadata": {},
   "outputs": [
    {
     "data": {
      "text/plain": [
       "['Lahore', 'Quetta', 'Multan']"
      ]
     },
     "execution_count": 19,
     "metadata": {},
     "output_type": "execute_result"
    }
   ],
   "source": [
    "cities[1:4]"
   ]
  },
  {
   "cell_type": "code",
   "execution_count": 20,
   "id": "f42af3b2-7781-47d6-a0cd-eb717e155317",
   "metadata": {},
   "outputs": [
    {
     "data": {
      "text/plain": [
       "['Quetta', 'Multan', 'Peshawar', 'Murree']"
      ]
     },
     "execution_count": 20,
     "metadata": {},
     "output_type": "execute_result"
    }
   ],
   "source": [
    "cities[2:6]"
   ]
  },
  {
   "cell_type": "code",
   "execution_count": 21,
   "id": "be77fc83-8774-4114-919d-0130d75b5e60",
   "metadata": {},
   "outputs": [
    {
     "data": {
      "text/plain": [
       "['Karachi', 'Lahore', 'Quetta']"
      ]
     },
     "execution_count": 21,
     "metadata": {},
     "output_type": "execute_result"
    }
   ],
   "source": [
    "cities[:3]"
   ]
  },
  {
   "cell_type": "code",
   "execution_count": 22,
   "id": "948cb4bc-61d7-4648-83f9-304a88beb8df",
   "metadata": {},
   "outputs": [
    {
     "data": {
      "text/plain": [
       "'Peshawar'"
      ]
     },
     "execution_count": 22,
     "metadata": {},
     "output_type": "execute_result"
    }
   ],
   "source": [
    "cities[4]"
   ]
  },
  {
   "cell_type": "code",
   "execution_count": 23,
   "id": "9ece3d67-eedd-463e-8e93-43c39e1d9b4c",
   "metadata": {},
   "outputs": [
    {
     "data": {
      "text/plain": [
       "['Multan', 'Peshawar', 'Murree']"
      ]
     },
     "execution_count": 23,
     "metadata": {},
     "output_type": "execute_result"
    }
   ],
   "source": [
    "cities[3:6]"
   ]
  },
  {
   "cell_type": "code",
   "execution_count": 24,
   "id": "0d8309f2-20f9-4578-8a9b-7244b72fd7b2",
   "metadata": {},
   "outputs": [
    {
     "data": {
      "text/plain": [
       "['Multan', 'Peshawar', 'Murree']"
      ]
     },
     "execution_count": 24,
     "metadata": {},
     "output_type": "execute_result"
    }
   ],
   "source": [
    "cities[3:]"
   ]
  },
  {
   "cell_type": "code",
   "execution_count": 25,
   "id": "8d406420-7e79-4560-ae3c-23cc09562b1f",
   "metadata": {},
   "outputs": [
    {
     "data": {
      "text/plain": [
       "['Karachi', 'Quetta', 'Peshawar']"
      ]
     },
     "execution_count": 25,
     "metadata": {},
     "output_type": "execute_result"
    }
   ],
   "source": [
    "#cities[start:end+1:step]\n",
    "cities[::2]"
   ]
  },
  {
   "cell_type": "code",
   "execution_count": 26,
   "id": "415ea38e-fb13-470f-a668-03ddab23220d",
   "metadata": {},
   "outputs": [
    {
     "data": {
      "text/plain": [
       "['Lahore', 'Multan', 'Murree']"
      ]
     },
     "execution_count": 26,
     "metadata": {},
     "output_type": "execute_result"
    }
   ],
   "source": [
    "cities[1::2]"
   ]
  },
  {
   "cell_type": "code",
   "execution_count": 28,
   "id": "6d3c82b2-cb75-4730-a640-1b33af4a4ff0",
   "metadata": {},
   "outputs": [],
   "source": [
    "cities = ['Karachi', 'Lahore', 'Quetta', 'Multan', 'Peshawar', 'Murree']\n",
    "   #         -6         -5        -4        -3         -2         -1"
   ]
  },
  {
   "cell_type": "code",
   "execution_count": 29,
   "id": "fac06347-5184-4b1a-b76f-6469521a425f",
   "metadata": {},
   "outputs": [
    {
     "data": {
      "text/plain": [
       "'Murree'"
      ]
     },
     "execution_count": 29,
     "metadata": {},
     "output_type": "execute_result"
    }
   ],
   "source": [
    "cities[-1]"
   ]
  },
  {
   "cell_type": "code",
   "execution_count": 30,
   "id": "c0105a4d-770e-4a5c-8b56-30bf21354f22",
   "metadata": {},
   "outputs": [
    {
     "data": {
      "text/plain": [
       "['Karachi', 'Lahore', 'Quetta']"
      ]
     },
     "execution_count": 30,
     "metadata": {},
     "output_type": "execute_result"
    }
   ],
   "source": [
    "cities[-6:-3]"
   ]
  },
  {
   "cell_type": "code",
   "execution_count": 32,
   "id": "1c8bf53d-48f2-41ec-ac00-b1047466a467",
   "metadata": {},
   "outputs": [
    {
     "data": {
      "text/plain": [
       "['Karachi', 'Lahore', 'Quetta']"
      ]
     },
     "execution_count": 32,
     "metadata": {},
     "output_type": "execute_result"
    }
   ],
   "source": [
    "cities[-6:-3]"
   ]
  },
  {
   "cell_type": "code",
   "execution_count": 33,
   "id": "32ddcf3f-4a2f-482b-b13f-5a2d733fb994",
   "metadata": {},
   "outputs": [
    {
     "data": {
      "text/plain": [
       "'Murree'"
      ]
     },
     "execution_count": 33,
     "metadata": {},
     "output_type": "execute_result"
    }
   ],
   "source": [
    "cities[-1]"
   ]
  },
  {
   "cell_type": "code",
   "execution_count": 34,
   "id": "8b262137-8b53-4b8c-9366-113d3001e647",
   "metadata": {},
   "outputs": [
    {
     "data": {
      "text/plain": [
       "'Quetta'"
      ]
     },
     "execution_count": 34,
     "metadata": {},
     "output_type": "execute_result"
    }
   ],
   "source": [
    "cities[-4]"
   ]
  },
  {
   "cell_type": "code",
   "execution_count": 35,
   "id": "dd277a97-4c74-4eb4-bf96-cff42c80f544",
   "metadata": {},
   "outputs": [
    {
     "data": {
      "text/plain": [
       "['Multan', 'Peshawar', 'Murree']"
      ]
     },
     "execution_count": 35,
     "metadata": {},
     "output_type": "execute_result"
    }
   ],
   "source": [
    "cities[-3:]"
   ]
  },
  {
   "cell_type": "code",
   "execution_count": 51,
   "id": "324dcd2e-09c9-4e26-a09b-20a57ac131b1",
   "metadata": {},
   "outputs": [],
   "source": [
    "#LIST methods\n",
    "cities = ['Karachi', 'Lahore', 'Quetta', 'Multan', 'Peshawar', 'Murree']"
   ]
  },
  {
   "cell_type": "code",
   "execution_count": 52,
   "id": "e9102d01-25d7-4823-9dfd-32843039ff46",
   "metadata": {},
   "outputs": [
    {
     "data": {
      "text/plain": [
       "['Karachi', 'Lahore', 'Quetta', 'Multan', 'Peshawar', 'Murree']"
      ]
     },
     "execution_count": 52,
     "metadata": {},
     "output_type": "execute_result"
    }
   ],
   "source": [
    "cities"
   ]
  },
  {
   "cell_type": "code",
   "execution_count": 53,
   "id": "8de4bd05-f2a9-40dd-ab54-696f7a230ddb",
   "metadata": {},
   "outputs": [],
   "source": [
    "cities.append('Thatta')"
   ]
  },
  {
   "cell_type": "code",
   "execution_count": 54,
   "id": "00969f41-62bc-4d0f-ad13-7a3468e8fc65",
   "metadata": {},
   "outputs": [
    {
     "data": {
      "text/plain": [
       "['Karachi', 'Lahore', 'Quetta', 'Multan', 'Peshawar', 'Murree', 'Thatta']"
      ]
     },
     "execution_count": 54,
     "metadata": {},
     "output_type": "execute_result"
    }
   ],
   "source": [
    "cities"
   ]
  },
  {
   "cell_type": "code",
   "execution_count": 64,
   "id": "dd5d8fc4-34dd-446e-ab95-35f62e629a2d",
   "metadata": {},
   "outputs": [],
   "source": [
    "cities = ['Karachi','Lahore','Quetta','Multan','Peshawar','Murree','Thatta']"
   ]
  },
  {
   "cell_type": "code",
   "execution_count": 65,
   "id": "62f892aa-aa5a-416b-887d-95329d39c8ea",
   "metadata": {},
   "outputs": [],
   "source": [
    "cities.insert(1, 'Dadu')"
   ]
  },
  {
   "cell_type": "code",
   "execution_count": 66,
   "id": "efada596-bfe8-4df3-b8db-1b98c6702a1b",
   "metadata": {},
   "outputs": [
    {
     "data": {
      "text/plain": [
       "['Karachi',\n",
       " 'Dadu',\n",
       " 'Lahore',\n",
       " 'Quetta',\n",
       " 'Multan',\n",
       " 'Peshawar',\n",
       " 'Murree',\n",
       " 'Thatta']"
      ]
     },
     "execution_count": 66,
     "metadata": {},
     "output_type": "execute_result"
    }
   ],
   "source": [
    "cities"
   ]
  },
  {
   "cell_type": "code",
   "execution_count": 67,
   "id": "87946449-c7b3-49c9-ae21-bbe0d4df47e2",
   "metadata": {},
   "outputs": [],
   "source": [
    "fruits = ['apple','mango','banana']"
   ]
  },
  {
   "cell_type": "code",
   "execution_count": 68,
   "id": "838cdf30-beed-4925-8eec-e3ced8bd35f6",
   "metadata": {},
   "outputs": [
    {
     "data": {
      "text/plain": [
       "['apple', 'mango', 'banana']"
      ]
     },
     "execution_count": 68,
     "metadata": {},
     "output_type": "execute_result"
    }
   ],
   "source": [
    "fruits"
   ]
  },
  {
   "cell_type": "code",
   "execution_count": 69,
   "id": "89a49da2-2cca-482a-a5d3-2d3e27d56e54",
   "metadata": {},
   "outputs": [],
   "source": [
    "fruits.insert(2, 'peach')"
   ]
  },
  {
   "cell_type": "code",
   "execution_count": 70,
   "id": "36379b59-c685-4913-8bd2-f2bd8c906f54",
   "metadata": {},
   "outputs": [
    {
     "data": {
      "text/plain": [
       "['apple', 'mango', 'peach', 'banana']"
      ]
     },
     "execution_count": 70,
     "metadata": {},
     "output_type": "execute_result"
    }
   ],
   "source": [
    "fruits"
   ]
  },
  {
   "cell_type": "code",
   "execution_count": 71,
   "id": "0f1ea69d-a135-4634-a2ec-ed8b1f9e3d18",
   "metadata": {},
   "outputs": [],
   "source": [
    "fruits.insert(2, 'orange')"
   ]
  },
  {
   "cell_type": "code",
   "execution_count": 72,
   "id": "659fbae5-cfe5-4b66-9979-e3370a61dc01",
   "metadata": {},
   "outputs": [
    {
     "data": {
      "text/plain": [
       "['apple', 'mango', 'orange', 'peach', 'banana']"
      ]
     },
     "execution_count": 72,
     "metadata": {},
     "output_type": "execute_result"
    }
   ],
   "source": [
    "fruits"
   ]
  },
  {
   "cell_type": "code",
   "execution_count": 73,
   "id": "890e0828-950f-43bc-9f4f-ca1584a20a1d",
   "metadata": {},
   "outputs": [],
   "source": [
    "#.extend([]) for adding 2 or more elements at a time\n",
    "fruits.extend(['coconut','cherry','grapes'])"
   ]
  },
  {
   "cell_type": "code",
   "execution_count": 74,
   "id": "b126f0a8-1f18-41f7-a583-1f8fd1c9438f",
   "metadata": {},
   "outputs": [
    {
     "data": {
      "text/plain": [
       "['apple', 'mango', 'orange', 'peach', 'banana', 'coconut', 'cherry', 'grapes']"
      ]
     },
     "execution_count": 74,
     "metadata": {},
     "output_type": "execute_result"
    }
   ],
   "source": [
    "fruits"
   ]
  }
 ],
 "metadata": {
  "kernelspec": {
   "display_name": "Python 3 (ipykernel)",
   "language": "python",
   "name": "python3"
  },
  "language_info": {
   "codemirror_mode": {
    "name": "ipython",
    "version": 3
   },
   "file_extension": ".py",
   "mimetype": "text/x-python",
   "name": "python",
   "nbconvert_exporter": "python",
   "pygments_lexer": "ipython3",
   "version": "3.11.7"
  }
 },
 "nbformat": 4,
 "nbformat_minor": 5
}
