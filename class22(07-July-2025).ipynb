{
 "cells": [
  {
   "cell_type": "code",
   "execution_count": 2,
   "id": "32ab9888-69c1-4559-a9c3-945ef8aa3fb3",
   "metadata": {},
   "outputs": [],
   "source": [
    "f = open('practice.txt')"
   ]
  },
  {
   "cell_type": "code",
   "execution_count": 3,
   "id": "fe29c20f-49f4-4868-a6fa-11d2ee70b4a3",
   "metadata": {},
   "outputs": [],
   "source": [
    "content = f.read()"
   ]
  },
  {
   "cell_type": "code",
   "execution_count": 4,
   "id": "88ac9390-c053-4e79-904a-159594efcfe8",
   "metadata": {},
   "outputs": [
    {
     "name": "stdout",
     "output_type": "stream",
     "text": [
      "WhatÃ¢â‚¬â„¢s better than stories to inculcate moral values in children happily? Stories, at bedtime or during the day, are a great way of bonding with children and teaching them lessons. But how does the bonding happen? Well, when we recite stories to children in a way they understand (*we mean by making faces and cute sounds*), they start developing the habit of listening to their parents, which in later years, helps a lot. Fables like the Ã¢â‚¬ËœThirst CrowÃ¢â‚¬â„¢ story in English are short and easy to understand for children that send profound lessons.\n",
      "\n"
     ]
    }
   ],
   "source": [
    "print(content)"
   ]
  },
  {
   "cell_type": "code",
   "execution_count": 5,
   "id": "aeb489f5-eb0a-4d0f-8320-247138ccd6f4",
   "metadata": {},
   "outputs": [
    {
     "name": "stdout",
     "output_type": "stream",
     "text": [
      "<class 'str'>\n"
     ]
    }
   ],
   "source": [
    "print(type(content))"
   ]
  },
  {
   "cell_type": "code",
   "execution_count": 6,
   "id": "0c949927-b3dd-4c16-8ba1-b935b42ef9db",
   "metadata": {},
   "outputs": [],
   "source": [
    "f.close()"
   ]
  },
  {
   "cell_type": "code",
   "execution_count": 7,
   "id": "fcccc60b-73c4-4eab-8406-2eae1dba6d78",
   "metadata": {},
   "outputs": [
    {
     "name": "stdout",
     "output_type": "stream",
     "text": [
      "WhatÃ¢â‚¬â„¢s better than stories to inculcate moral values in children happily? Stories, at bedtime or during the day, are a great way of bonding with children and teaching them lessons. But how does the bonding happen? Well, when we recite stories to children in a way they understand (*we mean by making faces and cute sounds*), they start developing the habit of listening to their parents, which in later years, helps a lot. Fables like the Ã¢â‚¬ËœThirst CrowÃ¢â‚¬â„¢ story in English are short and easy to understand for children that send profound lessons.\n",
      "\n"
     ]
    }
   ],
   "source": [
    "print(content)"
   ]
  },
  {
   "cell_type": "code",
   "execution_count": 8,
   "id": "116b6630-0c95-4a4e-8888-be2fcd144509",
   "metadata": {},
   "outputs": [],
   "source": [
    "f = open('newfile.txt', 'w')"
   ]
  },
  {
   "cell_type": "code",
   "execution_count": 9,
   "id": "10054b18-ae11-4707-8b2b-9b405a1ca950",
   "metadata": {},
   "outputs": [
    {
     "data": {
      "text/plain": [
       "36"
      ]
     },
     "execution_count": 9,
     "metadata": {},
     "output_type": "execute_result"
    }
   ],
   "source": [
    "f.write('Writing content in file using python')"
   ]
  },
  {
   "cell_type": "code",
   "execution_count": 10,
   "id": "da2b6ed6-987f-47fe-84fe-63d6aea7a339",
   "metadata": {},
   "outputs": [],
   "source": [
    "f.close()"
   ]
  },
  {
   "cell_type": "code",
   "execution_count": 11,
   "id": "5b74f20e-b920-437b-b8c4-d6e33ba7ceb0",
   "metadata": {},
   "outputs": [],
   "source": [
    "f = open('third.txt', 'w')"
   ]
  },
  {
   "cell_type": "code",
   "execution_count": 12,
   "id": "e91a677f-13a1-4cdd-bce5-669ef4f2f5e1",
   "metadata": {},
   "outputs": [
    {
     "data": {
      "text/plain": [
       "24"
      ]
     },
     "execution_count": 12,
     "metadata": {},
     "output_type": "execute_result"
    }
   ],
   "source": [
    "f.write('we are testing this file')"
   ]
  },
  {
   "cell_type": "code",
   "execution_count": 13,
   "id": "154994f7-3357-423d-a14f-2d800237600a",
   "metadata": {},
   "outputs": [],
   "source": [
    "f.close()"
   ]
  },
  {
   "cell_type": "code",
   "execution_count": 14,
   "id": "c23b6d50-eaff-4ba2-b5e8-b576a224346d",
   "metadata": {},
   "outputs": [],
   "source": [
    "f = open('newfile.txt', 'r')"
   ]
  },
  {
   "cell_type": "code",
   "execution_count": 15,
   "id": "284195b4-8679-4e8b-a87c-d029ccd6ed46",
   "metadata": {},
   "outputs": [],
   "source": [
    "content = f.read()"
   ]
  },
  {
   "cell_type": "code",
   "execution_count": 17,
   "id": "c58cfaa2-ada0-4152-8bb9-36f1c6d5c6ec",
   "metadata": {},
   "outputs": [
    {
     "name": "stdout",
     "output_type": "stream",
     "text": [
      "Writing content in file using python\n"
     ]
    }
   ],
   "source": [
    "print(content)"
   ]
  },
  {
   "cell_type": "code",
   "execution_count": 18,
   "id": "282dc3b1-d288-40a7-83a8-66d2a151f8f4",
   "metadata": {},
   "outputs": [],
   "source": [
    "new_content = content.replace('python', 'java')"
   ]
  },
  {
   "cell_type": "code",
   "execution_count": 19,
   "id": "24486e72-df6b-48b5-8b75-cccd66607f4d",
   "metadata": {},
   "outputs": [
    {
     "name": "stdout",
     "output_type": "stream",
     "text": [
      "Writing content in file using python\n",
      "Writing content in file using java\n"
     ]
    }
   ],
   "source": [
    "print(content)\n",
    "print(new_content)"
   ]
  },
  {
   "cell_type": "code",
   "execution_count": 20,
   "id": "0a4d3b98-97ab-4f74-9dfa-864c5dc4d5d9",
   "metadata": {},
   "outputs": [],
   "source": [
    "f.close()"
   ]
  },
  {
   "cell_type": "code",
   "execution_count": 21,
   "id": "61473a63-3ba9-44dc-a466-673a8899e7d9",
   "metadata": {},
   "outputs": [],
   "source": [
    "f = open('newfile.txt', 'w')"
   ]
  },
  {
   "cell_type": "code",
   "execution_count": 22,
   "id": "a05b0434-6f59-4fba-a9ca-f4488d78da92",
   "metadata": {},
   "outputs": [
    {
     "data": {
      "text/plain": [
       "34"
      ]
     },
     "execution_count": 22,
     "metadata": {},
     "output_type": "execute_result"
    }
   ],
   "source": [
    "f.write(new_content)"
   ]
  },
  {
   "cell_type": "code",
   "execution_count": 23,
   "id": "26d2e0d1-737f-4636-a9ca-ee91e0ae173e",
   "metadata": {},
   "outputs": [],
   "source": [
    "f.close()"
   ]
  }
 ],
 "metadata": {
  "kernelspec": {
   "display_name": "Python 3 (ipykernel)",
   "language": "python",
   "name": "python3"
  },
  "language_info": {
   "codemirror_mode": {
    "name": "ipython",
    "version": 3
   },
   "file_extension": ".py",
   "mimetype": "text/x-python",
   "name": "python",
   "nbconvert_exporter": "python",
   "pygments_lexer": "ipython3",
   "version": "3.11.7"
  }
 },
 "nbformat": 4,
 "nbformat_minor": 5
}
