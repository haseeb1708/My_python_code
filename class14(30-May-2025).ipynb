{
 "cells": [
  {
   "cell_type": "code",
   "execution_count": 53,
   "id": "bfe7cb69-acbb-4de4-9a32-cbca1694aa35",
   "metadata": {},
   "outputs": [],
   "source": [
    "marks = {\n",
    "    'English': 45,\n",
    "    'Maths': 67,\n",
    "    'Chemistry': 76,\n",
    "    'Physics': 54\n",
    "}"
   ]
  },
  {
   "cell_type": "code",
   "execution_count": 54,
   "id": "4809d3ed-1b36-49d9-9c2f-6a90a4a3e25b",
   "metadata": {},
   "outputs": [
    {
     "data": {
      "text/plain": [
       "{'English': 45, 'Maths': 67, 'Chemistry': 76, 'Physics': 54}"
      ]
     },
     "execution_count": 54,
     "metadata": {},
     "output_type": "execute_result"
    }
   ],
   "source": [
    "marks"
   ]
  },
  {
   "cell_type": "code",
   "execution_count": 55,
   "id": "49453c60-676d-422e-b954-a948e0f4e8d0",
   "metadata": {},
   "outputs": [
    {
     "data": {
      "text/plain": [
       "242"
      ]
     },
     "execution_count": 55,
     "metadata": {},
     "output_type": "execute_result"
    }
   ],
   "source": [
    "values = marks.values()\n",
    "sum(values)"
   ]
  },
  {
   "cell_type": "code",
   "execution_count": 56,
   "id": "e8a70999-f059-420e-914e-d0c61ad16871",
   "metadata": {},
   "outputs": [
    {
     "name": "stdout",
     "output_type": "stream",
     "text": [
      "242\n"
     ]
    }
   ],
   "source": [
    "total = 0\n",
    "for num in marks.values():\n",
    "    total = total + num\n",
    "print(total)"
   ]
  },
  {
   "cell_type": "code",
   "execution_count": 57,
   "id": "8222b185-f41c-4c45-b901-cf53a915ed68",
   "metadata": {},
   "outputs": [
    {
     "name": "stdout",
     "output_type": "stream",
     "text": [
      "242\n"
     ]
    }
   ],
   "source": [
    "total = 0\n",
    "for num in marks.values():\n",
    "    total += num\n",
    "print(total)"
   ]
  },
  {
   "cell_type": "code",
   "execution_count": 58,
   "id": "d1bae85b-164b-4e4c-ab70-7ddeeef7dad4",
   "metadata": {},
   "outputs": [
    {
     "name": "stdout",
     "output_type": "stream",
     "text": [
      "242\n"
     ]
    }
   ],
   "source": [
    "index = 0 \n",
    "total = 0 \n",
    "values = marks.values()\n",
    "values = list(values)\n",
    "while index < len(values):\n",
    "    total += values[index]\n",
    "    index += 1\n",
    "print(total)"
   ]
  },
  {
   "cell_type": "markdown",
   "id": "2a8364e2-8665-43fb-91bb-f41a0d5099e3",
   "metadata": {},
   "source": [
    "#### LIST COMPREHENSION"
   ]
  },
  {
   "cell_type": "code",
   "execution_count": 59,
   "id": "b82fc29a-720b-4d6e-8acd-071b64efcf63",
   "metadata": {},
   "outputs": [
    {
     "data": {
      "text/plain": [
       "242"
      ]
     },
     "execution_count": 59,
     "metadata": {},
     "output_type": "execute_result"
    }
   ],
   "source": [
    "sum([num for num in marks.values()])"
   ]
  },
  {
   "cell_type": "code",
   "execution_count": 60,
   "id": "8b75bcb5-e200-4542-b235-7a775ae34f6c",
   "metadata": {},
   "outputs": [
    {
     "name": "stdout",
     "output_type": "stream",
     "text": [
      "242\n"
     ]
    }
   ],
   "source": [
    "total = 0\n",
    "for num in marks.values():\n",
    "    total += num\n",
    "print(total)"
   ]
  },
  {
   "cell_type": "code",
   "execution_count": 61,
   "id": "2b64c74c-5096-4be1-b7dc-01125a5c67d6",
   "metadata": {},
   "outputs": [
    {
     "name": "stdout",
     "output_type": "stream",
     "text": [
      "[2, 4, 6, 8, 10, 12, 14, 16, 18, 20]\n",
      "[1, 3, 5, 7, 9, 11, 13, 15, 17, 19]\n"
     ]
    }
   ],
   "source": [
    "even = []\n",
    "odd = []\n",
    "for num in range(1,21):\n",
    "    if num % 2 == 0:\n",
    "        even.append(num)\n",
    "    else:\n",
    "        odd.append(num)\n",
    "        \n",
    "print(even)\n",
    "print(odd)"
   ]
  },
  {
   "cell_type": "code",
   "execution_count": 62,
   "id": "89145820-315c-4caa-8039-cd9a135ffa9b",
   "metadata": {},
   "outputs": [],
   "source": [
    "odd = [num for num in range(1,21) if num % 2 != 0]"
   ]
  },
  {
   "cell_type": "code",
   "execution_count": 63,
   "id": "d0640122-fb2e-442e-bbe8-3fa0ce632019",
   "metadata": {},
   "outputs": [
    {
     "name": "stdout",
     "output_type": "stream",
     "text": [
      "[2, 4, 6, 8, 10, 12, 14, 16, 18, 20]\n",
      "[1, 3, 5, 7, 9, 11, 13, 15, 17, 19]\n"
     ]
    }
   ],
   "source": [
    "print(even)\n",
    "print(odd)"
   ]
  },
  {
   "cell_type": "code",
   "execution_count": 64,
   "id": "58b4cf62-c66e-4dbb-baef-b0b27e3323b7",
   "metadata": {},
   "outputs": [],
   "source": [
    "numbers = [2, 3, 4, 5, 6, 7, 8, 9, 10, 11, 13, 17, 19, 23, 256, -8, -4, -2, 5, -9]"
   ]
  },
  {
   "cell_type": "code",
   "execution_count": 65,
   "id": "1a042b38-67e4-4a2c-82d5-8a8ea280212b",
   "metadata": {},
   "outputs": [
    {
     "name": "stdout",
     "output_type": "stream",
     "text": [
      "[3, 4, 5, 6, 7, 8, 9, 10, 11, 12, 14, 18, 20, 24, 257, -7, -3, -1, 6, -8]\n"
     ]
    }
   ],
   "source": [
    "result = []\n",
    "for i in numbers:\n",
    "    result.append(i+1)\n",
    "print(result)"
   ]
  },
  {
   "cell_type": "code",
   "execution_count": 66,
   "id": "60528aa2-1be4-4dd7-b081-81cb5b8c3f1b",
   "metadata": {},
   "outputs": [
    {
     "name": "stdout",
     "output_type": "stream",
     "text": [
      "[3, 4, 5, 6, 7, 8, 9, 10, 11, 12, 14, 18, 20, 24, 257, -7, -3, -1, 6, -8]\n"
     ]
    }
   ],
   "source": [
    "result = [i+1 for i in numbers]\n",
    "print(result)"
   ]
  },
  {
   "cell_type": "code",
   "execution_count": 67,
   "id": "cfbb3da5-7f72-4e33-8736-4d4287641153",
   "metadata": {},
   "outputs": [],
   "source": [
    "fruits = ['mango', 'kiwi', 'strawberry', 'guava', 'pineapple', 'mandarin orange']"
   ]
  },
  {
   "cell_type": "code",
   "execution_count": 68,
   "id": "5a73861d-c8eb-46ce-9de9-6e2affb272e1",
   "metadata": {},
   "outputs": [
    {
     "name": "stdout",
     "output_type": "stream",
     "text": [
      "[5, 4, 10, 5, 9, 15]\n"
     ]
    }
   ],
   "source": [
    "result = []\n",
    "for name in fruits:\n",
    "    result.append(len(name))\n",
    "print(result)"
   ]
  },
  {
   "cell_type": "code",
   "execution_count": 69,
   "id": "f6441468-1ada-4473-ac04-1f02360e34e3",
   "metadata": {},
   "outputs": [
    {
     "name": "stdout",
     "output_type": "stream",
     "text": [
      "{'mango': 5, 'kiwi': 4, 'strawberry': 10, 'guava': 5, 'pineapple': 9, 'mandarin orange': 15}\n"
     ]
    }
   ],
   "source": [
    "result = {name:len(name) for name in fruits}\n",
    "print(result)"
   ]
  },
  {
   "cell_type": "markdown",
   "id": "e02cdac5-ade5-40c9-ac97-cfd974bb6184",
   "metadata": {},
   "source": [
    "#### Functions"
   ]
  },
  {
   "cell_type": "code",
   "execution_count": 70,
   "id": "6ad62040-dd08-4ce4-b91a-941d9c000449",
   "metadata": {},
   "outputs": [],
   "source": [
    "even = []\n",
    "odd = []\n",
    "for num in numbers:\n",
    "    if num % 2 == 0:\n",
    "        even.append(num)\n",
    "    else:\n",
    "        odd.append(num)"
   ]
  },
  {
   "cell_type": "code",
   "execution_count": 71,
   "id": "4b920f12-b0a3-40c9-b785-0737e03aa059",
   "metadata": {},
   "outputs": [
    {
     "name": "stdout",
     "output_type": "stream",
     "text": [
      "[2, 4, 6, 8, 10, 256, -8, -4, -2]\n",
      "[3, 5, 7, 9, 11, 13, 17, 19, 23, 5, -9]\n"
     ]
    }
   ],
   "source": [
    "print(even)\n",
    "print(odd)"
   ]
  },
  {
   "cell_type": "code",
   "execution_count": 72,
   "id": "afd01fff-060d-4a32-9afe-1c46f39bb9f1",
   "metadata": {},
   "outputs": [],
   "source": [
    "numbers = [2, 3, 4, 5, 6, 7, 8, 9, 10, 11, 13, 17, 19, 23, 256, -8, -4, -2, 5, -9]\n",
    "#                paramter\n",
    "def check_even_odd(words):\n",
    "    even = []\n",
    "    odd = []\n",
    "    for num in words:\n",
    "        if num % 2 == 0:\n",
    "            even.append(num)\n",
    "        else:\n",
    "            odd.append(num)\n",
    "    print(even)\n",
    "    print(odd)"
   ]
  },
  {
   "cell_type": "code",
   "execution_count": 73,
   "id": "40768d43-a4a0-4cc0-9e1b-9a668fad25b9",
   "metadata": {},
   "outputs": [
    {
     "name": "stdout",
     "output_type": "stream",
     "text": [
      "[2, 4, 6, 8, 10, 256, -8, -4, -2]\n",
      "[3, 5, 7, 9, 11, 13, 17, 19, 23, 5, -9]\n"
     ]
    }
   ],
   "source": [
    "check_even_odd(numbers)"
   ]
  },
  {
   "cell_type": "code",
   "execution_count": 74,
   "id": "1fd141fd-4d1b-4ba2-8de3-8fa54aa2acd3",
   "metadata": {},
   "outputs": [],
   "source": [
    "def add_numbers(a,b,c):\n",
    "    print(a+b+c)"
   ]
  },
  {
   "cell_type": "code",
   "execution_count": 75,
   "id": "e743eca2-f15a-4cb5-9737-b41e8786afbb",
   "metadata": {},
   "outputs": [
    {
     "name": "stdout",
     "output_type": "stream",
     "text": [
      "6\n"
     ]
    }
   ],
   "source": [
    "add_numbers(1,2,3)"
   ]
  },
  {
   "cell_type": "code",
   "execution_count": null,
   "id": "15af4318-afa5-4854-989b-1dc65297e3e5",
   "metadata": {},
   "outputs": [],
   "source": []
  },
  {
   "cell_type": "code",
   "execution_count": null,
   "id": "f5db8dff-67b9-4085-8d2b-adbd0b7e7ae0",
   "metadata": {},
   "outputs": [],
   "source": []
  }
 ],
 "metadata": {
  "kernelspec": {
   "display_name": "Python 3 (ipykernel)",
   "language": "python",
   "name": "python3"
  },
  "language_info": {
   "codemirror_mode": {
    "name": "ipython",
    "version": 3
   },
   "file_extension": ".py",
   "mimetype": "text/x-python",
   "name": "python",
   "nbconvert_exporter": "python",
   "pygments_lexer": "ipython3",
   "version": "3.11.7"
  }
 },
 "nbformat": 4,
 "nbformat_minor": 5
}
