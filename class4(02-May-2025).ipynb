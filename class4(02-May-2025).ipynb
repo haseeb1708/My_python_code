{
 "cells": [
  {
   "cell_type": "code",
   "execution_count": 2,
   "id": "dc6adfd1-c5b2-4317-b18c-a750a0746891",
   "metadata": {},
   "outputs": [
    {
     "data": {
      "text/plain": [
       "123"
      ]
     },
     "execution_count": 2,
     "metadata": {},
     "output_type": "execute_result"
    }
   ],
   "source": [
    "value = '123.3'\n",
    "float_number = float(value)\n",
    "(type(float_number))\n",
    "int_number = int(float_number)\n",
    "(int_number)"
   ]
  },
  {
   "cell_type": "code",
   "execution_count": 20,
   "id": "3d9f38fe-fde7-4dd9-94c7-7f5a7d454317",
   "metadata": {},
   "outputs": [],
   "source": [
    "text = 'Hello, And Welcome To My World'"
   ]
  },
  {
   "cell_type": "code",
   "execution_count": 18,
   "id": "f740722e-dea7-43b9-ad34-b8c733924661",
   "metadata": {},
   "outputs": [
    {
     "data": {
      "text/plain": [
       "True"
      ]
     },
     "execution_count": 18,
     "metadata": {},
     "output_type": "execute_result"
    }
   ],
   "source": [
    "(text.startswith('Hello'))"
   ]
  },
  {
   "cell_type": "code",
   "execution_count": 19,
   "id": "bbd9d597-9a1f-4047-9ad8-5f3ff6da5d6d",
   "metadata": {},
   "outputs": [
    {
     "data": {
      "text/plain": [
       "0"
      ]
     },
     "execution_count": 19,
     "metadata": {},
     "output_type": "execute_result"
    }
   ],
   "source": [
    "(text.upper().count('e'))"
   ]
  },
  {
   "cell_type": "code",
   "execution_count": 17,
   "id": "a021bb81-1fb2-437f-b4b9-2ed6f7ef51c6",
   "metadata": {},
   "outputs": [
    {
     "data": {
      "text/plain": [
       "'Hello, And Welcome To My World'"
      ]
     },
     "execution_count": 17,
     "metadata": {},
     "output_type": "execute_result"
    }
   ],
   "source": [
    "(text.title())"
   ]
  },
  {
   "cell_type": "code",
   "execution_count": 16,
   "id": "745e88a0-b2af-41ac-afaa-95151ee98572",
   "metadata": {},
   "outputs": [
    {
     "data": {
      "text/plain": [
       "True"
      ]
     },
     "execution_count": 16,
     "metadata": {},
     "output_type": "execute_result"
    }
   ],
   "source": [
    "(text.endswith('d'))"
   ]
  },
  {
   "cell_type": "code",
   "execution_count": 15,
   "id": "8f8f85bb-0b23-440a-a81f-c75d4cb54c7e",
   "metadata": {},
   "outputs": [
    {
     "data": {
      "text/plain": [
       "False"
      ]
     },
     "execution_count": 15,
     "metadata": {},
     "output_type": "execute_result"
    }
   ],
   "source": [
    "(text.isupper())"
   ]
  },
  {
   "cell_type": "code",
   "execution_count": 14,
   "id": "33246868-a565-4026-950d-5ce3a312bc03",
   "metadata": {},
   "outputs": [
    {
     "data": {
      "text/plain": [
       "False"
      ]
     },
     "execution_count": 14,
     "metadata": {},
     "output_type": "execute_result"
    }
   ],
   "source": [
    "(text.islower())"
   ]
  },
  {
   "cell_type": "code",
   "execution_count": 8,
   "id": "f2f881be-5e30-4a6c-be50-e22da53d06ea",
   "metadata": {},
   "outputs": [
    {
     "data": {
      "text/plain": [
       "'Hello, and welcome to my world'"
      ]
     },
     "execution_count": 8,
     "metadata": {},
     "output_type": "execute_result"
    }
   ],
   "source": [
    "(text.capitalize())"
   ]
  },
  {
   "cell_type": "code",
   "execution_count": 9,
   "id": "b5d7d0d6-84e6-4d76-8001-9e6758efdf06",
   "metadata": {},
   "outputs": [
    {
     "data": {
      "text/plain": [
       "'hello, and welcome to my world'"
      ]
     },
     "execution_count": 9,
     "metadata": {},
     "output_type": "execute_result"
    }
   ],
   "source": [
    "(text.lower())"
   ]
  },
  {
   "cell_type": "code",
   "execution_count": 10,
   "id": "d62f796c-bd5e-46b5-a7f8-7780139b7c6b",
   "metadata": {},
   "outputs": [
    {
     "data": {
      "text/plain": [
       "'HELLO, AND WELCOME TO MY WORLD'"
      ]
     },
     "execution_count": 10,
     "metadata": {},
     "output_type": "execute_result"
    }
   ],
   "source": [
    "(text.upper())"
   ]
  },
  {
   "cell_type": "code",
   "execution_count": 11,
   "id": "5a20a27e-a1f7-4e4e-aa6f-7448a5a07406",
   "metadata": {},
   "outputs": [
    {
     "data": {
      "text/plain": [
       "3"
      ]
     },
     "execution_count": 11,
     "metadata": {},
     "output_type": "execute_result"
    }
   ],
   "source": [
    "(text.count('e'))"
   ]
  },
  {
   "cell_type": "code",
   "execution_count": 12,
   "id": "82168207-4e0f-40f0-8b53-ca6ca1c9b8fc",
   "metadata": {},
   "outputs": [
    {
     "data": {
      "text/plain": [
       "True"
      ]
     },
     "execution_count": 12,
     "metadata": {},
     "output_type": "execute_result"
    }
   ],
   "source": [
    "(text.startswith('H'))"
   ]
  },
  {
   "cell_type": "code",
   "execution_count": 22,
   "id": "b700e8b0-bf3c-4bc7-bd1d-5cdfe5bbe398",
   "metadata": {},
   "outputs": [
    {
     "data": {
      "text/plain": [
       "'          haseeb'"
      ]
     },
     "execution_count": 22,
     "metadata": {},
     "output_type": "execute_result"
    }
   ],
   "source": [
    "txt = '          haseeb          '\n",
    "\n",
    "\n"
   ]
  },
  {
   "cell_type": "code",
   "execution_count": 25,
   "id": "3ecc2946-aa3c-4df6-be52-234650f1afb8",
   "metadata": {},
   "outputs": [
    {
     "data": {
      "text/plain": [
       "'haseeb'"
      ]
     },
     "execution_count": 25,
     "metadata": {},
     "output_type": "execute_result"
    }
   ],
   "source": [
    "(txt.strip())"
   ]
  },
  {
   "cell_type": "code",
   "execution_count": 23,
   "id": "2aa0998b-6f57-4938-96f6-3d6ec59a8953",
   "metadata": {},
   "outputs": [
    {
     "data": {
      "text/plain": [
       "'haseeb          '"
      ]
     },
     "execution_count": 23,
     "metadata": {},
     "output_type": "execute_result"
    }
   ],
   "source": [
    "(txt.lstrip())"
   ]
  },
  {
   "cell_type": "code",
   "execution_count": 24,
   "id": "0cb40636-8fca-4bf7-984e-759b2dd25267",
   "metadata": {},
   "outputs": [
    {
     "data": {
      "text/plain": [
       "'          haseeb'"
      ]
     },
     "execution_count": 24,
     "metadata": {},
     "output_type": "execute_result"
    }
   ],
   "source": [
    "(txt.rstrip())"
   ]
  },
  {
   "cell_type": "code",
   "execution_count": null,
   "id": "459d160e-16b0-4fbd-bc72-bb4ed2d39cf0",
   "metadata": {},
   "outputs": [],
   "source": []
  }
 ],
 "metadata": {
  "kernelspec": {
   "display_name": "Python 3 (ipykernel)",
   "language": "python",
   "name": "python3"
  },
  "language_info": {
   "codemirror_mode": {
    "name": "ipython",
    "version": 3
   },
   "file_extension": ".py",
   "mimetype": "text/x-python",
   "name": "python",
   "nbconvert_exporter": "python",
   "pygments_lexer": "ipython3",
   "version": "3.11.7"
  }
 },
 "nbformat": 4,
 "nbformat_minor": 5
}
