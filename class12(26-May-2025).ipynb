{
 "cells": [
  {
   "cell_type": "code",
   "execution_count": 5,
   "id": "32822617-843b-4811-b459-2f7764baebad",
   "metadata": {},
   "outputs": [
    {
     "name": "stdout",
     "output_type": "stream",
     "text": [
      "1-ali khan\n",
      "2-ali khan\n",
      "3-ali khan\n",
      "4-ali khan\n",
      "5-ali khan\n"
     ]
    }
   ],
   "source": [
    "# for placeholder in range(start, end+1)\n",
    "for i in range(1,6):\n",
    "    print(f'{i}-ali khan')"
   ]
  },
  {
   "cell_type": "code",
   "execution_count": 2,
   "id": "e3a0bf58-3ef8-497c-aa3b-09163857cef5",
   "metadata": {},
   "outputs": [],
   "source": [
    "cities = ['Karachi', 'Lahore', 'Quetta', 'Dadu', 'Murree']"
   ]
  },
  {
   "cell_type": "code",
   "execution_count": 3,
   "id": "f6bb09fb-1c29-4784-b2ef-3bd06a073439",
   "metadata": {},
   "outputs": [
    {
     "name": "stdout",
     "output_type": "stream",
     "text": [
      "Karachi\n",
      "Lahore\n",
      "Quetta\n",
      "Dadu\n",
      "Murree\n"
     ]
    }
   ],
   "source": [
    "for city in cities:\n",
    "    print(city)"
   ]
  },
  {
   "cell_type": "markdown",
   "id": "933bcf29-10a8-4bbf-ae6f-cc0f06fb7427",
   "metadata": {},
   "source": [
    "Iterate over a list of cities and print only that city whose length is <= 4"
   ]
  },
  {
   "cell_type": "code",
   "execution_count": 4,
   "id": "ee07043d-8224-430c-8dce-2352c123ddf3",
   "metadata": {},
   "outputs": [
    {
     "name": "stdout",
     "output_type": "stream",
     "text": [
      "Karachi\n",
      "Lahore\n",
      "Quetta\n",
      "Murree\n"
     ]
    }
   ],
   "source": [
    "for city in cities:\n",
    "    \n",
    "    if len(city) > 4:\n",
    "        print(city)"
   ]
  },
  {
   "cell_type": "markdown",
   "id": "69324a98-baf0-4bce-b443-663572de4014",
   "metadata": {},
   "source": [
    "Iterate over a list of cities and print only those cites ends with e"
   ]
  },
  {
   "cell_type": "code",
   "execution_count": 6,
   "id": "8a95d915-6d41-4c41-801c-4be38035c914",
   "metadata": {},
   "outputs": [
    {
     "name": "stdout",
     "output_type": "stream",
     "text": [
      "Lahore\n",
      "Murree\n"
     ]
    }
   ],
   "source": [
    "for city in cities:\n",
    "    if city.endswith('e'):\n",
    "        print(city)"
   ]
  },
  {
   "cell_type": "code",
   "execution_count": 58,
   "id": "d9c9ba07-46fe-41a1-9e61-92428e18c3ba",
   "metadata": {},
   "outputs": [
    {
     "name": "stdout",
     "output_type": "stream",
     "text": [
      "Karachi\n"
     ]
    }
   ],
   "source": [
    "for city in cities:\n",
    "    if len(city) % 2 != 0:\n",
    "        print(city)"
   ]
  },
  {
   "cell_type": "code",
   "execution_count": 59,
   "id": "e90afb8d-4b55-4b24-8e79-2b1128cb4861",
   "metadata": {},
   "outputs": [
    {
     "name": "stdout",
     "output_type": "stream",
     "text": [
      "Even numbers: [2, 4, 6, 8, 10, 12, 14, 16, 18, 20]\n",
      "Odd numbers: [1, 3, 5, 7, 9, 11, 13, 15, 17, 19]\n"
     ]
    }
   ],
   "source": [
    "even = []\n",
    "odd = []\n",
    "\n",
    "for num in range(1,21):\n",
    "    if num % 2 == 0:\n",
    "        even.append(num)\n",
    "    else:\n",
    "        odd.append(num)\n",
    "\n",
    "print(f'Even numbers: {even}')\n",
    "print(f'Odd numbers: {odd}')"
   ]
  },
  {
   "cell_type": "code",
   "execution_count": 60,
   "id": "8ed35a4b-9207-430b-916f-aed4a87d2273",
   "metadata": {},
   "outputs": [
    {
     "name": "stdout",
     "output_type": "stream",
     "text": [
      "2\n",
      "4\n",
      "6\n",
      "8\n",
      "10\n",
      "12\n",
      "14\n"
     ]
    }
   ],
   "source": [
    "even_numbers = [2, 4, 6, 8, 10, 12, 14, 16, 18, 20]\n",
    "for num in even_numbers:\n",
    "    if num == 14:\n",
    "        print(14)\n",
    "        break\n",
    "    else:\n",
    "        print(num)"
   ]
  },
  {
   "cell_type": "code",
   "execution_count": 61,
   "id": "6206d581-d7bd-4c29-af00-285bd59ba38c",
   "metadata": {},
   "outputs": [
    {
     "name": "stdout",
     "output_type": "stream",
     "text": [
      "1\n",
      "3\n",
      "5\n",
      "7\n",
      "9\n",
      "11\n",
      "13\n"
     ]
    }
   ],
   "source": [
    "odd_numbers = [1, 3, 5, 7, 9, 11, 13, 15, 17, 19]\n",
    "for num in odd_numbers:\n",
    "    if num == 15:\n",
    "        break\n",
    "    else:\n",
    "        print(num)"
   ]
  },
  {
   "cell_type": "code",
   "execution_count": 62,
   "id": "d0724dd2-313c-46b3-8f73-6a0323057241",
   "metadata": {},
   "outputs": [
    {
     "name": "stdout",
     "output_type": "stream",
     "text": [
      "2\n",
      "4\n",
      "6\n",
      "8\n",
      "10\n",
      "12\n"
     ]
    }
   ],
   "source": [
    "even_numbers = [2, 4, 6, 8, 10, 12, 14, 16, 18, 20]\n",
    "for num in even_numbers:\n",
    "    \n",
    "    if num == 14:\n",
    "        break\n",
    "    else:\n",
    "        print(num)"
   ]
  },
  {
   "cell_type": "code",
   "execution_count": 63,
   "id": "798a5e7b-2c1c-45b1-8e0b-b9ae6cfe75f3",
   "metadata": {},
   "outputs": [
    {
     "name": "stdout",
     "output_type": "stream",
     "text": [
      "2\n",
      "4\n",
      "6\n",
      "8\n",
      "10\n",
      "12\n"
     ]
    }
   ],
   "source": [
    "even_numbers = [2, 4, 6, 8, 10, 12, 14, 16, 18, 20]\n",
    "for num in even_numbers:\n",
    "    \n",
    "    if num != 14:\n",
    "        print(num)\n",
    "    else:\n",
    "        break"
   ]
  },
  {
   "cell_type": "code",
   "execution_count": 64,
   "id": "e20dc2a8-2497-4dd4-8f3f-3f8e6dc45d97",
   "metadata": {},
   "outputs": [
    {
     "name": "stdout",
     "output_type": "stream",
     "text": [
      "2\n",
      "4\n",
      "6\n",
      "8\n",
      "10\n",
      "12\n",
      "14\n",
      "16\n",
      "18\n",
      "20\n"
     ]
    }
   ],
   "source": [
    "for num in range (1,21):\n",
    "    if num % 2 != 0:\n",
    "        continue\n",
    "    print(num)"
   ]
  },
  {
   "cell_type": "code",
   "execution_count": 65,
   "id": "f3d70704-2db8-4d0d-81f0-f5166eb22079",
   "metadata": {},
   "outputs": [
    {
     "name": "stdout",
     "output_type": "stream",
     "text": [
      "1\n",
      "1\n",
      "2\n",
      "3\n",
      "3\n",
      "4\n",
      "5\n",
      "5\n",
      "6\n",
      "7\n",
      "7\n",
      "8\n",
      "9\n",
      "9\n",
      "10\n",
      "11\n",
      "11\n",
      "12\n",
      "13\n",
      "13\n",
      "14\n",
      "15\n",
      "15\n",
      "16\n",
      "17\n",
      "17\n",
      "18\n",
      "19\n",
      "19\n",
      "20\n"
     ]
    }
   ],
   "source": [
    "for num in range (1,21):\n",
    "    if num % 2 != 0:\n",
    "        print(num)\n",
    "    print(num)"
   ]
  },
  {
   "cell_type": "code",
   "execution_count": 66,
   "id": "8479a5c9-a42b-4826-8d6d-69644d9a40de",
   "metadata": {},
   "outputs": [
    {
     "name": "stdout",
     "output_type": "stream",
     "text": [
      "1\n",
      "3\n",
      "5\n",
      "7\n",
      "9\n",
      "11\n",
      "13\n",
      "15\n",
      "17\n",
      "19\n"
     ]
    }
   ],
   "source": [
    "for num in range (1,21):\n",
    "    if num % 2 != 0:\n",
    "        print(num)\n",
    "    else:\n",
    "        continue"
   ]
  },
  {
   "cell_type": "markdown",
   "id": "3ce59fa5-64e5-434d-b07b-0c7c67c97ea1",
   "metadata": {},
   "source": [
    "### NESTED FOR"
   ]
  },
  {
   "cell_type": "code",
   "execution_count": 70,
   "id": "87e540b3-1ad0-465e-afe6-5c479bbd383e",
   "metadata": {},
   "outputs": [
    {
     "data": {
      "text/plain": [
       "['Karachi', 'Lahore', 'Quetta', 'Dadu', 'Murree']"
      ]
     },
     "execution_count": 70,
     "metadata": {},
     "output_type": "execute_result"
    }
   ],
   "source": [
    "cities"
   ]
  },
  {
   "cell_type": "code",
   "execution_count": null,
   "id": "d2a8f80c-708c-41b7-bdba-eb3c884e56d7",
   "metadata": {},
   "outputs": [],
   "source": [
    "for city in cities:\n",
    "    for char in city:\n",
    "        if city.count(char) == 1:\n",
    "            continue\n",
    "        else:\n",
    "            break"
   ]
  },
  {
   "cell_type": "code",
   "execution_count": 69,
   "id": "bda8b647-ecf5-4038-bedf-ee0e8e8eccce",
   "metadata": {},
   "outputs": [
    {
     "name": "stdout",
     "output_type": "stream",
     "text": [
      "Lahore\n"
     ]
    }
   ],
   "source": [
    "for city in cities:\n",
    "    empty_set = set()\n",
    "    for char in city.lower():\n",
    "        empty_set.add(char)\n",
    "    if len(empty_set) == len(city):\n",
    "        print(city)\n",
    "    "
   ]
  },
  {
   "cell_type": "code",
   "execution_count": null,
   "id": "295adc01-f4a6-4068-9db3-f5ca8943350f",
   "metadata": {},
   "outputs": [],
   "source": []
  },
  {
   "cell_type": "code",
   "execution_count": null,
   "id": "c70e98b1-457a-401b-b3fa-3362ee6f8cd2",
   "metadata": {},
   "outputs": [],
   "source": []
  }
 ],
 "metadata": {
  "kernelspec": {
   "display_name": "Python 3 (ipykernel)",
   "language": "python",
   "name": "python3"
  },
  "language_info": {
   "codemirror_mode": {
    "name": "ipython",
    "version": 3
   },
   "file_extension": ".py",
   "mimetype": "text/x-python",
   "name": "python",
   "nbconvert_exporter": "python",
   "pygments_lexer": "ipython3",
   "version": "3.11.7"
  }
 },
 "nbformat": 4,
 "nbformat_minor": 5
}
