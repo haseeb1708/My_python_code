{
 "cells": [
  {
   "cell_type": "code",
   "execution_count": 1,
   "id": "070ddcdb-3cc8-41e5-bed3-df10cf5c8a5d",
   "metadata": {},
   "outputs": [
    {
     "name": "stdout",
     "output_type": "stream",
     "text": [
      "I am writing the code\n"
     ]
    }
   ],
   "source": [
    "print('I am writing the code')"
   ]
  },
  {
   "cell_type": "markdown",
   "id": "c12c84a8-6adc-467b-84f3-1e4641eeff23",
   "metadata": {},
   "source": [
    "### conditional statements"
   ]
  },
  {
   "cell_type": "code",
   "execution_count": 42,
   "id": "e8c57859-3c57-4420-a184-96ba8a61daaa",
   "metadata": {},
   "outputs": [
    {
     "name": "stdin",
     "output_type": "stream",
     "text": [
      "Enter first number 13\n",
      "Enter second number 12\n"
     ]
    },
    {
     "name": "stdout",
     "output_type": "stream",
     "text": [
      "Num1 which is 13 is greater than Num2 which is 12\n"
     ]
    }
   ],
   "source": [
    "num1 = int(input('Enter first number'))\n",
    "num2 = int(input('Enter second number'))\n",
    "\n",
    "# if condition:\n",
    "#   body\n",
    "\n",
    "if num1 > num2:\n",
    "    print(f'Num1 which is {num1} is greater than Num2 which is {num2}')"
   ]
  },
  {
   "cell_type": "code",
   "execution_count": 43,
   "id": "584350b3-1cd5-481e-8db1-dadcadb44557",
   "metadata": {},
   "outputs": [
    {
     "data": {
      "text/plain": [
       "True"
      ]
     },
     "execution_count": 43,
     "metadata": {},
     "output_type": "execute_result"
    }
   ],
   "source": [
    "num1 > num2"
   ]
  },
  {
   "cell_type": "code",
   "execution_count": 6,
   "id": "6d735986-6290-4173-ba86-1daf101f59ea",
   "metadata": {},
   "outputs": [
    {
     "name": "stdin",
     "output_type": "stream",
     "text": [
      "Enter first number 12\n",
      "Enter second number 13\n"
     ]
    },
    {
     "name": "stdout",
     "output_type": "stream",
     "text": [
      "Num1 which is 12 is less than Num2 which is 13\n"
     ]
    }
   ],
   "source": [
    "num1 = int(input('Enter first number'))\n",
    "num2 = int(input('Enter second number'))\n",
    "\n",
    "# if condition:\n",
    "#   body\n",
    "\n",
    "if num1 > num2:\n",
    "    print(f'Num1 which is {num1} is greater than Num2 which is {num2}')\n",
    "else:\n",
    "    print(f'Num1 which is {num1} is less than Num2 which is {num2}')"
   ]
  },
  {
   "cell_type": "code",
   "execution_count": 7,
   "id": "94438e4b-2e5f-4f52-a087-5e798867a751",
   "metadata": {},
   "outputs": [
    {
     "name": "stdin",
     "output_type": "stream",
     "text": [
      "Enter any number 13\n"
     ]
    },
    {
     "name": "stdout",
     "output_type": "stream",
     "text": [
      "The number is odd\n"
     ]
    }
   ],
   "source": [
    "number = int(input('Enter any number'))\n",
    "if number % 2  == 0 :\n",
    "    print('The number is even')\n",
    "else:\n",
    "    print('The number is odd')"
   ]
  },
  {
   "cell_type": "code",
   "execution_count": 9,
   "id": "7f93d432-4fa5-45f3-803a-c1dd7a69db86",
   "metadata": {},
   "outputs": [
    {
     "name": "stdin",
     "output_type": "stream",
     "text": [
      "Enter any number 10\n"
     ]
    },
    {
     "name": "stdout",
     "output_type": "stream",
     "text": [
      "The number is divisible by 5\n"
     ]
    }
   ],
   "source": [
    "number = int(input('Enter any number'))\n",
    "if number % 5 == 0:\n",
    "    print('The number is divisible by 5')\n",
    "else: \n",
    "    print('Not divisible by 5')"
   ]
  },
  {
   "cell_type": "code",
   "execution_count": 16,
   "id": "0d0f38d2-cb1f-47fa-9d24-d1c48f48e9ea",
   "metadata": {},
   "outputs": [
    {
     "name": "stdin",
     "output_type": "stream",
     "text": [
      "Enter any hero:  spiderman\n"
     ]
    },
    {
     "name": "stdout",
     "output_type": "stream",
     "text": [
      "Yes this hero is present in the heroes list\n"
     ]
    }
   ],
   "source": [
    "heroes = ['Spiderman', 'Batman', 'Ironman', 'Superman', 'Hulk']\n",
    "hero = input('Enter any hero: ').capitalize()\n",
    "#print(hero)\n",
    "if hero in heroes:\n",
    "    print('Yes this hero is present in the heroes list')\n",
    "else:\n",
    "    print('No not present')"
   ]
  },
  {
   "cell_type": "code",
   "execution_count": 18,
   "id": "88889170-5d28-4526-b137-e3587cc9298e",
   "metadata": {},
   "outputs": [
    {
     "name": "stdin",
     "output_type": "stream",
     "text": [
      "Enter teacher name:  Ali Khan\n"
     ]
    },
    {
     "name": "stdout",
     "output_type": "stream",
     "text": [
      "Yes he is our teacher\n"
     ]
    }
   ],
   "source": [
    "details = {\n",
    "    'name':'Ali Khan',\n",
    "    'course':'python',\n",
    "    'campus':'gulshan'\n",
    "}\n",
    "\n",
    "teacher = input('Enter teacher name: ')\n",
    "if teacher in details['name']:\n",
    "    print('Yes he is our teacher')"
   ]
  },
  {
   "cell_type": "code",
   "execution_count": 20,
   "id": "944a5f2a-5140-46ed-955a-8a7a8358c1bb",
   "metadata": {},
   "outputs": [
    {
     "data": {
      "text/plain": [
       "'Ali Khan'"
      ]
     },
     "execution_count": 20,
     "metadata": {},
     "output_type": "execute_result"
    }
   ],
   "source": [
    "details['name']"
   ]
  },
  {
   "cell_type": "code",
   "execution_count": 25,
   "id": "a292976c-b574-4d11-b40f-ba98c5194864",
   "metadata": {},
   "outputs": [
    {
     "name": "stdin",
     "output_type": "stream",
     "text": [
      "Enter teacher name:  Ali Khan\n",
      "Enter course:  python\n"
     ]
    },
    {
     "name": "stdout",
     "output_type": "stream",
     "text": [
      "Yes you can conduct the class\n"
     ]
    }
   ],
   "source": [
    "details = {\n",
    "    'name':'Ali Khan',\n",
    "    'course':'python',\n",
    "    'campus':'gulshan'\n",
    "}\n",
    "\n",
    "teacher = input('Enter teacher name: ')\n",
    "course = input('Enter course: ')\n",
    "if (teacher == details['name']) and (course == details['course']) :\n",
    "    print('Yes you can conduct the class')\n",
    "else:\n",
    "    print('No you cannot conduct the class')"
   ]
  },
  {
   "cell_type": "code",
   "execution_count": 32,
   "id": "9decc34b-6ba4-4170-b875-762a16d0eeed",
   "metadata": {},
   "outputs": [
    {
     "data": {
      "text/plain": [
       "False"
      ]
     },
     "execution_count": 32,
     "metadata": {},
     "output_type": "execute_result"
    }
   ],
   "source": [
    "True and False"
   ]
  },
  {
   "cell_type": "code",
   "execution_count": 29,
   "id": "14892d5f-9a6d-4d8f-ac11-200cc69a0c42",
   "metadata": {},
   "outputs": [
    {
     "name": "stdin",
     "output_type": "stream",
     "text": [
      "Enter teacher name:  taha khan\n",
      "Enter course:  python\n"
     ]
    },
    {
     "name": "stdout",
     "output_type": "stream",
     "text": [
      "Yes you can conduct the class\n"
     ]
    }
   ],
   "source": [
    "details = {\n",
    "    'name':'Ali Khan',\n",
    "    'course':'python',\n",
    "    'campus':'gulshan'\n",
    "}\n",
    "\n",
    "teacher = input('Enter teacher name: ')\n",
    "course = input('Enter course: ')\n",
    "if (teacher == details['name']) or (course == details['course']) :\n",
    "    print('Yes you can conduct the class')\n",
    "else:\n",
    "    print('No you cannot conduct the class')"
   ]
  },
  {
   "cell_type": "code",
   "execution_count": 28,
   "id": "16fbb3f5-a1ab-4da6-b016-296f7421f9d6",
   "metadata": {},
   "outputs": [
    {
     "data": {
      "text/plain": [
       "True"
      ]
     },
     "execution_count": 28,
     "metadata": {},
     "output_type": "execute_result"
    }
   ],
   "source": [
    "False or True"
   ]
  },
  {
   "cell_type": "markdown",
   "id": "4be955c1-5f92-4805-b4fb-5352c3361058",
   "metadata": {},
   "source": [
    "### Multiple Conditions"
   ]
  },
  {
   "cell_type": "markdown",
   "id": "c0601bcc-a633-442b-abc4-562cc7b05cf0",
   "metadata": {},
   "source": [
    "marks > 85\n",
    "grade A1\n",
    "\n",
    "marks >= 70  and marks < 85\n",
    "\n",
    "70 <= marks < 85\n",
    "grade A\n",
    "\n",
    "60 <= marks < 70\n",
    "grade B \n",
    "\n",
    "50 <= marks < 60\n",
    "grade C \n",
    "\n",
    "else\n",
    "fail"
   ]
  },
  {
   "cell_type": "raw",
   "id": "42d1d6f8-c3fa-4729-9680-d55d82a18355",
   "metadata": {},
   "source": [
    "marks = float(input('Enter marks'))\n",
    "if marks >= 85:\n",
    "    print('Grade A1')"
   ]
  },
  {
   "cell_type": "code",
   "execution_count": 40,
   "id": "b595abb9-8614-4eab-9f90-f0285b4794f2",
   "metadata": {},
   "outputs": [
    {
     "name": "stdin",
     "output_type": "stream",
     "text": [
      "Enter marks 49.9999999\n"
     ]
    },
    {
     "name": "stdout",
     "output_type": "stream",
     "text": [
      "Try Again\n"
     ]
    }
   ],
   "source": [
    "marks = float(input('Enter marks'))\n",
    "if marks >= 85:\n",
    "    print('Grade A1')\n",
    "elif 70 <= marks <85:\n",
    "    print('Grade A')\n",
    "elif 60 <= marks <70:\n",
    "    print('Grade B')    \n",
    "elif 50 <= marks <60:\n",
    "    print('Grade C')\n",
    "else:\n",
    "    print('Try Again')"
   ]
  },
  {
   "cell_type": "code",
   "execution_count": null,
   "id": "de19a6cc-9135-440a-ad27-d4421dfb4365",
   "metadata": {},
   "outputs": [],
   "source": []
  }
 ],
 "metadata": {
  "kernelspec": {
   "display_name": "Python 3 (ipykernel)",
   "language": "python",
   "name": "python3"
  },
  "language_info": {
   "codemirror_mode": {
    "name": "ipython",
    "version": 3
   },
   "file_extension": ".py",
   "mimetype": "text/x-python",
   "name": "python",
   "nbconvert_exporter": "python",
   "pygments_lexer": "ipython3",
   "version": "3.11.7"
  }
 },
 "nbformat": 4,
 "nbformat_minor": 5
}
