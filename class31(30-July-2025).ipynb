{
 "cells": [
  {
   "cell_type": "code",
   "execution_count": 32,
   "id": "32d12054",
   "metadata": {},
   "outputs": [],
   "source": [
    "class Battery:\n",
    "    def __init__(self, company, voltage, capacity):\n",
    "        # Attribites\n",
    "        self.company = company  \n",
    "        self.voltage = voltage  \n",
    "        self.capacity = capacity  \n",
    "\n",
    "    # Methods\n",
    "    def battery_info(self):\n",
    "        print(f'Company: {self. company}\\nVoltage:{self.voltage}\\nCapacity: {self.capacity}')"
   ]
  },
  {
   "cell_type": "code",
   "execution_count": 33,
   "id": "5e8a82c5",
   "metadata": {},
   "outputs": [],
   "source": [
    "battery_1 = Battery('osaka','12V', '55AH')"
   ]
  },
  {
   "cell_type": "code",
   "execution_count": 34,
   "id": "0498d44f",
   "metadata": {},
   "outputs": [
    {
     "data": {
      "text/plain": [
       "'osaka'"
      ]
     },
     "execution_count": 34,
     "metadata": {},
     "output_type": "execute_result"
    }
   ],
   "source": [
    "battery_1.company"
   ]
  },
  {
   "cell_type": "code",
   "execution_count": 35,
   "id": "c2fde98b",
   "metadata": {},
   "outputs": [],
   "source": [
    "battery_1.company = 'AGS'"
   ]
  },
  {
   "cell_type": "code",
   "execution_count": 36,
   "id": "fcecfc6f",
   "metadata": {},
   "outputs": [
    {
     "data": {
      "text/plain": [
       "'AGS'"
      ]
     },
     "execution_count": 36,
     "metadata": {},
     "output_type": "execute_result"
    }
   ],
   "source": [
    "battery_1.company"
   ]
  },
  {
   "cell_type": "code",
   "execution_count": 37,
   "id": "de0c0008",
   "metadata": {},
   "outputs": [],
   "source": [
    "class Account:\n",
    "    def __init__(self, bank_name, title, balance):\n",
    "        self.title = title\n",
    "        self._bank_name = bank_name\n",
    "        self.balance = balance"
   ]
  },
  {
   "cell_type": "code",
   "execution_count": 38,
   "id": "74567ced",
   "metadata": {},
   "outputs": [],
   "source": [
    "kashan = Account('HBL', 'kashan', 100000)"
   ]
  },
  {
   "cell_type": "code",
   "execution_count": 39,
   "id": "977f1a06",
   "metadata": {},
   "outputs": [],
   "source": [
    "class Account:\n",
    "    def __init__(self, bank_name, title, balance):\n",
    "        self.title = title\n",
    "        self._bank_name = bank_name\n",
    "        self.balance = balance\n",
    "    # setter\n",
    "    def deposit (self, amount):\n",
    "        self.balance += amount\n",
    "\n",
    "    def withdraw(self, amount):\n",
    "        self.balance -= amount\n",
    "    # getter\n",
    "    def show_balance(self):\n",
    "        print(f'The balance is  {self.balance}')"
   ]
  },
  {
   "cell_type": "code",
   "execution_count": 40,
   "id": "ed66fe99",
   "metadata": {},
   "outputs": [
    {
     "data": {
      "text/plain": [
       "100000"
      ]
     },
     "execution_count": 40,
     "metadata": {},
     "output_type": "execute_result"
    }
   ],
   "source": [
    "kashan.balance"
   ]
  },
  {
   "cell_type": "markdown",
   "id": "022aa555",
   "metadata": {},
   "source": []
  },
  {
   "cell_type": "code",
   "execution_count": 41,
   "id": "df2f7f77",
   "metadata": {},
   "outputs": [],
   "source": [
    "kashan.balance += 20000"
   ]
  },
  {
   "cell_type": "code",
   "execution_count": 42,
   "id": "ac018cc7",
   "metadata": {},
   "outputs": [
    {
     "data": {
      "text/plain": [
       "120000"
      ]
     },
     "execution_count": 42,
     "metadata": {},
     "output_type": "execute_result"
    }
   ],
   "source": [
    "kashan.balance"
   ]
  },
  {
   "cell_type": "code",
   "execution_count": 44,
   "id": "77c8422e",
   "metadata": {},
   "outputs": [
    {
     "data": {
      "text/plain": [
       "100000"
      ]
     },
     "execution_count": 44,
     "metadata": {},
     "output_type": "execute_result"
    }
   ],
   "source": [
    "kashan.balance -= 20000\n",
    "kashan.balance"
   ]
  },
  {
   "cell_type": "markdown",
   "id": "ec814d2e",
   "metadata": {},
   "source": [
    "#### ENCAPSULATION"
   ]
  },
  {
   "cell_type": "code",
   "execution_count": 95,
   "id": "6a525bb3",
   "metadata": {},
   "outputs": [],
   "source": [
    "class Account:\n",
    "    def __init__(self, bank_name, title, balance):\n",
    "        self.title = title\n",
    "        self.bank_name = bank_name\n",
    "        self.balance = balance\n",
    "\n",
    "    # Setter\n",
    "    def deposit(self, amount):\n",
    "        self.balance += amount\n",
    "\n",
    "    def withdraw(self, amount):\n",
    "        self.balance -= amount\n",
    "\n",
    "    # Getter\n",
    "    def show_balance(self):\n",
    "        print(f'The balance is {self.balance}')"
   ]
  },
  {
   "cell_type": "code",
   "execution_count": 66,
   "id": "f3054d62",
   "metadata": {},
   "outputs": [],
   "source": [
    "kashan = Account('HBL', 'kashan', 100000)"
   ]
  },
  {
   "cell_type": "code",
   "execution_count": 67,
   "id": "c73b4001",
   "metadata": {},
   "outputs": [
    {
     "name": "stdout",
     "output_type": "stream",
     "text": [
      "The balance is 100000\n"
     ]
    }
   ],
   "source": [
    "kashan.show_balance()"
   ]
  },
  {
   "cell_type": "code",
   "execution_count": 68,
   "id": "da030f19",
   "metadata": {},
   "outputs": [],
   "source": [
    "kashan.deposit(20000)"
   ]
  },
  {
   "cell_type": "code",
   "execution_count": 69,
   "id": "9092f252",
   "metadata": {},
   "outputs": [
    {
     "name": "stdout",
     "output_type": "stream",
     "text": [
      "The balance is 120000\n"
     ]
    }
   ],
   "source": [
    "kashan.show_balance()"
   ]
  },
  {
   "cell_type": "code",
   "execution_count": 70,
   "id": "d49c06b4",
   "metadata": {},
   "outputs": [],
   "source": [
    "kashan.withdraw(20000)"
   ]
  },
  {
   "cell_type": "code",
   "execution_count": 72,
   "id": "204b6ffd",
   "metadata": {},
   "outputs": [
    {
     "name": "stdout",
     "output_type": "stream",
     "text": [
      "The balance is 100000\n"
     ]
    }
   ],
   "source": [
    "kashan.show_balance()"
   ]
  },
  {
   "cell_type": "markdown",
   "id": "aa8cda25",
   "metadata": {},
   "source": [
    "#### Access Specifier In Python"
   ]
  },
  {
   "cell_type": "code",
   "execution_count": 104,
   "id": "dd94bbf4",
   "metadata": {},
   "outputs": [],
   "source": [
    "class Account:\n",
    "    def __init__(self,bank_name,title,balance):\n",
    "        self.title=title\n",
    "        self._BANK_NAME=bank_name\n",
    "        self.__balance=balance\n",
    "\n",
    "    def deposit(self,amount):\n",
    "        self.__balance+=amount\n",
    "\n",
    "    def withdraw(self,amount):\n",
    "        self.__balance-=amount\n",
    "\n",
    "    def __show_balance(self):\n",
    "        print(f'This is your {self.__balance}')"
   ]
  },
  {
   "cell_type": "code",
   "execution_count": 105,
   "id": "a1f41225",
   "metadata": {},
   "outputs": [],
   "source": [
    "kashan=Account('HBL','kashan',100000)"
   ]
  },
  {
   "cell_type": "code",
   "execution_count": 106,
   "id": "178ef839",
   "metadata": {},
   "outputs": [
    {
     "ename": "AttributeError",
     "evalue": "'Account' object has no attribute '__show_balance'",
     "output_type": "error",
     "traceback": [
      "\u001b[31m---------------------------------------------------------------------------\u001b[39m",
      "\u001b[31mAttributeError\u001b[39m                            Traceback (most recent call last)",
      "\u001b[36mCell\u001b[39m\u001b[36m \u001b[39m\u001b[32mIn[106]\u001b[39m\u001b[32m, line 1\u001b[39m\n\u001b[32m----> \u001b[39m\u001b[32m1\u001b[39m \u001b[43mkashan\u001b[49m\u001b[43m.\u001b[49m\u001b[43m__show_balance\u001b[49m\n",
      "\u001b[31mAttributeError\u001b[39m: 'Account' object has no attribute '__show_balance'"
     ]
    }
   ],
   "source": [
    "kashan.__show_balance"
   ]
  },
  {
   "cell_type": "code",
   "execution_count": 107,
   "id": "6a197e27",
   "metadata": {},
   "outputs": [
    {
     "ename": "AttributeError",
     "evalue": "'Account' object has no attribute '_bank_name'",
     "output_type": "error",
     "traceback": [
      "\u001b[31m---------------------------------------------------------------------------\u001b[39m",
      "\u001b[31mAttributeError\u001b[39m                            Traceback (most recent call last)",
      "\u001b[36mCell\u001b[39m\u001b[36m \u001b[39m\u001b[32mIn[107]\u001b[39m\u001b[32m, line 1\u001b[39m\n\u001b[32m----> \u001b[39m\u001b[32m1\u001b[39m \u001b[43mkashan\u001b[49m\u001b[43m.\u001b[49m\u001b[43m_bank_name\u001b[49m\n",
      "\u001b[31mAttributeError\u001b[39m: 'Account' object has no attribute '_bank_name'"
     ]
    }
   ],
   "source": [
    "kashan._bank_name"
   ]
  },
  {
   "cell_type": "code",
   "execution_count": null,
   "id": "210f12d2",
   "metadata": {},
   "outputs": [
    {
     "ename": "AttributeError",
     "evalue": "'Account' object has no attribute 'balance'",
     "output_type": "error",
     "traceback": [
      "\u001b[31m---------------------------------------------------------------------------\u001b[39m",
      "\u001b[31mAttributeError\u001b[39m                            Traceback (most recent call last)",
      "\u001b[36mCell\u001b[39m\u001b[36m \u001b[39m\u001b[32mIn[101]\u001b[39m\u001b[32m, line 1\u001b[39m\n\u001b[32m----> \u001b[39m\u001b[32m1\u001b[39m \u001b[43mkashan\u001b[49m\u001b[43m.\u001b[49m\u001b[43mbalance\u001b[49m\n",
      "\u001b[31mAttributeError\u001b[39m: 'Account' object has no attribute 'balance'"
     ]
    }
   ],
   "source": [
    "kashan.balance"
   ]
  },
  {
   "cell_type": "code",
   "execution_count": null,
   "id": "e93a4170",
   "metadata": {},
   "outputs": [
    {
     "ename": "AttributeError",
     "evalue": "'Account' object has no attribute '__balance'",
     "output_type": "error",
     "traceback": [
      "\u001b[31m---------------------------------------------------------------------------\u001b[39m",
      "\u001b[31mAttributeError\u001b[39m                            Traceback (most recent call last)",
      "\u001b[36mCell\u001b[39m\u001b[36m \u001b[39m\u001b[32mIn[97]\u001b[39m\u001b[32m, line 1\u001b[39m\n\u001b[32m----> \u001b[39m\u001b[32m1\u001b[39m \u001b[43mkashan\u001b[49m\u001b[43m.\u001b[49m\u001b[43m__balance\u001b[49m()\n",
      "\u001b[31mAttributeError\u001b[39m: 'Account' object has no attribute '__balance'"
     ]
    }
   ],
   "source": [
    "kashan.__balance()"
   ]
  },
  {
   "cell_type": "code",
   "execution_count": null,
   "id": "d727700d",
   "metadata": {},
   "outputs": [
    {
     "ename": "AttributeError",
     "evalue": "'Account' object has no attribute 'show_balance'",
     "output_type": "error",
     "traceback": [
      "\u001b[31m---------------------------------------------------------------------------\u001b[39m",
      "\u001b[31mAttributeError\u001b[39m                            Traceback (most recent call last)",
      "\u001b[36mCell\u001b[39m\u001b[36m \u001b[39m\u001b[32mIn[102]\u001b[39m\u001b[32m, line 1\u001b[39m\n\u001b[32m----> \u001b[39m\u001b[32m1\u001b[39m \u001b[43mkashan\u001b[49m\u001b[43m.\u001b[49m\u001b[43mshow_balance\u001b[49m()\n",
      "\u001b[31mAttributeError\u001b[39m: 'Account' object has no attribute 'show_balance'"
     ]
    }
   ],
   "source": [
    "kashan.show_balance()"
   ]
  },
  {
   "cell_type": "code",
   "execution_count": 109,
   "id": "286e1247",
   "metadata": {},
   "outputs": [
    {
     "data": {
      "text/plain": [
       "'HBL'"
      ]
     },
     "execution_count": 109,
     "metadata": {},
     "output_type": "execute_result"
    }
   ],
   "source": [
    "kashan._BANK_NAME"
   ]
  },
  {
   "cell_type": "code",
   "execution_count": 111,
   "id": "a8fe9a35",
   "metadata": {},
   "outputs": [],
   "source": [
    "kashan._BANK_NAME = 'Meezan'"
   ]
  },
  {
   "cell_type": "code",
   "execution_count": 112,
   "id": "19807996",
   "metadata": {},
   "outputs": [
    {
     "data": {
      "text/plain": [
       "'Meezan'"
      ]
     },
     "execution_count": 112,
     "metadata": {},
     "output_type": "execute_result"
    }
   ],
   "source": [
    "kashan._BANK_NAME"
   ]
  },
  {
   "cell_type": "raw",
   "id": "e2100550",
   "metadata": {
    "vscode": {
     "languageId": "raw"
    }
   },
   "source": [
    "SUMMARY:\n",
    "\n",
    "Access Modifier             Access\"Inside\"                  Access\"Outside\"\n",
    "\n",
    "Public                      ✅ Yes                          ✅ Yes\n",
    "\n",
    "Protected                   ✅ Yes                          ⚠ Yes (not advised)\n",
    "\n",
    "Private                     ✅ Yes                          ❌ No"
   ]
  },
  {
   "cell_type": "code",
   "execution_count": 113,
   "id": "2e796634",
   "metadata": {},
   "outputs": [],
   "source": [
    "class CurrentAccount(Account):\n",
    "    def __init__(self, bank_name, title, balance, age):\n",
    "        super().__init__(bank_name, title, balance)\n",
    "        self.age = age"
   ]
  },
  {
   "cell_type": "code",
   "execution_count": 114,
   "id": "d447f252",
   "metadata": {},
   "outputs": [],
   "source": [
    "ca = CurrentAccount('HBL', 'kashan', 100000, 18)"
   ]
  },
  {
   "cell_type": "code",
   "execution_count": 115,
   "id": "c6a88e7b",
   "metadata": {},
   "outputs": [
    {
     "data": {
      "text/plain": [
       "'HBL'"
      ]
     },
     "execution_count": 115,
     "metadata": {},
     "output_type": "execute_result"
    }
   ],
   "source": [
    "ca._BANK_NAME"
   ]
  },
  {
   "cell_type": "code",
   "execution_count": 116,
   "id": "b7f288c7",
   "metadata": {},
   "outputs": [
    {
     "ename": "AttributeError",
     "evalue": "'CurrentAccount' object has no attribute '__show_balance'",
     "output_type": "error",
     "traceback": [
      "\u001b[31m---------------------------------------------------------------------------\u001b[39m",
      "\u001b[31mAttributeError\u001b[39m                            Traceback (most recent call last)",
      "\u001b[36mCell\u001b[39m\u001b[36m \u001b[39m\u001b[32mIn[116]\u001b[39m\u001b[32m, line 1\u001b[39m\n\u001b[32m----> \u001b[39m\u001b[32m1\u001b[39m \u001b[43mca\u001b[49m\u001b[43m.\u001b[49m\u001b[43m__show_balance\u001b[49m\n",
      "\u001b[31mAttributeError\u001b[39m: 'CurrentAccount' object has no attribute '__show_balance'"
     ]
    }
   ],
   "source": [
    "ca.__show_balance"
   ]
  },
  {
   "cell_type": "code",
   "execution_count": 117,
   "id": "a128a3da",
   "metadata": {},
   "outputs": [
    {
     "ename": "AttributeError",
     "evalue": "'CurrentAccount' object has no attribute 'balance'",
     "output_type": "error",
     "traceback": [
      "\u001b[31m---------------------------------------------------------------------------\u001b[39m",
      "\u001b[31mAttributeError\u001b[39m                            Traceback (most recent call last)",
      "\u001b[36mCell\u001b[39m\u001b[36m \u001b[39m\u001b[32mIn[117]\u001b[39m\u001b[32m, line 1\u001b[39m\n\u001b[32m----> \u001b[39m\u001b[32m1\u001b[39m \u001b[43mca\u001b[49m\u001b[43m.\u001b[49m\u001b[43mbalance\u001b[49m\n",
      "\u001b[31mAttributeError\u001b[39m: 'CurrentAccount' object has no attribute 'balance'"
     ]
    }
   ],
   "source": [
    "ca.balance"
   ]
  },
  {
   "cell_type": "code",
   "execution_count": null,
   "id": "d3302ff4",
   "metadata": {},
   "outputs": [],
   "source": []
  }
 ],
 "metadata": {
  "kernelspec": {
   "display_name": "Python 3",
   "language": "python",
   "name": "python3"
  },
  "language_info": {
   "codemirror_mode": {
    "name": "ipython",
    "version": 3
   },
   "file_extension": ".py",
   "mimetype": "text/x-python",
   "name": "python",
   "nbconvert_exporter": "python",
   "pygments_lexer": "ipython3",
   "version": "3.13.5"
  }
 },
 "nbformat": 4,
 "nbformat_minor": 5
}
