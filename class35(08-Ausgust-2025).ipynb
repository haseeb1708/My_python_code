{
 "cells": [
  {
   "cell_type": "markdown",
   "id": "11b3cd3c",
   "metadata": {},
   "source": [
    "1. Write a Python program to create a class called \"Person\" with properties for \n",
    "name, age and country. Include a method to display the person's details. Create \n",
    "two instances of the 'Person' class and display their details."
   ]
  },
  {
   "cell_type": "code",
   "execution_count": 5,
   "id": "d1a3db7e",
   "metadata": {},
   "outputs": [],
   "source": [
    "class Person():\n",
    "    def __init__(self, name, age, country):\n",
    "        self.name = name\n",
    "        self.age = age\n",
    "        self.country = country\n",
    "\n",
    "    def display_details(self):\n",
    "        print(f'My name is {self.name}. I am {self.age} years old. I live in {self.country}')"
   ]
  },
  {
   "cell_type": "code",
   "execution_count": 6,
   "id": "e0d2c3a7",
   "metadata": {},
   "outputs": [],
   "source": [
    "kashan = Person('kashan', 12, 'Pakistan')"
   ]
  },
  {
   "cell_type": "code",
   "execution_count": 7,
   "id": "62d02e07",
   "metadata": {},
   "outputs": [
    {
     "name": "stdout",
     "output_type": "stream",
     "text": [
      "My name is kashan. I am 12 years old. I live in Pakistan\n"
     ]
    }
   ],
   "source": [
    "kashan.display_details()"
   ]
  },
  {
   "cell_type": "markdown",
   "id": "5f5ad212",
   "metadata": {},
   "source": [
    "2. Write a Python program to create a class called 'Rectangle' with properties for \n",
    "width and height. Include two methods to calculate rectangle area and perimeter. \n",
    "Create an instance of the 'Rectangle' class and calculate its area and perimeter."
   ]
  },
  {
   "cell_type": "code",
   "execution_count": 8,
   "id": "46128e58",
   "metadata": {},
   "outputs": [],
   "source": [
    "class Rectangle():\n",
    "    def __init__(self, width,height):\n",
    "        self.width = width\n",
    "        self.height = height\n",
    "\n",
    "    def cal_area(self):\n",
    "        area = self.width * self.height\n",
    "        return area\n",
    "    \n",
    "    def cal_parimeter(self):\n",
    "        parimeter = 2 * (self.width + self.height)\n",
    "        return parimeter"
   ]
  },
  {
   "cell_type": "code",
   "execution_count": 9,
   "id": "3d671b51",
   "metadata": {},
   "outputs": [],
   "source": [
    "rec1 = Rectangle(3,9)"
   ]
  },
  {
   "cell_type": "code",
   "execution_count": 10,
   "id": "7fe70266",
   "metadata": {},
   "outputs": [
    {
     "data": {
      "text/plain": [
       "27"
      ]
     },
     "execution_count": 10,
     "metadata": {},
     "output_type": "execute_result"
    }
   ],
   "source": [
    "rec1.cal_area()"
   ]
  },
  {
   "cell_type": "code",
   "execution_count": 11,
   "id": "ae424274",
   "metadata": {},
   "outputs": [
    {
     "data": {
      "text/plain": [
       "24"
      ]
     },
     "execution_count": 11,
     "metadata": {},
     "output_type": "execute_result"
    }
   ],
   "source": [
    "rec1.cal_parimeter()"
   ]
  },
  {
   "cell_type": "markdown",
   "id": "77d48cb4",
   "metadata": {},
   "source": [
    "3. Write a Python program that creates a class called 'Vehicle' with properties for \n",
    "make, model, and year. Include a method to display vehicle details. Create a \n",
    "subclass called 'Car' that inherits from the 'Vehicle' class and includes an \n",
    "additional property for the number of doors. Override the display method to \n",
    "include the number of doors."
   ]
  },
  {
   "cell_type": "code",
   "execution_count": 18,
   "id": "c300b98d",
   "metadata": {},
   "outputs": [],
   "source": [
    "class Vehicle():\n",
    "    def __init__(self, make, model, year):\n",
    "        self.make = make\n",
    "        self.model = model\n",
    "        self.year = year\n",
    "\n",
    "    def display_details(self):\n",
    "        print(f'Your car is made by {self.make}, the model of your car is {self.model} and making year of your car is {self.year}')"
   ]
  },
  {
   "cell_type": "code",
   "execution_count": 19,
   "id": "6336c954",
   "metadata": {},
   "outputs": [],
   "source": [
    "car = Vehicle('Toyota', 'Yaris', 2025)"
   ]
  },
  {
   "cell_type": "code",
   "execution_count": 20,
   "id": "f9ca9960",
   "metadata": {},
   "outputs": [
    {
     "name": "stdout",
     "output_type": "stream",
     "text": [
      "Your car is made by Toyota, the model of your car is Yaris and making year of your car is 2025\n"
     ]
    }
   ],
   "source": [
    "car.display_details()"
   ]
  },
  {
   "cell_type": "code",
   "execution_count": 31,
   "id": "7262eed8",
   "metadata": {},
   "outputs": [],
   "source": [
    "class Car(Vehicle):\n",
    "    def __init__(self, make, model, year, doors):\n",
    "        super().__init__(make, model, year)\n",
    "        self.doors = doors\n",
    "    \n",
    "    def display(self):\n",
    "        print(f'No. of doors are {self.doors}')\n",
    "\n",
    "    def parent_display(self):\n",
    "        super().display_details()"
   ]
  },
  {
   "cell_type": "code",
   "execution_count": 32,
   "id": "c5db8202",
   "metadata": {},
   "outputs": [],
   "source": [
    "car1 = Car('Toyota', 'Yaris', 2025, 4)"
   ]
  },
  {
   "cell_type": "code",
   "execution_count": 33,
   "id": "ad78edd6",
   "metadata": {},
   "outputs": [
    {
     "name": "stdout",
     "output_type": "stream",
     "text": [
      "No. of doors are 4\n"
     ]
    }
   ],
   "source": [
    "car1.display()"
   ]
  },
  {
   "cell_type": "code",
   "execution_count": 34,
   "id": "712deb1c",
   "metadata": {},
   "outputs": [
    {
     "name": "stdout",
     "output_type": "stream",
     "text": [
      "Your car is made by Toyota, the model of your car is Yaris and making year of your car is 2025\n"
     ]
    }
   ],
   "source": [
    "car1.display_details()"
   ]
  },
  {
   "cell_type": "markdown",
   "id": "994c7246",
   "metadata": {},
   "source": [
    "4. Write a Python program that creates a class called \"BankAccount\" with \n",
    "properties for account number and balance. Include methods to deposit and \n",
    "withdraw money from the account. Create some instances of the \"BankAccount\" \n",
    "class, deposit some money, and withdraw a portion of it."
   ]
  },
  {
   "cell_type": "code",
   "execution_count": 40,
   "id": "840ca326",
   "metadata": {},
   "outputs": [],
   "source": [
    "class BankAccount():\n",
    "    def __init__(self, acnumber, balance):\n",
    "        self.acnumber = acnumber\n",
    "        self.balance = balance\n",
    "\n",
    "    def deposit(self, amount):\n",
    "        self.balance += amount\n",
    "\n",
    "    def withdraw(self, amount):\n",
    "        self.balance -= amount"
   ]
  },
  {
   "cell_type": "code",
   "execution_count": 41,
   "id": "8d22869e",
   "metadata": {},
   "outputs": [],
   "source": [
    "account = BankAccount(1234, 10000)"
   ]
  },
  {
   "cell_type": "code",
   "execution_count": 42,
   "id": "5c6c86a8",
   "metadata": {},
   "outputs": [
    {
     "data": {
      "text/plain": [
       "10000"
      ]
     },
     "execution_count": 42,
     "metadata": {},
     "output_type": "execute_result"
    }
   ],
   "source": [
    "account.balance"
   ]
  },
  {
   "cell_type": "code",
   "execution_count": 43,
   "id": "fc904310",
   "metadata": {},
   "outputs": [],
   "source": [
    "account.deposit(1200)"
   ]
  },
  {
   "cell_type": "code",
   "execution_count": 44,
   "id": "de3a3652",
   "metadata": {},
   "outputs": [
    {
     "data": {
      "text/plain": [
       "11200"
      ]
     },
     "execution_count": 44,
     "metadata": {},
     "output_type": "execute_result"
    }
   ],
   "source": [
    "account.balance"
   ]
  },
  {
   "cell_type": "code",
   "execution_count": 45,
   "id": "d8ee5064",
   "metadata": {},
   "outputs": [],
   "source": [
    "account.withdraw(1200)"
   ]
  },
  {
   "cell_type": "code",
   "execution_count": 46,
   "id": "a3d591b8",
   "metadata": {},
   "outputs": [
    {
     "data": {
      "text/plain": [
       "10000"
      ]
     },
     "execution_count": 46,
     "metadata": {},
     "output_type": "execute_result"
    }
   ],
   "source": [
    "account.balance"
   ]
  },
  {
   "cell_type": "markdown",
   "id": "a8afa58d",
   "metadata": {},
   "source": [
    "5. Write a Python program that creates a class called 'Shape' with a method to \n",
    "calculate the area. Create two subclasses, 'Circle' and 'Triangle', that inherit from \n",
    "the 'Shape' class and override the area calculation method. Create an instance of \n",
    "the 'Circle' class and calculate its area. Similarly, do the same for the 'Triangle' \n",
    "class."
   ]
  },
  {
   "cell_type": "code",
   "execution_count": null,
   "id": "6d927ff5",
   "metadata": {},
   "outputs": [],
   "source": []
  },
  {
   "cell_type": "code",
   "execution_count": null,
   "id": "ec09eb36",
   "metadata": {},
   "outputs": [],
   "source": []
  },
  {
   "cell_type": "markdown",
   "id": "d74f6db7",
   "metadata": {},
   "source": [
    "6. Write a Python program that creates a class called 'Employee' with properties \n",
    "for name and salary. Include a method to calculate annual salary. Create a \n",
    "subclass called 'Manager' that inherits from the 'Employee' class and adds an \n",
    "additional property for department. Override the annual salary calculation method \n",
    "to include bonuses for managers. Create two instances of the 'Manager' class \n",
    "and calculate their annual salary."
   ]
  },
  {
   "cell_type": "code",
   "execution_count": 14,
   "id": "a3d9aafd",
   "metadata": {},
   "outputs": [],
   "source": [
    "class Employee():\n",
    "    def __init__(self, name, salary):\n",
    "        self.name = name\n",
    "        self.salary = salary\n",
    "\n",
    "    def annual_salary(self):\n",
    "        return self.salary * 12"
   ]
  },
  {
   "cell_type": "code",
   "execution_count": 15,
   "id": "ba5dbee4",
   "metadata": {},
   "outputs": [],
   "source": [
    "salary = Employee('haseeb', 15000)"
   ]
  },
  {
   "cell_type": "code",
   "execution_count": 16,
   "id": "7a39a2f0",
   "metadata": {},
   "outputs": [
    {
     "data": {
      "text/plain": [
       "180000"
      ]
     },
     "execution_count": 16,
     "metadata": {},
     "output_type": "execute_result"
    }
   ],
   "source": [
    "salary.annual_salary()"
   ]
  },
  {
   "cell_type": "code",
   "execution_count": 17,
   "id": "609cbc6e",
   "metadata": {},
   "outputs": [],
   "source": [
    "class Manager(Employee):\n",
    "    def __init__(self, name, salary, department, bonus):\n",
    "        super().__init__(name, salary)\n",
    "        self.department = department\n",
    "        self.bonus = bonus\n",
    "\n",
    "    def annual_salary(self):\n",
    "        return (self.salary * 12) + self.bonus"
   ]
  },
  {
   "cell_type": "code",
   "execution_count": 18,
   "id": "5fba5dc4",
   "metadata": {},
   "outputs": [],
   "source": [
    "employee = Manager('Haseeb', 15000, 'IT', 20000)"
   ]
  },
  {
   "cell_type": "code",
   "execution_count": 19,
   "id": "0d68514d",
   "metadata": {},
   "outputs": [
    {
     "data": {
      "text/plain": [
       "200000"
      ]
     },
     "execution_count": 19,
     "metadata": {},
     "output_type": "execute_result"
    }
   ],
   "source": [
    "employee.annual_salary()"
   ]
  },
  {
   "cell_type": "markdown",
   "id": "797fa351",
   "metadata": {},
   "source": [
    "7. Write a Python program that creates a class `Book` with properties for title, \n",
    "author, and publication year. Include a method to display book details. Create a \n",
    "subclass called 'Ebook' that inherits from the 'Book' class and includes an \n",
    "additional property for book price. Override the display method to include the \n",
    "book price. Create an instance of the 'Ebook' class and display its details."
   ]
  },
  {
   "cell_type": "code",
   "execution_count": 20,
   "id": "4fa711a2",
   "metadata": {},
   "outputs": [],
   "source": [
    "class Book():\n",
    "    def __init__(self, title, author, publication_year):\n",
    "        self.title = title\n",
    "        self.author =author\n",
    "        self.publication_year = publication_year\n",
    "\n",
    "    def display_details(self):\n",
    "        print(f'Title: {self.title}, Author: {self.author}, Publication_Year: {self.publication_year}')"
   ]
  },
  {
   "cell_type": "code",
   "execution_count": 21,
   "id": "7dd8c51f",
   "metadata": {},
   "outputs": [],
   "source": [
    "book = Book('A Smarter Way To Learn Python', 'UNKNOWN', 2025)"
   ]
  },
  {
   "cell_type": "code",
   "execution_count": 22,
   "id": "c02b2df4",
   "metadata": {},
   "outputs": [
    {
     "name": "stdout",
     "output_type": "stream",
     "text": [
      "Title: A Smarter Way To Learn Python, Author: UNKNOWN, Publication_Year: 2025\n"
     ]
    }
   ],
   "source": [
    "book.display_details()"
   ]
  },
  {
   "cell_type": "code",
   "execution_count": 30,
   "id": "1c6cb8c4",
   "metadata": {},
   "outputs": [],
   "source": [
    "class EBook(Book):\n",
    "    def __init__(self, title, author, publication_year, price):\n",
    "        super().__init__(title, author, publication_year)\n",
    "        self.price = price\n",
    "        \n",
    "    def display_details(self):\n",
    "        print(f'Title: {self.title}, Author: {self.author}, Publication_Year: {self.publication_year}, Price: {self.price}')"
   ]
  },
  {
   "cell_type": "code",
   "execution_count": 31,
   "id": "99b69381",
   "metadata": {},
   "outputs": [],
   "source": [
    "ebook = EBook('A Smarter Way To Learn Python', 'UNKNOWN', 2025, 1000)"
   ]
  },
  {
   "cell_type": "code",
   "execution_count": 32,
   "id": "3735c8a6",
   "metadata": {},
   "outputs": [
    {
     "name": "stdout",
     "output_type": "stream",
     "text": [
      "Title: A Smarter Way To Learn Python, Author: UNKNOWN, Publication_Year: 2025, Price: 1000\n"
     ]
    }
   ],
   "source": [
    "ebook.display_details()"
   ]
  },
  {
   "cell_type": "markdown",
   "id": "92ccb761",
   "metadata": {},
   "source": [
    "8. Write a Python program that creates a class called 'Animal' with properties for \n",
    "species and sound. Include a method to make the animal's sound. Create a \n",
    "subclass called 'Dog' that inherits from the 'Animal' class and adds an additional \n",
    "property for color. Override the make sound method to include the dog's color. \n",
    "Create an instance of the 'Dog' class and make it make its sound."
   ]
  },
  {
   "cell_type": "code",
   "execution_count": 41,
   "id": "633bf4d1",
   "metadata": {},
   "outputs": [],
   "source": [
    "class Animal():\n",
    "    def __init__(self, species, sound):\n",
    "        self.species = species\n",
    "        self.sound = sound\n",
    "\n",
    "    def animal_sound(self):\n",
    "        print(f'The {self.species} says {self.sound} {self.sound}')"
   ]
  },
  {
   "cell_type": "code",
   "execution_count": 42,
   "id": "798cdac7",
   "metadata": {},
   "outputs": [],
   "source": [
    "animal = Animal('Dog', 'woof')"
   ]
  },
  {
   "cell_type": "code",
   "execution_count": 43,
   "id": "430e9f3c",
   "metadata": {},
   "outputs": [
    {
     "name": "stdout",
     "output_type": "stream",
     "text": [
      "The Dog says woof woof\n"
     ]
    }
   ],
   "source": [
    "animal.animal_sound()"
   ]
  },
  {
   "cell_type": "markdown",
   "id": "5d1be035",
   "metadata": {},
   "source": [
    "9. Write a Python program that creates a class called Bank with properties for \n",
    "bank names and branches. Include methods to add a branch, remove a branch, \n",
    "and display all branches. Create an instance of the Bank class and perform \n",
    "operations to add and remove branches. "
   ]
  },
  {
   "cell_type": "code",
   "execution_count": 44,
   "id": "23b6978b",
   "metadata": {},
   "outputs": [],
   "source": [
    "class Bank():\n",
    "    def __init__(self, bank_names):\n",
    "        self.bank_names = bank_names\n",
    "        self.branches = []\n",
    "\n",
    "    def add_branch(self, branches):\n",
    "        self.branches.append(branches)\n",
    "\n",
    "    def remove_branch(self, branches):\n",
    "        if branches in self.branches:\n",
    "            self.branches.remove(branches)\n",
    "        else:\n",
    "            print(f'{branches} not found')\n",
    "\n",
    "    def show_branches(self):\n",
    "        print(f'{', '.join(self.branches)}')"
   ]
  },
  {
   "cell_type": "code",
   "execution_count": 45,
   "id": "08b85241",
   "metadata": {},
   "outputs": [],
   "source": [
    "bank = Bank('meezan')"
   ]
  },
  {
   "cell_type": "code",
   "execution_count": 46,
   "id": "32fd98cc",
   "metadata": {},
   "outputs": [],
   "source": [
    "bank.add_branch('gulshan')"
   ]
  },
  {
   "cell_type": "code",
   "execution_count": 47,
   "id": "44f535d4",
   "metadata": {},
   "outputs": [],
   "source": [
    "bank.add_branch('malir')"
   ]
  },
  {
   "cell_type": "code",
   "execution_count": 48,
   "id": "068c0fd8",
   "metadata": {},
   "outputs": [
    {
     "name": "stdout",
     "output_type": "stream",
     "text": [
      "gulshan, malir\n"
     ]
    }
   ],
   "source": [
    "bank.show_branches()"
   ]
  },
  {
   "cell_type": "code",
   "execution_count": 49,
   "id": "079cd69e",
   "metadata": {},
   "outputs": [],
   "source": [
    "bank.remove_branch('malir')"
   ]
  },
  {
   "cell_type": "code",
   "execution_count": 50,
   "id": "6a3d610d",
   "metadata": {},
   "outputs": [
    {
     "name": "stdout",
     "output_type": "stream",
     "text": [
      "gulshan\n"
     ]
    }
   ],
   "source": [
    "bank.show_branches()"
   ]
  },
  {
   "cell_type": "markdown",
   "id": "1e50c456",
   "metadata": {},
   "source": [
    "10. Write a Python program that creates a class called Product with properties for \n",
    "product ID, name, and price. Include a method to calculate the total price by \n",
    "multiplying the price by the quantity. Create a subclass called \n",
    "PersonalCareProduct that inherits from the Product class and adds an additional \n",
    "property for the warranty period. Override the total price calculation method to \n",
    "include the warranty period. Create an instance of the PersonalCareProduct \n",
    "class and calculate its total price."
   ]
  },
  {
   "cell_type": "code",
   "execution_count": null,
   "id": "1d7276f8",
   "metadata": {},
   "outputs": [],
   "source": [
    "class Product():\n",
    "    def __init__(self, ):\n",
    "        self.product_id = product_id\n",
    "        self.name = name\n",
    "        self.price = price\n",
    "\n",
    "    def total_price(self, quantity):\n",
    "        return self.price * quantity"
   ]
  },
  {
   "cell_type": "code",
   "execution_count": 62,
   "id": "380d6cd6",
   "metadata": {},
   "outputs": [],
   "source": [
    "b = Product(1234, 'eggs', 15)"
   ]
  },
  {
   "cell_type": "code",
   "execution_count": 64,
   "id": "4d607061",
   "metadata": {},
   "outputs": [
    {
     "data": {
      "text/plain": [
       "90"
      ]
     },
     "execution_count": 64,
     "metadata": {},
     "output_type": "execute_result"
    }
   ],
   "source": [
    "b.total_price(6)"
   ]
  },
  {
   "cell_type": "code",
   "execution_count": 90,
   "id": "687378a2",
   "metadata": {},
   "outputs": [],
   "source": [
    "class PersonalCareProduct(Product):\n",
    "    def __init__(self, product_id, name, price, warranty_period):\n",
    "        super().__init__(product_id, name, price)\n",
    "        self.warranty_period = warranty_period\n",
    "\n",
    "    def total_price(self, quantity):\n",
    "        quantity_price = self.price * quantity\n",
    "        print(f'{quantity} {self.name} in Rs.{quantity_price} with {self.warranty_period} months warranty')"
   ]
  },
  {
   "cell_type": "code",
   "execution_count": 91,
   "id": "f753d027",
   "metadata": {},
   "outputs": [],
   "source": [
    "product = PersonalCareProduct('p101', 'hair dryer', 2500, 12)"
   ]
  },
  {
   "cell_type": "code",
   "execution_count": 92,
   "id": "9b31662f",
   "metadata": {},
   "outputs": [
    {
     "name": "stdout",
     "output_type": "stream",
     "text": [
      "2 hair dryer in Rs.5000 with 12 months warranty\n"
     ]
    }
   ],
   "source": [
    "product.total_price(2)"
   ]
  },
  {
   "cell_type": "markdown",
   "id": "14917129",
   "metadata": {},
   "source": [
    "11. Write a Python program that creates a class called BankAccount with \n",
    "properties for account number, account holder name, and balance. Include \n",
    "methods to deposit, withdraw, and transfer money between accounts. Create \n",
    "multiple instances of the BankAccount class and perform operations such as \n",
    "depositing, withdrawing, and transferring money."
   ]
  },
  {
   "cell_type": "code",
   "execution_count": 1,
   "id": "0e68d44a",
   "metadata": {},
   "outputs": [],
   "source": [
    "class BankAccount():\n",
    "    def __init__(self, acc_number, acc_name, balance):\n",
    "        self.acc_number = acc_number\n",
    "        self.acc_name = acc_name\n",
    "        self.balance = balance\n",
    "\n",
    "    def deposit(self, amount):\n",
    "        self.balance += amount\n",
    "\n",
    "    def withdraw(self, amount):\n",
    "        self.balance -= amount\n",
    "\n",
    "    def transfer(self, other_acc, amount):\n",
    "        self.balance -= amount\n",
    "        other_acc.balance += amount"
   ]
  },
  {
   "cell_type": "code",
   "execution_count": 3,
   "id": "14925a1c",
   "metadata": {},
   "outputs": [],
   "source": [
    "acc1 = BankAccount(101, 'haseeb', 10000)\n",
    "acc2 = BankAccount(102, 'daniyal',10000)\n",
    "acc3 = BankAccount(103, 'usaid', 10000)"
   ]
  },
  {
   "cell_type": "code",
   "execution_count": 6,
   "id": "b9053d2a",
   "metadata": {},
   "outputs": [],
   "source": [
    "acc1.transfer(acc2, 2000)"
   ]
  },
  {
   "cell_type": "code",
   "execution_count": 8,
   "id": "fce79e31",
   "metadata": {},
   "outputs": [
    {
     "data": {
      "text/plain": [
       "12000"
      ]
     },
     "execution_count": 8,
     "metadata": {},
     "output_type": "execute_result"
    }
   ],
   "source": [
    "acc2.balance"
   ]
  },
  {
   "cell_type": "code",
   "execution_count": 9,
   "id": "b6fc7717",
   "metadata": {},
   "outputs": [],
   "source": [
    "acc3.deposit(2000)"
   ]
  },
  {
   "cell_type": "code",
   "execution_count": 10,
   "id": "1bcdca10",
   "metadata": {},
   "outputs": [],
   "source": [
    "acc3.transfer(acc1, 1000)"
   ]
  },
  {
   "cell_type": "code",
   "execution_count": 11,
   "id": "cb0a6928",
   "metadata": {},
   "outputs": [
    {
     "data": {
      "text/plain": [
       "9000"
      ]
     },
     "execution_count": 11,
     "metadata": {},
     "output_type": "execute_result"
    }
   ],
   "source": [
    "acc1.balance"
   ]
  },
  {
   "cell_type": "markdown",
   "id": "5105a90a",
   "metadata": {},
   "source": [
    "12. Write a Python program that creates a class called University with properties \n",
    "for university name and departments. Include methods to add a department, \n",
    "remove a department, and display all departments. Create an instance of the \n",
    "University class and add and remove departments."
   ]
  },
  {
   "cell_type": "code",
   "execution_count": 12,
   "id": "db892efe",
   "metadata": {},
   "outputs": [],
   "source": [
    "class University():\n",
    "    def __init__(self, uni_name):\n",
    "        self.uni_name = uni_name\n",
    "        self.departments = []\n",
    "\n",
    "    def add_departments(self, department):\n",
    "        self.departments.append(department)\n",
    "\n",
    "    def remove_department(self, department):\n",
    "        self.departments.remove(department)\n",
    "\n",
    "    def show_departments(self):\n",
    "        print(f'{', '.join(self.departments)}')"
   ]
  },
  {
   "cell_type": "code",
   "execution_count": 14,
   "id": "41a1cb4f",
   "metadata": {},
   "outputs": [],
   "source": [
    "uni = University('NED')"
   ]
  },
  {
   "cell_type": "code",
   "execution_count": 16,
   "id": "f891f8af",
   "metadata": {},
   "outputs": [],
   "source": [
    "uni.add_departments('CS')"
   ]
  },
  {
   "cell_type": "code",
   "execution_count": 17,
   "id": "320e19c7",
   "metadata": {},
   "outputs": [],
   "source": [
    "uni.add_departments('IT')"
   ]
  },
  {
   "cell_type": "code",
   "execution_count": 18,
   "id": "64a9e47a",
   "metadata": {},
   "outputs": [
    {
     "name": "stdout",
     "output_type": "stream",
     "text": [
      "CS, IT\n"
     ]
    }
   ],
   "source": [
    "uni.show_departments()"
   ]
  },
  {
   "cell_type": "code",
   "execution_count": 19,
   "id": "9051697f",
   "metadata": {},
   "outputs": [],
   "source": [
    "uni.add_departments('Medical')"
   ]
  },
  {
   "cell_type": "code",
   "execution_count": 20,
   "id": "4997475a",
   "metadata": {},
   "outputs": [],
   "source": [
    "uni.remove_department('CS')"
   ]
  },
  {
   "cell_type": "code",
   "execution_count": 21,
   "id": "2c311703",
   "metadata": {},
   "outputs": [
    {
     "name": "stdout",
     "output_type": "stream",
     "text": [
      "IT, Medical\n"
     ]
    }
   ],
   "source": [
    "uni.show_departments()"
   ]
  }
 ],
 "metadata": {
  "kernelspec": {
   "display_name": "Python 3",
   "language": "python",
   "name": "python3"
  },
  "language_info": {
   "codemirror_mode": {
    "name": "ipython",
    "version": 3
   },
   "file_extension": ".py",
   "mimetype": "text/x-python",
   "name": "python",
   "nbconvert_exporter": "python",
   "pygments_lexer": "ipython3",
   "version": "3.13.5"
  }
 },
 "nbformat": 4,
 "nbformat_minor": 5
}
