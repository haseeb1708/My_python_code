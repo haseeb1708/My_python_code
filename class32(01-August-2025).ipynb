{
 "cells": [
  {
   "cell_type": "code",
   "execution_count": null,
   "id": "5be17e54",
   "metadata": {},
   "outputs": [],
   "source": [
    "# Mera Code\n",
    "class WeatherStation():\n",
    "    def __init__(self, station):\n",
    "        self.__station = station\n",
    "        self.__lst = []\n",
    "\n",
    "    def add_observation(sold, lst):\n",
    "        self.__lst.append(lst)\n",
    "        if len(self.__lst) >= 1:\n",
    "            print('submited')\n",
    "        else:\n",
    "            print(\"''\")\n",
    "\n",
    "    def latest_observation(self):\n",
    "        return self.__lst[-1]"
   ]
  },
  {
   "cell_type": "code",
   "execution_count": 5,
   "id": "dd72aa78",
   "metadata": {},
   "outputs": [],
   "source": [
    "WS = WeatherStation('hoston')"
   ]
  },
  {
   "cell_type": "code",
   "execution_count": 6,
   "id": "89718780",
   "metadata": {},
   "outputs": [
    {
     "name": "stdout",
     "output_type": "stream",
     "text": [
      "submited\n"
     ]
    }
   ],
   "source": [
    "WS.add_observation(\"sunny\")"
   ]
  },
  {
   "cell_type": "code",
   "execution_count": 7,
   "id": "0bfd0ab9",
   "metadata": {},
   "outputs": [
    {
     "data": {
      "text/plain": [
       "'sunny'"
      ]
     },
     "execution_count": 7,
     "metadata": {},
     "output_type": "execute_result"
    }
   ],
   "source": [
    "WS.latest_observation()"
   ]
  },
  {
   "cell_type": "code",
   "execution_count": 8,
   "id": "1bc4a14d",
   "metadata": {},
   "outputs": [
    {
     "name": "stdout",
     "output_type": "stream",
     "text": [
      "submited\n"
     ]
    }
   ],
   "source": [
    "WS.add_observation('rainy')"
   ]
  },
  {
   "cell_type": "code",
   "execution_count": 9,
   "id": "55613f05",
   "metadata": {},
   "outputs": [
    {
     "data": {
      "text/plain": [
       "'rainy'"
      ]
     },
     "execution_count": 9,
     "metadata": {},
     "output_type": "execute_result"
    }
   ],
   "source": [
    "WS.latest_observation()"
   ]
  },
  {
   "cell_type": "code",
   "execution_count": 10,
   "id": "0a15a21a",
   "metadata": {},
   "outputs": [],
   "source": [
    "# Kashan ka Code\n",
    "class WeatherStation():\n",
    "    def __init__(self, station):\n",
    "        self.__station = station\n",
    "        self.__lst = []\n",
    "\n",
    "    def add_observation(self, lst):\n",
    "        self.__lst.append(lst)\n",
    "\n",
    "    def latest_observation(self):\n",
    "        if self.__lst:\n",
    "            print(f'The latest observations of {self.__station} is {self.__lst[-1]}')\n",
    "        else:\n",
    "            print('\"\"')\n",
    "\n",
    "    def number_of_observations(self):\n",
    "        print(f'There are {len(self.__lst)} observations')"
   ]
  },
  {
   "cell_type": "code",
   "execution_count": 11,
   "id": "9d5faddb",
   "metadata": {},
   "outputs": [],
   "source": [
    "Station = WeatherStation('Houston')"
   ]
  },
  {
   "cell_type": "code",
   "execution_count": 12,
   "id": "7d0f985b",
   "metadata": {},
   "outputs": [
    {
     "name": "stdout",
     "output_type": "stream",
     "text": [
      "\"\"\n"
     ]
    }
   ],
   "source": [
    "Station.latest_observation()"
   ]
  },
  {
   "cell_type": "code",
   "execution_count": 13,
   "id": "fcc13ee1",
   "metadata": {},
   "outputs": [],
   "source": [
    "Station.add_observation('sunny')"
   ]
  },
  {
   "cell_type": "code",
   "execution_count": 14,
   "id": "fcd87648",
   "metadata": {},
   "outputs": [],
   "source": [
    "Station.add_observation('rainy')"
   ]
  },
  {
   "cell_type": "code",
   "execution_count": 15,
   "id": "1cb7f032",
   "metadata": {},
   "outputs": [
    {
     "name": "stdout",
     "output_type": "stream",
     "text": [
      "The latest observations of Houston is rainy\n"
     ]
    }
   ],
   "source": [
    "Station.latest_observation()"
   ]
  },
  {
   "cell_type": "code",
   "execution_count": 2,
   "id": "4af2b36e",
   "metadata": {},
   "outputs": [],
   "source": [
    "class Series():\n",
    "    def __init__(self, name, num, lst):\n",
    "        self.name = name\n",
    "        self.num = num\n",
    "        self.lst = lst\n",
    "\n",
    "    def display_info(self):\n",
    "        print(f'{self.name} ({self.num} Seasons)')\n",
    "        print(f'Genres: {', '.join(self.lst)}')\n",
    "        print('no reviews')"
   ]
  },
  {
   "cell_type": "code",
   "execution_count": 3,
   "id": "e4ca6cef",
   "metadata": {},
   "outputs": [],
   "source": [
    "Dexter = Series('dexter', 8, ['Crime', 'Drama', 'Mystery','Thriller'])"
   ]
  },
  {
   "cell_type": "code",
   "execution_count": 4,
   "id": "679b7630",
   "metadata": {},
   "outputs": [
    {
     "name": "stdout",
     "output_type": "stream",
     "text": [
      "dexter (8 Seasons)\n",
      "Genres: Crime, Drama, Mystery, Thriller\n",
      "no reviews\n"
     ]
    }
   ],
   "source": [
    "Dexter.display_info()"
   ]
  }
 ],
 "metadata": {
  "kernelspec": {
   "display_name": "Python 3",
   "language": "python",
   "name": "python3"
  },
  "language_info": {
   "codemirror_mode": {
    "name": "ipython",
    "version": 3
   },
   "file_extension": ".py",
   "mimetype": "text/x-python",
   "name": "python",
   "nbconvert_exporter": "python",
   "pygments_lexer": "ipython3",
   "version": "3.13.5"
  }
 },
 "nbformat": 4,
 "nbformat_minor": 5
}
