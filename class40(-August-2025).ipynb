{
 "cells": [
  {
   "cell_type": "code",
   "execution_count": 2,
   "id": "8736d017",
   "metadata": {},
   "outputs": [],
   "source": [
    "def square(num):\n",
    "    for i in range(1,num+1):\n",
    "        return i**2"
   ]
  },
  {
   "cell_type": "code",
   "execution_count": 3,
   "id": "7fc74438",
   "metadata": {},
   "outputs": [
    {
     "data": {
      "text/plain": [
       "1"
      ]
     },
     "execution_count": 3,
     "metadata": {},
     "output_type": "execute_result"
    }
   ],
   "source": [
    "square(3)"
   ]
  },
  {
   "cell_type": "code",
   "execution_count": 6,
   "id": "896afbdc",
   "metadata": {},
   "outputs": [],
   "source": [
    "def square(num):\n",
    "    for i in range(1,num+1):\n",
    "        yield i**2"
   ]
  },
  {
   "cell_type": "code",
   "execution_count": 7,
   "id": "5dd92622",
   "metadata": {},
   "outputs": [
    {
     "data": {
      "text/plain": [
       "<generator object square at 0x0000019023F1CE40>"
      ]
     },
     "execution_count": 7,
     "metadata": {},
     "output_type": "execute_result"
    }
   ],
   "source": [
    "square(3)"
   ]
  },
  {
   "cell_type": "code",
   "execution_count": 33,
   "id": "b180b5ac",
   "metadata": {},
   "outputs": [],
   "source": [
    "gen = square(3)"
   ]
  },
  {
   "cell_type": "code",
   "execution_count": 34,
   "id": "eb2038e7",
   "metadata": {},
   "outputs": [
    {
     "data": {
      "text/plain": [
       "1"
      ]
     },
     "execution_count": 34,
     "metadata": {},
     "output_type": "execute_result"
    }
   ],
   "source": [
    "next(gen)"
   ]
  },
  {
   "cell_type": "code",
   "execution_count": 21,
   "id": "fe87e4d9",
   "metadata": {},
   "outputs": [],
   "source": [
    "gen = square(10)"
   ]
  },
  {
   "cell_type": "code",
   "execution_count": 22,
   "id": "19f46f4e",
   "metadata": {},
   "outputs": [
    {
     "name": "stdout",
     "output_type": "stream",
     "text": [
      "1\n",
      "4\n",
      "9\n"
     ]
    }
   ],
   "source": [
    "print(next(gen))\n",
    "print(next(gen))\n",
    "print(next(gen))"
   ]
  },
  {
   "cell_type": "code",
   "execution_count": 23,
   "id": "d4536b24",
   "metadata": {},
   "outputs": [
    {
     "name": "stdout",
     "output_type": "stream",
     "text": [
      "16\n",
      "25\n",
      "36\n",
      "49\n",
      "64\n",
      "81\n",
      "100\n"
     ]
    }
   ],
   "source": [
    "for i in gen:\n",
    "    print(i)"
   ]
  },
  {
   "cell_type": "markdown",
   "id": "d2dc9563",
   "metadata": {},
   "source": [
    "# Range Function Using Generator"
   ]
  },
  {
   "cell_type": "code",
   "execution_count": 114,
   "id": "e761c4aa",
   "metadata": {},
   "outputs": [
    {
     "name": "stdout",
     "output_type": "stream",
     "text": [
      "<generator object <genexpr> at 0x00000190245857D0>\n"
     ]
    }
   ],
   "source": [
    "gen = (i**2 for i in range(1,101))\n",
    "print(gen)"
   ]
  },
  {
   "cell_type": "code",
   "execution_count": 100,
   "id": "5ee7a41a",
   "metadata": {},
   "outputs": [
    {
     "name": "stdout",
     "output_type": "stream",
     "text": [
      "1\n",
      "4\n",
      "9\n",
      "16\n"
     ]
    }
   ],
   "source": [
    "num = 0\n",
    "for i in gen:\n",
    "    if num >= 4:\n",
    "        break\n",
    "    else:\n",
    "        print(i)\n",
    "        num += 1"
   ]
  },
  {
   "cell_type": "code",
   "execution_count": 115,
   "id": "c1b20c7e",
   "metadata": {},
   "outputs": [
    {
     "name": "stdout",
     "output_type": "stream",
     "text": [
      "1\n",
      "4\n",
      "9\n",
      "16\n",
      "25\n"
     ]
    }
   ],
   "source": [
    "# num = 0\n",
    "for num, value in enumerate(gen):\n",
    "    if num >= 5:\n",
    "        break\n",
    "    else:\n",
    "        print(value)\n",
    "        # num += 1"
   ]
  },
  {
   "cell_type": "code",
   "execution_count": null,
   "id": "e44216d7",
   "metadata": {},
   "outputs": [],
   "source": []
  }
 ],
 "metadata": {
  "kernelspec": {
   "display_name": "Python 3",
   "language": "python",
   "name": "python3"
  },
  "language_info": {
   "codemirror_mode": {
    "name": "ipython",
    "version": 3
   },
   "file_extension": ".py",
   "mimetype": "text/x-python",
   "name": "python",
   "nbconvert_exporter": "python",
   "pygments_lexer": "ipython3",
   "version": "3.13.5"
  }
 },
 "nbformat": 4,
 "nbformat_minor": 5
}
