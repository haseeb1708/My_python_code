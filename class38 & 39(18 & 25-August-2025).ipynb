{
 "cells": [
  {
   "cell_type": "markdown",
   "id": "2d9e8884",
   "metadata": {},
   "source": [
    "## What is an Iteration\n",
    "\n",
    "Iteration is a general term for taking each item of something, one after another. Any time you use a loop, explicit or implicit, to go over a group of items, that is iteration."
   ]
  },
  {
   "cell_type": "code",
   "execution_count": 22,
   "id": "26fadf7e",
   "metadata": {},
   "outputs": [
    {
     "name": "stdout",
     "output_type": "stream",
     "text": [
      "1\n",
      "2\n",
      "3\n"
     ]
    }
   ],
   "source": [
    "# Example\n",
    "num = [1,2,3]\n",
    "\n",
    "for i in num:\n",
    "    print(i)"
   ]
  },
  {
   "cell_type": "markdown",
   "id": "c7ea3a1a",
   "metadata": {},
   "source": [
    "## What is Iterator\n",
    "\n",
    "An Iterator is an object that allows the programmer to traverse through a sequence of data without having to store the entire data in the memory"
   ]
  },
  {
   "cell_type": "code",
   "execution_count": 23,
   "id": "d81a4483",
   "metadata": {},
   "outputs": [
    {
     "name": "stdout",
     "output_type": "stream",
     "text": [
      "['__abs__', '__add__', '__and__', '__bool__', '__ceil__', '__class__', '__delattr__', '__dir__', '__divmod__', '__doc__', '__eq__', '__float__', '__floor__', '__floordiv__', '__format__', '__ge__', '__getattribute__', '__getnewargs__', '__getstate__', '__gt__', '__hash__', '__index__', '__init__', '__init_subclass__', '__int__', '__invert__', '__le__', '__lshift__', '__lt__', '__mod__', '__mul__', '__ne__', '__neg__', '__new__', '__or__', '__pos__', '__pow__', '__radd__', '__rand__', '__rdivmod__', '__reduce__', '__reduce_ex__', '__repr__', '__rfloordiv__', '__rlshift__', '__rmod__', '__rmul__', '__ror__', '__round__', '__rpow__', '__rrshift__', '__rshift__', '__rsub__', '__rtruediv__', '__rxor__', '__setattr__', '__sizeof__', '__str__', '__sub__', '__subclasshook__', '__truediv__', '__trunc__', '__xor__', 'as_integer_ratio', 'bit_count', 'bit_length', 'conjugate', 'denominator', 'from_bytes', 'imag', 'is_integer', 'numerator', 'real', 'to_bytes']\n"
     ]
    }
   ],
   "source": [
    "x = 123\n",
    "print(dir(x))"
   ]
  },
  {
   "cell_type": "code",
   "execution_count": 24,
   "id": "b5884a8a",
   "metadata": {},
   "outputs": [
    {
     "name": "stdout",
     "output_type": "stream",
     "text": [
      "['__add__', '__class__', '__class_getitem__', '__contains__', '__delattr__', '__delitem__', '__dir__', '__doc__', '__eq__', '__format__', '__ge__', '__getattribute__', '__getitem__', '__getstate__', '__gt__', '__hash__', '__iadd__', '__imul__', '__init__', '__init_subclass__', '__iter__', '__le__', '__len__', '__lt__', '__mul__', '__ne__', '__new__', '__reduce__', '__reduce_ex__', '__repr__', '__reversed__', '__rmul__', '__setattr__', '__setitem__', '__sizeof__', '__str__', '__subclasshook__', 'append', 'clear', 'copy', 'count', 'extend', 'index', 'insert', 'pop', 'remove', 'reverse', 'sort']\n"
     ]
    }
   ],
   "source": [
    "import sys\n",
    "L = [x for x in range(1,10000)]\n",
    "print(dir(L))\n",
    "# for num in L:\n",
    "#     print(num**2)\n",
    "# print(f'{sys.getsizeof(L)} Bytes')"
   ]
  },
  {
   "cell_type": "code",
   "execution_count": 25,
   "id": "f35ffb89",
   "metadata": {},
   "outputs": [
    {
     "name": "stdout",
     "output_type": "stream",
     "text": [
      "['__bool__', '__class__', '__contains__', '__delattr__', '__dir__', '__doc__', '__eq__', '__format__', '__ge__', '__getattribute__', '__getitem__', '__getstate__', '__gt__', '__hash__', '__init__', '__init_subclass__', '__iter__', '__le__', '__len__', '__lt__', '__ne__', '__new__', '__reduce__', '__reduce_ex__', '__repr__', '__reversed__', '__setattr__', '__sizeof__', '__str__', '__subclasshook__', 'count', 'index', 'start', 'step', 'stop']\n"
     ]
    }
   ],
   "source": [
    "x = range(1,100000)\n",
    "print(dir(x))\n",
    "# for num in x:\n",
    "#     print(num**2)\n",
    "# print(f'{sys.getsizeof(x)} Bytes')"
   ]
  },
  {
   "cell_type": "code",
   "execution_count": 26,
   "id": "ff765a6c",
   "metadata": {},
   "outputs": [
    {
     "name": "stdout",
     "output_type": "stream",
     "text": [
      "1330.875\n",
      "0.75\n"
     ]
    }
   ],
   "source": [
    "# Example\n",
    "L = [x for x in range(1,10000)]\n",
    "\n",
    "#for i in L:\n",
    "    #print(i*2)\n",
    "    \n",
    "import sys\n",
    "\n",
    "print(sys.getsizeof(L)/64)\n",
    "\n",
    "x = range(1,10000000000)\n",
    "\n",
    "#for i in x:\n",
    "    #print(i*2)\n",
    "    \n",
    "print(sys.getsizeof(x)/64)\n",
    "\n"
   ]
  },
  {
   "cell_type": "markdown",
   "id": "99fff65f",
   "metadata": {},
   "source": [
    "## What is Iterable\n",
    "Iterable is an object, which one can iterate over\n",
    "\n",
    " It generates an Iterator when passed to iter() method."
   ]
  },
  {
   "cell_type": "code",
   "execution_count": 27,
   "id": "73d30682",
   "metadata": {},
   "outputs": [],
   "source": [
    "lst = [1,2,3]\n",
    "iterator = iter(lst)\n",
    "# print(dir(iterator))"
   ]
  },
  {
   "cell_type": "code",
   "execution_count": 28,
   "id": "5ecd22b1",
   "metadata": {},
   "outputs": [
    {
     "ename": "TypeError",
     "evalue": "'list' object is not an iterator",
     "output_type": "error",
     "traceback": [
      "\u001b[31m---------------------------------------------------------------------------\u001b[39m",
      "\u001b[31mTypeError\u001b[39m                                 Traceback (most recent call last)",
      "\u001b[36mCell\u001b[39m\u001b[36m \u001b[39m\u001b[32mIn[28]\u001b[39m\u001b[32m, line 2\u001b[39m\n\u001b[32m      1\u001b[39m L\n\u001b[32m----> \u001b[39m\u001b[32m2\u001b[39m \u001b[38;5;28;43mnext\u001b[39;49m\u001b[43m(\u001b[49m\u001b[43mL\u001b[49m\u001b[43m)\u001b[49m\n",
      "\u001b[31mTypeError\u001b[39m: 'list' object is not an iterator"
     ]
    }
   ],
   "source": [
    "L\n",
    "next(L)"
   ]
  },
  {
   "cell_type": "code",
   "execution_count": null,
   "id": "3e5a77f4",
   "metadata": {},
   "outputs": [
    {
     "ename": "StopIteration",
     "evalue": "",
     "output_type": "error",
     "traceback": [
      "\u001b[31m---------------------------------------------------------------------------\u001b[39m",
      "\u001b[31mStopIteration\u001b[39m                             Traceback (most recent call last)",
      "\u001b[36mCell\u001b[39m\u001b[36m \u001b[39m\u001b[32mIn[32]\u001b[39m\u001b[32m, line 1\u001b[39m\n\u001b[32m----> \u001b[39m\u001b[32m1\u001b[39m \u001b[38;5;28;43mnext\u001b[39;49m\u001b[43m(\u001b[49m\u001b[43miterator\u001b[49m\u001b[43m)\u001b[49m\n",
      "\u001b[31mStopIteration\u001b[39m: "
     ]
    }
   ],
   "source": [
    "next(iterator)"
   ]
  },
  {
   "cell_type": "code",
   "execution_count": null,
   "id": "98ea6df0",
   "metadata": {},
   "outputs": [
    {
     "name": "stdout",
     "output_type": "stream",
     "text": [
      "a\n",
      "c\n",
      "d\n"
     ]
    }
   ],
   "source": [
    "lst = ['a','c', 'd']\n",
    "str_iter = iter(lst)\n",
    "for char in str_iter:\n",
    "    print(char)\n"
   ]
  },
  {
   "cell_type": "code",
   "execution_count": null,
   "id": "f6707c20",
   "metadata": {},
   "outputs": [
    {
     "ename": "StopIteration",
     "evalue": "",
     "output_type": "error",
     "traceback": [
      "\u001b[31m---------------------------------------------------------------------------\u001b[39m",
      "\u001b[31mStopIteration\u001b[39m                             Traceback (most recent call last)",
      "\u001b[36mCell\u001b[39m\u001b[36m \u001b[39m\u001b[32mIn[37]\u001b[39m\u001b[32m, line 1\u001b[39m\n\u001b[32m----> \u001b[39m\u001b[32m1\u001b[39m \u001b[38;5;28;43mnext\u001b[39;49m\u001b[43m(\u001b[49m\u001b[43mstr_iter\u001b[49m\u001b[43m)\u001b[49m\n",
      "\u001b[31mStopIteration\u001b[39m: "
     ]
    }
   ],
   "source": [
    "next(str_iter)"
   ]
  },
  {
   "attachments": {
    "image.png": {
     "image/png": "[encoded data removed]"
    }
   },
   "cell_type": "markdown",
   "id": "4ee1afe1",
   "metadata": {},
   "source": [
    "![image.png](attachment:image.png)"
   ]
  },
  {
   "cell_type": "code",
   "execution_count": null,
   "id": "92945eb9",
   "metadata": {},
   "outputs": [
    {
     "name": "stdout",
     "output_type": "stream",
     "text": [
      "['a', 'b', 'c', 'd']\n",
      "['a', 'b', 'c', 'd']\n",
      "['a', 'b', 'c', 'd']\n",
      "['a', 'b', 'c', 'd']\n"
     ]
    }
   ],
   "source": [
    "char = ['a', 'b', 'c', 'd']\n",
    "for x in char:\n",
    "    print(char)"
   ]
  },
  {
   "cell_type": "code",
   "execution_count": null,
   "id": "63a1fd15",
   "metadata": {},
   "outputs": [
    {
     "name": "stdout",
     "output_type": "stream",
     "text": [
      "<list_iterator object at 0x000001E6FDE74D30>\n",
      "<list_iterator object at 0x000001E6FDE74D30>\n",
      "<list_iterator object at 0x000001E6FDE74D30>\n",
      "<list_iterator object at 0x000001E6FDE74D30>\n"
     ]
    }
   ],
   "source": [
    "char_iter = iter(char)\n",
    "for i in char_iter:\n",
    "    print(char_iter)"
   ]
  },
  {
   "cell_type": "code",
   "execution_count": null,
   "id": "77650fa6",
   "metadata": {},
   "outputs": [
    {
     "data": {
      "text/plain": [
       "list_iterator"
      ]
     },
     "execution_count": 32,
     "metadata": {},
     "output_type": "execute_result"
    }
   ],
   "source": [
    "# Example\n",
    "\n",
    "L = [1,2,3]\n",
    "type(L)\n",
    "\n",
    "\n",
    "# L is an iterable\n",
    "type(iter(L))\n",
    "\n",
    "# iter(L) --> iterator"
   ]
  },
  {
   "cell_type": "markdown",
   "id": "f9482d80",
   "metadata": {},
   "source": [
    "## Point to remember\n",
    "\n",
    "- Every **Iterator** is also and **Iterable**\n",
    "- Not all **Iterables** are **Iterators**"
   ]
  },
  {
   "cell_type": "markdown",
   "id": "9c4c52a7",
   "metadata": {},
   "source": [
    "## Trick\n",
    "- Every Iterable has an **iter function**\n",
    "- Every Iterator has both **iter function** as well as a **next function**"
   ]
  },
  {
   "cell_type": "code",
   "execution_count": null,
   "id": "802be65a",
   "metadata": {},
   "outputs": [
    {
     "data": {
      "text/plain": [
       "['__abs__',\n",
       " '__add__',\n",
       " '__and__',\n",
       " '__bool__',\n",
       " '__ceil__',\n",
       " '__class__',\n",
       " '__delattr__',\n",
       " '__dir__',\n",
       " '__divmod__',\n",
       " '__doc__',\n",
       " '__eq__',\n",
       " '__float__',\n",
       " '__floor__',\n",
       " '__floordiv__',\n",
       " '__format__',\n",
       " '__ge__',\n",
       " '__getattribute__',\n",
       " '__getnewargs__',\n",
       " '__gt__',\n",
       " '__hash__',\n",
       " '__index__',\n",
       " '__init__',\n",
       " '__init_subclass__',\n",
       " '__int__',\n",
       " '__invert__',\n",
       " '__le__',\n",
       " '__lshift__',\n",
       " '__lt__',\n",
       " '__mod__',\n",
       " '__mul__',\n",
       " '__ne__',\n",
       " '__neg__',\n",
       " '__new__',\n",
       " '__or__',\n",
       " '__pos__',\n",
       " '__pow__',\n",
       " '__radd__',\n",
       " '__rand__',\n",
       " '__rdivmod__',\n",
       " '__reduce__',\n",
       " '__reduce_ex__',\n",
       " '__repr__',\n",
       " '__rfloordiv__',\n",
       " '__rlshift__',\n",
       " '__rmod__',\n",
       " '__rmul__',\n",
       " '__ror__',\n",
       " '__round__',\n",
       " '__rpow__',\n",
       " '__rrshift__',\n",
       " '__rshift__',\n",
       " '__rsub__',\n",
       " '__rtruediv__',\n",
       " '__rxor__',\n",
       " '__setattr__',\n",
       " '__sizeof__',\n",
       " '__str__',\n",
       " '__sub__',\n",
       " '__subclasshook__',\n",
       " '__truediv__',\n",
       " '__trunc__',\n",
       " '__xor__',\n",
       " 'as_integer_ratio',\n",
       " 'bit_length',\n",
       " 'conjugate',\n",
       " 'denominator',\n",
       " 'from_bytes',\n",
       " 'imag',\n",
       " 'numerator',\n",
       " 'real',\n",
       " 'to_bytes']"
      ]
     },
     "execution_count": 35,
     "metadata": {},
     "output_type": "execute_result"
    }
   ],
   "source": [
    "a = 2\n",
    "a\n",
    "\n",
    "#for i in a:\n",
    "    #print(i)\n",
    "    \n",
    "dir(a)"
   ]
  },
  {
   "cell_type": "code",
   "execution_count": null,
   "id": "2daf8b0a",
   "metadata": {},
   "outputs": [
    {
     "data": {
      "text/plain": [
       "['__class__',\n",
       " '__contains__',\n",
       " '__delattr__',\n",
       " '__delitem__',\n",
       " '__dir__',\n",
       " '__doc__',\n",
       " '__eq__',\n",
       " '__format__',\n",
       " '__ge__',\n",
       " '__getattribute__',\n",
       " '__getitem__',\n",
       " '__gt__',\n",
       " '__hash__',\n",
       " '__init__',\n",
       " '__init_subclass__',\n",
       " '__iter__',\n",
       " '__le__',\n",
       " '__len__',\n",
       " '__lt__',\n",
       " '__ne__',\n",
       " '__new__',\n",
       " '__reduce__',\n",
       " '__reduce_ex__',\n",
       " '__repr__',\n",
       " '__reversed__',\n",
       " '__setattr__',\n",
       " '__setitem__',\n",
       " '__sizeof__',\n",
       " '__str__',\n",
       " '__subclasshook__',\n",
       " 'clear',\n",
       " 'copy',\n",
       " 'fromkeys',\n",
       " 'get',\n",
       " 'items',\n",
       " 'keys',\n",
       " 'pop',\n",
       " 'popitem',\n",
       " 'setdefault',\n",
       " 'update',\n",
       " 'values']"
      ]
     },
     "execution_count": 38,
     "metadata": {},
     "output_type": "execute_result"
    }
   ],
   "source": [
    "T = {1:2,3:4}\n",
    "dir(T)"
   ]
  },
  {
   "cell_type": "code",
   "execution_count": null,
   "id": "7468f8bf",
   "metadata": {},
   "outputs": [
    {
     "data": {
      "text/plain": [
       "['__class__',\n",
       " '__delattr__',\n",
       " '__dir__',\n",
       " '__doc__',\n",
       " '__eq__',\n",
       " '__format__',\n",
       " '__ge__',\n",
       " '__getattribute__',\n",
       " '__gt__',\n",
       " '__hash__',\n",
       " '__init__',\n",
       " '__init_subclass__',\n",
       " '__iter__',\n",
       " '__le__',\n",
       " '__length_hint__',\n",
       " '__lt__',\n",
       " '__ne__',\n",
       " '__new__',\n",
       " '__next__',\n",
       " '__reduce__',\n",
       " '__reduce_ex__',\n",
       " '__repr__',\n",
       " '__setattr__',\n",
       " '__setstate__',\n",
       " '__sizeof__',\n",
       " '__str__',\n",
       " '__subclasshook__']"
      ]
     },
     "execution_count": 41,
     "metadata": {},
     "output_type": "execute_result"
    }
   ],
   "source": [
    "L = [1,2,3]\n",
    "\n",
    "# L is not an iterator\n",
    "iter_L = iter(L)\n",
    "\n",
    "# iter_L is an iterator"
   ]
  },
  {
   "cell_type": "markdown",
   "id": "5f02c4b7",
   "metadata": {},
   "source": [
    "## Understanding how for loop works"
   ]
  },
  {
   "cell_type": "code",
   "execution_count": null,
   "id": "8b518b08",
   "metadata": {},
   "outputs": [
    {
     "name": "stdout",
     "output_type": "stream",
     "text": [
      "1\n",
      "2\n",
      "3\n"
     ]
    }
   ],
   "source": [
    "num = [1,2,3]\n",
    "\n",
    "for i in num:\n",
    "    print(i)"
   ]
  },
  {
   "cell_type": "code",
   "execution_count": null,
   "id": "39b29b96",
   "metadata": {},
   "outputs": [
    {
     "data": {
      "text/plain": [
       "['__add__',\n",
       " '__class__',\n",
       " '__class_getitem__',\n",
       " '__contains__',\n",
       " '__delattr__',\n",
       " '__delitem__',\n",
       " '__dir__',\n",
       " '__doc__',\n",
       " '__eq__',\n",
       " '__format__',\n",
       " '__ge__',\n",
       " '__getattribute__',\n",
       " '__getitem__',\n",
       " '__getstate__',\n",
       " '__gt__',\n",
       " '__hash__',\n",
       " '__iadd__',\n",
       " '__imul__',\n",
       " '__init__',\n",
       " '__init_subclass__',\n",
       " '__iter__',\n",
       " '__le__',\n",
       " '__len__',\n",
       " '__lt__',\n",
       " '__mul__',\n",
       " '__ne__',\n",
       " '__new__',\n",
       " '__reduce__',\n",
       " '__reduce_ex__',\n",
       " '__repr__',\n",
       " '__reversed__',\n",
       " '__rmul__',\n",
       " '__setattr__',\n",
       " '__setitem__',\n",
       " '__sizeof__',\n",
       " '__str__',\n",
       " '__subclasshook__',\n",
       " 'append',\n",
       " 'clear',\n",
       " 'copy',\n",
       " 'count',\n",
       " 'extend',\n",
       " 'index',\n",
       " 'insert',\n",
       " 'pop',\n",
       " 'remove',\n",
       " 'reverse',\n",
       " 'sort']"
      ]
     },
     "execution_count": 3,
     "metadata": {},
     "output_type": "execute_result"
    }
   ],
   "source": [
    "num = [1,2,3]\n",
    "dir(num)"
   ]
  },
  {
   "cell_type": "code",
   "execution_count": null,
   "id": "bfb4f98d",
   "metadata": {},
   "outputs": [],
   "source": [
    "num = [1,2,3]\n",
    "# dir(num)\n",
    "\n",
    "\n",
    "# fetch the iterator\n",
    "iter_num = iter(num)\n"
   ]
  },
  {
   "cell_type": "code",
   "execution_count": null,
   "id": "f17d7db4",
   "metadata": {},
   "outputs": [
    {
     "ename": "StopIteration",
     "evalue": "",
     "output_type": "error",
     "traceback": [
      "\u001b[31m---------------------------------------------------------------------------\u001b[39m",
      "\u001b[31mStopIteration\u001b[39m                             Traceback (most recent call last)",
      "\u001b[36mCell\u001b[39m\u001b[36m \u001b[39m\u001b[32mIn[10]\u001b[39m\u001b[32m, line 3\u001b[39m\n\u001b[32m      1\u001b[39m \u001b[38;5;66;03m# print(dir(iter_num))\u001b[39;00m\n\u001b[32m      2\u001b[39m \u001b[38;5;66;03m# # step2 --> next\u001b[39;00m\n\u001b[32m----> \u001b[39m\u001b[32m3\u001b[39m \u001b[38;5;28;43mnext\u001b[39;49m\u001b[43m(\u001b[49m\u001b[43miter_num\u001b[49m\u001b[43m)\u001b[49m\n",
      "\u001b[31mStopIteration\u001b[39m: "
     ]
    }
   ],
   "source": [
    "# print(dir(iter_num))\n",
    "# # step2 --> next\n",
    "next(iter_num)\n"
   ]
  },
  {
   "cell_type": "markdown",
   "id": "e35d6e87",
   "metadata": {},
   "source": [
    "## Making our own for loop"
   ]
  },
  {
   "cell_type": "code",
   "execution_count": null,
   "id": "7822da8e",
   "metadata": {},
   "outputs": [],
   "source": [
    "def mera_khudka_for_loop(iterable):\n",
    "    \n",
    "    iterator = iter(iterable)\n",
    "    \n",
    "    while True:\n",
    "        \n",
    "        try:\n",
    "            print(next(iterator))\n",
    "        except StopIteration:\n",
    "            break           "
   ]
  },
  {
   "cell_type": "code",
   "execution_count": null,
   "id": "68a428be",
   "metadata": {},
   "outputs": [],
   "source": [
    "a = [1,2,3] #list\n",
    "b = range(1,11)\n",
    "c = (1,2,3) #tuple\n",
    "d = {1,2,3} #set\n",
    "e = {0:1,1:1} #dictionary\n",
    "\n",
    "# mera_khudka_for_loop(e)"
   ]
  },
  {
   "cell_type": "code",
   "execution_count": null,
   "id": "5441de3e",
   "metadata": {},
   "outputs": [
    {
     "name": "stdout",
     "output_type": "stream",
     "text": [
      "0\n",
      "1\n"
     ]
    }
   ],
   "source": [
    "mera_khudka_for_loop(e)"
   ]
  },
  {
   "cell_type": "markdown",
   "id": "81a3e616",
   "metadata": {},
   "source": [
    "## A confusing point"
   ]
  },
  {
   "cell_type": "code",
   "execution_count": null,
   "id": "269d3c83",
   "metadata": {},
   "outputs": [
    {
     "name": "stdout",
     "output_type": "stream",
     "text": [
      "2280889893936 Address of iterator 1\n",
      "2280889893936 Address of iterator 2\n"
     ]
    }
   ],
   "source": [
    "num = [1,2,3]\n",
    "iter_obj = iter(num)\n",
    "\n",
    "print(id(iter_obj),'Address of iterator 1')\n",
    "\n",
    "iter_obj2 = iter(iter_obj)\n",
    "print(id(iter_obj2),'Address of iterator 2')"
   ]
  },
  {
   "cell_type": "markdown",
   "id": "051af6bc",
   "metadata": {},
   "source": [
    "## Let's create our own range() function"
   ]
  },
  {
   "cell_type": "code",
   "execution_count": null,
   "id": "6cbf5433",
   "metadata": {},
   "outputs": [],
   "source": [
    "kashan = Person()"
   ]
  },
  {
   "cell_type": "code",
   "execution_count": null,
   "id": "7eaf1228",
   "metadata": {},
   "outputs": [],
   "source": [
    "class mera_range:\n",
    "    \n",
    "    def __init__(self,start,end):\n",
    "        self.start = start\n",
    "        self.end = end\n",
    "        \n",
    "    def __iter__(self):\n",
    "        return mera_range_iterator(self) #object"
   ]
  },
  {
   "cell_type": "code",
   "execution_count": null,
   "id": "28118f2d",
   "metadata": {},
   "outputs": [],
   "source": [
    "class mera_range_iterator:\n",
    "    \n",
    "    def __init__(self,iterable_obj):\n",
    "        self.iterable = iterable_obj\n",
    "    \n",
    "    def __iter__(self):\n",
    "        return self\n",
    "    \n",
    "    def __next__(self):\n",
    "        \n",
    "        if self.iterable.start >= self.iterable.end:\n",
    "            raise StopIteration\n",
    "            \n",
    "        current = self.iterable.start\n",
    "        current+=1\n",
    "        return current"
   ]
  },
  {
   "cell_type": "code",
   "execution_count": 30,
   "id": "ee7fbe73",
   "metadata": {},
   "outputs": [
    {
     "data": {
      "text/plain": [
       "range"
      ]
     },
     "execution_count": 30,
     "metadata": {},
     "output_type": "execute_result"
    }
   ],
   "source": [
    "x = range(1,11)\n",
    "type(x)"
   ]
  },
  {
   "cell_type": "code",
   "execution_count": 34,
   "id": "142c0b98",
   "metadata": {},
   "outputs": [],
   "source": [
    "y = mera_range(1,11)"
   ]
  },
  {
   "cell_type": "code",
   "execution_count": 37,
   "id": "8e742864",
   "metadata": {},
   "outputs": [],
   "source": [
    "z = iter(y)"
   ]
  },
  {
   "cell_type": "code",
   "execution_count": 49,
   "id": "95380d0b",
   "metadata": {},
   "outputs": [
    {
     "ename": "StopIteration",
     "evalue": "",
     "output_type": "error",
     "traceback": [
      "\u001b[31m---------------------------------------------------------------------------\u001b[39m",
      "\u001b[31mStopIteration\u001b[39m                             Traceback (most recent call last)",
      "\u001b[36mCell\u001b[39m\u001b[36m \u001b[39m\u001b[32mIn[49]\u001b[39m\u001b[32m, line 1\u001b[39m\n\u001b[32m----> \u001b[39m\u001b[32m1\u001b[39m \u001b[38;5;28;43mnext\u001b[39;49m\u001b[43m(\u001b[49m\u001b[43mz\u001b[49m\u001b[43m)\u001b[49m\n",
      "\u001b[36mCell\u001b[39m\u001b[36m \u001b[39m\u001b[32mIn[21]\u001b[39m\u001b[32m, line 12\u001b[39m, in \u001b[36mmera_range_iterator.__next__\u001b[39m\u001b[34m(self)\u001b[39m\n\u001b[32m      9\u001b[39m \u001b[38;5;28;01mdef\u001b[39;00m\u001b[38;5;250m \u001b[39m\u001b[34m__next__\u001b[39m(\u001b[38;5;28mself\u001b[39m):\n\u001b[32m     11\u001b[39m     \u001b[38;5;28;01mif\u001b[39;00m \u001b[38;5;28mself\u001b[39m.iterable.start >= \u001b[38;5;28mself\u001b[39m.iterable.end:\n\u001b[32m---> \u001b[39m\u001b[32m12\u001b[39m         \u001b[38;5;28;01mraise\u001b[39;00m \u001b[38;5;167;01mStopIteration\u001b[39;00m\n\u001b[32m     14\u001b[39m     current = \u001b[38;5;28mself\u001b[39m.iterable.start\n\u001b[32m     15\u001b[39m     \u001b[38;5;28mself\u001b[39m.iterable.start+=\u001b[32m1\u001b[39m\n",
      "\u001b[31mStopIteration\u001b[39m: "
     ]
    }
   ],
   "source": [
    "next(z)"
   ]
  }
 ],
 "metadata": {
  "kernelspec": {
   "display_name": "Python 3",
   "language": "python",
   "name": "python3"
  },
  "language_info": {
   "codemirror_mode": {
    "name": "ipython",
    "version": 3
   },
   "file_extension": ".py",
   "mimetype": "text/x-python",
   "name": "python",
   "nbconvert_exporter": "python",
   "pygments_lexer": "ipython3",
   "version": "3.13.3"
  }
 },
 "nbformat": 4,
 "nbformat_minor": 5
}
