{
 "cells": [
  {
   "cell_type": "code",
   "execution_count": 2,
   "id": "c9937a38-dede-437f-b611-ae72783c82ab",
   "metadata": {},
   "outputs": [
    {
     "data": {
      "text/plain": [
       "[100, 'a', 100, 116, 105, 117, 121]"
      ]
     },
     "execution_count": 2,
     "metadata": {},
     "output_type": "execute_result"
    }
   ],
   "source": [
    "in_put = [100,100,116,105,117,121]\n",
    "in_put[1:1] = 'a'\n",
    "in_put"
   ]
  },
  {
   "cell_type": "code",
   "execution_count": 3,
   "id": "ac989bb6-67f8-4e48-848b-cf271827f6a4",
   "metadata": {},
   "outputs": [],
   "source": [
    "def is_vow(inp):\n",
    "    vowel = ['a', 'e', 'i', 'o', 'u']\n",
    "    for num in inp:\n",
    "        if chr(num) in vowel:\n",
    "            vowel_index = vowel.index(chr(num))\n",
    "            char = vowel[vowel_index]\n",
    "\n",
    "            number_index = inp.index(num)\n",
    "            inp[number_index] = char\n",
    "    return inp\n",
    "\n",
    "def is_vow(inp):\n",
    "    return [chr(n) if chr(n) in \"aeiou\" else n for n in inp]\n",
    "\n",
    "def is_vow(inp):\n",
    "    result = []\n",
    "    for n in inp:\n",
    "        if chr(n) in 'aeiou':\n",
    "            result.append(chr(n))\n",
    "        else:\n",
    "            result.append(n)\n",
    "    return result"
   ]
  },
  {
   "cell_type": "code",
   "execution_count": 4,
   "id": "11c7d245-8fab-4e71-b002-d77e8a2e1a7a",
   "metadata": {},
   "outputs": [
    {
     "data": {
      "text/plain": [
       "[100, 100, 116, 'i', 'u', 121]"
      ]
     },
     "execution_count": 4,
     "metadata": {},
     "output_type": "execute_result"
    }
   ],
   "source": [
    "is_vow([100,100,116,105,117,121])"
   ]
  },
  {
   "cell_type": "code",
   "execution_count": 5,
   "id": "a1caa32f-1b0a-473f-a034-a0b050cf55e5",
   "metadata": {},
   "outputs": [
    {
     "data": {
      "text/plain": [
       "True"
      ]
     },
     "execution_count": 5,
     "metadata": {},
     "output_type": "execute_result"
    }
   ],
   "source": [
    "'a' in ('a', 'e', 'i', 'o', 'u')"
   ]
  },
  {
   "cell_type": "code",
   "execution_count": null,
   "id": "ad0034e0-82ee-451f-8e53-77ccf69e4604",
   "metadata": {},
   "outputs": [],
   "source": []
  }
 ],
 "metadata": {
  "kernelspec": {
   "display_name": "Python 3 (ipykernel)",
   "language": "python",
   "name": "python3"
  },
  "language_info": {
   "codemirror_mode": {
    "name": "ipython",
    "version": 3
   },
   "file_extension": ".py",
   "mimetype": "text/x-python",
   "name": "python",
   "nbconvert_exporter": "python",
   "pygments_lexer": "ipython3",
   "version": "3.11.7"
  }
 },
 "nbformat": 4,
 "nbformat_minor": 5
}
