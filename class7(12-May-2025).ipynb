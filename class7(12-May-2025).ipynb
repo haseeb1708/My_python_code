{
 "cells": [
  {
   "cell_type": "code",
   "execution_count": 47,
   "id": "83303039-ec31-4328-bc70-03084d7187ac",
   "metadata": {},
   "outputs": [],
   "source": [
    "groceries = ['bread', 'egg', 'milk', 'yogurt', 'egg']"
   ]
  },
  {
   "cell_type": "code",
   "execution_count": 48,
   "id": "90ed04e2-41ff-4f1a-8b55-e942c959a621",
   "metadata": {},
   "outputs": [
    {
     "data": {
      "text/plain": [
       "1"
      ]
     },
     "execution_count": 48,
     "metadata": {},
     "output_type": "execute_result"
    }
   ],
   "source": [
    "groceries.index('egg')"
   ]
  },
  {
   "cell_type": "code",
   "execution_count": 49,
   "id": "0b9b1bd8-8191-4e7c-98ee-fc56f6a09696",
   "metadata": {},
   "outputs": [],
   "source": [
    "groceries.remove('egg')"
   ]
  },
  {
   "cell_type": "code",
   "execution_count": 50,
   "id": "011690da-391d-46a1-a455-0a747c0d92cd",
   "metadata": {},
   "outputs": [
    {
     "data": {
      "text/plain": [
       "['bread', 'milk', 'yogurt', 'egg']"
      ]
     },
     "execution_count": 50,
     "metadata": {},
     "output_type": "execute_result"
    }
   ],
   "source": [
    "groceries"
   ]
  },
  {
   "cell_type": "raw",
   "id": "bed18e65-1a8b-4f16-9352-9785109e3d52",
   "metadata": {},
   "source": [
    "del groceries[2]"
   ]
  },
  {
   "cell_type": "code",
   "execution_count": 51,
   "id": "96f15298-674f-456b-8c95-4b9cad1e6b01",
   "metadata": {},
   "outputs": [
    {
     "data": {
      "text/plain": [
       "['bread', 'milk', 'yogurt', 'egg']"
      ]
     },
     "execution_count": 51,
     "metadata": {},
     "output_type": "execute_result"
    }
   ],
   "source": [
    "groceries"
   ]
  },
  {
   "cell_type": "code",
   "execution_count": 52,
   "id": "a338ea40-0057-4c38-b077-a232efa86b8d",
   "metadata": {},
   "outputs": [
    {
     "data": {
      "text/plain": [
       "'egg'"
      ]
     },
     "execution_count": 52,
     "metadata": {},
     "output_type": "execute_result"
    }
   ],
   "source": [
    "groceries.pop()"
   ]
  },
  {
   "cell_type": "code",
   "execution_count": 59,
   "id": "53f993f9-45be-4b3e-bd62-53ecaf29c9d5",
   "metadata": {},
   "outputs": [],
   "source": [
    "cities = ['Karachi', 'Lahore', 'Quetta','Multan']"
   ]
  },
  {
   "cell_type": "code",
   "execution_count": 60,
   "id": "c8c76d4b-fa42-4a20-9064-27ffb91a7c39",
   "metadata": {},
   "outputs": [
    {
     "data": {
      "text/plain": [
       "'Lahore'"
      ]
     },
     "execution_count": 60,
     "metadata": {},
     "output_type": "execute_result"
    }
   ],
   "source": [
    "cities.pop(1)"
   ]
  },
  {
   "cell_type": "code",
   "execution_count": 61,
   "id": "9c92f35d-d712-4830-afa5-49ed6ed622d6",
   "metadata": {},
   "outputs": [
    {
     "data": {
      "text/plain": [
       "['Karachi', 'Quetta', 'Multan']"
      ]
     },
     "execution_count": 61,
     "metadata": {},
     "output_type": "execute_result"
    }
   ],
   "source": [
    "cities"
   ]
  },
  {
   "cell_type": "code",
   "execution_count": null,
   "id": "73101a46-fba1-46d1-9ed8-09109e80c04d",
   "metadata": {},
   "outputs": [],
   "source": [
    "cities.count('')"
   ]
  },
  {
   "cell_type": "code",
   "execution_count": 62,
   "id": "ed88e214-b411-49f5-9928-a37767dd43af",
   "metadata": {},
   "outputs": [],
   "source": [
    "groceries = ['bread', 'egg', 'milk', 'yogurt', 'egg']"
   ]
  },
  {
   "cell_type": "code",
   "execution_count": 63,
   "id": "ecfc3e48-b893-45a1-b2a0-add3e49f53af",
   "metadata": {},
   "outputs": [
    {
     "data": {
      "text/plain": [
       "2"
      ]
     },
     "execution_count": 63,
     "metadata": {},
     "output_type": "execute_result"
    }
   ],
   "source": [
    "groceries.count('egg')"
   ]
  },
  {
   "cell_type": "code",
   "execution_count": 64,
   "id": "e0b74250-b645-4fc0-afcc-fff4a83c2125",
   "metadata": {},
   "outputs": [],
   "source": [
    "char = ['A','B','C','D']"
   ]
  },
  {
   "cell_type": "code",
   "execution_count": 65,
   "id": "ca25f228-e62e-441e-8b16-e4628c15393b",
   "metadata": {},
   "outputs": [],
   "source": [
    "char.reverse()"
   ]
  },
  {
   "cell_type": "code",
   "execution_count": 66,
   "id": "cb5b4420-8857-4bbb-a439-3aeb3de0e8d5",
   "metadata": {},
   "outputs": [
    {
     "data": {
      "text/plain": [
       "['D', 'C', 'B', 'A']"
      ]
     },
     "execution_count": 66,
     "metadata": {},
     "output_type": "execute_result"
    }
   ],
   "source": [
    "char"
   ]
  },
  {
   "cell_type": "code",
   "execution_count": 67,
   "id": "cb6f8c72-6ec3-4858-b2aa-d4fdfe8c314c",
   "metadata": {},
   "outputs": [],
   "source": [
    "char = ['A','B','D','C']"
   ]
  },
  {
   "cell_type": "code",
   "execution_count": 68,
   "id": "8edbe364-42fc-4086-9a48-031c8dd3fccb",
   "metadata": {},
   "outputs": [],
   "source": [
    "char.reverse()"
   ]
  },
  {
   "cell_type": "code",
   "execution_count": 69,
   "id": "cb54c7cd-4e1f-4cff-9b45-8251b16a1a25",
   "metadata": {},
   "outputs": [
    {
     "data": {
      "text/plain": [
       "['C', 'D', 'B', 'A']"
      ]
     },
     "execution_count": 69,
     "metadata": {},
     "output_type": "execute_result"
    }
   ],
   "source": [
    "char"
   ]
  },
  {
   "cell_type": "code",
   "execution_count": 70,
   "id": "47e2e21f-ff2d-4723-acbd-b56580ccfae0",
   "metadata": {},
   "outputs": [],
   "source": [
    "char.sort()"
   ]
  },
  {
   "cell_type": "code",
   "execution_count": 71,
   "id": "f69946c0-11dc-4034-8b80-ac30d834e177",
   "metadata": {},
   "outputs": [
    {
     "data": {
      "text/plain": [
       "['A', 'B', 'C', 'D']"
      ]
     },
     "execution_count": 71,
     "metadata": {},
     "output_type": "execute_result"
    }
   ],
   "source": [
    "char"
   ]
  },
  {
   "cell_type": "code",
   "execution_count": 72,
   "id": "38f0ce9b-b648-420d-a458-a85df1f8ef3e",
   "metadata": {},
   "outputs": [],
   "source": [
    "char.reverse()"
   ]
  },
  {
   "cell_type": "code",
   "execution_count": 73,
   "id": "96ceb28c-d2f2-4173-8957-abe3147437f0",
   "metadata": {},
   "outputs": [
    {
     "data": {
      "text/plain": [
       "['D', 'C', 'B', 'A']"
      ]
     },
     "execution_count": 73,
     "metadata": {},
     "output_type": "execute_result"
    }
   ],
   "source": [
    "char"
   ]
  },
  {
   "cell_type": "code",
   "execution_count": 74,
   "id": "1d603dfa-9bbc-4582-80ec-9fb2f59f2b25",
   "metadata": {},
   "outputs": [],
   "source": [
    "char = ['E','C','D','B','A']"
   ]
  },
  {
   "cell_type": "code",
   "execution_count": 75,
   "id": "68cd2a0e-c3a2-4a42-85e7-86215baa66dd",
   "metadata": {},
   "outputs": [],
   "source": [
    "char.reverse()"
   ]
  },
  {
   "cell_type": "code",
   "execution_count": 76,
   "id": "5f5c5b39-ccd7-493b-9ff0-7694bd1c67d8",
   "metadata": {},
   "outputs": [
    {
     "data": {
      "text/plain": [
       "['A', 'B', 'D', 'C', 'E']"
      ]
     },
     "execution_count": 76,
     "metadata": {},
     "output_type": "execute_result"
    }
   ],
   "source": [
    "char"
   ]
  },
  {
   "cell_type": "code",
   "execution_count": 77,
   "id": "32a8dda2-7221-4ac6-bbcc-d3bedea779b2",
   "metadata": {},
   "outputs": [],
   "source": [
    "char.sort()"
   ]
  },
  {
   "cell_type": "code",
   "execution_count": 78,
   "id": "8730ae21-0cc9-49d4-9550-52406c3af420",
   "metadata": {},
   "outputs": [
    {
     "data": {
      "text/plain": [
       "['A', 'B', 'C', 'D', 'E']"
      ]
     },
     "execution_count": 78,
     "metadata": {},
     "output_type": "execute_result"
    }
   ],
   "source": [
    "char"
   ]
  },
  {
   "cell_type": "code",
   "execution_count": 79,
   "id": "77d7e574-d20d-4f4f-8e45-71b4e70a893d",
   "metadata": {},
   "outputs": [],
   "source": []
  },
  {
   "cell_type": "code",
   "execution_count": 82,
   "id": "396e7553-fb31-4025-a842-a65469560c0a",
   "metadata": {},
   "outputs": [],
   "source": [
    "char = ['E','D','C','B','A']"
   ]
  },
  {
   "cell_type": "code",
   "execution_count": 85,
   "id": "6d0c516b-8e66-4e80-8fea-a482461f1a67",
   "metadata": {},
   "outputs": [],
   "source": [
    "char.sort(reverse=True)"
   ]
  },
  {
   "cell_type": "code",
   "execution_count": 87,
   "id": "ea2ae34d-fb66-4d5f-843e-a94944eceda3",
   "metadata": {},
   "outputs": [
    {
     "data": {
      "text/plain": [
       "['E', 'D', 'C', 'B', 'A']"
      ]
     },
     "execution_count": 87,
     "metadata": {},
     "output_type": "execute_result"
    }
   ],
   "source": [
    "char"
   ]
  },
  {
   "cell_type": "code",
   "execution_count": 88,
   "id": "6c12749e-020d-450b-ab4d-7c170f6cf781",
   "metadata": {},
   "outputs": [],
   "source": [
    "string = 'Pakistan'"
   ]
  },
  {
   "cell_type": "code",
   "execution_count": 91,
   "id": "1599cee5-6bdb-44a2-b89d-42c91d9756d1",
   "metadata": {},
   "outputs": [
    {
     "data": {
      "text/plain": [
       "['Pak', 'tan']"
      ]
     },
     "execution_count": 91,
     "metadata": {},
     "output_type": "execute_result"
    }
   ],
   "source": [
    "string.split('is')"
   ]
  },
  {
   "cell_type": "code",
   "execution_count": 92,
   "id": "8eb8bff5-ca1a-4518-94af-703881b83a2c",
   "metadata": {},
   "outputs": [],
   "source": [
    "phone = '999-222-223'"
   ]
  },
  {
   "cell_type": "code",
   "execution_count": 96,
   "id": "453d3941-309b-4e47-83d8-fa7475ff740f",
   "metadata": {},
   "outputs": [],
   "source": [
    "new_list = phone.split('-')"
   ]
  },
  {
   "cell_type": "code",
   "execution_count": 97,
   "id": "2f98836b-f45b-42af-b275-97c4a6784157",
   "metadata": {},
   "outputs": [
    {
     "data": {
      "text/plain": [
       "['999', '222', '223']"
      ]
     },
     "execution_count": 97,
     "metadata": {},
     "output_type": "execute_result"
    }
   ],
   "source": [
    "new_list"
   ]
  },
  {
   "cell_type": "code",
   "execution_count": 103,
   "id": "0a136151-eaac-47ef-8377-ee563de3b546",
   "metadata": {},
   "outputs": [],
   "source": [
    "number = '12345'"
   ]
  },
  {
   "cell_type": "code",
   "execution_count": 104,
   "id": "4292606b-057b-411e-9420-782b4fe96c71",
   "metadata": {},
   "outputs": [
    {
     "data": {
      "text/plain": [
       "['12', '45']"
      ]
     },
     "execution_count": 104,
     "metadata": {},
     "output_type": "execute_result"
    }
   ],
   "source": [
    "number.split('3')"
   ]
  },
  {
   "cell_type": "code",
   "execution_count": 107,
   "id": "6b9f2b9e-c184-47a6-bda3-2e2bee8748d0",
   "metadata": {},
   "outputs": [],
   "source": [
    "number = '123345'"
   ]
  },
  {
   "cell_type": "code",
   "execution_count": 108,
   "id": "8d9363a4-f5d9-4509-af45-2c56dd91d9fd",
   "metadata": {},
   "outputs": [
    {
     "data": {
      "text/plain": [
       "['12', '', '45']"
      ]
     },
     "execution_count": 108,
     "metadata": {},
     "output_type": "execute_result"
    }
   ],
   "source": [
    "number.split('3')"
   ]
  },
  {
   "cell_type": "code",
   "execution_count": 109,
   "id": "926544cb-e695-4fe9-8dc9-bbc29d30dd1a",
   "metadata": {},
   "outputs": [],
   "source": [
    "number = '1233345'"
   ]
  },
  {
   "cell_type": "code",
   "execution_count": 110,
   "id": "816b3aa3-4db0-4fe8-bdfd-700c23b2a2ba",
   "metadata": {},
   "outputs": [
    {
     "data": {
      "text/plain": [
       "['12', '', '', '45']"
      ]
     },
     "execution_count": 110,
     "metadata": {},
     "output_type": "execute_result"
    }
   ],
   "source": [
    "number.split('3')"
   ]
  },
  {
   "cell_type": "code",
   "execution_count": 111,
   "id": "fd1de125-8d69-4cf7-80b8-ae2fa0f1bc23",
   "metadata": {},
   "outputs": [],
   "source": [
    "number = '123#543#345'"
   ]
  },
  {
   "cell_type": "code",
   "execution_count": 113,
   "id": "d29c7486-e039-407a-aa47-e45d38052a0b",
   "metadata": {},
   "outputs": [],
   "source": [
    "new_list = number.split('#')"
   ]
  },
  {
   "cell_type": "code",
   "execution_count": 114,
   "id": "81c3182a-7cd1-450c-893d-a91888a2e071",
   "metadata": {},
   "outputs": [
    {
     "data": {
      "text/plain": [
       "['123', '543', '345']"
      ]
     },
     "execution_count": 114,
     "metadata": {},
     "output_type": "execute_result"
    }
   ],
   "source": [
    "new_list"
   ]
  },
  {
   "cell_type": "code",
   "execution_count": 115,
   "id": "3cd0d6af-a100-43fd-b8c2-4a06694cf692",
   "metadata": {},
   "outputs": [
    {
     "data": {
      "text/plain": [
       "'123#543#345'"
      ]
     },
     "execution_count": 115,
     "metadata": {},
     "output_type": "execute_result"
    }
   ],
   "source": [
    "'#'.join(new_list)"
   ]
  },
  {
   "cell_type": "code",
   "execution_count": 116,
   "id": "15734f8c-41ad-4aac-bb68-87dca5fcc83d",
   "metadata": {},
   "outputs": [],
   "source": [
    "phone = '999-222-223'"
   ]
  },
  {
   "cell_type": "code",
   "execution_count": 117,
   "id": "74668e21-9622-48a7-8c50-36ebc294b724",
   "metadata": {},
   "outputs": [],
   "source": [
    "lst = phone.split('-')"
   ]
  },
  {
   "cell_type": "code",
   "execution_count": 118,
   "id": "76ae7060-76ad-45bc-bcc0-2f804aba3e37",
   "metadata": {},
   "outputs": [
    {
     "data": {
      "text/plain": [
       "['999', '222', '223']"
      ]
     },
     "execution_count": 118,
     "metadata": {},
     "output_type": "execute_result"
    }
   ],
   "source": [
    "lst"
   ]
  },
  {
   "cell_type": "code",
   "execution_count": 120,
   "id": "abf6ac7e-1e81-4c32-a2cf-aca9ce3be835",
   "metadata": {},
   "outputs": [
    {
     "data": {
      "text/plain": [
       "'999-222-223'"
      ]
     },
     "execution_count": 120,
     "metadata": {},
     "output_type": "execute_result"
    }
   ],
   "source": [
    "'-'.join(lst)"
   ]
  },
  {
   "cell_type": "code",
   "execution_count": 121,
   "id": "e7de019e-a6c7-4eb3-9867-17e5203f872c",
   "metadata": {},
   "outputs": [],
   "source": [
    "number = [123,456,890]"
   ]
  },
  {
   "cell_type": "code",
   "execution_count": 122,
   "id": "209d3984-d7eb-45f8-b59f-bfe511bf13b5",
   "metadata": {},
   "outputs": [
    {
     "ename": "TypeError",
     "evalue": "sequence item 0: expected str instance, int found",
     "output_type": "error",
     "traceback": [
      "\u001b[1;31m---------------------------------------------------------------------------\u001b[0m",
      "\u001b[1;31mTypeError\u001b[0m                                 Traceback (most recent call last)",
      "Cell \u001b[1;32mIn[122], line 1\u001b[0m\n\u001b[1;32m----> 1\u001b[0m \u001b[38;5;124m'\u001b[39m\u001b[38;5;124m-\u001b[39m\u001b[38;5;124m'\u001b[39m\u001b[38;5;241m.\u001b[39mjoin(number)\n",
      "\u001b[1;31mTypeError\u001b[0m: sequence item 0: expected str instance, int found"
     ]
    }
   ],
   "source": [
    "'-'.join(number)"
   ]
  },
  {
   "cell_type": "code",
   "execution_count": 134,
   "id": "22a4a346-d130-4539-9313-c1f4aae4f428",
   "metadata": {},
   "outputs": [],
   "source": [
    "cities = ['Karachi','Lahore','Quetta','Multan']"
   ]
  },
  {
   "cell_type": "code",
   "execution_count": 137,
   "id": "e3079123-689f-40c6-96f5-e09f3ae1f696",
   "metadata": {},
   "outputs": [],
   "source": [
    "copy_cities = cities.copy()"
   ]
  },
  {
   "cell_type": "code",
   "execution_count": 138,
   "id": "7d6aa265-08e9-4c6a-93c6-e0e7f96f604b",
   "metadata": {},
   "outputs": [
    {
     "data": {
      "text/plain": [
       "['Karachi', 'Lahore', 'Quetta', 'Multan']"
      ]
     },
     "execution_count": 138,
     "metadata": {},
     "output_type": "execute_result"
    }
   ],
   "source": [
    "copy_cities"
   ]
  },
  {
   "cell_type": "code",
   "execution_count": 139,
   "id": "84dc6d21-c6bf-447e-9f3c-23ee3350098d",
   "metadata": {},
   "outputs": [],
   "source": [
    "cities.append('Dadu')"
   ]
  },
  {
   "cell_type": "code",
   "execution_count": 140,
   "id": "bd0e78db-8a2c-4b78-ab29-c1d7a748b8a3",
   "metadata": {},
   "outputs": [
    {
     "data": {
      "text/plain": [
       "['Karachi', 'Lahore', 'Quetta', 'Multan', 'Dadu']"
      ]
     },
     "execution_count": 140,
     "metadata": {},
     "output_type": "execute_result"
    }
   ],
   "source": [
    "cities"
   ]
  },
  {
   "cell_type": "code",
   "execution_count": 141,
   "id": "066a0eec-3e37-4b23-8938-118508ca4c9a",
   "metadata": {},
   "outputs": [
    {
     "data": {
      "text/plain": [
       "['Karachi', 'Lahore', 'Quetta', 'Multan']"
      ]
     },
     "execution_count": 141,
     "metadata": {},
     "output_type": "execute_result"
    }
   ],
   "source": [
    "copy_cities"
   ]
  },
  {
   "cell_type": "code",
   "execution_count": 142,
   "id": "52fe73f6-7527-4e59-a97b-453e8f5886e2",
   "metadata": {},
   "outputs": [
    {
     "data": {
      "text/plain": [
       "2064738528128"
      ]
     },
     "execution_count": 142,
     "metadata": {},
     "output_type": "execute_result"
    }
   ],
   "source": [
    "id(cities)"
   ]
  },
  {
   "cell_type": "code",
   "execution_count": 143,
   "id": "cb4b19d2-28cc-4dac-89e9-0212e44c9717",
   "metadata": {},
   "outputs": [
    {
     "data": {
      "text/plain": [
       "2064738660736"
      ]
     },
     "execution_count": 143,
     "metadata": {},
     "output_type": "execute_result"
    }
   ],
   "source": [
    "id(copy_cities)"
   ]
  },
  {
   "cell_type": "code",
   "execution_count": 145,
   "id": "58e655fc-013e-4f27-aeda-598eae686687",
   "metadata": {},
   "outputs": [
    {
     "data": {
      "text/plain": [
       "['Karachi', 'Lahore', 'Quetta', 'Multan', 'Dadu']"
      ]
     },
     "execution_count": 145,
     "metadata": {},
     "output_type": "execute_result"
    }
   ],
   "source": [
    "cities"
   ]
  },
  {
   "cell_type": "code",
   "execution_count": 146,
   "id": "49275322-6cb3-44fb-b81f-67470f36c1b9",
   "metadata": {},
   "outputs": [],
   "source": [
    "another_cities = cities"
   ]
  },
  {
   "cell_type": "code",
   "execution_count": 147,
   "id": "c002d4bd-e960-4ff5-8548-2b9efeb8b63b",
   "metadata": {},
   "outputs": [
    {
     "data": {
      "text/plain": [
       "['Karachi', 'Lahore', 'Quetta', 'Multan', 'Dadu']"
      ]
     },
     "execution_count": 147,
     "metadata": {},
     "output_type": "execute_result"
    }
   ],
   "source": [
    "another_cities"
   ]
  },
  {
   "cell_type": "code",
   "execution_count": 152,
   "id": "257ffe12-f0bf-4056-8961-6b2d2b45855c",
   "metadata": {},
   "outputs": [],
   "source": [
    "cities.remove('Dadu')"
   ]
  },
  {
   "cell_type": "code",
   "execution_count": 153,
   "id": "ccf37a4a-9023-4858-b9b1-0d2e3c559abb",
   "metadata": {},
   "outputs": [
    {
     "data": {
      "text/plain": [
       "['Karachi', 'Lahore', 'Quetta', 'Multan']"
      ]
     },
     "execution_count": 153,
     "metadata": {},
     "output_type": "execute_result"
    }
   ],
   "source": [
    "cities"
   ]
  },
  {
   "cell_type": "code",
   "execution_count": 154,
   "id": "c08fe07d-be25-4e48-98ba-05955d6e07f2",
   "metadata": {},
   "outputs": [
    {
     "data": {
      "text/plain": [
       "['Karachi', 'Lahore', 'Quetta', 'Multan']"
      ]
     },
     "execution_count": 154,
     "metadata": {},
     "output_type": "execute_result"
    }
   ],
   "source": [
    "cities"
   ]
  },
  {
   "cell_type": "code",
   "execution_count": 156,
   "id": "edccc21e-632d-4972-b967-11838c172fda",
   "metadata": {},
   "outputs": [],
   "source": [
    "another_cities.remove('Multan')"
   ]
  },
  {
   "cell_type": "code",
   "execution_count": 157,
   "id": "0fb8a440-1029-4b5c-8a20-ca17c41e3cc4",
   "metadata": {},
   "outputs": [
    {
     "data": {
      "text/plain": [
       "['Karachi', 'Lahore', 'Quetta']"
      ]
     },
     "execution_count": 157,
     "metadata": {},
     "output_type": "execute_result"
    }
   ],
   "source": [
    "another_cities"
   ]
  },
  {
   "cell_type": "code",
   "execution_count": 155,
   "id": "11497a31-88a1-4633-97d7-3c7e8bc2ff5b",
   "metadata": {},
   "outputs": [
    {
     "data": {
      "text/plain": [
       "['Karachi', 'Lahore', 'Quetta', 'Multan']"
      ]
     },
     "execution_count": 155,
     "metadata": {},
     "output_type": "execute_result"
    }
   ],
   "source": [
    "another_cities"
   ]
  },
  {
   "cell_type": "code",
   "execution_count": 158,
   "id": "c8a6a470-e9ec-424b-8d8c-397197c281f0",
   "metadata": {},
   "outputs": [
    {
     "data": {
      "text/plain": [
       "['Karachi', 'Lahore', 'Quetta']"
      ]
     },
     "execution_count": 158,
     "metadata": {},
     "output_type": "execute_result"
    }
   ],
   "source": [
    "cities"
   ]
  },
  {
   "cell_type": "code",
   "execution_count": 159,
   "id": "eb7f6af7-69e0-45b3-9e8a-8e81e5e81630",
   "metadata": {},
   "outputs": [
    {
     "data": {
      "text/plain": [
       "['Karachi', 'Lahore', 'Quetta', 'Karachi', 'Lahore', 'Quetta']"
      ]
     },
     "execution_count": 159,
     "metadata": {},
     "output_type": "execute_result"
    }
   ],
   "source": [
    "another_cities + cities"
   ]
  },
  {
   "cell_type": "code",
   "execution_count": null,
   "id": "98f64621-420a-446c-ac9c-fb3f51a6a9ff",
   "metadata": {},
   "outputs": [],
   "source": [
    "Tuple"
   ]
  },
  {
   "cell_type": "code",
   "execution_count": 124,
   "id": "7d36a81b-d044-4a03-aec6-a39d64871f5c",
   "metadata": {},
   "outputs": [],
   "source": [
    "fruits = ('mango','orange','apple')"
   ]
  },
  {
   "cell_type": "code",
   "execution_count": 125,
   "id": "5501bb52-056e-4414-a5d8-9acc47c9d14b",
   "metadata": {},
   "outputs": [
    {
     "data": {
      "text/plain": [
       "'orange'"
      ]
     },
     "execution_count": 125,
     "metadata": {},
     "output_type": "execute_result"
    }
   ],
   "source": [
    "fruits[1]"
   ]
  },
  {
   "cell_type": "code",
   "execution_count": 126,
   "id": "4102b0a7-27d4-4c91-ab0e-e3269fd288b9",
   "metadata": {},
   "outputs": [
    {
     "data": {
      "text/plain": [
       "'apple'"
      ]
     },
     "execution_count": 126,
     "metadata": {},
     "output_type": "execute_result"
    }
   ],
   "source": [
    "fruits[2]"
   ]
  },
  {
   "cell_type": "code",
   "execution_count": 127,
   "id": "5175a8f9-e60a-42d3-b9ef-732140fe56b2",
   "metadata": {},
   "outputs": [
    {
     "data": {
      "text/plain": [
       "('mango', 'orange')"
      ]
     },
     "execution_count": 127,
     "metadata": {},
     "output_type": "execute_result"
    }
   ],
   "source": [
    "fruits[0:2]"
   ]
  },
  {
   "cell_type": "code",
   "execution_count": 128,
   "id": "8bcb8aa7-7381-4660-b546-eb110b8d0390",
   "metadata": {},
   "outputs": [
    {
     "data": {
      "text/plain": [
       "('mango', 'orange', 'apple')"
      ]
     },
     "execution_count": 128,
     "metadata": {},
     "output_type": "execute_result"
    }
   ],
   "source": [
    "fruits[0:3]"
   ]
  },
  {
   "cell_type": "code",
   "execution_count": 129,
   "id": "e71b2b61-d1ba-4cf3-ab25-01413469512c",
   "metadata": {},
   "outputs": [
    {
     "data": {
      "text/plain": [
       "1"
      ]
     },
     "execution_count": 129,
     "metadata": {},
     "output_type": "execute_result"
    }
   ],
   "source": [
    "fruits.count('mango')"
   ]
  },
  {
   "cell_type": "code",
   "execution_count": 130,
   "id": "d490e35b-1e21-4acc-bfce-a134de3851d6",
   "metadata": {},
   "outputs": [
    {
     "data": {
      "text/plain": [
       "1"
      ]
     },
     "execution_count": 130,
     "metadata": {},
     "output_type": "execute_result"
    }
   ],
   "source": [
    "fruits.index('orange')"
   ]
  },
  {
   "cell_type": "code",
   "execution_count": 131,
   "id": "b04c2f34-2235-42c7-a94b-f41d01c1e152",
   "metadata": {},
   "outputs": [],
   "source": [
    "new_fruits = fruits"
   ]
  },
  {
   "cell_type": "code",
   "execution_count": 132,
   "id": "47dd011a-dd0a-4f3b-9dde-c8bbac18723b",
   "metadata": {
    "scrolled": true
   },
   "outputs": [
    {
     "data": {
      "text/plain": [
       "('mango', 'orange', 'apple')"
      ]
     },
     "execution_count": 132,
     "metadata": {},
     "output_type": "execute_result"
    }
   ],
   "source": [
    "fruits"
   ]
  },
  {
   "cell_type": "code",
   "execution_count": 133,
   "id": "3d97a07e-f428-4975-a19a-a6b32295a51c",
   "metadata": {},
   "outputs": [
    {
     "data": {
      "text/plain": [
       "('mango', 'orange', 'apple')"
      ]
     },
     "execution_count": 133,
     "metadata": {},
     "output_type": "execute_result"
    }
   ],
   "source": [
    "new_fruits"
   ]
  },
  {
   "cell_type": "code",
   "execution_count": null,
   "id": "98781f5b-764a-412c-8cd0-cc429c5c5a10",
   "metadata": {},
   "outputs": [],
   "source": []
  }
 ],
 "metadata": {
  "kernelspec": {
   "display_name": "Python 3 (ipykernel)",
   "language": "python",
   "name": "python3"
  },
  "language_info": {
   "codemirror_mode": {
    "name": "ipython",
    "version": 3
   },
   "file_extension": ".py",
   "mimetype": "text/x-python",
   "name": "python",
   "nbconvert_exporter": "python",
   "pygments_lexer": "ipython3",
   "version": "3.11.7"
  }
 },
 "nbformat": 4,
 "nbformat_minor": 5
}
