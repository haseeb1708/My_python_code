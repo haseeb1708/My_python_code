{
 "cells": [
  {
   "cell_type": "code",
   "execution_count": 6,
   "id": "ad13d923-e9a1-4b15-8936-1cd8868ec0db",
   "metadata": {},
   "outputs": [],
   "source": [
    "#list\n",
    "#list['#'.'#']"
   ]
  },
  {
   "cell_type": "code",
   "execution_count": 10,
   "id": "7d240adc-eb45-4fe8-ba0b-2f7670b2c74f",
   "metadata": {},
   "outputs": [],
   "source": [
    "#sets\n",
    "#cities = ['']\n",
    "#tuples\n",
    "#fruites ('')"
   ]
  },
  {
   "cell_type": "code",
   "execution_count": 9,
   "id": "e5467952-30ef-4f70-8f3a-2f5c0e9aeca6",
   "metadata": {},
   "outputs": [],
   "source": [
    "colors = {'orange','green','blue','blue'}"
   ]
  },
  {
   "cell_type": "code",
   "execution_count": 7,
   "id": "6bfd0ded-20c3-45f1-8258-480b10bbdc9f",
   "metadata": {},
   "outputs": [
    {
     "data": {
      "text/plain": [
       "{'blue', 'green', 'orange'}"
      ]
     },
     "execution_count": 7,
     "metadata": {},
     "output_type": "execute_result"
    }
   ],
   "source": [
    "colors"
   ]
  },
  {
   "cell_type": "code",
   "execution_count": null,
   "id": "67830512-e012-420e-921e-ecef90ab91ae",
   "metadata": {},
   "outputs": [],
   "source": [
    "colors."
   ]
  },
  {
   "cell_type": "code",
   "execution_count": 11,
   "id": "c6f3cd26-ec50-4aea-9267-9a363ceba5b6",
   "metadata": {},
   "outputs": [],
   "source": [
    "#dictionary = { 'key':'value'}\n",
    "details = { 'name': 'Ali Khan', 'course': 'Data science', 'batch': 8 }"
   ]
  },
  {
   "cell_type": "code",
   "execution_count": 12,
   "id": "df213f3f-0066-4a65-8c5c-305ed3fd08c6",
   "metadata": {},
   "outputs": [
    {
     "data": {
      "text/plain": [
       "dict"
      ]
     },
     "execution_count": 12,
     "metadata": {},
     "output_type": "execute_result"
    }
   ],
   "source": [
    "type(details)"
   ]
  },
  {
   "cell_type": "code",
   "execution_count": 13,
   "id": "291517a0-516f-4f7e-b871-43ae96d42320",
   "metadata": {},
   "outputs": [],
   "source": [
    "lst = []"
   ]
  },
  {
   "cell_type": "code",
   "execution_count": 14,
   "id": "dcca91db-0441-40bd-98ee-869b072775e5",
   "metadata": {},
   "outputs": [
    {
     "data": {
      "text/plain": [
       "[]"
      ]
     },
     "execution_count": 14,
     "metadata": {},
     "output_type": "execute_result"
    }
   ],
   "source": [
    "lst"
   ]
  },
  {
   "cell_type": "code",
   "execution_count": 15,
   "id": "ebfaadeb-b77d-4540-a309-0f4351259b41",
   "metadata": {},
   "outputs": [],
   "source": [
    "empty_dic = {}"
   ]
  },
  {
   "cell_type": "code",
   "execution_count": 16,
   "id": "4d91e163-c040-4490-b56d-3e891e140543",
   "metadata": {},
   "outputs": [
    {
     "data": {
      "text/plain": [
       "dict"
      ]
     },
     "execution_count": 16,
     "metadata": {},
     "output_type": "execute_result"
    }
   ],
   "source": [
    "type(empty_dic)"
   ]
  },
  {
   "cell_type": "code",
   "execution_count": 18,
   "id": "fc097f51-1b24-4bdc-8c58-5b6b1003bb5d",
   "metadata": {},
   "outputs": [],
   "source": [
    "result = {'English': 90, 'Maths':97, 'Physics': 67, 'computer': 95}"
   ]
  },
  {
   "cell_type": "code",
   "execution_count": 19,
   "id": "8fec79d6-5cb1-4f1a-bb1f-2d4fb1fc22fe",
   "metadata": {},
   "outputs": [
    {
     "data": {
      "text/plain": [
       "{'English': 90, 'Maths': 97, 'Physics': 67, 'computer': 95}"
      ]
     },
     "execution_count": 19,
     "metadata": {},
     "output_type": "execute_result"
    }
   ],
   "source": [
    "result"
   ]
  },
  {
   "cell_type": "code",
   "execution_count": 20,
   "id": "3569fb45-3b44-4d54-989c-5d24ff98faea",
   "metadata": {},
   "outputs": [
    {
     "data": {
      "text/plain": [
       "dict"
      ]
     },
     "execution_count": 20,
     "metadata": {},
     "output_type": "execute_result"
    }
   ],
   "source": [
    "type(result)"
   ]
  },
  {
   "cell_type": "code",
   "execution_count": null,
   "id": "bb667386-3134-4d48-9e95-08e3ead49740",
   "metadata": {},
   "outputs": [],
   "source": [
    "#how to access a value from dictionary"
   ]
  },
  {
   "cell_type": "code",
   "execution_count": 24,
   "id": "a4b977a2-f2c3-49ee-a6d5-93d9502b9036",
   "metadata": {},
   "outputs": [
    {
     "data": {
      "text/plain": [
       "90"
      ]
     },
     "execution_count": 24,
     "metadata": {},
     "output_type": "execute_result"
    }
   ],
   "source": [
    "result['English']"
   ]
  },
  {
   "cell_type": "code",
   "execution_count": 23,
   "id": "63692977-745c-4cf9-b808-bd9bb8e614e9",
   "metadata": {},
   "outputs": [
    {
     "data": {
      "text/plain": [
       "97"
      ]
     },
     "execution_count": 23,
     "metadata": {},
     "output_type": "execute_result"
    }
   ],
   "source": [
    "result['Maths']"
   ]
  },
  {
   "cell_type": "code",
   "execution_count": 26,
   "id": "b900fe6d-46ff-4b1f-9373-f44b707169d1",
   "metadata": {},
   "outputs": [
    {
     "data": {
      "text/plain": [
       "dict_keys(['English', 'Maths', 'Physics', 'computer'])"
      ]
     },
     "execution_count": 26,
     "metadata": {},
     "output_type": "execute_result"
    }
   ],
   "source": [
    "result.keys()"
   ]
  },
  {
   "cell_type": "code",
   "execution_count": 27,
   "id": "ca25406d-85db-4f1a-8524-1c5cf542432f",
   "metadata": {},
   "outputs": [
    {
     "data": {
      "text/plain": [
       "'English'"
      ]
     },
     "execution_count": 27,
     "metadata": {},
     "output_type": "execute_result"
    }
   ],
   "source": [
    "next(iter(result))"
   ]
  },
  {
   "cell_type": "code",
   "execution_count": 28,
   "id": "52de72a8-6400-4b8d-a587-790a7eab8acf",
   "metadata": {},
   "outputs": [
    {
     "data": {
      "text/plain": [
       "dict_keys(['English', 'Maths', 'Physics', 'computer'])"
      ]
     },
     "execution_count": 28,
     "metadata": {},
     "output_type": "execute_result"
    }
   ],
   "source": [
    "result.keys()"
   ]
  },
  {
   "cell_type": "code",
   "execution_count": 29,
   "id": "564eadf4-fc2a-4df4-803d-646836875c82",
   "metadata": {},
   "outputs": [
    {
     "data": {
      "text/plain": [
       "{'English': 90, 'Maths': 97, 'Physics': 67, 'computer': 95}"
      ]
     },
     "execution_count": 29,
     "metadata": {},
     "output_type": "execute_result"
    }
   ],
   "source": [
    "result"
   ]
  },
  {
   "cell_type": "code",
   "execution_count": 30,
   "id": "a8637788-ab98-4612-9d89-1ba1a8ae946c",
   "metadata": {},
   "outputs": [
    {
     "data": {
      "text/plain": [
       "'Maths'"
      ]
     },
     "execution_count": 30,
     "metadata": {},
     "output_type": "execute_result"
    }
   ],
   "source": [
    "list(result.keys())[1]"
   ]
  },
  {
   "cell_type": "code",
   "execution_count": null,
   "id": "4c1998a5-fd0e-4432-9d07-0f3642292d7a",
   "metadata": {},
   "outputs": [],
   "source": [
    "keys = list(result.keys())"
   ]
  },
  {
   "cell_type": "code",
   "execution_count": 38,
   "id": "a21499ac-47c8-43ae-a0d0-82fa4b215d78",
   "metadata": {},
   "outputs": [
    {
     "data": {
      "text/plain": [
       "dict_items([('English', 90), ('Maths', 97), ('Physics', 67), ('computer', 95)])"
      ]
     },
     "execution_count": 38,
     "metadata": {},
     "output_type": "execute_result"
    }
   ],
   "source": [
    "result.items()"
   ]
  },
  {
   "cell_type": "code",
   "execution_count": 45,
   "id": "2f0f8dd7-cec2-4664-bb48-d09b420b8879",
   "metadata": {},
   "outputs": [],
   "source": [
    "items = list(result.keys())"
   ]
  },
  {
   "cell_type": "code",
   "execution_count": 46,
   "id": "a182817c-677e-48bc-8313-53fcd0dc1fc5",
   "metadata": {},
   "outputs": [
    {
     "data": {
      "text/plain": [
       "'English'"
      ]
     },
     "execution_count": 46,
     "metadata": {},
     "output_type": "execute_result"
    }
   ],
   "source": [
    "items[0]"
   ]
  },
  {
   "cell_type": "code",
   "execution_count": 47,
   "id": "a5c451b0-4fc0-4c4c-b9b6-a68216336913",
   "metadata": {},
   "outputs": [],
   "source": [
    "values = list(result.values())"
   ]
  },
  {
   "cell_type": "code",
   "execution_count": 48,
   "id": "3f5cb4a0-c79b-42cc-800c-30eeb4e2252d",
   "metadata": {},
   "outputs": [
    {
     "data": {
      "text/plain": [
       "90"
      ]
     },
     "execution_count": 48,
     "metadata": {},
     "output_type": "execute_result"
    }
   ],
   "source": [
    "values[0]"
   ]
  },
  {
   "cell_type": "code",
   "execution_count": 49,
   "id": "1d16b149-fcb2-46e8-af8e-93b4c46dc37d",
   "metadata": {},
   "outputs": [
    {
     "data": {
      "text/plain": [
       "{'English': 90, 'Maths': 97, 'Physics': 67, 'computer': 95}"
      ]
     },
     "execution_count": 49,
     "metadata": {},
     "output_type": "execute_result"
    }
   ],
   "source": [
    "result"
   ]
  },
  {
   "cell_type": "code",
   "execution_count": 50,
   "id": "51153707-5467-4f28-b57e-d1d5aa80e8e0",
   "metadata": {},
   "outputs": [],
   "source": [
    "result['Chemistry'] = 40"
   ]
  },
  {
   "cell_type": "code",
   "execution_count": 51,
   "id": "fda9560a-f486-4e7b-b1dd-e4fea2d27ece",
   "metadata": {},
   "outputs": [
    {
     "data": {
      "text/plain": [
       "{'English': 90, 'Maths': 97, 'Physics': 67, 'computer': 95, 'Chemistry': 40}"
      ]
     },
     "execution_count": 51,
     "metadata": {},
     "output_type": "execute_result"
    }
   ],
   "source": [
    "result"
   ]
  },
  {
   "cell_type": "code",
   "execution_count": 52,
   "id": "e130a3de-f2f1-4289-9f7a-1ed24e6f68e2",
   "metadata": {},
   "outputs": [],
   "source": [
    "result['Maths'] = 40"
   ]
  },
  {
   "cell_type": "code",
   "execution_count": 53,
   "id": "cf7cad24-f68e-49ab-b1d2-c6bd273ace18",
   "metadata": {},
   "outputs": [
    {
     "data": {
      "text/plain": [
       "{'English': 90, 'Maths': 40, 'Physics': 67, 'computer': 95, 'Chemistry': 40}"
      ]
     },
     "execution_count": 53,
     "metadata": {},
     "output_type": "execute_result"
    }
   ],
   "source": [
    "result"
   ]
  },
  {
   "cell_type": "code",
   "execution_count": 57,
   "id": "959ca7b2-5dcb-4fa1-8709-650c7fdd7053",
   "metadata": {},
   "outputs": [],
   "source": [
    "result.update({'Maths': 60,'Pst': 12})"
   ]
  },
  {
   "cell_type": "code",
   "execution_count": 58,
   "id": "14768741-5508-453e-b325-8ea4411d11bb",
   "metadata": {},
   "outputs": [
    {
     "data": {
      "text/plain": [
       "{'English': 90,\n",
       " 'Maths': 60,\n",
       " 'Physics': 67,\n",
       " 'computer': 95,\n",
       " 'Chemistry': 40,\n",
       " 'Pst': 12}"
      ]
     },
     "execution_count": 58,
     "metadata": {},
     "output_type": "execute_result"
    }
   ],
   "source": [
    "result"
   ]
  },
  {
   "cell_type": "code",
   "execution_count": 59,
   "id": "8419e26a-dd47-44cf-b3f6-f5929a254d8e",
   "metadata": {},
   "outputs": [],
   "source": [
    "result.update({'Biology': 70})"
   ]
  },
  {
   "cell_type": "raw",
   "id": "7c343f87-38db-4b3f-bf36-d5c9705628a0",
   "metadata": {},
   "source": [
    "result.pop('English')"
   ]
  },
  {
   "cell_type": "code",
   "execution_count": 62,
   "id": "8efcb501-ed3e-4cff-a878-ff95116edb60",
   "metadata": {},
   "outputs": [
    {
     "data": {
      "text/plain": [
       "{'English': 90,\n",
       " 'Maths': 60,\n",
       " 'Physics': 67,\n",
       " 'computer': 95,\n",
       " 'Chemistry': 40,\n",
       " 'Pst': 12,\n",
       " 'Biology': 70}"
      ]
     },
     "execution_count": 62,
     "metadata": {},
     "output_type": "execute_result"
    }
   ],
   "source": [
    "result"
   ]
  },
  {
   "cell_type": "code",
   "execution_count": 63,
   "id": "d62a7ea3-22b0-49a9-b8ab-707f59f1e425",
   "metadata": {},
   "outputs": [
    {
     "data": {
      "text/plain": [
       "('Biology', 70)"
      ]
     },
     "execution_count": 63,
     "metadata": {},
     "output_type": "execute_result"
    }
   ],
   "source": [
    "result.popitem()"
   ]
  },
  {
   "cell_type": "code",
   "execution_count": 86,
   "id": "1879751a-2c17-4828-b452-9786365ad7ed",
   "metadata": {},
   "outputs": [],
   "source": [
    "result = {'English': 90,\n",
    " 'Maths': 60,\n",
    " 'Physics': 67,\n",
    " 'computer': 95,\n",
    " 'Chemistry': 40,\n",
    " 'Pst': 12,\n",
    " 'Biology': 70}"
   ]
  },
  {
   "cell_type": "code",
   "execution_count": 87,
   "id": "efca8acd-1d18-4d37-b1bb-b39ac31d8ef0",
   "metadata": {},
   "outputs": [],
   "source": [
    "pop_item = result.popitem()"
   ]
  },
  {
   "cell_type": "code",
   "execution_count": 88,
   "id": "db207fc4-5164-4c84-b7f2-f6b387b14366",
   "metadata": {},
   "outputs": [
    {
     "data": {
      "text/plain": [
       "('Biology', 70)"
      ]
     },
     "execution_count": 88,
     "metadata": {},
     "output_type": "execute_result"
    }
   ],
   "source": [
    "pop_item"
   ]
  },
  {
   "cell_type": "code",
   "execution_count": 89,
   "id": "8f613151-a0ce-4f6c-9ada-1c25b2f8c6fa",
   "metadata": {},
   "outputs": [],
   "source": [
    "result.get('History')"
   ]
  },
  {
   "cell_type": "code",
   "execution_count": 91,
   "id": "c953eaa5-e26f-4098-9fe9-2492214d95a8",
   "metadata": {},
   "outputs": [
    {
     "data": {
      "text/plain": [
       "67"
      ]
     },
     "execution_count": 91,
     "metadata": {},
     "output_type": "execute_result"
    }
   ],
   "source": [
    "result.get('Physics')"
   ]
  },
  {
   "cell_type": "code",
   "execution_count": null,
   "id": "a8f6f592-2088-4f05-8a70-1fc78ebd3af3",
   "metadata": {},
   "outputs": [],
   "source": []
  }
 ],
 "metadata": {
  "kernelspec": {
   "display_name": "Python 3 (ipykernel)",
   "language": "python",
   "name": "python3"
  },
  "language_info": {
   "codemirror_mode": {
    "name": "ipython",
    "version": 3
   },
   "file_extension": ".py",
   "mimetype": "text/x-python",
   "name": "python",
   "nbconvert_exporter": "python",
   "pygments_lexer": "ipython3",
   "version": "3.11.7"
  }
 },
 "nbformat": 4,
 "nbformat_minor": 5
}
