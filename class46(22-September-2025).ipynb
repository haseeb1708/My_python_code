{
    "cells": [
        {
            "cell_type": "markdown",
            "id": "45948f08",
            "metadata": {},
            "source": [
                "# Pandas "
            ]
        },
        {
            "cell_type": "markdown",
            "id": "d317a37c",
            "metadata": {},
            "source": [
                "### Pandas Data Structure\n",
                "    ## - Series \n",
                "    ## - DataFrame"
            ]
        },
        {
            "cell_type": "markdown",
            "id": "86c2b3d2",
            "metadata": {},
            "source": [
                "# Series"
            ]
        },
        {
            "cell_type": "code",
            "execution_count": 1,
            "id": "f840a238",
            "metadata": {},
            "outputs": [],
            "source": [
                "import pandas as pd"
            ]
        },
        {
            "cell_type": "code",
            "execution_count": 6,
            "id": "11fa502b",
            "metadata": {},
            "outputs": [
                {
                    "name": "stdout",
                    "output_type": "stream",
                    "text": [
                        "<class 'pandas.core.series.Series'>\n",
                        "<class 'pandas.core.series.Series'>\n",
                        "0     apple\n",
                        "1    banana\n",
                        "2     mango\n",
                        "3      kiwi\n",
                        "4       fig\n",
                        "dtype: object\n"
                    ]
                }
            ],
            "source": [
                "# s1 = pd.Series([10,12,14,20,22,24])\n",
                "series = pd.Series([1,2,3,4,5])\n",
                "fruits = pd.Series(['apple', 'banana', 'mango','kiwi', 'fig'])\n",
                "print(type(series))\n",
                "print(type(fruits))\n",
                "print(fruits)"
            ]
        },
        {
            "cell_type": "code",
            "execution_count": 9,
            "id": "0fe3a3e9",
            "metadata": {},
            "outputs": [
                {
                    "name": "stdout",
                    "output_type": "stream",
                    "text": [
                        "5\n",
                        "(5,)\n",
                        "RangeIndex(start=0, stop=5, step=1)\n"
                    ]
                }
            ],
            "source": [
                "print(fruits.size)\n",
                "print(fruits.shape)\n",
                "print(fruits.index)"
            ]
        },
        {
            "cell_type": "code",
            "execution_count": null,
            "id": "3489b605",
            "metadata": {},
            "outputs": [],
            "source": []
        },
        {
            "cell_type": "code",
            "execution_count": 93,
            "id": "e6c8817f",
            "metadata": {},
            "outputs": [
                {
                    "data": {
                        "text/plain": [
                            "0    10\n",
                            "1    12\n",
                            "2    14\n",
                            "3    20\n",
                            "4    22\n",
                            "5    24\n",
                            "dtype: int64"
                        ]
                    },
                    "execution_count": 93,
                    "metadata": {},
                    "output_type": "execute_result"
                }
            ],
            "source": [
                "s1 = pd.Series([10,12,14,20,22,24])\n",
                "s1"
            ]
        },
        {
            "cell_type": "code",
            "execution_count": 95,
            "id": "31370d9e",
            "metadata": {},
            "outputs": [
                {
                    "name": "stdout",
                    "output_type": "stream",
                    "text": [
                        "<class 'pandas.core.series.Series'>\n"
                    ]
                }
            ],
            "source": [
                "print(type(s1))"
            ]
        },
        {
            "cell_type": "code",
            "execution_count": 96,
            "id": "1324605e",
            "metadata": {},
            "outputs": [
                {
                    "data": {
                        "text/plain": [
                            "6"
                        ]
                    },
                    "execution_count": 96,
                    "metadata": {},
                    "output_type": "execute_result"
                }
            ],
            "source": [
                "s1.size"
            ]
        },
        {
            "cell_type": "code",
            "execution_count": 97,
            "id": "f6e7b6ff",
            "metadata": {},
            "outputs": [
                {
                    "data": {
                        "text/plain": [
                            "(6,)"
                        ]
                    },
                    "execution_count": 97,
                    "metadata": {},
                    "output_type": "execute_result"
                }
            ],
            "source": [
                "s1.shape"
            ]
        },
        {
            "cell_type": "code",
            "execution_count": 98,
            "id": "16cbba7c",
            "metadata": {},
            "outputs": [
                {
                    "data": {
                        "text/plain": [
                            "RangeIndex(start=0, stop=6, step=1)"
                        ]
                    },
                    "execution_count": 98,
                    "metadata": {},
                    "output_type": "execute_result"
                }
            ],
            "source": [
                "s1.index"
            ]
        },
        {
            "cell_type": "code",
            "execution_count": 13,
            "id": "eb5e96df",
            "metadata": {},
            "outputs": [
                {
                    "data": {
                        "text/plain": [
                            "array(['apple', 'banana', 'mango', 'kiwi', 'fig'], dtype=object)"
                        ]
                    },
                    "execution_count": 13,
                    "metadata": {},
                    "output_type": "execute_result"
                }
            ],
            "source": [
                "fruits.values"
            ]
        },
        {
            "cell_type": "code",
            "execution_count": 99,
            "id": "fa98915d",
            "metadata": {},
            "outputs": [
                {
                    "data": {
                        "text/plain": [
                            "array([10, 12, 14, 20, 22, 24], dtype=int64)"
                        ]
                    },
                    "execution_count": 99,
                    "metadata": {},
                    "output_type": "execute_result"
                }
            ],
            "source": [
                "s1.values"
            ]
        },
        {
            "cell_type": "code",
            "execution_count": null,
            "id": "390600d8",
            "metadata": {},
            "outputs": [],
            "source": [
                "# Change index at the time of creation\n",
                "new_series = pd.Series([10,12,14,20,22,24], index=[\"Anday\", \"Burger\", \"Apples\",\"Mangoes\", \"Alo\", \"Tomato\"])"
            ]
        },
        {
            "cell_type": "code",
            "execution_count": 24,
            "id": "7d28a45a",
            "metadata": {},
            "outputs": [
                {
                    "data": {
                        "text/plain": [
                            "9    10\n",
                            "8    12\n",
                            "7    14\n",
                            "6    20\n",
                            "5    22\n",
                            "4    24\n",
                            "dtype: int64"
                        ]
                    },
                    "execution_count": 24,
                    "metadata": {},
                    "output_type": "execute_result"
                }
            ],
            "source": [
                "# Change index of series after creation, either directly or using any method\n",
                "new_series.index = [9,8,7,6,5,4]\n",
                "new_series"
            ]
        },
        {
            "cell_type": "code",
            "execution_count": 34,
            "id": "492978f8",
            "metadata": {},
            "outputs": [
                {
                    "name": "stdout",
                    "output_type": "stream",
                    "text": [
                        "After Using set_axis\n",
                        "ali       1\n",
                        "kashan    2\n",
                        "yaman     3\n",
                        "waseem    4\n",
                        "sattar    5\n",
                        "dtype: int64\n",
                        "Original series\n",
                        "0    1\n",
                        "1    2\n",
                        "2    3\n",
                        "3    4\n",
                        "4    5\n",
                        "dtype: int64\n"
                    ]
                }
            ],
            "source": [
                "print(f'After Using set_axis\\n{series.set_axis(new_index)}')\n",
                "print(f'Original series\\n{series}')\n"
            ]
        },
        {
            "cell_type": "code",
            "execution_count": null,
            "id": "11e5fe2d",
            "metadata": {},
            "outputs": [],
            "source": [
                "new_index = ['ali','kashan', 'yaman', 'waseem', 'sattar']\n",
                "new_series = series.set_axis(new_index)\n",
                "# series"
            ]
        },
        {
            "cell_type": "code",
            "execution_count": 39,
            "id": "c479cb2d",
            "metadata": {},
            "outputs": [
                {
                    "data": {
                        "text/plain": [
                            "pandas.core.frame.DataFrame"
                        ]
                    },
                    "execution_count": 39,
                    "metadata": {},
                    "output_type": "execute_result"
                }
            ],
            "source": [
                "# type(new_series.reset_index())\n",
                "# new_series"
            ]
        },
        {
            "cell_type": "code",
            "execution_count": 40,
            "id": "0e8d7d97",
            "metadata": {},
            "outputs": [
                {
                    "data": {
                        "text/plain": [
                            "ali       1\n",
                            "kashan    2\n",
                            "yaman     3\n",
                            "waseem    4\n",
                            "sattar    5\n",
                            "dtype: int64"
                        ]
                    },
                    "execution_count": 40,
                    "metadata": {},
                    "output_type": "execute_result"
                }
            ],
            "source": [
                "new_series"
            ]
        },
        {
            "cell_type": "code",
            "execution_count": 43,
            "id": "719eff28",
            "metadata": {},
            "outputs": [
                {
                    "name": "stdout",
                    "output_type": "stream",
                    "text": [
                        "5\n",
                        "4\n"
                    ]
                }
            ],
            "source": [
                "print(new_series['sattar'])\n",
                "print(new_series['waseem'])"
            ]
        },
        {
            "cell_type": "code",
            "execution_count": 46,
            "id": "d048788f",
            "metadata": {},
            "outputs": [
                {
                    "data": {
                        "text/plain": [
                            "kashan    2\n",
                            "yaman     3\n",
                            "waseem    4\n",
                            "dtype: int64"
                        ]
                    },
                    "execution_count": 46,
                    "metadata": {},
                    "output_type": "execute_result"
                }
            ],
            "source": [
                "new_series['kashan':'waseem']"
            ]
        },
        {
            "cell_type": "code",
            "execution_count": 47,
            "id": "0ab9ed68",
            "metadata": {},
            "outputs": [
                {
                    "data": {
                        "text/plain": [
                            "Anday      10\n",
                            "Burger     12\n",
                            "Apples     14\n",
                            "Mangoes    20\n",
                            "Alo        22\n",
                            "Tomato     24\n",
                            "dtype: int64"
                        ]
                    },
                    "execution_count": 47,
                    "metadata": {},
                    "output_type": "execute_result"
                }
            ],
            "source": [
                "s1 = pd.Series([10,12,14,20,22,24], index=[\"Anday\", \"Burger\", \"Apples\",\"Mangoes\", \"Alo\", \"Tomato\"])\n",
                "s1"
            ]
        },
        {
            "cell_type": "code",
            "execution_count": 50,
            "id": "09838b74",
            "metadata": {},
            "outputs": [
                {
                    "data": {
                        "text/plain": [
                            "Anday      10\n",
                            "Burger     12\n",
                            "Apples     14\n",
                            "Mangoes    20\n",
                            "Alo        22\n",
                            "Tomato     24\n",
                            "dtype: int64"
                        ]
                    },
                    "execution_count": 50,
                    "metadata": {},
                    "output_type": "execute_result"
                }
            ],
            "source": [
                "s1"
            ]
        },
        {
            "cell_type": "code",
            "execution_count": 51,
            "id": "73add0b4",
            "metadata": {},
            "outputs": [
                {
                    "data": {
                        "text/plain": [
                            "Tomato     24\n",
                            "Alo        22\n",
                            "Mangoes    20\n",
                            "Apples     14\n",
                            "Burger     12\n",
                            "Anday      10\n",
                            "dtype: int64"
                        ]
                    },
                    "execution_count": 51,
                    "metadata": {},
                    "output_type": "execute_result"
                }
            ],
            "source": [
                "s1[::-1]"
            ]
        },
        {
            "cell_type": "code",
            "execution_count": 63,
            "id": "f109283d",
            "metadata": {},
            "outputs": [
                {
                    "data": {
                        "text/plain": [
                            "Anday     10\n",
                            "Burger    12\n",
                            "dtype: int64"
                        ]
                    },
                    "execution_count": 63,
                    "metadata": {},
                    "output_type": "execute_result"
                }
            ],
            "source": [
                "# Giving Index\n",
                "s1['Anday': 'Burger']"
            ]
        },
        {
            "cell_type": "code",
            "execution_count": 59,
            "id": "b08d46be",
            "metadata": {},
            "outputs": [
                {
                    "data": {
                        "text/plain": [
                            "Anday      10\n",
                            "Burger     12\n",
                            "Apples     14\n",
                            "Mangoes    20\n",
                            "Alo        22\n",
                            "Tomato     24\n",
                            "dtype: int64"
                        ]
                    },
                    "execution_count": 59,
                    "metadata": {},
                    "output_type": "execute_result"
                }
            ],
            "source": [
                "s1"
            ]
        },
        {
            "cell_type": "code",
            "execution_count": 65,
            "id": "04240d61",
            "metadata": {},
            "outputs": [
                {
                    "data": {
                        "text/plain": [
                            "['pindi', 'sukkur']"
                        ]
                    },
                    "execution_count": 65,
                    "metadata": {},
                    "output_type": "execute_result"
                }
            ],
            "source": [
                "countries = ['karachi', 'lahore', 'quetta', 'pindi', 'sukkur']\n",
                "countries[3:6]"
            ]
        },
        {
            "cell_type": "code",
            "execution_count": 67,
            "id": "8d792e88",
            "metadata": {},
            "outputs": [
                {
                    "data": {
                        "text/plain": [
                            "Anday      10\n",
                            "Burger     12\n",
                            "Apples     14\n",
                            "Mangoes    20\n",
                            "dtype: int64"
                        ]
                    },
                    "execution_count": 67,
                    "metadata": {},
                    "output_type": "execute_result"
                }
            ],
            "source": [
                "# s1.iloc[inclusive:exclusive]\n",
                "s1.iloc[0:4]\n"
            ]
        },
        {
            "cell_type": "code",
            "execution_count": 74,
            "id": "eec1f0d4",
            "metadata": {},
            "outputs": [
                {
                    "name": "stdout",
                    "output_type": "stream",
                    "text": [
                        "Anday      10\n",
                        "Burger     12\n",
                        "Apples     14\n",
                        "Mangoes    20\n",
                        "dtype: int64\n",
                        "Anday      10\n",
                        "Burger     12\n",
                        "Apples     14\n",
                        "Mangoes    20\n",
                        "dtype: int64\n"
                    ]
                }
            ],
            "source": [
                "print(s1['Anday': 'Mangoes'])\n",
                "print(s1.loc['Anday': 'Mangoes'])"
            ]
        },
        {
            "cell_type": "code",
            "execution_count": 82,
            "id": "caeeb251",
            "metadata": {},
            "outputs": [
                {
                    "name": "stdout",
                    "output_type": "stream",
                    "text": [
                        "20\n",
                        "20\n"
                    ]
                }
            ],
            "source": [
                "# print(s1['Anday': 'Ali'])\n",
                "print(s1.loc['Mangoes'])\n",
                "print(s1.iloc[3])"
            ]
        },
        {
            "cell_type": "code",
            "execution_count": 85,
            "id": "4d9300eb",
            "metadata": {},
            "outputs": [
                {
                    "data": {
                        "text/plain": [
                            "Anday      Meri Pasand ki Value\n",
                            "Burger                       12\n",
                            "Apples                       14\n",
                            "Mangoes                      20\n",
                            "Alo                          22\n",
                            "Tomato                       24\n",
                            "dtype: object"
                        ]
                    },
                    "execution_count": 85,
                    "metadata": {},
                    "output_type": "execute_result"
                }
            ],
            "source": [
                "s1['Anday'] = 'Meri Pasand ki Value'\n",
                "s1"
            ]
        },
        {
            "cell_type": "code",
            "execution_count": null,
            "id": "fcf59c38",
            "metadata": {},
            "outputs": [],
            "source": []
        },
        {
            "cell_type": "code",
            "execution_count": null,
            "id": "f69f3b1b",
            "metadata": {},
            "outputs": [],
            "source": []
        },
        {
            "cell_type": "code",
            "execution_count": 101,
            "id": "00c57ead",
            "metadata": {},
            "outputs": [
                {
                    "data": {
                        "text/plain": [
                            "10"
                        ]
                    },
                    "execution_count": 101,
                    "metadata": {},
                    "output_type": "execute_result"
                }
            ],
            "source": [
                "s1['Anday']"
            ]
        },
        {
            "cell_type": "code",
            "execution_count": 103,
            "id": "031026af",
            "metadata": {},
            "outputs": [
                {
                    "data": {
                        "text/plain": [
                            "20"
                        ]
                    },
                    "execution_count": 103,
                    "metadata": {},
                    "output_type": "execute_result"
                }
            ],
            "source": [
                "s1['Mangoes']"
            ]
        },
        {
            "cell_type": "code",
            "execution_count": 104,
            "id": "d95c0a7f",
            "metadata": {},
            "outputs": [
                {
                    "data": {
                        "text/plain": [
                            "22"
                        ]
                    },
                    "execution_count": 104,
                    "metadata": {},
                    "output_type": "execute_result"
                }
            ],
            "source": [
                "s1[4]"
            ]
        },
        {
            "cell_type": "code",
            "execution_count": 106,
            "id": "7cdd7878",
            "metadata": {},
            "outputs": [
                {
                    "data": {
                        "text/plain": [
                            "Apples     14\n",
                            "Mangoes    20\n",
                            "Alo        22\n",
                            "dtype: int64"
                        ]
                    },
                    "execution_count": 106,
                    "metadata": {},
                    "output_type": "execute_result"
                }
            ],
            "source": [
                "s1[2:5]"
            ]
        },
        {
            "cell_type": "code",
            "execution_count": 107,
            "id": "f95e0f76",
            "metadata": {},
            "outputs": [
                {
                    "data": {
                        "text/plain": [
                            "Apples     14\n",
                            "Mangoes    20\n",
                            "Alo        22\n",
                            "Tomato     24\n",
                            "dtype: int64"
                        ]
                    },
                    "execution_count": 107,
                    "metadata": {},
                    "output_type": "execute_result"
                }
            ],
            "source": [
                "s1[\"Apples\":\"Tomato\"]"
            ]
        },
        {
            "cell_type": "code",
            "execution_count": null,
            "id": "94f817a8",
            "metadata": {},
            "outputs": [],
            "source": []
        }
    ],
    "metadata": {
        "kernelspec": {
            "display_name": "base",
            "language": "python",
            "name": "python3"
        },
        "language_info": {
            "codemirror_mode": {
                "name": "ipython",
                "version": 3
            },
            "file_extension": ".py",
            "mimetype": "text/x-python",
            "name": "python",
            "nbconvert_exporter": "python",
            "pygments_lexer": "ipython3",
            "version": "3.9.13"
        }
    },
    "nbformat": 4,
    "nbformat_minor": 5
}