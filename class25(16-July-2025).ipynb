{
 "cells": [
  {
   "cell_type": "code",
   "execution_count": 1,
   "id": "315ba9d2-c98c-427a-a23f-10194d0da331",
   "metadata": {},
   "outputs": [],
   "source": [
    "def edit_file(name, filename, mode):\n",
    "    with open(filename, mode) as f:\n",
    "        f.write(name)"
   ]
  },
  {
   "cell_type": "code",
   "execution_count": 2,
   "id": "226de1c2-0c63-4918-ba55-62120b717f42",
   "metadata": {},
   "outputs": [],
   "source": [
    "edit_file('alikhan', 'guess.txt', 'w+')"
   ]
  },
  {
   "cell_type": "code",
   "execution_count": 3,
   "id": "7de69fcd-b003-4edb-9825-424fd32c009a",
   "metadata": {},
   "outputs": [
    {
     "name": "stdin",
     "output_type": "stream",
     "text": [
      "Enter your name Abdul Haseeb\n"
     ]
    },
    {
     "data": {
      "text/plain": [
       "'Abdul Haseeb'"
      ]
     },
     "execution_count": 3,
     "metadata": {},
     "output_type": "execute_result"
    }
   ],
   "source": [
    "input('Enter your name')"
   ]
  },
  {
   "cell_type": "code",
   "execution_count": 4,
   "id": "94a254be-9508-4d80-9ca1-67ca03f7ec1c",
   "metadata": {},
   "outputs": [],
   "source": [
    "def update_record(filename,mode='a+'):\n",
    "    flag = True\n",
    "    while flag:\n",
    "        name = input('Enter your name and press q to quit')\n",
    "\n",
    "        if name.lower() == 'q':\n",
    "            break\n",
    "        with open(filename, mode) as f:\n",
    "            f.write(f'{name} entered\\n')\n",
    "        print(f'Hello {name}, welcome to our class')"
   ]
  },
  {
   "cell_type": "code",
   "execution_count": 5,
   "id": "5c44b5c9-ca2c-49f1-b36d-9ec4af423e26",
   "metadata": {},
   "outputs": [
    {
     "name": "stdin",
     "output_type": "stream",
     "text": [
      "Enter your name and press q to quit Haseeb\n"
     ]
    },
    {
     "name": "stdout",
     "output_type": "stream",
     "text": [
      "Hello Haseeb, welcome to our class\n"
     ]
    },
    {
     "name": "stdin",
     "output_type": "stream",
     "text": [
      "Enter your name and press q to quit Haseeb\n"
     ]
    },
    {
     "name": "stdout",
     "output_type": "stream",
     "text": [
      "Hello Haseeb, welcome to our class\n"
     ]
    },
    {
     "name": "stdin",
     "output_type": "stream",
     "text": [
      "Enter your name and press q to quit Haseeb\n"
     ]
    },
    {
     "name": "stdout",
     "output_type": "stream",
     "text": [
      "Hello Haseeb, welcome to our class\n"
     ]
    },
    {
     "name": "stdin",
     "output_type": "stream",
     "text": [
      "Enter your name and press q to quit q\n"
     ]
    }
   ],
   "source": [
    "update_record('guest_book.txt')"
   ]
  },
  {
   "cell_type": "code",
   "execution_count": 6,
   "id": "19389b17-c549-4736-8629-44fd88e0cdd9",
   "metadata": {},
   "outputs": [],
   "source": [
    "def update_reason(filename,mode='a+'):\n",
    "    flag = True\n",
    "    while flag:\n",
    "        name = input('Enter your name: ')\n",
    "        if name.lower() == 'q':\n",
    "            break\n",
    "        reason = input('Why do you love programming? ')\n",
    "\n",
    "        if reason.lower() == 'q':\n",
    "            break\n",
    "        with open(filename, mode) as f:\n",
    "            f.write(f'{name}: {reason}\\n')"
   ]
  },
  {
   "cell_type": "code",
   "execution_count": 7,
   "id": "778d8e88-bee6-485f-a1cd-ced99aa08904",
   "metadata": {},
   "outputs": [
    {
     "name": "stdin",
     "output_type": "stream",
     "text": [
      "Enter your name:  Haseeb\n",
      "Why do you love programming?  aise hi\n",
      "Enter your name:  haseeb\n",
      "Why do you love programming?  aise hi\n",
      "Enter your name:  haseeb\n",
      "Why do you love programming?  aise hi\n",
      "Enter your name:  q\n"
     ]
    }
   ],
   "source": [
    "update_reason('record.txt')"
   ]
  },
  {
   "cell_type": "code",
   "execution_count": null,
   "id": "1b8712d8-6504-483c-a615-74953c7e46e9",
   "metadata": {},
   "outputs": [],
   "source": []
  }
 ],
 "metadata": {
  "kernelspec": {
   "display_name": "Python 3 (ipykernel)",
   "language": "python",
   "name": "python3"
  },
  "language_info": {
   "codemirror_mode": {
    "name": "ipython",
    "version": 3
   },
   "file_extension": ".py",
   "mimetype": "text/x-python",
   "name": "python",
   "nbconvert_exporter": "python",
   "pygments_lexer": "ipython3",
   "version": "3.11.7"
  }
 },
 "nbformat": 4,
 "nbformat_minor": 5
}
