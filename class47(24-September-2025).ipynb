{
 "cells": [
  {
   "cell_type": "code",
   "execution_count": 4,
   "id": "ed4b6471",
   "metadata": {},
   "outputs": [],
   "source": [
    "import pandas as pd\n",
    "import numpy as np"
   ]
  },
  {
   "cell_type": "code",
   "execution_count": 11,
   "id": "aa64684d",
   "metadata": {},
   "outputs": [],
   "source": [
    "series = pd.Series(np.arange(1,20))"
   ]
  },
  {
   "cell_type": "code",
   "execution_count": 58,
   "id": "db2213dd",
   "metadata": {},
   "outputs": [],
   "source": [
    "series.name = 'ali'"
   ]
  },
  {
   "cell_type": "code",
   "execution_count": 59,
   "id": "4bfe2401",
   "metadata": {},
   "outputs": [
    {
     "data": {
      "text/plain": [
       "0      1\n",
       "1      2\n",
       "2      3\n",
       "3      4\n",
       "4      5\n",
       "5      6\n",
       "6      7\n",
       "7      8\n",
       "8      9\n",
       "9     10\n",
       "10    11\n",
       "11    12\n",
       "12    13\n",
       "13    14\n",
       "14    15\n",
       "15    16\n",
       "16    17\n",
       "17    18\n",
       "18    19\n",
       "Name: ali, dtype: int64"
      ]
     },
     "execution_count": 59,
     "metadata": {},
     "output_type": "execute_result"
    }
   ],
   "source": [
    "series"
   ]
  },
  {
   "cell_type": "code",
   "execution_count": 15,
   "id": "17e7a335",
   "metadata": {},
   "outputs": [
    {
     "data": {
      "text/plain": [
       "4      5\n",
       "9     10\n",
       "14    15\n",
       "dtype: int64"
      ]
     },
     "execution_count": 15,
     "metadata": {},
     "output_type": "execute_result"
    }
   ],
   "source": [
    "series[series % 5 == 0]"
   ]
  },
  {
   "cell_type": "code",
   "execution_count": 21,
   "id": "0ac07875",
   "metadata": {},
   "outputs": [],
   "source": [
    "cities = pd.Series(['Karachi', 'Lahore', 'Islamabad', 'Murre', 'Quetta'])"
   ]
  },
  {
   "cell_type": "code",
   "execution_count": 22,
   "id": "38085b2c",
   "metadata": {},
   "outputs": [
    {
     "data": {
      "text/plain": [
       "0      Karachi\n",
       "1       Lahore\n",
       "2    Islamabad\n",
       "3        Murre\n",
       "4       Quetta\n",
       "dtype: object"
      ]
     },
     "execution_count": 22,
     "metadata": {},
     "output_type": "execute_result"
    }
   ],
   "source": [
    "cities"
   ]
  },
  {
   "cell_type": "code",
   "execution_count": null,
   "id": "240d15c2",
   "metadata": {},
   "outputs": [
    {
     "data": {
      "text/plain": [
       "1       Lahore\n",
       "2    Islamabad\n",
       "4       Quetta\n",
       "dtype: object"
      ]
     },
     "execution_count": 24,
     "metadata": {},
     "output_type": "execute_result"
    }
   ],
   "source": [
    "# cities[cities.str.len() % 3 == 0] valid method\n",
    "cities[cities.apply(lambda kuchbhi : kuchbhi)] "
   ]
  },
  {
   "cell_type": "code",
   "execution_count": 28,
   "id": "ace609d0",
   "metadata": {},
   "outputs": [
    {
     "data": {
      "text/plain": [
       "0      mango \n",
       "1     orange \n",
       "2       kiwi \n",
       "3     grapes \n",
       "4      apple \n",
       "5      peach \n",
       "dtype: object"
      ]
     },
     "execution_count": 28,
     "metadata": {},
     "output_type": "execute_result"
    }
   ],
   "source": [
    "fruits = pd.Series([' mango ', ' orange ', ' kiwi ', ' grapes ', ' apple ', ' peach '])\n",
    "fruits"
   ]
  },
  {
   "cell_type": "code",
   "execution_count": 29,
   "id": "e7fb5714",
   "metadata": {},
   "outputs": [
    {
     "data": {
      "text/plain": [
       "0     mango\n",
       "1    orange\n",
       "2      kiwi\n",
       "3    grapes\n",
       "4     apple\n",
       "5     peach\n",
       "dtype: object"
      ]
     },
     "execution_count": 29,
     "metadata": {},
     "output_type": "execute_result"
    }
   ],
   "source": [
    "fruits.str.strip()"
   ]
  },
  {
   "cell_type": "code",
   "execution_count": 34,
   "id": "f3a18386",
   "metadata": {},
   "outputs": [],
   "source": [
    "fruits = fruits.apply(lambda x: x.strip())"
   ]
  },
  {
   "cell_type": "code",
   "execution_count": 35,
   "id": "7d98405e",
   "metadata": {},
   "outputs": [
    {
     "data": {
      "text/plain": [
       "0     mango\n",
       "1    orange\n",
       "2      kiwi\n",
       "3    grapes\n",
       "4     apple\n",
       "5     peach\n",
       "dtype: object"
      ]
     },
     "execution_count": 35,
     "metadata": {},
     "output_type": "execute_result"
    }
   ],
   "source": [
    "fruits"
   ]
  },
  {
   "cell_type": "code",
   "execution_count": 40,
   "id": "d72a8bda",
   "metadata": {},
   "outputs": [
    {
     "data": {
      "text/plain": [
       "0    5\n",
       "1    6\n",
       "2    4\n",
       "3    6\n",
       "4    5\n",
       "5    5\n",
       "dtype: int64"
      ]
     },
     "execution_count": 40,
     "metadata": {},
     "output_type": "execute_result"
    }
   ],
   "source": [
    "fruits.apply(len)\n"
   ]
  },
  {
   "cell_type": "code",
   "execution_count": 39,
   "id": "b3ce5743",
   "metadata": {},
   "outputs": [
    {
     "data": {
      "text/plain": [
       "0    5\n",
       "1    6\n",
       "2    4\n",
       "3    6\n",
       "4    5\n",
       "5    5\n",
       "dtype: int64"
      ]
     },
     "execution_count": 39,
     "metadata": {},
     "output_type": "execute_result"
    }
   ],
   "source": [
    "fruits.apply(lambda x: len(x))"
   ]
  },
  {
   "cell_type": "code",
   "execution_count": 43,
   "id": "3d16c4b2",
   "metadata": {},
   "outputs": [
    {
     "data": {
      "text/plain": [
       "0     True\n",
       "1    False\n",
       "2    False\n",
       "3    False\n",
       "4     True\n",
       "5     True\n",
       "dtype: bool"
      ]
     },
     "execution_count": 43,
     "metadata": {},
     "output_type": "execute_result"
    }
   ],
   "source": [
    "fruits.apply(lambda x: len(x) % 5 == 0 or len(x) % 2 != 0)"
   ]
  },
  {
   "cell_type": "code",
   "execution_count": 44,
   "id": "8619e843",
   "metadata": {},
   "outputs": [
    {
     "data": {
      "text/plain": [
       "0    mango\n",
       "4    apple\n",
       "5    peach\n",
       "dtype: object"
      ]
     },
     "execution_count": 44,
     "metadata": {},
     "output_type": "execute_result"
    }
   ],
   "source": [
    "fruits[fruits.apply(lambda x: len(x) % 5 == 0 or len(x) % 2 != 0)]"
   ]
  },
  {
   "cell_type": "code",
   "execution_count": 55,
   "id": "36b5521a",
   "metadata": {},
   "outputs": [
    {
     "data": {
      "text/plain": [
       "0    mango\n",
       "4    apple\n",
       "5    peach\n",
       "dtype: object"
      ]
     },
     "execution_count": 55,
     "metadata": {},
     "output_type": "execute_result"
    }
   ],
   "source": [
    "fruits[fruits.apply(lambda x: (len(x) % 5 == 0) | (len(x) % 2 != 0))]"
   ]
  },
  {
   "cell_type": "code",
   "execution_count": 82,
   "id": "a2ff08a8",
   "metadata": {},
   "outputs": [],
   "source": [
    "data = {\n",
    "    'students': ['ali','hassam', 'kashif', 'waseem', 'sattar'],\n",
    "    'marks' : np.arange(60,65),\n",
    "    'languages': ['python', 'javascript','typescript','C', 'C sharp']\n",
    "}"
   ]
  },
  {
   "cell_type": "code",
   "execution_count": 83,
   "id": "baf80cc5",
   "metadata": {},
   "outputs": [],
   "source": [
    "df = pd.DataFrame(data)"
   ]
  },
  {
   "cell_type": "code",
   "execution_count": 84,
   "id": "a3c8eec3",
   "metadata": {},
   "outputs": [],
   "source": [
    "data = {\n",
    "    'students': ['ali','hassam', 'kashif', 'waseem', 'sattar']\n",
    "    # 'marks' : np.arange(60,65),\n",
    "    # 'languages': ['python', 'javascript','typescript','C', 'C sharp']\n",
    "}"
   ]
  },
  {
   "cell_type": "code",
   "execution_count": 85,
   "id": "989cd2b6",
   "metadata": {},
   "outputs": [
    {
     "data": {
      "text/html": [
       "<div>\n",
       "<style scoped>\n",
       "    .dataframe tbody tr th:only-of-type {\n",
       "        vertical-align: middle;\n",
       "    }\n",
       "\n",
       "    .dataframe tbody tr th {\n",
       "        vertical-align: top;\n",
       "    }\n",
       "\n",
       "    .dataframe thead th {\n",
       "        text-align: right;\n",
       "    }\n",
       "</style>\n",
       "<table border=\"1\" class=\"dataframe\">\n",
       "  <thead>\n",
       "    <tr style=\"text-align: right;\">\n",
       "      <th></th>\n",
       "      <th>students</th>\n",
       "    </tr>\n",
       "  </thead>\n",
       "  <tbody>\n",
       "    <tr>\n",
       "      <th>0</th>\n",
       "      <td>ali</td>\n",
       "    </tr>\n",
       "    <tr>\n",
       "      <th>1</th>\n",
       "      <td>hassam</td>\n",
       "    </tr>\n",
       "    <tr>\n",
       "      <th>2</th>\n",
       "      <td>kashif</td>\n",
       "    </tr>\n",
       "    <tr>\n",
       "      <th>3</th>\n",
       "      <td>waseem</td>\n",
       "    </tr>\n",
       "    <tr>\n",
       "      <th>4</th>\n",
       "      <td>sattar</td>\n",
       "    </tr>\n",
       "  </tbody>\n",
       "</table>\n",
       "</div>"
      ],
      "text/plain": [
       "  students\n",
       "0      ali\n",
       "1   hassam\n",
       "2   kashif\n",
       "3   waseem\n",
       "4   sattar"
      ]
     },
     "execution_count": 85,
     "metadata": {},
     "output_type": "execute_result"
    }
   ],
   "source": [
    "pd.DataFrame(data)"
   ]
  },
  {
   "cell_type": "code",
   "execution_count": 86,
   "id": "2fd80f79",
   "metadata": {},
   "outputs": [],
   "source": [
    "df.index = ['Karachi','lahore','quetta','murre','naran']"
   ]
  },
  {
   "cell_type": "code",
   "execution_count": 87,
   "id": "186897b7",
   "metadata": {},
   "outputs": [
    {
     "data": {
      "text/html": [
       "<div>\n",
       "<style scoped>\n",
       "    .dataframe tbody tr th:only-of-type {\n",
       "        vertical-align: middle;\n",
       "    }\n",
       "\n",
       "    .dataframe tbody tr th {\n",
       "        vertical-align: top;\n",
       "    }\n",
       "\n",
       "    .dataframe thead th {\n",
       "        text-align: right;\n",
       "    }\n",
       "</style>\n",
       "<table border=\"1\" class=\"dataframe\">\n",
       "  <thead>\n",
       "    <tr style=\"text-align: right;\">\n",
       "      <th></th>\n",
       "      <th>students</th>\n",
       "      <th>marks</th>\n",
       "      <th>languages</th>\n",
       "    </tr>\n",
       "  </thead>\n",
       "  <tbody>\n",
       "    <tr>\n",
       "      <th>Karachi</th>\n",
       "      <td>ali</td>\n",
       "      <td>60</td>\n",
       "      <td>python</td>\n",
       "    </tr>\n",
       "    <tr>\n",
       "      <th>lahore</th>\n",
       "      <td>hassam</td>\n",
       "      <td>61</td>\n",
       "      <td>javascript</td>\n",
       "    </tr>\n",
       "    <tr>\n",
       "      <th>quetta</th>\n",
       "      <td>kashif</td>\n",
       "      <td>62</td>\n",
       "      <td>typescript</td>\n",
       "    </tr>\n",
       "    <tr>\n",
       "      <th>murre</th>\n",
       "      <td>waseem</td>\n",
       "      <td>63</td>\n",
       "      <td>C</td>\n",
       "    </tr>\n",
       "    <tr>\n",
       "      <th>naran</th>\n",
       "      <td>sattar</td>\n",
       "      <td>64</td>\n",
       "      <td>C sharp</td>\n",
       "    </tr>\n",
       "  </tbody>\n",
       "</table>\n",
       "</div>"
      ],
      "text/plain": [
       "        students  marks   languages\n",
       "Karachi      ali     60      python\n",
       "lahore    hassam     61  javascript\n",
       "quetta    kashif     62  typescript\n",
       "murre     waseem     63           C\n",
       "naran     sattar     64     C sharp"
      ]
     },
     "execution_count": 87,
     "metadata": {},
     "output_type": "execute_result"
    }
   ],
   "source": [
    "df"
   ]
  }
 ],
 "metadata": {
  "kernelspec": {
   "display_name": "Python 3",
   "language": "python",
   "name": "python3"
  },
  "language_info": {
   "codemirror_mode": {
    "name": "ipython",
    "version": 3
   },
   "file_extension": ".py",
   "mimetype": "text/x-python",
   "name": "python",
   "nbconvert_exporter": "python",
   "pygments_lexer": "ipython3",
   "version": "3.13.5"
  }
 },
 "nbformat": 4,
 "nbformat_minor": 5
}
