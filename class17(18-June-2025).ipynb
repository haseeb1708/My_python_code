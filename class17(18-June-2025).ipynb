{
 "cells": [
  {
   "cell_type": "markdown",
   "id": "14832c00-08d9-4e25-802b-58557dcbf47c",
   "metadata": {},
   "source": [
    "#### PASSING AN ARBITRARY NUMBER OF ARGUMENTS"
   ]
  },
  {
   "cell_type": "code",
   "execution_count": 7,
   "id": "1d804b03-295a-4a19-8ee3-19bacc78fe68",
   "metadata": {},
   "outputs": [],
   "source": [
    "def icecream(flavor):\n",
    "    return flavor"
   ]
  },
  {
   "cell_type": "code",
   "execution_count": 8,
   "id": "f5bd4fe7-2b43-461d-a721-b16a4252277a",
   "metadata": {},
   "outputs": [
    {
     "data": {
      "text/plain": [
       "'chocolate'"
      ]
     },
     "execution_count": 8,
     "metadata": {},
     "output_type": "execute_result"
    }
   ],
   "source": [
    "icecream('chocolate')"
   ]
  },
  {
   "cell_type": "code",
   "execution_count": 9,
   "id": "48eda48b-6b9c-469b-83e2-68db147b39dc",
   "metadata": {},
   "outputs": [
    {
     "data": {
      "text/plain": [
       "''"
      ]
     },
     "execution_count": 9,
     "metadata": {},
     "output_type": "execute_result"
    }
   ],
   "source": [
    "icecream('')"
   ]
  },
  {
   "cell_type": "code",
   "execution_count": 16,
   "id": "aca81fc6-652e-4154-8d9d-04872f862ca8",
   "metadata": {},
   "outputs": [],
   "source": [
    "def new_icecream(*flavor):\n",
    "    return flavor"
   ]
  },
  {
   "cell_type": "code",
   "execution_count": 17,
   "id": "387d16ee-f99e-4b22-8b79-e88e81dd9f45",
   "metadata": {},
   "outputs": [
    {
     "data": {
      "text/plain": [
       "('mango', 'vanilla')"
      ]
     },
     "execution_count": 17,
     "metadata": {},
     "output_type": "execute_result"
    }
   ],
   "source": [
    "new_icecream('mango', 'vanilla')"
   ]
  },
  {
   "cell_type": "code",
   "execution_count": 19,
   "id": "02e4ffb8-296a-449e-a10a-dfea1cce4a0a",
   "metadata": {},
   "outputs": [],
   "source": [
    "def original_icecream(serving, scoop, *flavor):\n",
    "    return f'Your icecream having {serving} with {scoop} scoop with flavors {flavor}'"
   ]
  },
  {
   "cell_type": "code",
   "execution_count": 20,
   "id": "7702e503-a2d8-426b-92b4-de7bb3bc9a20",
   "metadata": {},
   "outputs": [
    {
     "data": {
      "text/plain": [
       "\"Your icecream having cup with double scoop with flavors ('choc', 'vanilla')\""
      ]
     },
     "execution_count": 20,
     "metadata": {},
     "output_type": "execute_result"
    }
   ],
   "source": [
    "original_icecream('cup', 'double', 'choc', 'vanilla')"
   ]
  },
  {
   "cell_type": "raw",
   "id": "85cbec07-7f7b-4d6c-b27f-84e2f924b889",
   "metadata": {},
   "source": [
    "\"Your icecream having cup with double scoop with flavors choc\"\n",
    "\"Your icecream having cup with double scoop with flavors choc and vanilla\"\n",
    "\"Your icecream having cup with double scoop with flavors choc, vanilla and mango\""
   ]
  },
  {
   "cell_type": "code",
   "execution_count": 56,
   "id": "6ec18d8f-a8e9-4a7a-b0a2-daf2d4719a2d",
   "metadata": {},
   "outputs": [],
   "source": [
    "def original_icecream(serving, scoop, *flavor):\n",
    "    #print(flavor)\n",
    "    if len(flavor) == 1:\n",
    "        return f'Your icecream having {serving} with {scoop} scoop with flavors {flavor}'\n",
    "    elif len(flavor) == 2:\n",
    "        return f'Your icecream having {serving} with {scoop} scoop with flavors {flavor[0]} and {flavor[1]}'\n",
    "    elif len(flavor) > 2:\n",
    "        return f'Your icecream having {serving} with {scoop} scoop with flavors {\", \".join(flavor[:-1])} and {flavor[-1]}'\n",
    "    else:\n",
    "        return f'Your icecream having {serving} with {scoop} scoop with no flavor'"
   ]
  },
  {
   "cell_type": "code",
   "execution_count": 57,
   "id": "ec90d77c-d6fb-41d3-8091-8e5583b54c79",
   "metadata": {},
   "outputs": [
    {
     "data": {
      "text/plain": [
       "'Your icecream having a with b scoop with flavors mango, van, choc and straw'"
      ]
     },
     "execution_count": 57,
     "metadata": {},
     "output_type": "execute_result"
    }
   ],
   "source": [
    "original_icecream('a', 'b', 'mango', 'van', 'choc', 'straw')"
   ]
  },
  {
   "cell_type": "code",
   "execution_count": 62,
   "id": "d7c3f617-f245-48e1-a6ef-2699e472b1c0",
   "metadata": {},
   "outputs": [],
   "source": [
    "def juice(size, serving, **shakes):\n",
    "    return f' size {size}, serving {serving}, shake {shakes}'"
   ]
  },
  {
   "cell_type": "code",
   "execution_count": 63,
   "id": "2915542d-77bd-44a7-951b-bce73c334c59",
   "metadata": {},
   "outputs": [
    {
     "data": {
      "text/plain": [
       "\" size large, serving parcel, shake {'fruit': 'banana', 'dryfruit': 'almond', 'icecream': 'choc'}\""
      ]
     },
     "execution_count": 63,
     "metadata": {},
     "output_type": "execute_result"
    }
   ],
   "source": [
    "juice('large', 'parcel', fruit = 'banana', dryfruit = 'almond', icecream = 'choc')"
   ]
  }
 ],
 "metadata": {
  "kernelspec": {
   "display_name": "Python 3 (ipykernel)",
   "language": "python",
   "name": "python3"
  },
  "language_info": {
   "codemirror_mode": {
    "name": "ipython",
    "version": 3
   },
   "file_extension": ".py",
   "mimetype": "text/x-python",
   "name": "python",
   "nbconvert_exporter": "python",
   "pygments_lexer": "ipython3",
   "version": "3.11.7"
  }
 },
 "nbformat": 4,
 "nbformat_minor": 5
}
