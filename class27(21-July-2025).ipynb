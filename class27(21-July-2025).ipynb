{
 "cells": [
  {
   "cell_type": "markdown",
   "id": "a90b8cbd-276a-4daf-a7e4-9840ebdf5457",
   "metadata": {},
   "source": [
    "#### OOP (OBJECT ORIENTED PROGRAMMING)"
   ]
  },
  {
   "cell_type": "code",
   "execution_count": 3,
   "id": "dece4a0f-cecb-4227-bb6c-9a87c93e190b",
   "metadata": {},
   "outputs": [],
   "source": [
    "class Car():\n",
    "    make = 'Honda'\n",
    "    model = 'Civic'\n",
    "    year = 2020"
   ]
  },
  {
   "cell_type": "code",
   "execution_count": 4,
   "id": "e83ce57f-ba0d-42f9-845e-47eb8f5c66df",
   "metadata": {},
   "outputs": [],
   "source": [
    "car1 = Car()"
   ]
  },
  {
   "cell_type": "code",
   "execution_count": 5,
   "id": "9840aecc-7fd7-4b22-910e-f7c1983c203a",
   "metadata": {},
   "outputs": [
    {
     "data": {
      "text/plain": [
       "'Honda'"
      ]
     },
     "execution_count": 5,
     "metadata": {},
     "output_type": "execute_result"
    }
   ],
   "source": [
    "car1.make"
   ]
  },
  {
   "cell_type": "code",
   "execution_count": 6,
   "id": "1cce31eb-ef7b-436a-8790-d8abbd4b697d",
   "metadata": {},
   "outputs": [
    {
     "data": {
      "text/plain": [
       "'Civic'"
      ]
     },
     "execution_count": 6,
     "metadata": {},
     "output_type": "execute_result"
    }
   ],
   "source": [
    "car1.model"
   ]
  },
  {
   "cell_type": "code",
   "execution_count": 8,
   "id": "7341cce3-f433-4ae2-af3e-9cc1f3d44e45",
   "metadata": {},
   "outputs": [
    {
     "data": {
      "text/plain": [
       "2020"
      ]
     },
     "execution_count": 8,
     "metadata": {},
     "output_type": "execute_result"
    }
   ],
   "source": [
    "car1.year"
   ]
  },
  {
   "cell_type": "code",
   "execution_count": 9,
   "id": "e14dcff1-c0ed-469d-8646-5627df8738de",
   "metadata": {},
   "outputs": [],
   "source": [
    "car2 = Car()"
   ]
  },
  {
   "cell_type": "code",
   "execution_count": 10,
   "id": "e0d8a97e-1053-4147-8857-775652500c76",
   "metadata": {},
   "outputs": [
    {
     "data": {
      "text/plain": [
       "'Honda'"
      ]
     },
     "execution_count": 10,
     "metadata": {},
     "output_type": "execute_result"
    }
   ],
   "source": [
    "car2.make"
   ]
  },
  {
   "cell_type": "code",
   "execution_count": 11,
   "id": "f7466dec-efe3-4ea6-ac33-09fe2631a886",
   "metadata": {},
   "outputs": [
    {
     "data": {
      "text/plain": [
       "'Civic'"
      ]
     },
     "execution_count": 11,
     "metadata": {},
     "output_type": "execute_result"
    }
   ],
   "source": [
    "car2.model"
   ]
  },
  {
   "cell_type": "code",
   "execution_count": 1,
   "id": "f447f7c1-0807-4f15-951a-5917b0bf640a",
   "metadata": {},
   "outputs": [],
   "source": [
    "class Car:\n",
    "    def __init__(self,make, model, year):\n",
    "        make = make\n",
    "        model = model\n",
    "        year =  year"
   ]
  },
  {
   "cell_type": "code",
   "execution_count": 3,
   "id": "27f5e918-5ae3-41a3-8c29-b146cb090162",
   "metadata": {},
   "outputs": [],
   "source": [
    "car1 = Car('Honda', 'Civic',2020)"
   ]
  },
  {
   "cell_type": "code",
   "execution_count": 5,
   "id": "031be669-b6d7-4880-a11e-bfb55186078a",
   "metadata": {},
   "outputs": [],
   "source": [
    "class Car:\n",
    "    def __init__(car1,make, model, year):\n",
    "        car1.make = make\n",
    "        car1.model = model\n",
    "        car1.year =  year "
   ]
  },
  {
   "cell_type": "code",
   "execution_count": 7,
   "id": "0b252962-d87f-4ab6-9dc7-baba6b605cc7",
   "metadata": {},
   "outputs": [],
   "source": [
    "car1 = Car('Honda', 'Civic', 2020)"
   ]
  },
  {
   "cell_type": "code",
   "execution_count": 8,
   "id": "5fec122c-4ed1-4c48-92a1-cc8016503fd5",
   "metadata": {},
   "outputs": [
    {
     "data": {
      "text/plain": [
       "'Honda'"
      ]
     },
     "execution_count": 8,
     "metadata": {},
     "output_type": "execute_result"
    }
   ],
   "source": [
    "car1.make"
   ]
  },
  {
   "cell_type": "code",
   "execution_count": 9,
   "id": "0c865680-9c1f-4325-ad31-e526afdf2ae2",
   "metadata": {},
   "outputs": [
    {
     "data": {
      "text/plain": [
       "'Civic'"
      ]
     },
     "execution_count": 9,
     "metadata": {},
     "output_type": "execute_result"
    }
   ],
   "source": [
    "car1.model"
   ]
  },
  {
   "cell_type": "code",
   "execution_count": 10,
   "id": "8328aafb-9fc3-4e4d-b1a1-4ead2dcf1b0a",
   "metadata": {},
   "outputs": [],
   "source": [
    "car2 = Car('Toyota', 'yaris', 2025)"
   ]
  },
  {
   "cell_type": "code",
   "execution_count": 11,
   "id": "bed5bcc3-ca86-48eb-8b72-81d6ea4efd40",
   "metadata": {},
   "outputs": [
    {
     "data": {
      "text/plain": [
       "'Toyota'"
      ]
     },
     "execution_count": 11,
     "metadata": {},
     "output_type": "execute_result"
    }
   ],
   "source": [
    "car2.make"
   ]
  },
  {
   "cell_type": "code",
   "execution_count": 12,
   "id": "ef80baf4-c818-4b68-85b2-f8ef08b2f13b",
   "metadata": {},
   "outputs": [
    {
     "data": {
      "text/plain": [
       "'yaris'"
      ]
     },
     "execution_count": 12,
     "metadata": {},
     "output_type": "execute_result"
    }
   ],
   "source": [
    "car2.model"
   ]
  },
  {
   "cell_type": "code",
   "execution_count": 13,
   "id": "9d1ea9f4-3d55-4e64-b1ad-210fda9ddfaa",
   "metadata": {},
   "outputs": [],
   "source": [
    "class Car:\n",
    "    def __init__(self,make, model, year):\n",
    "        # Attributes\n",
    "        self.make = make\n",
    "        self.model = model\n",
    "        self.year =  year \n",
    "    \n",
    "    # Methods\n",
    "    def apply_accelerator(self):\n",
    "        print('Accelerator is applied')\n",
    "    \n",
    "    def apply_breaks(self):\n",
    "        print('Brakes are applied')"
   ]
  },
  {
   "cell_type": "code",
   "execution_count": 14,
   "id": "b2e859c7-a3ba-48a1-a042-a8a2483c3fa8",
   "metadata": {},
   "outputs": [],
   "source": [
    "new_car = Car('Honda', 'Civic',2020)"
   ]
  },
  {
   "cell_type": "code",
   "execution_count": 15,
   "id": "b3cdfa58-088b-42ba-aa45-3a0b679d82fd",
   "metadata": {},
   "outputs": [
    {
     "name": "stdout",
     "output_type": "stream",
     "text": [
      "Accelerator is applied\n"
     ]
    }
   ],
   "source": [
    "new_car.apply_accelerator()"
   ]
  },
  {
   "cell_type": "code",
   "execution_count": 16,
   "id": "13cb2d45-6ea8-44cc-b269-3bd49d62b705",
   "metadata": {},
   "outputs": [
    {
     "name": "stdout",
     "output_type": "stream",
     "text": [
      "Brakes are applied\n"
     ]
    }
   ],
   "source": [
    "new_car.apply_breaks()"
   ]
  },
  {
   "cell_type": "code",
   "execution_count": 17,
   "id": "a6867116-9598-46c3-a315-11affdb0f91d",
   "metadata": {},
   "outputs": [],
   "source": [
    "another_car = Car('BMW', 'Camry', 2022)"
   ]
  },
  {
   "cell_type": "code",
   "execution_count": 19,
   "id": "2a54a800-a7ad-4071-85ed-87996cf62ad0",
   "metadata": {},
   "outputs": [
    {
     "name": "stdout",
     "output_type": "stream",
     "text": [
      "Accelerator is applied\n"
     ]
    }
   ],
   "source": [
    "another_car.apply_accelerator()"
   ]
  }
 ],
 "metadata": {
  "kernelspec": {
   "display_name": "Python 3 (ipykernel)",
   "language": "python",
   "name": "python3"
  },
  "language_info": {
   "codemirror_mode": {
    "name": "ipython",
    "version": 3
   },
   "file_extension": ".py",
   "mimetype": "text/x-python",
   "name": "python",
   "nbconvert_exporter": "python",
   "pygments_lexer": "ipython3",
   "version": "3.11.7"
  }
 },
 "nbformat": 4,
 "nbformat_minor": 5
}
