{
 "cells": [
  {
   "cell_type": "code",
   "execution_count": 1,
   "id": "c7129f2c-11c9-4af3-8f54-a9d8be341cec",
   "metadata": {},
   "outputs": [
    {
     "data": {
      "text/plain": [
       "24"
      ]
     },
     "execution_count": 1,
     "metadata": {},
     "output_type": "execute_result"
    }
   ],
   "source": [
    "def multiply(lst):\n",
    "    result = 1\n",
    "    for num in lst:\n",
    "        result *= num\n",
    "\n",
    "    return result\n",
    "multiply([2,3,4])"
   ]
  },
  {
   "cell_type": "markdown",
   "id": "0e8bd652-64ff-4a19-b872-dd83de3fe33f",
   "metadata": {},
   "source": [
    "#### Write a Python function to multiply all the numbers in a list.\n",
    " - Sample List : (8, 2, 3, -1, 7)\n",
    " - Expected Output : -33636"
   ]
  },
  {
   "cell_type": "code",
   "execution_count": 2,
   "id": "543dd0aa-1418-44ad-8582-3bfa79667a7c",
   "metadata": {},
   "outputs": [
    {
     "data": {
      "text/plain": [
       "-336"
      ]
     },
     "execution_count": 2,
     "metadata": {},
     "output_type": "execute_result"
    }
   ],
   "source": [
    "# Write your code here\n",
    "def multiply(list1):\n",
    "    x=1\n",
    "    for i in list1:\n",
    "        x*=i\n",
    "    return x\n",
    "multiply([8, 2, 3, -1, 7])"
   ]
  },
  {
   "cell_type": "markdown",
   "id": "97e5ffeb-2f88-47e5-8ab6-a54c4f11bae8",
   "metadata": {},
   "source": [
    "#### Write a Python program for a given string S which may contain lowercase and uppercase characters. The task is to remove all duplicate characters from the string and find the resultant string.\n",
    " - Input: Str = HappyNewYear\r",
    " - \n",
    "Output: HapyNewY\n",
    " - Explanation: After removing duplicate characters such as p, e, a, we have string as “HapyNewYrr”."
   ]
  },
  {
   "cell_type": "code",
   "execution_count": 3,
   "id": "132a3247-a0fe-4cd9-a976-287c5dec24df",
   "metadata": {},
   "outputs": [
    {
     "data": {
      "text/plain": [
       "'I am Ali khn '"
      ]
     },
     "execution_count": 3,
     "metadata": {},
     "output_type": "execute_result"
    }
   ],
   "source": [
    "def remove_duplicates(string):\n",
    "    result = ''\n",
    "    for char in string:\n",
    "        if char not in result:\n",
    "            result += char\n",
    "        elif char == ' ':\n",
    "            result += ' '\n",
    "    return result\n",
    "\n",
    "\n",
    "\n",
    "remove_duplicates('I am Ali khan ')"
   ]
  },
  {
   "cell_type": "code",
   "execution_count": 4,
   "id": "c2ae0211-7e96-4fe3-a4f2-72a0bce2e8b8",
   "metadata": {},
   "outputs": [
    {
     "data": {
      "text/plain": [
       "'HapyNewYr'"
      ]
     },
     "execution_count": 4,
     "metadata": {},
     "output_type": "execute_result"
    }
   ],
   "source": [
    "# Write your code _here\n",
    "def removingduplicate(strr):\n",
    "    result =\"\"\n",
    "    for i in strr:\n",
    "        if i not in result:\n",
    "            \n",
    "            result = result + i\n",
    "    return result\n",
    "removingduplicate(\"HappyNewYear\")"
   ]
  },
  {
   "cell_type": "markdown",
   "id": "ddb55af5-0e18-41cf-8647-10fc4d9c47cf",
   "metadata": {},
   "source": [
    "#### Define a function named square_dict that takes a list of integers as input and returns a dictionary where each key-value pair consists of an element from the input list as the key and its square as the value.\n",
    " - Input: [1, 2, 3, 4, 5]\n",
    " - Output: {1: 1, 2: 4, 3: 9, 4: 16, 5: 25}\n",
    " - Note: You can use dictionary comprehension for better practiceses"
   ]
  },
  {
   "cell_type": "code",
   "execution_count": 5,
   "id": "cf37a7e9-d5a7-41a4-8fe9-d9560c23e603",
   "metadata": {},
   "outputs": [
    {
     "data": {
      "text/plain": [
       "{1: 1, 2: 4, 3: 9, 4: 16}"
      ]
     },
     "execution_count": 5,
     "metadata": {},
     "output_type": "execute_result"
    }
   ],
   "source": [
    "def square(lst):\n",
    "    result = {}\n",
    "    for num in lst:\n",
    "        result[num] = num**2\n",
    "    return result \n",
    "\n",
    "square([1,2,3,4])"
   ]
  },
  {
   "cell_type": "code",
   "execution_count": 6,
   "id": "cdf00065-77fb-42f2-b661-6bd73def46f7",
   "metadata": {},
   "outputs": [
    {
     "data": {
      "text/plain": [
       "{1: 1, 2: 4, 3: 9, 4: 16, 5: 25}"
      ]
     },
     "execution_count": 6,
     "metadata": {},
     "output_type": "execute_result"
    }
   ],
   "source": [
    "def square_dict(lst):\n",
    "    return {i:i*i for i in lst}\n",
    "\n",
    "square_dict([1,2,3,4,5])"
   ]
  },
  {
   "cell_type": "code",
   "execution_count": 7,
   "id": "3d989b29-2098-4d1d-83fa-bdb0644b82a2",
   "metadata": {},
   "outputs": [
    {
     "data": {
      "text/plain": [
       "{1: 1, 2: 4, 3: 9, 4: 16, 5: 25}"
      ]
     },
     "execution_count": 7,
     "metadata": {},
     "output_type": "execute_result"
    }
   ],
   "source": [
    "def square_dict(lst):\n",
    "    dic = {}\n",
    "    for i in lst:\n",
    "        dic[i] = i*i\n",
    "    return dic\n",
    "        \n",
    "#     return {i:i*i for i in lst}\n",
    "\n",
    "square_dict([1,2,3,4,5])"
   ]
  },
  {
   "cell_type": "markdown",
   "id": "746b9db5-d60e-40a8-bdb0-3acfc91743e1",
   "metadata": {},
   "source": [
    "#### Given a list in Python and provided the positions of the elements, write a fucntion to swap the two elements in the list.\n",
    " - Input : List = [1, 2, 3, 4, 5], pos1 = 2, pos2 = 5\n",
    " - Output : [1, 5, 3, 4, 2]"
   ]
  },
  {
   "cell_type": "code",
   "execution_count": 8,
   "id": "0c73e7c7-f739-4da7-8449-4110f8a3199d",
   "metadata": {},
   "outputs": [
    {
     "data": {
      "text/plain": [
       "[3, 2, 1, 4]"
      ]
     },
     "execution_count": 8,
     "metadata": {},
     "output_type": "execute_result"
    }
   ],
   "source": [
    "def swap(lst, a, b):\n",
    "    a = a -1\n",
    "    b = b -1\n",
    "    lst[a], lst[b] = lst[b], lst[a]\n",
    "    return lst\n",
    "swap([1,2,3,4], 1,3)"
   ]
  },
  {
   "cell_type": "code",
   "execution_count": 9,
   "id": "f1afee92-b735-49b0-82ba-9815633e4147",
   "metadata": {},
   "outputs": [
    {
     "data": {
      "text/plain": [
       "[5, 1, 3, 7]"
      ]
     },
     "execution_count": 9,
     "metadata": {},
     "output_type": "execute_result"
    }
   ],
   "source": [
    "def swap(lst, a, b):\n",
    "    a-=1\n",
    "    b-=1\n",
    "    temp = lst[a]\n",
    "    lst[a] = lst[b]\n",
    "    lst[b] = temp\n",
    "    return lst\n",
    "swap([3,1,5,7], 1,3)"
   ]
  },
  {
   "cell_type": "code",
   "execution_count": 10,
   "id": "2932fce7-a0c7-4ee8-867f-c3eb50c38b4e",
   "metadata": {},
   "outputs": [
    {
     "data": {
      "text/plain": [
       "[1, 5, 3, 4, 2]"
      ]
     },
     "execution_count": 10,
     "metadata": {},
     "output_type": "execute_result"
    }
   ],
   "source": [
    "# write you code here\n",
    "def swap(lst, pos1, pos2):\n",
    "    lst[pos1] , lst[pos2] = lst[pos2], lst[pos1]\n",
    "    return lst\n",
    "\n",
    "swap([1, 2, 3, 4, 5], 1,-1)"
   ]
  },
  {
   "cell_type": "markdown",
   "id": "6cad8bb8-23d1-4ae2-977c-3ab43f4b2ac4",
   "metadata": {},
   "source": [
    "#### Write a python function to remove a letter \"e\" from the string \"elephant\"\n",
    " - output = 'lphant' (all 'e' characters are removed)"
   ]
  },
  {
   "cell_type": "code",
   "execution_count": 11,
   "id": "c77c94f3-a448-451c-925a-ef9299142c95",
   "metadata": {},
   "outputs": [
    {
     "data": {
      "text/plain": [
       "'elephan'"
      ]
     },
     "execution_count": 11,
     "metadata": {},
     "output_type": "execute_result"
    }
   ],
   "source": [
    "def remove(string, target):\n",
    "    result = ''\n",
    "    for char in string:\n",
    "        if char != target:\n",
    "            result += char\n",
    "    return result\n",
    "\n",
    "def remove(string, target):\n",
    "    return ''.join([char for char in string if char != target])\n",
    "\n",
    "remove('elephant', 't')"
   ]
  },
  {
   "cell_type": "code",
   "execution_count": 12,
   "id": "cfa28aa6-2ca7-4905-9e8c-062e1ae58060",
   "metadata": {},
   "outputs": [
    {
     "data": {
      "text/plain": [
       "'lphant'"
      ]
     },
     "execution_count": 12,
     "metadata": {},
     "output_type": "execute_result"
    }
   ],
   "source": [
    "def remove_e(a):\n",
    "    result = \"\"\n",
    "    for i in a:\n",
    "        if i !=\"e\":\n",
    "            result = result + i\n",
    "    return result\n",
    "\n",
    "remove_e(\"elephant\")"
   ]
  },
  {
   "cell_type": "code",
   "execution_count": 13,
   "id": "adb3ed57-e35e-4619-8547-bda628ba6954",
   "metadata": {},
   "outputs": [
    {
     "data": {
      "text/plain": [
       "'lphant'"
      ]
     },
     "execution_count": 13,
     "metadata": {},
     "output_type": "execute_result"
    }
   ],
   "source": [
    "def remove(string):\n",
    "    return ''.join([i for i in string if i!='e'])\n",
    "\n",
    "remove('elephant')"
   ]
  },
  {
   "cell_type": "code",
   "execution_count": 1,
   "id": "89fd02e7-a234-40b6-a2dc-67a6c595973e",
   "metadata": {},
   "outputs": [
    {
     "data": {
      "text/plain": [
       "'vs'"
      ]
     },
     "execution_count": 1,
     "metadata": {},
     "output_type": "execute_result"
    }
   ],
   "source": [
    "def rem(string):\n",
    "    dic={}\n",
    "    for i in string:\n",
    "        if i in dic:\n",
    "            dic[i]+=1\n",
    "        else:\n",
    "            dic[i]=1\n",
    "    output=''\n",
    "    for key, value in dic.items():\n",
    "        if value == 1:\n",
    "            output+=key\n",
    "    return output\n",
    "\n",
    "rem(\"levels\")"
   ]
  },
  {
   "cell_type": "markdown",
   "id": "f13e850a-eef7-4eb1-973f-14cb4e00565e",
   "metadata": {},
   "source": [
    "#### Write a python function to count the frequencies of each character in the given string and stored it in a dictionary format.\n",
    " - Input: 'listen'\n",
    " - Output : {'l':1, 'i':1, 's':1, 't':1, 'e':1, 'n':1}"
   ]
  },
  {
   "cell_type": "code",
   "execution_count": 2,
   "id": "b8061bdf-394a-4e05-9450-782fb5349086",
   "metadata": {},
   "outputs": [
    {
     "data": {
      "text/plain": [
       "{'l': 1, 'i': 1, 's': 1, 't': 1, 'e': 1, 'n': 1}"
      ]
     },
     "execution_count": 2,
     "metadata": {},
     "output_type": "execute_result"
    }
   ],
   "source": [
    "def counting(string):\n",
    "    dic = {}\n",
    "    for i in string:\n",
    "        if i in dic:\n",
    "            dic[i]+=1\n",
    "        else:\n",
    "            dic[i] = 1\n",
    "            \n",
    "    return dic\n",
    "\n",
    "counting('listen')"
   ]
  },
  {
   "cell_type": "markdown",
   "id": "152b7c2c-ce25-404e-9e54-ca6d53aa42f5",
   "metadata": {},
   "source": [
    "#### Write a Python function named get_initials that takes a string as input and returns the initials of each word in the string, separated by dots.\n",
    " - Input: \"John Doe\"\n",
    " - Output: \"J.D\""
   ]
  },
  {
   "cell_type": "code",
   "execution_count": 3,
   "id": "599f7b98-1942-46b7-a322-f74a104c0364",
   "metadata": {},
   "outputs": [
    {
     "data": {
      "text/plain": [
       "'A.R'"
      ]
     },
     "execution_count": 3,
     "metadata": {},
     "output_type": "execute_result"
    }
   ],
   "source": [
    "def get_initials(string):\n",
    "    splitting=string.split()\n",
    "    initial=\"\"\n",
    "    for i in splitting:\n",
    "        initial+=i[0]\n",
    "    dots_seperate=\".\".join(initial)    \n",
    "    return dots_seperate\n",
    "\n",
    "\n",
    "get_initials(\"Abdul Rafay\")"
   ]
  },
  {
   "cell_type": "code",
   "execution_count": 4,
   "id": "ada79b10-065f-4fe2-9c70-b824bbce4ff6",
   "metadata": {},
   "outputs": [
    {
     "data": {
      "text/plain": [
       "'K.S'"
      ]
     },
     "execution_count": 4,
     "metadata": {},
     "output_type": "execute_result"
    }
   ],
   "source": [
    "def get_initials(string):\n",
    "    a = string.split()\n",
    "    \n",
    "    c = a[0]\n",
    "    d = a[1]\n",
    "    return f\"{c[0]}.{d[0]}\"\n",
    "get_initials(\"KARIM SADRDDRUN\")"
   ]
  },
  {
   "cell_type": "code",
   "execution_count": 5,
   "id": "c44d67d5-c1a5-4cce-a582-4822b7fff261",
   "metadata": {},
   "outputs": [
    {
     "data": {
      "text/plain": [
       "'a.s.r'"
      ]
     },
     "execution_count": 5,
     "metadata": {},
     "output_type": "execute_result"
    }
   ],
   "source": [
    "def get_initials(string):\n",
    "    result = \"\"\n",
    "    for i in string.split():\n",
    "        result =result + i[0] + \".\"\n",
    "    return result[:-1]\n",
    "\n",
    "\n",
    "get_initials(\"amin sadruddin roghi\")"
   ]
  },
  {
   "cell_type": "code",
   "execution_count": 6,
   "id": "6a8fffcb-4dff-422a-910c-58709f50817d",
   "metadata": {},
   "outputs": [
    {
     "data": {
      "text/plain": [
       "'W.S.J'"
      ]
     },
     "execution_count": 6,
     "metadata": {},
     "output_type": "execute_result"
    }
   ],
   "source": [
    "def get_initials(string):\n",
    "    return '.'.join([word[0].upper() for word in string.split()])\n",
    "\n",
    "get_initials('waseem sattar jawad')"
   ]
  }
 ],
 "metadata": {
  "kernelspec": {
   "display_name": "Python 3 (ipykernel)",
   "language": "python",
   "name": "python3"
  },
  "language_info": {
   "codemirror_mode": {
    "name": "ipython",
    "version": 3
   },
   "file_extension": ".py",
   "mimetype": "text/x-python",
   "name": "python",
   "nbconvert_exporter": "python",
   "pygments_lexer": "ipython3",
   "version": "3.11.7"
  }
 },
 "nbformat": 4,
 "nbformat_minor": 5
}
