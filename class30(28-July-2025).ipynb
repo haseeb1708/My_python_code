{
 "cells": [
  {
   "cell_type": "code",
   "execution_count": 2,
   "id": "d7f332d0-e522-46ee-a99d-f9f65e8b0ddc",
   "metadata": {},
   "outputs": [],
   "source": [
    "class Restaurant:\n",
    "    def __init__(self, restaurant_name, cuisine_type):\n",
    "        self.restaurant_name = restaurant_name\n",
    "        self.cuisine_type = cuisine_type\n",
    "        self.number_served = 0\n",
    "\n",
    "\n",
    "    def describe_restaurant(self):\n",
    "        print(f'Restaurant Name: {self.restaurant_name}\\nCuisine Type: {self.cuisine_type}')\n",
    "\n",
    "    def open_restaurant(self):\n",
    "        print(f'This restaurant named {self.restaurant_name} is open today')\n",
    "\n",
    "    def set_number_served(self, new_value):\n",
    "        self.number_served = new_value\n",
    "\n",
    "    def increment_number_served(self, new_value):\n",
    "        self.number_served += new_value\n",
    "\n",
    "    def increament_one(self):\n",
    "        self.number_server += 1\n",
    "    def reset_zero(self):\n",
    "        self.number_server  = 0"
   ]
  },
  {
   "cell_type": "code",
   "execution_count": 4,
   "id": "63ab5685-0525-4689-92ac-4141143559f9",
   "metadata": {},
   "outputs": [],
   "source": [
    "class IceCreamStand(Restaurant):\n",
    "    def __init__(self, restaurant_name, cuisine_type, flavours):\n",
    "        super().__init__(restaurant_name, cuisine_type)\n",
    "        \n",
    "        self.flavours = flavours\n",
    "\n",
    "    def display_flavours(self):\n",
    "        print(f\"These are the flavours {', '.join(self.flavours)}\")"
   ]
  },
  {
   "cell_type": "code",
   "execution_count": null,
   "id": "433857ee-10e8-49d9-b8ed-9b5487b53590",
   "metadata": {},
   "outputs": [],
   "source": [
    "ice1 = IceCreamStand('KFC', 'Mexican', [])"
   ]
  },
  {
   "cell_type": "code",
   "execution_count": null,
   "id": "904f35cd-eb99-44e2-a28b-d3ef02563e6f",
   "metadata": {},
   "outputs": [],
   "source": [
    "ice1.flavours"
   ]
  },
  {
   "cell_type": "code",
   "execution_count": 6,
   "id": "9814d488-70d0-49bb-bfc8-e5782a8bd933",
   "metadata": {},
   "outputs": [],
   "source": [
    "class User:\n",
    "    def __init__(self, first_name, last_name, gender, age):\n",
    "        self.first_name = first_name\n",
    "        self.last_name = last_name\n",
    "        self.gender = gender\n",
    "        self.age = age\n",
    "        self.campus = 'SMIT'\n",
    "\n",
    "    def describe_user(self):\n",
    "        print(f\"User's name is {self.first_name} {self.last_name}\\nAge: {self.age}\\nGender: {self.gender}\\nCampus: {self.campus}\")\n",
    "\n",
    "    def greet_user(self):\n",
    "        print(f'Hello {self.first_name}Welcome to our page')\n",
    "\n",
    "    def set_attribute(self,attribute, value):\n",
    "        # self.attribute = value\n",
    "        setattr(self, attribute, value)"
   ]
  },
  {
   "cell_type": "code",
   "execution_count": null,
   "id": "1bb44b61-818a-400a-b3dc-506e9d958d09",
   "metadata": {},
   "outputs": [],
   "source": [
    "class Admin(User):\n",
    "    def __init__(self, first_name, last_name, gender, age, privileges)\n",
    "    super().__init__(self, first_name, last_name, gender, age)\n",
    "\n",
    "    self.privileges = privileges\n",
    "\n",
    "    def show_privilegs(self):\n",
    "        print(f\"These are the privileges {', '.join(self.privileges)}\")\n",
    "x = "
   ]
  },
  {
   "cell_type": "code",
   "execution_count": null,
   "id": "d80b6dd2-04b0-43cd-86c6-9987bea3febd",
   "metadata": {},
   "outputs": [],
   "source": []
  },
  {
   "cell_type": "code",
   "execution_count": null,
   "id": "5dbfb8f9-d758-45aa-999b-0aa323a9780d",
   "metadata": {},
   "outputs": [],
   "source": []
  }
 ],
 "metadata": {
  "kernelspec": {
   "display_name": "Python 3 (ipykernel)",
   "language": "python",
   "name": "python3"
  },
  "language_info": {
   "codemirror_mode": {
    "name": "ipython",
    "version": 3
   },
   "file_extension": ".py",
   "mimetype": "text/x-python",
   "name": "python",
   "nbconvert_exporter": "python",
   "pygments_lexer": "ipython3",
   "version": "3.11.7"
  }
 },
 "nbformat": 4,
 "nbformat_minor": 5
}
