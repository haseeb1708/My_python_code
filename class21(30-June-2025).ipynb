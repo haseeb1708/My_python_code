{
 "cells": [
  {
   "cell_type": "markdown",
   "id": "60171812-409b-4b72-a456-807965bb04c3",
   "metadata": {},
   "source": [
    "#### Exceptions\n",
    "If things go wrong during the execution of the program(runtime). It generally happens when something unforeseen has happened.\n",
    "\n",
    "- Exceptions are raised by python runtime\r",
    "- \n",
    "You have to takle is on the fly"
   ]
  },
  {
   "cell_type": "markdown",
   "id": "536185ba-93b1-4381-a0c1-2882b58aa833",
   "metadata": {},
   "source": [
    "#### Examples\n",
    "- Memory overflow\n",
    "- Divide by 0 -> logical error\n",
    "- Database error"
   ]
  },
  {
   "cell_type": "code",
   "execution_count": 2,
   "id": "68ce08d2-845e-451c-9380-01db1f8ed65c",
   "metadata": {},
   "outputs": [
    {
     "data": {
      "text/plain": [
       "3.0"
      ]
     },
     "execution_count": 2,
     "metadata": {},
     "output_type": "execute_result"
    }
   ],
   "source": [
    "def divide(a,b):\n",
    "    return a/b\n",
    "\n",
    "divide(6,2)\n",
    "# divide(6,3)"
   ]
  },
  {
   "cell_type": "code",
   "execution_count": 3,
   "id": "1905a218-025f-4aa5-9793-8e3d79581ab9",
   "metadata": {},
   "outputs": [
    {
     "ename": "ZeroDivisionError",
     "evalue": "division by zero",
     "output_type": "error",
     "traceback": [
      "\u001b[1;31m---------------------------------------------------------------------------\u001b[0m",
      "\u001b[1;31mZeroDivisionError\u001b[0m                         Traceback (most recent call last)",
      "Cell \u001b[1;32mIn[3], line 1\u001b[0m\n\u001b[1;32m----> 1\u001b[0m divide(\u001b[38;5;241m6\u001b[39m,\u001b[38;5;241m0\u001b[39m)\n",
      "Cell \u001b[1;32mIn[2], line 2\u001b[0m, in \u001b[0;36mdivide\u001b[1;34m(a, b)\u001b[0m\n\u001b[0;32m      1\u001b[0m \u001b[38;5;28;01mdef\u001b[39;00m \u001b[38;5;21mdivide\u001b[39m(a,b):\n\u001b[1;32m----> 2\u001b[0m     \u001b[38;5;28;01mreturn\u001b[39;00m a\u001b[38;5;241m/\u001b[39mb\n",
      "\u001b[1;31mZeroDivisionError\u001b[0m: division by zero"
     ]
    }
   ],
   "source": [
    "divide(6,0)"
   ]
  },
  {
   "cell_type": "code",
   "execution_count": null,
   "id": "e48dae71-8353-4a9f-966e-c963cb76c9a1",
   "metadata": {},
   "outputs": [],
   "source": [
    "divide(6,'3')"
   ]
  },
  {
   "cell_type": "code",
   "execution_count": null,
   "id": "1dc905c6-20ba-4875-97c3-f08d9b8b80ff",
   "metadata": {},
   "outputs": [],
   "source": [
    "divide('3', '3')"
   ]
  },
  {
   "cell_type": "code",
   "execution_count": 4,
   "id": "eac3bb6f-52c7-414d-9d96-88c40149c0cc",
   "metadata": {},
   "outputs": [
    {
     "name": "stdout",
     "output_type": "stream",
     "text": [
      "We are facing some exceptions but do not know which one.\n"
     ]
    }
   ],
   "source": [
    "def divide(a,b):\n",
    "   try:\n",
    "      result = a/b\n",
    "      return result\n",
    "  \n",
    "#   except: \n",
    "   except Exception:\n",
    "       print('We are facing some exceptions but do not know which one.')\n",
    "      \n",
    "\n",
    "divide(4,0)"
   ]
  },
  {
   "cell_type": "code",
   "execution_count": 5,
   "id": "8177fe5a-cf38-4693-a410-d79bd426bc68",
   "metadata": {},
   "outputs": [
    {
     "data": {
      "text/plain": [
       "'Please input only integers and floating numbers.'"
      ]
     },
     "execution_count": 5,
     "metadata": {},
     "output_type": "execute_result"
    }
   ],
   "source": [
    "def divide(a,b):\n",
    "   try:\n",
    "      result = a/b\n",
    "      return result\n",
    "   except ZeroDivisionError:\n",
    "      return \"Please don't enter zero.\"\n",
    "   except TypeError:\n",
    "      return 'Please input only integers and floating numbers.'\n",
    "      \n",
    "\n",
    "divide(4,'8')"
   ]
  },
  {
   "cell_type": "code",
   "execution_count": 6,
   "id": "b18a6dee-a871-4ceb-b4c4-b78be29b0f42",
   "metadata": {},
   "outputs": [
    {
     "name": "stdout",
     "output_type": "stream",
     "text": [
      "Please don't enter zero.\n",
      "Please input only integers and floating numbers.\n"
     ]
    }
   ],
   "source": [
    "print(divide(6,0))\n",
    "print(divide(6,'3'))"
   ]
  },
  {
   "cell_type": "code",
   "execution_count": 7,
   "id": "b523a3ba-335e-484e-ac2f-3d3f6ff4e9c2",
   "metadata": {},
   "outputs": [
    {
     "data": {
      "text/plain": [
       "'Please input only integers and floating numbers.'"
      ]
     },
     "execution_count": 7,
     "metadata": {},
     "output_type": "execute_result"
    }
   ],
   "source": [
    "divide(3,'3')"
   ]
  },
  {
   "cell_type": "code",
   "execution_count": 8,
   "id": "cc24fb06-d86a-4490-af53-bbba23283dbc",
   "metadata": {},
   "outputs": [
    {
     "data": {
      "text/plain": [
       "\"Please don't enter zero.\""
      ]
     },
     "execution_count": 8,
     "metadata": {},
     "output_type": "execute_result"
    }
   ],
   "source": [
    "divide(3,0)"
   ]
  },
  {
   "cell_type": "code",
   "execution_count": 9,
   "id": "507bcad9-0736-40dc-b617-668a7aadefb6",
   "metadata": {},
   "outputs": [
    {
     "name": "stdout",
     "output_type": "stream",
     "text": [
      "helllo\n",
      "None\n"
     ]
    }
   ],
   "source": [
    "print(print('helllo'))"
   ]
  },
  {
   "cell_type": "code",
   "execution_count": 10,
   "id": "7955fdd3-8101-45db-b6b8-06e784f6f9ce",
   "metadata": {},
   "outputs": [
    {
     "ename": "NameError",
     "evalue": "name 'prinet' is not defined",
     "output_type": "error",
     "traceback": [
      "\u001b[1;31m---------------------------------------------------------------------------\u001b[0m",
      "\u001b[1;31mNameError\u001b[0m                                 Traceback (most recent call last)",
      "Cell \u001b[1;32mIn[10], line 3\u001b[0m\n\u001b[0;32m      1\u001b[0m \u001b[38;5;28;01mtry\u001b[39;00m:\n\u001b[0;32m      2\u001b[0m     result \u001b[38;5;241m=\u001b[39m \u001b[38;5;241m10\u001b[39m \u001b[38;5;241m/\u001b[39m \u001b[38;5;241m2\u001b[39m\n\u001b[1;32m----> 3\u001b[0m     prinet(\u001b[38;5;124m\"\u001b[39m\u001b[38;5;124mResult is:\u001b[39m\u001b[38;5;124m\"\u001b[39m, result)\n\u001b[0;32m      4\u001b[0m \u001b[38;5;28;01mexcept\u001b[39;00m \u001b[38;5;167;01mZeroDivisionError\u001b[39;00m:\n\u001b[0;32m      5\u001b[0m     \u001b[38;5;28mprint\u001b[39m(\u001b[38;5;124m\"\u001b[39m\u001b[38;5;124mDivide by zero error.\u001b[39m\u001b[38;5;124m\"\u001b[39m)\n",
      "\u001b[1;31mNameError\u001b[0m: name 'prinet' is not defined"
     ]
    }
   ],
   "source": [
    "try:\n",
    "    result = 10 / 2\n",
    "    prinet(\"Result is:\", result)\n",
    "except ZeroDivisionError:\n",
    "    print(\"Divide by zero error.\")"
   ]
  },
  {
   "cell_type": "code",
   "execution_count": 11,
   "id": "d57b9383-b441-46ff-999d-9995de4f73cf",
   "metadata": {},
   "outputs": [
    {
     "name": "stdout",
     "output_type": "stream",
     "text": [
      "5.0\n"
     ]
    }
   ],
   "source": [
    "try:\n",
    "    result = 10 / 2\n",
    "    # prinet(\"Result is:\", result)\n",
    "except ZeroDivisionError:\n",
    "    print(\"Divide by zero error.\")\n",
    "else:\n",
    "    print(result)"
   ]
  },
  {
   "cell_type": "code",
   "execution_count": 12,
   "id": "57a38d74-bf7e-473b-996a-6b77bbc3c3c8",
   "metadata": {},
   "outputs": [
    {
     "data": {
      "text/plain": [
       "'Me to chalunga, kisi ka bap nai rok sakta'"
      ]
     },
     "execution_count": 12,
     "metadata": {},
     "output_type": "execute_result"
    }
   ],
   "source": [
    "def divide(a, b):\n",
    "    try:\n",
    "        result = a / b\n",
    "        print('i am in divide block')\n",
    "      #   return result\n",
    "    except ZeroDivisionError:\n",
    "        return \"Please don't enter zero.\"\n",
    "    except TypeError:\n",
    "        return 'Please input only integers and floating numbers.'\n",
    "    else:\n",
    "        print(f'''Result: {result}\n",
    "Try Block successfully run \n",
    "     ''')\n",
    "        \n",
    "    finally:\n",
    "        return 'Me to chalunga, kisi ka bap nai rok sakta'\n",
    "    \n",
    "    \n",
    "divide(3,0)"
   ]
  },
  {
   "cell_type": "code",
   "execution_count": 13,
   "id": "580204c5-7c83-4104-9d1d-bc5e07cb896f",
   "metadata": {},
   "outputs": [
    {
     "name": "stdout",
     "output_type": "stream",
     "text": [
      "Please don't enter zero.\n"
     ]
    },
    {
     "data": {
      "text/plain": [
       "'Me to chalunga, kisi ka bap nai rok sakta'"
      ]
     },
     "execution_count": 13,
     "metadata": {},
     "output_type": "execute_result"
    }
   ],
   "source": [
    "def divide(a, b):\n",
    "    try:\n",
    "        result = a / b\n",
    "      #   return result\n",
    "    except ZeroDivisionError:\n",
    "        print(\"Please don't enter zero.\")\n",
    "    except TypeError:\n",
    "        print('Please input only integers and floating numbers.')\n",
    "    else:\n",
    "        print(f'''Result: {result}\n",
    "Try Block successfully run \n",
    "     ''')\n",
    "        \n",
    "    finally:\n",
    "        return 'Me to chalunga, kisi ka bap nai rok sakta'\n",
    "    \n",
    "    \n",
    "divide(3,0)"
   ]
  },
  {
   "cell_type": "code",
   "execution_count": 14,
   "id": "5a3cab2b-681f-4a8c-ac45-2a44533c0755",
   "metadata": {},
   "outputs": [
    {
     "name": "stdout",
     "output_type": "stream",
     "text": [
      "Me to chalunga, kisi ka bap nai rok sakta\n"
     ]
    },
    {
     "data": {
      "text/plain": [
       "1.0"
      ]
     },
     "execution_count": 14,
     "metadata": {},
     "output_type": "execute_result"
    }
   ],
   "source": [
    "def divide(a, b):\n",
    "    try:\n",
    "        result = a / b\n",
    "      #   return result\n",
    "    except ZeroDivisionError:\n",
    "        return \"Please don't enter zero.\"\n",
    "    except TypeError:\n",
    "        return 'Please input only integers and floating numbers.'\n",
    "    else:\n",
    "        return result\n",
    "        \n",
    "    finally:\n",
    "        print('Me to chalunga, kisi ka bap nai rok sakta')    \n",
    "\n",
    "\n",
    "divide(3,3)"
   ]
  },
  {
   "cell_type": "code",
   "execution_count": 15,
   "id": "99f16d5c-0f46-4779-b306-462be8e532a0",
   "metadata": {},
   "outputs": [
    {
     "name": "stdout",
     "output_type": "stream",
     "text": [
      "Me to chalunga, kisi ka bap nai rok sakta\n"
     ]
    },
    {
     "data": {
      "text/plain": [
       "TypeError(\"unsupported operand type(s) for /: 'int' and 'str'\")"
      ]
     },
     "execution_count": 15,
     "metadata": {},
     "output_type": "execute_result"
    }
   ],
   "source": [
    "def divide(a, b):\n",
    "    try:\n",
    "        result = a / b\n",
    "      #   return result\n",
    "    except Exception as e:\n",
    "        return e\n",
    "    # except TypeError:\n",
    "    #     return 'Please input only integers and floating numbers.'\n",
    "    else:\n",
    "        return result\n",
    "        \n",
    "    finally:\n",
    "        print('Me to chalunga, kisi ka bap nai rok sakta')\n",
    "    \n",
    "    \n",
    "divide(3,'3')"
   ]
  },
  {
   "cell_type": "code",
   "execution_count": 16,
   "id": "ae706615-a55a-42d2-aca5-3ef6681d8ccb",
   "metadata": {},
   "outputs": [
    {
     "ename": "ZeroDivisionError",
     "evalue": "division by zero",
     "output_type": "error",
     "traceback": [
      "\u001b[1;31m---------------------------------------------------------------------------\u001b[0m",
      "\u001b[1;31mZeroDivisionError\u001b[0m                         Traceback (most recent call last)",
      "Cell \u001b[1;32mIn[16], line 1\u001b[0m\n\u001b[1;32m----> 1\u001b[0m \u001b[38;5;241m3\u001b[39m\u001b[38;5;241m/\u001b[39m\u001b[38;5;241m0\u001b[39m\n",
      "\u001b[1;31mZeroDivisionError\u001b[0m: division by zero"
     ]
    }
   ],
   "source": [
    "3/0"
   ]
  },
  {
   "cell_type": "code",
   "execution_count": 17,
   "id": "312e45f7-c0c7-4a3b-b2f0-156ec97467ae",
   "metadata": {},
   "outputs": [
    {
     "data": {
      "text/plain": [
       "'Invalid input'"
      ]
     },
     "execution_count": 17,
     "metadata": {},
     "output_type": "execute_result"
    }
   ],
   "source": [
    "def vote(age):\n",
    "    try:\n",
    "        if age >= 18:\n",
    "            return \"Eligible to vote\"\n",
    "    except TypeError:\n",
    "        return \"Invalid input\"\n",
    "vote('12')"
   ]
  },
  {
   "cell_type": "code",
   "execution_count": 18,
   "id": "b4c6f839-b606-4dfb-bd64-b172018a16b7",
   "metadata": {},
   "outputs": [
    {
     "name": "stdout",
     "output_type": "stream",
     "text": [
      "sorry file not found\n"
     ]
    }
   ],
   "source": [
    "# try catch demo\n",
    "try:\n",
    "  with open('sample1.txt','r') as f:\n",
    "    print(f.read())\n",
    "except:\n",
    "  print('sorry file not found')"
   ]
  },
  {
   "cell_type": "code",
   "execution_count": 19,
   "id": "ec3e1246-2582-44c4-9d8a-df65589bfcd2",
   "metadata": {},
   "outputs": [
    {
     "name": "stdout",
     "output_type": "stream",
     "text": [
      "file not found\n"
     ]
    }
   ],
   "source": [
    "try:\n",
    "  m=5\n",
    "  f = open('sample1.txt','r')\n",
    "  print(f.read())\n",
    "  print(m)\n",
    "  print(5/2)\n",
    "  L = [1,2,3]\n",
    "  L[100]\n",
    "except FileNotFoundError:\n",
    "  print('file not found')\n",
    "except NameError:\n",
    "  print('variable not defined')\n",
    "except ZeroDivisionError:\n",
    "  print(\"can't divide by 0\")\n",
    "except Exception as e:\n",
    "  print(e)"
   ]
  },
  {
   "cell_type": "code",
   "execution_count": 20,
   "id": "e1155a4b-e3b9-4016-a8f1-3209dd7dfd66",
   "metadata": {},
   "outputs": [
    {
     "name": "stdout",
     "output_type": "stream",
     "text": [
      "file nai mili\n"
     ]
    }
   ],
   "source": [
    "try:\n",
    "  f = open('sample1.txt','r')\n",
    "except FileNotFoundError:\n",
    "  print('file nai mili')\n",
    "except Exception:\n",
    "  print('kuch to lafda hai')\n",
    "else:\n",
    "  print(f.read())"
   ]
  },
  {
   "cell_type": "code",
   "execution_count": 21,
   "id": "f341457c-96ed-4899-b206-aa0cdbf9346c",
   "metadata": {},
   "outputs": [
    {
     "name": "stdout",
     "output_type": "stream",
     "text": [
      "file nai mili\n",
      "ye to print hoga hi\n"
     ]
    }
   ],
   "source": [
    "try:\n",
    "  f = open('sample1.txt','r')\n",
    "except FileNotFoundError:\n",
    "  print('file nai mili')\n",
    "except Exception:\n",
    "  print('kuch to lafda hai')\n",
    "else:\n",
    "  print(f.read())\n",
    "finally:\n",
    "  print('ye to print hoga hi')"
   ]
  }
 ],
 "metadata": {
  "kernelspec": {
   "display_name": "Python 3 (ipykernel)",
   "language": "python",
   "name": "python3"
  },
  "language_info": {
   "codemirror_mode": {
    "name": "ipython",
    "version": 3
   },
   "file_extension": ".py",
   "mimetype": "text/x-python",
   "name": "python",
   "nbconvert_exporter": "python",
   "pygments_lexer": "ipython3",
   "version": "3.11.7"
  }
 },
 "nbformat": 4,
 "nbformat_minor": 5
}
