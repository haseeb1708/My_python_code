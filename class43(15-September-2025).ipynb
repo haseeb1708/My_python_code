{
    "cells": [
        {
            "cell_type": "code",
            "execution_count": 11,
            "id": "070e3276",
            "metadata": {},
            "outputs": [
                {
                    "data": {
                        "text/plain": [
                            "array([[ 1,  2,  3,  4,  5,  6,  7,  8,  9, 10],\n",
                            "       [11, 12, 13, 14, 15, 16, 17, 18, 19, 20]])"
                        ]
                    },
                    "execution_count": 11,
                    "metadata": {},
                    "output_type": "execute_result"
                }
            ],
            "source": [
                "import numpy as np\n",
                "arr = np.arange(1,21)\n",
                "reshape_array = arr.reshape(2,10)\n",
                "reshape_array\n",
                "# array"
            ]
        },
        {
            "cell_type": "code",
            "execution_count": 12,
            "id": "b7e81ec1",
            "metadata": {},
            "outputs": [
                {
                    "data": {
                        "text/plain": [
                            "2"
                        ]
                    },
                    "execution_count": 12,
                    "metadata": {},
                    "output_type": "execute_result"
                }
            ],
            "source": [
                "reshape_array.ndim"
            ]
        },
        {
            "cell_type": "code",
            "execution_count": 13,
            "id": "81c9d4a3",
            "metadata": {},
            "outputs": [
                {
                    "data": {
                        "text/plain": [
                            "(2, 10)"
                        ]
                    },
                    "execution_count": 13,
                    "metadata": {},
                    "output_type": "execute_result"
                }
            ],
            "source": [
                "reshape_array.shape"
            ]
        },
        {
            "cell_type": "code",
            "execution_count": 17,
            "id": "19ab962a",
            "metadata": {},
            "outputs": [
                {
                    "data": {
                        "text/plain": [
                            "array([ 1,  2,  3,  4,  5,  6,  7,  8,  9, 10, 11, 12, 13, 14, 15, 16, 17,\n",
                            "       18, 19, 20])"
                        ]
                    },
                    "execution_count": 17,
                    "metadata": {},
                    "output_type": "execute_result"
                }
            ],
            "source": [
                "arr"
            ]
        },
        {
            "cell_type": "code",
            "execution_count": 26,
            "id": "02337739",
            "metadata": {},
            "outputs": [
                {
                    "data": {
                        "text/plain": [
                            "array([[[ 1,  2,  3,  4,  5],\n",
                            "        [ 6,  7,  8,  9, 10]],\n",
                            "\n",
                            "       [[11, 12, 13, 14, 15],\n",
                            "        [16, 17, 18, 19, 20]]])"
                        ]
                    },
                    "execution_count": 26,
                    "metadata": {},
                    "output_type": "execute_result"
                }
            ],
            "source": [
                "# converting 1d array into 3d array\n",
                "arr3d = arr.reshape(2,2,5)\n",
                "arr3d"
            ]
        },
        {
            "cell_type": "code",
            "execution_count": 27,
            "id": "622c41da",
            "metadata": {},
            "outputs": [],
            "source": [
                "# [ \n",
                "#        [[ 1,  2,  3,  4,  5],\n",
                "#         [ 6,  7,  8,  9, 10]],\n",
                "\n",
                "#        [[11, 12, 13, 14, 15],\n",
                "#         [16, 17, 18, 19, 20]]\n",
                "# ]"
            ]
        },
        {
            "cell_type": "code",
            "execution_count": 30,
            "id": "5f436141",
            "metadata": {},
            "outputs": [
                {
                    "data": {
                        "text/plain": [
                            "array([[[ 1,  2,  3,  4,  5,  6,  7]],\n",
                            "\n",
                            "       [[ 8,  9, 10, 11, 12, 13, 14]],\n",
                            "\n",
                            "       [[15, 16, 17, 18, 19, 20, 21]]])"
                        ]
                    },
                    "execution_count": 30,
                    "metadata": {},
                    "output_type": "execute_result"
                }
            ],
            "source": [
                "new_arr = np.arange(1,22)\n",
                "new_arr.reshape(3,1,7)"
            ]
        },
        {
            "cell_type": "markdown",
            "id": "6eb5593d",
            "metadata": {},
            "source": [
                "# Indexing & Slicing"
            ]
        },
        {
            "cell_type": "code",
            "execution_count": 34,
            "id": "8c6f335f",
            "metadata": {},
            "outputs": [
                {
                    "data": {
                        "text/plain": [
                            "array([[ 1,  2,  3,  4,  5,  6,  7,  8,  9, 10],\n",
                            "       [11, 12, 13, 14, 15, 16, 17, 18, 19, 20]])"
                        ]
                    },
                    "execution_count": 34,
                    "metadata": {},
                    "output_type": "execute_result"
                }
            ],
            "source": [
                "reshape_array"
            ]
        },
        {
            "cell_type": "code",
            "execution_count": 35,
            "id": "3352165f",
            "metadata": {},
            "outputs": [
                {
                    "data": {
                        "text/plain": [
                            "array([7, 8, 9])"
                        ]
                    },
                    "execution_count": 35,
                    "metadata": {},
                    "output_type": "execute_result"
                }
            ],
            "source": [
                "arr = np.array([[1,2,3,4,5], [6,7,8,9,10]])\n",
                "arr[1, 1:4]"
            ]
        },
        {
            "cell_type": "code",
            "execution_count": 38,
            "id": "d6eab4d8",
            "metadata": {},
            "outputs": [
                {
                    "data": {
                        "text/plain": [
                            "array([[ 1,  2,  3,  4,  5,  6,  7,  8,  9, 10],\n",
                            "       [11, 12, 13, 14, 15, 16, 17, 18, 19, 20]])"
                        ]
                    },
                    "execution_count": 38,
                    "metadata": {},
                    "output_type": "execute_result"
                }
            ],
            "source": [
                "reshape_array"
            ]
        },
        {
            "cell_type": "code",
            "execution_count": 45,
            "id": "71247bdf",
            "metadata": {},
            "outputs": [
                {
                    "data": {
                        "text/plain": [
                            "array([[ 1,  2,  3,  4,  5,  6,  7,  8,  9, 10],\n",
                            "       [11, 12, 13, 14, 15, 16, 17, 18, 19, 20]])"
                        ]
                    },
                    "execution_count": 45,
                    "metadata": {},
                    "output_type": "execute_result"
                }
            ],
            "source": [
                "# array_name [s_row:e_row,s_col:e_col]\n",
                "reshape_array"
            ]
        },
        {
            "cell_type": "code",
            "execution_count": 48,
            "id": "67c6c6d5",
            "metadata": {},
            "outputs": [
                {
                    "data": {
                        "text/plain": [
                            "array([[[ 1,  2,  3,  4,  5],\n",
                            "        [ 6,  7,  8,  9, 10]],\n",
                            "\n",
                            "       [[11, 12, 13, 14, 15],\n",
                            "        [16, 17, 18, 19, 20]]])"
                        ]
                    },
                    "execution_count": 48,
                    "metadata": {},
                    "output_type": "execute_result"
                }
            ],
            "source": [
                "# arr3d[s_layer:e_layer , s_row:e_row, s_col:e_col + 1]\n",
                "arr3d"
            ]
        },
        {
            "cell_type": "markdown",
            "id": "c850cc69",
            "metadata": {},
            "source": [
                "## Slicing Syntax"
            ]
        },
        {
            "cell_type": "code",
            "execution_count": 49,
            "id": "e6244920",
            "metadata": {},
            "outputs": [],
            "source": [
                "# arr1d[s_value : e_value + 1]\n",
                "# arr2d[s_row : e_row + 1,s_col:e_col + 1]\n",
                "# arr3d[s_layer : e_layer + 1, s_row : e_row + 1,s_col:e_col + 1]"
            ]
        },
        {
            "cell_type": "code",
            "execution_count": null,
            "id": "f6e94828",
            "metadata": {},
            "outputs": [],
            "source": []
        }
    ],
    "metadata": {
        "kernelspec": {
            "display_name": "Python 3",
            "language": "python",
            "name": "python3"
        },
        "language_info": {
            "codemirror_mode": {
                "name": "ipython",
                "version": 3
            },
            "file_extension": ".py",
            "mimetype": "text/x-python",
            "name": "python",
            "nbconvert_exporter": "python",
            "pygments_lexer": "ipython3",
            "version": "3.13.5"
        }
    },
    "nbformat": 4,
    "nbformat_minor": 5
}