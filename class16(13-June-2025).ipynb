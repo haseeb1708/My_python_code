{
 "cells": [
  {
   "cell_type": "markdown",
   "id": "adf7c23b-82af-46b5-8446-929add063126",
   "metadata": {},
   "source": [
    "bh"
   ]
  },
  {
   "cell_type": "code",
   "execution_count": 2,
   "id": "23ae5daa-3149-4f5a-8999-5c0b08e10709",
   "metadata": {},
   "outputs": [],
   "source": [
    "def no_boring_zeros(n):\n",
    "    if n == 0:\n",
    "        return 0\n",
    "    return int(str(n).rstrip('0'))"
   ]
  },
  {
   "cell_type": "code",
   "execution_count": 11,
   "id": "71a44626-32bd-455f-83c5-3ba41a0b9274",
   "metadata": {},
   "outputs": [],
   "source": [
    "cap = 100\n",
    "on = 60\n",
    "wait = 50\n",
    "def enough(cap, on, wait):\n",
    "    return (on - wait)"
   ]
  },
  {
   "cell_type": "code",
   "execution_count": 12,
   "id": "6b093328-64b4-4cb7-926c-ac99fd60bfb6",
   "metadata": {},
   "outputs": [
    {
     "data": {
      "text/plain": [
       "10"
      ]
     },
     "execution_count": 12,
     "metadata": {},
     "output_type": "execute_result"
    }
   ],
   "source": [
    "enough(cap, on, wait)"
   ]
  },
  {
   "cell_type": "code",
   "execution_count": null,
   "id": "9fb281da-b965-41e5-8994-1f89eee844c5",
   "metadata": {},
   "outputs": [],
   "source": [
    "def points(games):\n",
    "    "
   ]
  },
  {
   "cell_type": "code",
   "execution_count": null,
   "id": "7a9a6c4a-f592-4b20-b2d6-45af948a6a5e",
   "metadata": {},
   "outputs": [],
   "source": []
  }
 ],
 "metadata": {
  "kernelspec": {
   "display_name": "Python 3 (ipykernel)",
   "language": "python",
   "name": "python3"
  },
  "language_info": {
   "codemirror_mode": {
    "name": "ipython",
    "version": 3
   },
   "file_extension": ".py",
   "mimetype": "text/x-python",
   "name": "python",
   "nbconvert_exporter": "python",
   "pygments_lexer": "ipython3",
   "version": "3.11.7"
  }
 },
 "nbformat": 4,
 "nbformat_minor": 5
}
