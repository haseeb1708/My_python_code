{
 "cells": [
  {
   "cell_type": "code",
   "execution_count": 22,
   "id": "45907aab-9064-48cd-b28e-2aa648cdabe5",
   "metadata": {},
   "outputs": [],
   "source": [
    "cities = ['Karachi', 'Lahore', 'Quetta', 'Dadu', 'Murree']"
   ]
  },
  {
   "cell_type": "markdown",
   "id": "e7a172f7-79e0-4967-bec1-f937a157b9de",
   "metadata": {},
   "source": [
    "solution: 1"
   ]
  },
  {
   "cell_type": "code",
   "execution_count": 29,
   "id": "5465a85a-feb8-46c1-b17a-bac3850cfc99",
   "metadata": {},
   "outputs": [
    {
     "name": "stdout",
     "output_type": "stream",
     "text": [
      "Lahore\n"
     ]
    }
   ],
   "source": [
    "for city in cities:\n",
    "    lower_city = city.lower()\n",
    "    for char in lower_city:\n",
    "        if lower_city.count(char) != 1:\n",
    "            break\n",
    "    else:\n",
    "        print(city)"
   ]
  },
  {
   "cell_type": "markdown",
   "id": "33c92517-cc9d-456c-9a2b-e05345c84f2f",
   "metadata": {},
   "source": [
    "solution: 2"
   ]
  },
  {
   "cell_type": "code",
   "execution_count": 31,
   "id": "5552474f-8ca0-43f8-828d-0938896ac2ab",
   "metadata": {},
   "outputs": [
    {
     "name": "stdout",
     "output_type": "stream",
     "text": [
      "Lahore\n"
     ]
    }
   ],
   "source": [
    "for city in cities:\n",
    "    for char in city.lower():\n",
    "        if city.lower().count(char) != 1:\n",
    "            break\n",
    "    else:\n",
    "        print(city)"
   ]
  },
  {
   "cell_type": "markdown",
   "id": "da4a2ecf-1bbd-4479-a744-9a2b775962ac",
   "metadata": {},
   "source": [
    "solution: 3"
   ]
  },
  {
   "cell_type": "code",
   "execution_count": 36,
   "id": "287b497f-6123-4fda-b342-1d79c63649e7",
   "metadata": {},
   "outputs": [
    {
     "name": "stdout",
     "output_type": "stream",
     "text": [
      "Lahore\n"
     ]
    }
   ],
   "source": [
    "for city in cities:\n",
    "    empty_set = set()\n",
    "    for char in city.lower():\n",
    "        empty_set.add(char)\n",
    "    if len(empty_set) == len(city):\n",
    "        print(city)"
   ]
  },
  {
   "cell_type": "code",
   "execution_count": 39,
   "id": "b79bde55-87ac-436c-8b46-7e781743e2fd",
   "metadata": {},
   "outputs": [],
   "source": [
    "games = ['Gta', 'IGI', 'CS', 'Cricket07', 'Cricket07']"
   ]
  },
  {
   "cell_type": "code",
   "execution_count": 41,
   "id": "dba34790-f82e-4ebf-a20e-e3c6aa70bbef",
   "metadata": {},
   "outputs": [
    {
     "name": "stdout",
     "output_type": "stream",
     "text": [
      "Cricket07\n"
     ]
    }
   ],
   "source": [
    "for game in games:\n",
    "    if games.count(game) == 2:\n",
    "        print(game)\n",
    "        break"
   ]
  },
  {
   "cell_type": "code",
   "execution_count": 44,
   "id": "298ddbf9-4146-4f87-8a90-53748559a40b",
   "metadata": {},
   "outputs": [],
   "source": [
    "games = ['Gta', 'CS', 'IGI', 'Cricket07', 'CS', 'Cricket07']"
   ]
  },
  {
   "cell_type": "code",
   "execution_count": 47,
   "id": "8743627a-611f-4bec-9477-fb91492aa4a6",
   "metadata": {},
   "outputs": [
    {
     "name": "stdout",
     "output_type": "stream",
     "text": [
      "CS\n",
      "Cricket07\n"
     ]
    }
   ],
   "source": [
    "for game in set(games):\n",
    "    if games.count(game) == 2:\n",
    "        print(game)"
   ]
  },
  {
   "cell_type": "code",
   "execution_count": 50,
   "id": "3b2f9685-6aad-47f1-a079-a839a5ceed9d",
   "metadata": {},
   "outputs": [
    {
     "name": "stdout",
     "output_type": "stream",
     "text": [
      "CS\n",
      "Cricket07\n"
     ]
    }
   ],
   "source": [
    "dic = {}\n",
    "for game in games:\n",
    "    dic[game] = games.count(game)\n",
    "for i in dic:\n",
    "    if dic[i] == 2:\n",
    "        print(i)"
   ]
  },
  {
   "cell_type": "code",
   "execution_count": 51,
   "id": "8d2bf6ae-b7aa-4d49-b8e8-82b024071531",
   "metadata": {},
   "outputs": [
    {
     "data": {
      "text/plain": [
       "{'Gta': 1, 'CS': 2, 'IGI': 1, 'Cricket07': 2}"
      ]
     },
     "execution_count": 51,
     "metadata": {},
     "output_type": "execute_result"
    }
   ],
   "source": [
    "dic"
   ]
  },
  {
   "cell_type": "markdown",
   "id": "998260d5-dd60-44d0-acf3-2762f3a49c58",
   "metadata": {},
   "source": [
    "### WHILE LOOP"
   ]
  },
  {
   "cell_type": "markdown",
   "id": "7d16b10d-ed9f-4105-aabf-cfb5b2299180",
   "metadata": {},
   "source": [
    "- while condition\n",
    "- for iterable"
   ]
  },
  {
   "cell_type": "code",
   "execution_count": 57,
   "id": "5a82d568-e5b6-43b6-b354-02a500f58e00",
   "metadata": {},
   "outputs": [
    {
     "name": "stdout",
     "output_type": "stream",
     "text": [
      "CS\n",
      "Cricket07\n"
     ]
    }
   ],
   "source": [
    "games = ['Gta', 'CS', 'IGI', 'Cricket07', 'CS', 'Cricket07']\n",
    "\n",
    "index = 0\n",
    "while index < len(games):\n",
    "    game = games[index]\n",
    "    index += index + 1\n",
    "    if games.count(game) == 2:\n",
    "        print(game)\n",
    "        "
   ]
  },
  {
   "cell_type": "code",
   "execution_count": 66,
   "id": "3b3bc7ee-3705-4b6b-91f4-a36614b0a46b",
   "metadata": {},
   "outputs": [
    {
     "name": "stdout",
     "output_type": "stream",
     "text": [
      "CS\n",
      "Cricket07\n"
     ]
    }
   ],
   "source": [
    "games = ['Gta', 'CS', 'IGI', 'Cricket07', 'CS', 'Cricket07']\n",
    "\n",
    "set_games = set(game)\n",
    "index = 0\n",
    "while index < len(games):\n",
    "    game = games[index]\n",
    "    index += index + 1\n",
    "    if games.count(game) == 2:\n",
    "        print(game)\n",
    "        "
   ]
  },
  {
   "cell_type": "code",
   "execution_count": 62,
   "id": "c3d5d4db-8d8e-464b-8774-09ee72106368",
   "metadata": {},
   "outputs": [
    {
     "name": "stdout",
     "output_type": "stream",
     "text": [
      "{'r', 'c', 'e', 'i', 'k', '0', '7', 't', 'C'}\n",
      "CS\n",
      "Cricket07\n"
     ]
    }
   ],
   "source": [
    "games = ['Gta', 'CS', 'IGI', 'Cricket07', 'CS', 'Cricket07']\n",
    "\n",
    "set_games = set(game)\n",
    "new_games = list(set_games)\n",
    "index = 0\n",
    "print(set_games)\n",
    "while index < len(games):\n",
    "    game = games[index]\n",
    "    index += index + 1\n",
    "    if games.count(game) == 2:\n",
    "        print(game)\n",
    "        "
   ]
  },
  {
   "cell_type": "code",
   "execution_count": null,
   "id": "f52eab87-c3d8-4395-9728-e5e4fd1a7c93",
   "metadata": {},
   "outputs": [],
   "source": []
  },
  {
   "cell_type": "code",
   "execution_count": null,
   "id": "6fe98e7f-510b-4d80-8acf-4cc9faf45df6",
   "metadata": {},
   "outputs": [],
   "source": []
  }
 ],
 "metadata": {
  "kernelspec": {
   "display_name": "Python 3 (ipykernel)",
   "language": "python",
   "name": "python3"
  },
  "language_info": {
   "codemirror_mode": {
    "name": "ipython",
    "version": 3
   },
   "file_extension": ".py",
   "mimetype": "text/x-python",
   "name": "python",
   "nbconvert_exporter": "python",
   "pygments_lexer": "ipython3",
   "version": "3.11.7"
  }
 },
 "nbformat": 4,
 "nbformat_minor": 5
}
