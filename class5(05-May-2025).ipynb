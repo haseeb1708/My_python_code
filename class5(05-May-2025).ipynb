{
 "cells": [
  {
   "cell_type": "code",
   "execution_count": null,
   "id": "4ff1b1cf-3e81-4eb5-b72d-8abb35f80459",
   "metadata": {},
   "outputs": [],
   "source": [
    "country = 'Pakistan'"
   ]
  },
  {
   "cell_type": "code",
   "execution_count": 10,
   "id": "c620f18e-a3fb-4450-aa97-3cabf066d86c",
   "metadata": {},
   "outputs": [
    {
     "data": {
      "text/plain": [
       "'-----------Pakistan-----------'"
      ]
     },
     "execution_count": 10,
     "metadata": {},
     "output_type": "execute_result"
    }
   ],
   "source": [
    "(country.center(30, '-'))"
   ]
  },
  {
   "cell_type": "code",
   "execution_count": 11,
   "id": "afb693e5-1793-4195-a3a4-6d79ad42ca7a",
   "metadata": {},
   "outputs": [],
   "source": [
    "text = 'Hello, And Welcome To My World'"
   ]
  },
  {
   "cell_type": "code",
   "execution_count": 12,
   "id": "ceb217d6-a02d-4c1a-8fa5-52ec01396048",
   "metadata": {},
   "outputs": [
    {
     "data": {
      "text/plain": [
       "11"
      ]
     },
     "execution_count": 12,
     "metadata": {},
     "output_type": "execute_result"
    }
   ],
   "source": [
    "(text.find('Welcome'))"
   ]
  },
  {
   "cell_type": "code",
   "execution_count": 13,
   "id": "d7ca1f73-231c-445f-a7e9-ba26d4ef6fd5",
   "metadata": {},
   "outputs": [
    {
     "data": {
      "text/plain": [
       "23"
      ]
     },
     "execution_count": 13,
     "metadata": {},
     "output_type": "execute_result"
    }
   ],
   "source": [
    "(text.find('y'))"
   ]
  },
  {
   "cell_type": "markdown",
   "id": "2bd5f0ad-adac-4bf7-b4e8-515de50010ea",
   "metadata": {},
   "source": [
    "number = '123'"
   ]
  },
  {
   "cell_type": "code",
   "execution_count": 16,
   "id": "dd9403c4-5f46-4029-a77f-d900c338a8a1",
   "metadata": {},
   "outputs": [
    {
     "data": {
      "text/plain": [
       "False"
      ]
     },
     "execution_count": 16,
     "metadata": {},
     "output_type": "execute_result"
    }
   ],
   "source": [
    "('number'.isdecimal())"
   ]
  },
  {
   "cell_type": "code",
   "execution_count": 17,
   "id": "d89bb6ae-7b1b-4255-bc73-65df31947d6c",
   "metadata": {},
   "outputs": [],
   "source": [
    "number = '12.3'"
   ]
  },
  {
   "cell_type": "code",
   "execution_count": 18,
   "id": "998a3d36-9d34-4ffc-a6c7-3dc04260ef94",
   "metadata": {},
   "outputs": [
    {
     "data": {
      "text/plain": [
       "False"
      ]
     },
     "execution_count": 18,
     "metadata": {},
     "output_type": "execute_result"
    }
   ],
   "source": [
    "(number.isdecimal())"
   ]
  },
  {
   "cell_type": "code",
   "execution_count": 19,
   "id": "5d1f6edf-6be0-4db9-834f-15966357a753",
   "metadata": {},
   "outputs": [
    {
     "data": {
      "text/plain": [
       "True"
      ]
     },
     "execution_count": 19,
     "metadata": {},
     "output_type": "execute_result"
    }
   ],
   "source": [
    "number = '12'\n",
    "(number.isdigit())"
   ]
  },
  {
   "cell_type": "code",
   "execution_count": 20,
   "id": "c46680be-5d4e-434c-9f8b-e424f38d2bbb",
   "metadata": {},
   "outputs": [],
   "source": [
    "anothr_number = '12.3'"
   ]
  },
  {
   "cell_type": "code",
   "execution_count": 21,
   "id": "75a44df1-31bf-43ce-af6f-a8c33865529e",
   "metadata": {},
   "outputs": [
    {
     "data": {
      "text/plain": [
       "False"
      ]
     },
     "execution_count": 21,
     "metadata": {},
     "output_type": "execute_result"
    }
   ],
   "source": [
    "(anothr_number.isnumeric())"
   ]
  },
  {
   "cell_type": "code",
   "execution_count": 23,
   "id": "167a4261-0983-4f62-93a9-d7bd3dd108f4",
   "metadata": {},
   "outputs": [],
   "source": [
    "num1 = 2\n",
    "num2 = 3"
   ]
  },
  {
   "cell_type": "code",
   "execution_count": 24,
   "id": "37d3dc8b-490c-4cce-b797-4c24106efdbd",
   "metadata": {},
   "outputs": [
    {
     "data": {
      "text/plain": [
       "5"
      ]
     },
     "execution_count": 24,
     "metadata": {},
     "output_type": "execute_result"
    }
   ],
   "source": [
    "(num1 + num2)"
   ]
  },
  {
   "cell_type": "code",
   "execution_count": 32,
   "id": "5ac4be5e-6c94-49d4-9b2f-7e0d14ac33c0",
   "metadata": {},
   "outputs": [],
   "source": [
    "fname = 'Abdul'\n",
    "lname = 'Haseeb'"
   ]
  },
  {
   "cell_type": "code",
   "execution_count": 26,
   "id": "a8ad69da-6db2-4f0f-bbad-2a9ccafcfb50",
   "metadata": {},
   "outputs": [
    {
     "data": {
      "text/plain": [
       "'alikhan'"
      ]
     },
     "execution_count": 26,
     "metadata": {},
     "output_type": "execute_result"
    }
   ],
   "source": [
    "(fname + lname)"
   ]
  },
  {
   "cell_type": "code",
   "execution_count": 28,
   "id": "cd287cbf-32b2-4e95-be0d-365a17f1b462",
   "metadata": {},
   "outputs": [
    {
     "data": {
      "text/plain": [
       "'My name is ali khan'"
      ]
     },
     "execution_count": 28,
     "metadata": {},
     "output_type": "execute_result"
    }
   ],
   "source": [
    "('My name is ' + fname + ' ' + lname)"
   ]
  },
  {
   "cell_type": "code",
   "execution_count": 29,
   "id": "3f85f159-c0bf-43bb-821e-2c3d4a8e2588",
   "metadata": {},
   "outputs": [],
   "source": [
    "#String formating"
   ]
  },
  {
   "cell_type": "code",
   "execution_count": 44,
   "id": "226f5e08-941b-4acf-aaef-652d2560a8d1",
   "metadata": {},
   "outputs": [],
   "source": [
    "proffesion = 'student'\n",
    "course = 'Python'\n",
    "timing = '9 to 11'\n",
    "days = 'monday, wednesday,friday'\n",
    "batch = 8\n",
    "start_from = 9\n",
    "ends_at = 11\n",
    "campus = 'Gulshan'\n",
    "institute = 'SMIT'\n",
    "city = 'Karachi'"
   ]
  },
  {
   "cell_type": "code",
   "execution_count": 46,
   "id": "4627d537-770a-4e82-a23a-cd078b82a75f",
   "metadata": {},
   "outputs": [
    {
     "name": "stdout",
     "output_type": "stream",
     "text": [
      "My name is Abdul Haseeb.I am a Python student,\n",
      "My class starts from 9 and ends at 11.\n",
      "My working days are monday, wednesday,friday.This is my batch 8 currently.\n",
      "I am learning at SMIT at Gulshan,Karachi,\n"
     ]
    }
   ],
   "source": [
    "print(f'''My name is {fname} {lname}.I am a {course} {proffesion},\n",
    "My class starts from {starts_from} and ends at {ends_at}.\n",
    "My working days are {days}.This is my batch {batch} currently.\n",
    "I am learning at {institute} at {campus},{city},''')"
   ]
  },
  {
   "cell_type": "markdown",
   "id": "92b942f4-ac97-4863-96ab-8db5a3b1e2cd",
   "metadata": {},
   "source": [
    "(f'My name is {fname}')"
   ]
  },
  {
   "cell_type": "code",
   "execution_count": 50,
   "id": "daf9cf3a-4011-4130-b792-21d12b1c32a4",
   "metadata": {},
   "outputs": [
    {
     "data": {
      "text/plain": [
       "'My name is Haseeb'"
      ]
     },
     "execution_count": 50,
     "metadata": {},
     "output_type": "execute_result"
    }
   ],
   "source": [
    "(f'My name is {lname}')"
   ]
  },
  {
   "cell_type": "code",
   "execution_count": 51,
   "id": "38d35759-3a00-4616-b2d9-12cdeb2b9183",
   "metadata": {},
   "outputs": [
    {
     "data": {
      "text/plain": [
       "[50.1, 45.3, 67.7, 89.3]"
      ]
     },
     "execution_count": 51,
     "metadata": {},
     "output_type": "execute_result"
    }
   ],
   "source": [
    "#list\n",
    "fruits = [50.1,45.3,67.7,89.3]\n",
    "(fruits)"
   ]
  },
  {
   "cell_type": "code",
   "execution_count": 52,
   "id": "c02c1821-228e-44be-94e6-602cd0ea742f",
   "metadata": {},
   "outputs": [
    {
     "data": {
      "text/plain": [
       "[True, False, True, True, False]"
      ]
     },
     "execution_count": 52,
     "metadata": {},
     "output_type": "execute_result"
    }
   ],
   "source": [
    "is_fever = [True,False,True,True,False]\n",
    "(is_fever)"
   ]
  },
  {
   "cell_type": "code",
   "execution_count": 7,
   "id": "baae9c98-93b6-4143-a451-4ca3c873b076",
   "metadata": {},
   "outputs": [
    {
     "data": {
      "text/plain": [
       "['Ali Khan', 123, 12.3, True]"
      ]
     },
     "execution_count": 7,
     "metadata": {},
     "output_type": "execute_result"
    }
   ],
   "source": [
    "mixed = ['Ali Khan',123,12.3,True]\n",
    "(mixed)"
   ]
  },
  {
   "cell_type": "code",
   "execution_count": null,
   "id": "4fb26838-d578-4786-bbf8-106f6da242eb",
   "metadata": {},
   "outputs": [],
   "source": []
  }
 ],
 "metadata": {
  "kernelspec": {
   "display_name": "Python 3 (ipykernel)",
   "language": "python",
   "name": "python3"
  },
  "language_info": {
   "codemirror_mode": {
    "name": "ipython",
    "version": 3
   },
   "file_extension": ".py",
   "mimetype": "text/x-python",
   "name": "python",
   "nbconvert_exporter": "python",
   "pygments_lexer": "ipython3",
   "version": "3.11.7"
  }
 },
 "nbformat": 4,
 "nbformat_minor": 5
}
