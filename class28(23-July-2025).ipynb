{
 "cells": [
  {
   "cell_type": "code",
   "execution_count": 50,
   "id": "11030601-7050-4a93-9bae-0a29e5b904b0",
   "metadata": {},
   "outputs": [],
   "source": [
    "class Restaurant:\n",
    "    def __init__(self, restaurant_name, cuisine_type):\n",
    "        self.restaurant_name = restaurant_name\n",
    "        self.cuisine_type = cuisine_type\n",
    "\n",
    "    def describe_restaurant(self):\n",
    "        print(f'Restaurant Name: {self.restaurant_name}\\nCuisine Type: {self.cuisine_type}')\n",
    "\n",
    "    def open_restaurant(self):\n",
    "        print(f'This restaurant named {self.restaurant_name} is open today')"
   ]
  },
  {
   "cell_type": "code",
   "execution_count": 51,
   "id": "dbaee07f-672e-4b09-8d6a-35bb286196f6",
   "metadata": {},
   "outputs": [],
   "source": [
    "r1 = Restaurant('Lal qila', 'Asian')\n",
    "r2 = Restaurant('Haveli', 'Continental')\n",
    "r3 = Restaurant('Al haj Akhtar', 'Chineese')"
   ]
  },
  {
   "cell_type": "code",
   "execution_count": 52,
   "id": "d11d1edf-aa0d-4045-a78d-f2738bebd3b0",
   "metadata": {},
   "outputs": [
    {
     "name": "stdout",
     "output_type": "stream",
     "text": [
      "This restaurant named Lal qila is open today\n"
     ]
    }
   ],
   "source": [
    "r1.open_restaurant()"
   ]
  },
  {
   "cell_type": "code",
   "execution_count": 53,
   "id": "df387329-0ebd-4154-85c5-f7403811a5d2",
   "metadata": {},
   "outputs": [],
   "source": [
    "class User:\n",
    "    def __init__(self, first_name, last_name, gender, age):\n",
    "        self.first_name = first_name\n",
    "        self.last_name = last_name\n",
    "        self.gender = gender\n",
    "        self.age = age\n",
    "\n",
    "    def describe_user(self):\n",
    "        print(f\"User's name is {self.first_name} {self.last_name}\\nAge: {self.age}\\nGender: {self.gender}\")\n",
    "\n",
    "    def greet_user(self):\n",
    "        print(f'Hello {self.first_name}Welcome to our page')"
   ]
  },
  {
   "cell_type": "code",
   "execution_count": 54,
   "id": "0e1ca971-7fa8-4779-a391-e1eb327280d4",
   "metadata": {},
   "outputs": [],
   "source": [
    "\n",
    "ali = User('Ali', 'Khan', 'Male', 4)"
   ]
  },
  {
   "cell_type": "code",
   "execution_count": 55,
   "id": "3b0539db-e5b2-43ec-b04e-4e346dbff1f4",
   "metadata": {},
   "outputs": [
    {
     "data": {
      "text/plain": [
       "'Ali'"
      ]
     },
     "execution_count": 55,
     "metadata": {},
     "output_type": "execute_result"
    }
   ],
   "source": [
    "ali.first_name"
   ]
  },
  {
   "cell_type": "code",
   "execution_count": 56,
   "id": "37602954-d190-4f94-8755-9993f7e99679",
   "metadata": {},
   "outputs": [
    {
     "name": "stdout",
     "output_type": "stream",
     "text": [
      "User's name is Ali Khan\n",
      "Age: 4\n",
      "Gender: Male\n"
     ]
    }
   ],
   "source": [
    "ali.describe_user()"
   ]
  },
  {
   "cell_type": "code",
   "execution_count": 57,
   "id": "7fb3313a-a8ae-451b-bfc8-682ba4947e9b",
   "metadata": {},
   "outputs": [],
   "source": [
    "class User:\n",
    "    def __init__(self, first_name, last_name, gender, age, campus):\n",
    "        self.first_name = first_name\n",
    "        self.last_name = last_name\n",
    "        self.gender = gender\n",
    "        self.age = age\n",
    "        self.campus = campus\n",
    "\n",
    "    def describe_user(self):\n",
    "        print(f\"User's name is {self.first_name} {self.last_name}\\nAge: {self.age}\\nGender: {self.gender}\\nCampus: {self.campus}\")\n",
    "\n",
    "    def greet_user(self):\n",
    "        print(f'Hello {self.first_name}Welcome to our page')"
   ]
  },
  {
   "cell_type": "code",
   "execution_count": 58,
   "id": "c7267435-7f98-496c-b232-3b6e32cd950d",
   "metadata": {},
   "outputs": [],
   "source": [
    "kashan = User('Kashan', 'khan', \"Male\", 20, 'SMIT')\n",
    "yaman = User('Yaman', 'peshawari', \"Male\", 10, 'SMIT')\n",
    "ghafar = User('Ghafar', 'sawati', \"Male\", 12, 'SMIT')"
   ]
  },
  {
   "cell_type": "code",
   "execution_count": 59,
   "id": "501cea41-5f12-4099-b4d5-6d02b024118a",
   "metadata": {},
   "outputs": [
    {
     "name": "stdout",
     "output_type": "stream",
     "text": [
      "User's name is Kashan khan\n",
      "Age: 20\n",
      "Gender: Male\n",
      "Campus: SMIT\n",
      "User's name is Ghafar sawati\n",
      "Age: 12\n",
      "Gender: Male\n",
      "Campus: SMIT\n",
      "User's name is Yaman peshawari\n",
      "Age: 10\n",
      "Gender: Male\n",
      "Campus: SMIT\n"
     ]
    }
   ],
   "source": [
    "kashan.describe_user()\n",
    "ghafar.describe_user()\n",
    "yaman.describe_user()"
   ]
  },
  {
   "cell_type": "code",
   "execution_count": 60,
   "id": "e38828e9-0448-49b9-962a-86949239b1bb",
   "metadata": {},
   "outputs": [],
   "source": [
    "class User:\n",
    "    def __init__(self, first_name, last_name, gender, age, campus = \"SMIT\"):\n",
    "        self.first_name = first_name\n",
    "        self.last_name = last_name\n",
    "        self.gender = gender\n",
    "        self.age = age\n",
    "        self.campus = campus\n",
    "\n",
    "    def describe_user(self):\n",
    "        print(f\"User's name is {self.first_name} {self.last_name}\\nAge: {self.age}\\nGender: {self.gender}\\nCampus: {self.campus}\")\n",
    "\n",
    "    def greet_user(self):\n",
    "        print(f'Hello {self.first_name}Welcome to our page')"
   ]
  },
  {
   "cell_type": "code",
   "execution_count": 61,
   "id": "6460fa24-3393-42f6-9e0a-ca6ad5940736",
   "metadata": {},
   "outputs": [],
   "source": [
    "kashan = User('Kashan', 'khan', \"Male\", 20)\n",
    "yaman = User('Yaman', 'peshawari', \"Male\", 10)\n",
    "ghafar = User('Ghafar', 'sawati', \"Male\", 12)"
   ]
  },
  {
   "cell_type": "code",
   "execution_count": 62,
   "id": "bbc534a1-c4f5-48dc-99ca-4c0a0148847f",
   "metadata": {},
   "outputs": [
    {
     "name": "stdout",
     "output_type": "stream",
     "text": [
      "User's name is Kashan khan\n",
      "Age: 20\n",
      "Gender: Male\n",
      "Campus: SMIT\n",
      "User's name is Ghafar sawati\n",
      "Age: 12\n",
      "Gender: Male\n",
      "Campus: SMIT\n",
      "User's name is Yaman peshawari\n",
      "Age: 10\n",
      "Gender: Male\n",
      "Campus: SMIT\n"
     ]
    }
   ],
   "source": [
    "kashan.describe_user()\n",
    "ghafar.describe_user()\n",
    "yaman.describe_user()"
   ]
  },
  {
   "cell_type": "code",
   "execution_count": 63,
   "id": "96b10592-f814-41ab-aeda-caa93541e8db",
   "metadata": {},
   "outputs": [],
   "source": [
    "class User:\n",
    "    def __init__(self, first_name, last_name, gender, age):\n",
    "        self.first_name = first_name\n",
    "        self.last_name = last_name\n",
    "        self.gender = gender\n",
    "        self.age = age\n",
    "        self.campus = 'SMIT'\n",
    "\n",
    "    def describe_user(self):\n",
    "        print(f\"User's name is {self.first_name} {self.last_name}\\nAge: {self.age}\\nGender: {self.gender}\\nCampus: {self.campus}\")\n",
    "\n",
    "    def greet_user(self):\n",
    "        print(f'Hello {self.first_name}Welcome to our page')"
   ]
  },
  {
   "cell_type": "code",
   "execution_count": 64,
   "id": "1cde8fa8-62c8-4abd-ae9a-fc5e52e7ee22",
   "metadata": {},
   "outputs": [],
   "source": [
    "kashan = User('Kashan', 'khan', \"Male\", 20)\n",
    "yaman = User('Yaman', 'peshawari', \"Male\", 10)\n",
    "ghafar = User('Ghafar', 'sawati', \"Male\", 12)"
   ]
  },
  {
   "cell_type": "code",
   "execution_count": 65,
   "id": "43f1293e-bd6f-4cc9-84e0-8763e209ad86",
   "metadata": {},
   "outputs": [
    {
     "name": "stdout",
     "output_type": "stream",
     "text": [
      "User's name is Kashan khan\n",
      "Age: 20\n",
      "Gender: Male\n",
      "Campus: SMIT\n",
      "User's name is Ghafar sawati\n",
      "Age: 12\n",
      "Gender: Male\n",
      "Campus: SMIT\n",
      "User's name is Yaman peshawari\n",
      "Age: 10\n",
      "Gender: Male\n",
      "Campus: SMIT\n"
     ]
    }
   ],
   "source": [
    "kashan.describe_user()\n",
    "ghafar.describe_user()\n",
    "yaman.describe_user()"
   ]
  },
  {
   "cell_type": "markdown",
   "id": "d325c702",
   "metadata": {},
   "source": [
    "#### Modifying Attribute Values"
   ]
  },
  {
   "cell_type": "markdown",
   "id": "db83af80-2a8c-487a-8958-c88043a4163b",
   "metadata": {},
   "source": []
  },
  {
   "cell_type": "code",
   "execution_count": 66,
   "id": "b879eb7f-e20b-41a5-b545-9d49733dae1b",
   "metadata": {},
   "outputs": [],
   "source": [
    "class User:\n",
    "    def __init__(self, first_name, last_name, gender, age):\n",
    "        self.first_name = first_name\n",
    "        self.last_name = last_name\n",
    "        self.gender = gender\n",
    "        self.age = age\n",
    "        self.campus = 'SMIT'\n",
    "\n",
    "    def describe_user(self):\n",
    "        print(f\"User's name is {self.first_name} {self.last_name}\\nAge: {self.age}\\nGender: {self.gender}\\nCampus: {self.campus}\")\n",
    "\n",
    "    def greet_user(self):\n",
    "        print(f'Hello {self.first_name}Welcome to our page')\n",
    "\n",
    "    def set_attribute(self, new_campus):\n",
    "        self.campus = new_campus"
   ]
  },
  {
   "cell_type": "code",
   "execution_count": 67,
   "id": "fea12111-2a79-429b-ad5c-37cf3935743b",
   "metadata": {},
   "outputs": [],
   "source": [
    "kashan = User('Kashan', 'khan', \"Male\", 20)\n",
    "yaman = User('Yaman', 'peshawari', \"Male\", 10)\n",
    "ghafar = User('Ghafar', 'sawati', \"Male\", 12)"
   ]
  },
  {
   "cell_type": "code",
   "execution_count": 68,
   "id": "51cdad6f",
   "metadata": {},
   "outputs": [],
   "source": [
    "#Modifying an Attribute’s Value Directly\n",
    "kashan.campus = \"JDC\""
   ]
  },
  {
   "cell_type": "code",
   "execution_count": 69,
   "id": "bdf70c82",
   "metadata": {},
   "outputs": [
    {
     "data": {
      "text/plain": [
       "'JDC'"
      ]
     },
     "execution_count": 69,
     "metadata": {},
     "output_type": "execute_result"
    }
   ],
   "source": [
    "kashan.campus"
   ]
  },
  {
   "cell_type": "code",
   "execution_count": 70,
   "id": "a5348cde",
   "metadata": {},
   "outputs": [
    {
     "data": {
      "text/plain": [
       "'SMIT'"
      ]
     },
     "execution_count": 70,
     "metadata": {},
     "output_type": "execute_result"
    }
   ],
   "source": [
    "yaman.campus"
   ]
  },
  {
   "cell_type": "code",
   "execution_count": 71,
   "id": "14afbaa5",
   "metadata": {},
   "outputs": [],
   "source": [
    "# Modifying an Attribute’s Value Through a Method\n",
    "kashan.set_attribute('JDC')"
   ]
  },
  {
   "cell_type": "code",
   "execution_count": 72,
   "id": "fec3ced9",
   "metadata": {},
   "outputs": [
    {
     "data": {
      "text/plain": [
       "'JDC'"
      ]
     },
     "execution_count": 72,
     "metadata": {},
     "output_type": "execute_result"
    }
   ],
   "source": [
    "kashan.campus"
   ]
  },
  {
   "cell_type": "code",
   "execution_count": 73,
   "id": "9a436c95",
   "metadata": {},
   "outputs": [
    {
     "data": {
      "text/plain": [
       "'SMIT'"
      ]
     },
     "execution_count": 73,
     "metadata": {},
     "output_type": "execute_result"
    }
   ],
   "source": [
    "yaman.campus"
   ]
  },
  {
   "cell_type": "code",
   "execution_count": 74,
   "id": "8e021ad6",
   "metadata": {},
   "outputs": [],
   "source": [
    "class User:\n",
    "    def __init__(self, first_name, last_name, gender, age):\n",
    "        self.first_name = first_name\n",
    "        self.last_name = last_name\n",
    "        self.gender = gender\n",
    "        self.age = age\n",
    "        self.campus = 'SMIT'\n",
    "\n",
    "    def describe_user(self):\n",
    "        print(f\"User's name is {self.first_name} {self.last_name}\\nAge: {self.age}\\nGender: {self.gender}\\nCampus: {self.campus}\")\n",
    "\n",
    "    def greet_user(self):\n",
    "        print(f'Hello {self.first_name}Welcome to our page')\n",
    "\n",
    "    def set_attribute(self,attribute, value):\n",
    "        # self.attribute = value\n",
    "        setattr(self, attribute, value)"
   ]
  },
  {
   "cell_type": "code",
   "execution_count": 75,
   "id": "f03c6b88",
   "metadata": {},
   "outputs": [
    {
     "data": {
      "text/plain": [
       "'Kashan'"
      ]
     },
     "execution_count": 75,
     "metadata": {},
     "output_type": "execute_result"
    }
   ],
   "source": [
    "kashan.first_name"
   ]
  },
  {
   "cell_type": "code",
   "execution_count": 77,
   "id": "230e846a",
   "metadata": {},
   "outputs": [
    {
     "ename": "TypeError",
     "evalue": "User.set_attribute() takes 2 positional arguments but 3 were given",
     "output_type": "error",
     "traceback": [
      "\u001b[31m---------------------------------------------------------------------------\u001b[39m",
      "\u001b[31mTypeError\u001b[39m                                 Traceback (most recent call last)",
      "\u001b[36mCell\u001b[39m\u001b[36m \u001b[39m\u001b[32mIn[77]\u001b[39m\u001b[32m, line 1\u001b[39m\n\u001b[32m----> \u001b[39m\u001b[32m1\u001b[39m new_var = \u001b[43mkashan\u001b[49m\u001b[43m.\u001b[49m\u001b[43mset_attribute\u001b[49m\u001b[43m(\u001b[49m\u001b[33;43m'\u001b[39;49m\u001b[33;43mfirst_name\u001b[39;49m\u001b[33;43m'\u001b[39;49m\u001b[43m,\u001b[49m\u001b[43m \u001b[49m\u001b[33;43m'\u001b[39;49m\u001b[33;43minnocent\u001b[39;49m\u001b[33;43m'\u001b[39;49m\u001b[43m)\u001b[49m\n\u001b[32m      2\u001b[39m new_var\n",
      "\u001b[31mTypeError\u001b[39m: User.set_attribute() takes 2 positional arguments but 3 were given"
     ]
    }
   ],
   "source": [
    "new_var = kashan.set_attribute('first_name', 'innocent')\n",
    "new_var"
   ]
  },
  {
   "cell_type": "code",
   "execution_count": null,
   "id": "5b381e35",
   "metadata": {},
   "outputs": [
    {
     "data": {
      "text/plain": [
       "'Kashan'"
      ]
     },
     "execution_count": 49,
     "metadata": {},
     "output_type": "execute_result"
    }
   ],
   "source": [
    "kashan.first_name"
   ]
  },
  {
   "cell_type": "code",
   "execution_count": 78,
   "id": "1184063f",
   "metadata": {},
   "outputs": [
    {
     "ename": "TypeError",
     "evalue": "User.set_attribute() takes 2 positional arguments but 3 were given",
     "output_type": "error",
     "traceback": [
      "\u001b[31m---------------------------------------------------------------------------\u001b[39m",
      "\u001b[31mTypeError\u001b[39m                                 Traceback (most recent call last)",
      "\u001b[36mCell\u001b[39m\u001b[36m \u001b[39m\u001b[32mIn[78]\u001b[39m\u001b[32m, line 1\u001b[39m\n\u001b[32m----> \u001b[39m\u001b[32m1\u001b[39m \u001b[43mkashan\u001b[49m\u001b[43m.\u001b[49m\u001b[43mset_attribute\u001b[49m\u001b[43m(\u001b[49m\u001b[33;43m'\u001b[39;49m\u001b[33;43mlast_name\u001b[39;49m\u001b[33;43m'\u001b[39;49m\u001b[43m,\u001b[49m\u001b[43m \u001b[49m\u001b[33;43m'\u001b[39;49m\u001b[33;43mkashan\u001b[39;49m\u001b[33;43m'\u001b[39;49m\u001b[43m)\u001b[49m\n",
      "\u001b[31mTypeError\u001b[39m: User.set_attribute() takes 2 positional arguments but 3 were given"
     ]
    }
   ],
   "source": [
    "kashan.set_attribute('last_name', 'kashan')"
   ]
  },
  {
   "cell_type": "code",
   "execution_count": 80,
   "id": "4fcaa8df",
   "metadata": {},
   "outputs": [
    {
     "data": {
      "text/plain": [
       "'khan'"
      ]
     },
     "execution_count": 80,
     "metadata": {},
     "output_type": "execute_result"
    }
   ],
   "source": [
    "kashan.last_name"
   ]
  },
  {
   "cell_type": "code",
   "execution_count": 81,
   "id": "6e3422f5",
   "metadata": {},
   "outputs": [
    {
     "name": "stdout",
     "output_type": "stream",
     "text": [
      "User's name is Kashan khan\n",
      "Age: 20\n",
      "Gender: Male\n",
      "Campus: JDC\n"
     ]
    }
   ],
   "source": [
    "kashan.describe_user()"
   ]
  },
  {
   "cell_type": "code",
   "execution_count": null,
   "id": "fc761e8e",
   "metadata": {},
   "outputs": [],
   "source": []
  }
 ],
 "metadata": {
  "kernelspec": {
   "display_name": "Python 3",
   "language": "python",
   "name": "python3"
  },
  "language_info": {
   "codemirror_mode": {
    "name": "ipython",
    "version": 3
   },
   "file_extension": ".py",
   "mimetype": "text/x-python",
   "name": "python",
   "nbconvert_exporter": "python",
   "pygments_lexer": "ipython3",
   "version": "3.13.5"
  }
 },
 "nbformat": 4,
 "nbformat_minor": 5
}
