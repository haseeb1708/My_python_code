{
 "cells": [
  {
   "cell_type": "code",
   "execution_count": 2,
   "id": "c4529fdc-72a8-48a8-b7a9-8da72b1c7683",
   "metadata": {},
   "outputs": [],
   "source": [
    "class User:\n",
    "    def __init__(self, first_name, last_name, gender, age):\n",
    "        self.first_name = first_name\n",
    "        self.last_name = last_name\n",
    "        self.gender = gender\n",
    "        self.age = age\n",
    "        self.campus = 'SMIT'\n",
    "\n",
    "    def describe_user(self):\n",
    "        print(f\"User's name is {self.first_name} {self.last_name}\\nAge: {self.age}\\nGender: {self.gender}\\nCampus: {self.campus}\")\n",
    "\n",
    "    def greet_user(self):\n",
    "        print(f'Hello {self.first_name}Welcome to our page')\n",
    "\n",
    "    def set_attribute(self,attribute, value):\n",
    "        # self.attribute = value\n",
    "        setattr(self, attribute, value)"
   ]
  },
  {
   "cell_type": "code",
   "execution_count": 3,
   "id": "ed8458dc-7942-426e-b887-d317116d4f65",
   "metadata": {},
   "outputs": [],
   "source": [
    "kashan = User('Kashan', 'khan', \"Male\", 20)"
   ]
  },
  {
   "cell_type": "code",
   "execution_count": 4,
   "id": "0e3a618b",
   "metadata": {},
   "outputs": [
    {
     "data": {
      "text/plain": [
       "'Kashan'"
      ]
     },
     "execution_count": 4,
     "metadata": {},
     "output_type": "execute_result"
    }
   ],
   "source": [
    "kashan.first_name"
   ]
  },
  {
   "cell_type": "code",
   "execution_count": 5,
   "id": "75a8f76c",
   "metadata": {},
   "outputs": [
    {
     "data": {
      "text/plain": [
       "'khan'"
      ]
     },
     "execution_count": 5,
     "metadata": {},
     "output_type": "execute_result"
    }
   ],
   "source": [
    "kashan.last_name"
   ]
  },
  {
   "cell_type": "code",
   "execution_count": 6,
   "id": "e493c74c",
   "metadata": {},
   "outputs": [],
   "source": [
    "kashan.set_attribute('first_name', 'saleem')"
   ]
  },
  {
   "cell_type": "code",
   "execution_count": 7,
   "id": "941391c1",
   "metadata": {},
   "outputs": [
    {
     "data": {
      "text/plain": [
       "'saleem'"
      ]
     },
     "execution_count": 7,
     "metadata": {},
     "output_type": "execute_result"
    }
   ],
   "source": [
    "kashan.first_name"
   ]
  },
  {
   "cell_type": "code",
   "execution_count": 8,
   "id": "ac839976",
   "metadata": {},
   "outputs": [],
   "source": [
    "class User:\n",
    "    def __init__(self, first_name, last_name, gender, age):\n",
    "        self.first_name = first_name\n",
    "        self.last_name = last_name\n",
    "        self.gender = gender\n",
    "        self.age = age\n",
    "        self.campus = 'SMIT'\n",
    "\n",
    "    def describe_user(self):\n",
    "        print(f\"User's name is {self.first_name} {self.last_name}\\nAge: {self.age}\\nGender: {self.gender}\\nCampus: {self.campus}\")\n",
    "\n",
    "    def greet_user(self):\n",
    "        print(f'Hello {self.first_name}Welcome to our page')\n",
    "        \n",
    "    # No need to create this method, since we have built in method setattr\n",
    "\n",
    "    # def set_attribute(self,attribute, value):\n",
    "    #     # self.attribute = value\n",
    "    #     setattr(self, attribute, value)"
   ]
  },
  {
   "cell_type": "code",
   "execution_count": 9,
   "id": "f279ebd7",
   "metadata": {},
   "outputs": [],
   "source": [
    "\n",
    "setattr(kashan, 'first_name', 'kashan' )"
   ]
  },
  {
   "cell_type": "code",
   "execution_count": 10,
   "id": "be167be7",
   "metadata": {},
   "outputs": [
    {
     "data": {
      "text/plain": [
       "'kashan'"
      ]
     },
     "execution_count": 10,
     "metadata": {},
     "output_type": "execute_result"
    }
   ],
   "source": [
    "kashan.first_name"
   ]
  },
  {
   "cell_type": "code",
   "execution_count": 11,
   "id": "fbe97ddf",
   "metadata": {},
   "outputs": [],
   "source": [
    "class Restaurant:\n",
    "    def __init__(self, restaurant_name, cuisine_type):\n",
    "        self.restaurant_name = restaurant_name\n",
    "        self.cuisine_type = cuisine_type\n",
    "        self.number_served = 0\n",
    "\n",
    "\n",
    "    def describe_restaurant(self):\n",
    "        print(f'Restaurant Name: {self.restaurant_name}\\nCuisine Type: {self.cuisine_type}')\n",
    "\n",
    "    def open_restaurant(self):\n",
    "        print(f'This restaurant named {self.restaurant_name} is open today')\n",
    "\n",
    "    def set_number_served(self, new_value):\n",
    "        self.number_served = new_value\n",
    "\n",
    "    def increment_number_served(self, new_value):\n",
    "        self.number_served += new_value\n",
    "\n",
    "    def increament_one(self):\n",
    "        self.number_server += 1\n",
    "    def reset_zero(self):\n",
    "        self.number_server  = 0"
   ]
  },
  {
   "cell_type": "code",
   "execution_count": 12,
   "id": "23ecc414",
   "metadata": {},
   "outputs": [],
   "source": [
    "restaurant = Restaurant('Char Diwari', 'Asian')"
   ]
  },
  {
   "cell_type": "code",
   "execution_count": 13,
   "id": "c232eef6",
   "metadata": {},
   "outputs": [
    {
     "name": "stdout",
     "output_type": "stream",
     "text": [
      "0\n"
     ]
    }
   ],
   "source": [
    "print(restaurant.number_served)"
   ]
  },
  {
   "cell_type": "code",
   "execution_count": 14,
   "id": "4e38d5a8",
   "metadata": {},
   "outputs": [],
   "source": [
    "restaurant.number_served = 2"
   ]
  },
  {
   "cell_type": "code",
   "execution_count": 15,
   "id": "d51c8dd1",
   "metadata": {},
   "outputs": [
    {
     "name": "stdout",
     "output_type": "stream",
     "text": [
      "2\n"
     ]
    }
   ],
   "source": [
    "print(restaurant.number_served)"
   ]
  },
  {
   "cell_type": "code",
   "execution_count": 16,
   "id": "acf1b805",
   "metadata": {},
   "outputs": [],
   "source": [
    "restaurant.set_number_served(4)"
   ]
  },
  {
   "cell_type": "code",
   "execution_count": 17,
   "id": "acfcaf1c",
   "metadata": {},
   "outputs": [
    {
     "data": {
      "text/plain": [
       "4"
      ]
     },
     "execution_count": 17,
     "metadata": {},
     "output_type": "execute_result"
    }
   ],
   "source": [
    "restaurant.number_served"
   ]
  },
  {
   "cell_type": "code",
   "execution_count": 18,
   "id": "5628bd24",
   "metadata": {},
   "outputs": [],
   "source": [
    "restaurant.increment_number_served(5)"
   ]
  },
  {
   "cell_type": "code",
   "execution_count": 19,
   "id": "faba9f4a",
   "metadata": {},
   "outputs": [
    {
     "data": {
      "text/plain": [
       "9"
      ]
     },
     "execution_count": 19,
     "metadata": {},
     "output_type": "execute_result"
    }
   ],
   "source": [
    "restaurant.number_served"
   ]
  },
  {
   "cell_type": "code",
   "execution_count": 20,
   "id": "556d854d",
   "metadata": {},
   "outputs": [],
   "source": [
    "class Car:\n",
    "    def __init__(self,make, model, year):\n",
    "        # Attributes\n",
    "        self.make = make\n",
    "        self.model = model\n",
    "        self.year =  year \n",
    "    \n",
    "    # Methods\n",
    "    def apply_accelerator(self):\n",
    "        print('Accelerator is applied')\n",
    "    \n",
    "    def apply_breaks(self):\n",
    "        print('Brakes are applied')"
   ]
  },
  {
   "cell_type": "code",
   "execution_count": 21,
   "id": "a142c0a0",
   "metadata": {},
   "outputs": [],
   "source": [
    "class ElectricCar:\n",
    "    def __init__(self,make, model, year, battery):\n",
    "        # Attributes\n",
    "        self.make = make\n",
    "        self.model = model\n",
    "        self.year =  year \n",
    "        # Additional Attribute\n",
    "        self.battery = battery\n",
    "    \n",
    "    # Methods\n",
    "    def apply_accelerator(self):\n",
    "        print('Accelerator is applied')\n",
    "    \n",
    "    def apply_breaks(self):\n",
    "        print('Brakes are applied')\n",
    "\n",
    "    # Additional Method\n",
    "    def recharge(self):\n",
    "        print('The battery is recharged now ')"
   ]
  },
  {
   "cell_type": "code",
   "execution_count": 22,
   "id": "024739fe",
   "metadata": {},
   "outputs": [],
   "source": [
    "ec1 = ElectricCar('toyota', 'corrola', '2025', 'Osaka')"
   ]
  },
  {
   "cell_type": "code",
   "execution_count": 23,
   "id": "4b9a30b8",
   "metadata": {},
   "outputs": [
    {
     "name": "stdout",
     "output_type": "stream",
     "text": [
      "The battery is recharged now \n"
     ]
    }
   ],
   "source": [
    "ec1.recharge()"
   ]
  },
  {
   "cell_type": "markdown",
   "id": "cb3c3455-914c-4fcd-a3f0-113de050e542",
   "metadata": {},
   "source": [
    "#### Single Inheritance"
   ]
  },
  {
   "cell_type": "code",
   "execution_count": 27,
   "id": "29b2b251",
   "metadata": {},
   "outputs": [],
   "source": [
    "class ElectricCar(Car):\n",
    "    def __init__(self,make, model, year, battery):\n",
    "        super().__init__(make,model,year)\n",
    "\n",
    "        # Additional Attribute\n",
    "        self.battery = battery\n",
    "\n",
    "\n",
    "    # Additional Method\n",
    "    def recharge(self):\n",
    "        print('The battery is recharged now ')"
   ]
  },
  {
   "cell_type": "code",
   "execution_count": 28,
   "id": "78b901e0",
   "metadata": {},
   "outputs": [],
   "source": [
    "ec2 = ElectricCar('Honda', 'Civic',2020, 'osaka')"
   ]
  },
  {
   "cell_type": "code",
   "execution_count": 29,
   "id": "2ac4cd79",
   "metadata": {},
   "outputs": [
    {
     "data": {
      "text/plain": [
       "'Honda'"
      ]
     },
     "execution_count": 29,
     "metadata": {},
     "output_type": "execute_result"
    }
   ],
   "source": [
    "ec2.make"
   ]
  },
  {
   "cell_type": "code",
   "execution_count": 31,
   "id": "d9b7aa9d",
   "metadata": {},
   "outputs": [
    {
     "data": {
      "text/plain": [
       "'osaka'"
      ]
     },
     "execution_count": 31,
     "metadata": {},
     "output_type": "execute_result"
    }
   ],
   "source": [
    "ec2.battery"
   ]
  },
  {
   "cell_type": "code",
   "execution_count": 32,
   "id": "2989ac42",
   "metadata": {},
   "outputs": [],
   "source": [
    "class Restaurant:\n",
    "    def __init__(self, restaurant_name, cuisine_type):\n",
    "        self.restaurant_name = restaurant_name\n",
    "        self.cuisine_type = cuisine_type\n",
    "        self.number_served = 0\n",
    "\n",
    "\n",
    "    def describe_restaurant(self):\n",
    "        print(f'Restaurant Name: {self.restaurant_name}\\nCuisine Type: {self.cuisine_type}')\n",
    "\n",
    "    def open_restaurant(self):\n",
    "        print(f'This restaurant named {self.restaurant_name} is open today')\n",
    "\n",
    "    def set_number_served(self, new_value):\n",
    "        self.number_served = new_value\n",
    "\n",
    "    def increment_number_served(self, new_value):\n",
    "        self.number_served += new_value\n",
    "\n",
    "    def increament_one(self):\n",
    "        self.number_server += 1\n",
    "    def reset_zero(self):\n",
    "        self.number_server  = 0"
   ]
  },
  {
   "cell_type": "code",
   "execution_count": 33,
   "id": "eb72db01",
   "metadata": {},
   "outputs": [],
   "source": [
    "class IceCreamStand(Restaurant):\n",
    "    def __init__(self, restaurant_name, cuisine_type, flavors):\n",
    "        super().__init__(restaurant_name, cuisine_type)\n",
    "\n",
    "        self.flavors = flavors\n",
    "\n",
    "    def display_flavors(self):\n",
    "        print(f'These are the flavors {', '.join(self.flavors)}')"
   ]
  },
  {
   "cell_type": "code",
   "execution_count": 34,
   "id": "2f6f6dd1",
   "metadata": {},
   "outputs": [],
   "source": [
    "ice1 = IceCreamStand('Al haj akhtar','Mexican',['Mango', 'Chocolate', 'Vanila'] )"
   ]
  },
  {
   "cell_type": "code",
   "execution_count": 35,
   "id": "9735e070",
   "metadata": {},
   "outputs": [
    {
     "name": "stdout",
     "output_type": "stream",
     "text": [
      "These are the flavors Mango, Chocolate, Vanila\n"
     ]
    }
   ],
   "source": [
    "ice1.display_flavors()"
   ]
  },
  {
   "cell_type": "code",
   "execution_count": 36,
   "id": "ff2603ae",
   "metadata": {},
   "outputs": [
    {
     "data": {
      "text/plain": [
       "'Mexican'"
      ]
     },
     "execution_count": 36,
     "metadata": {},
     "output_type": "execute_result"
    }
   ],
   "source": [
    "ice1.cuisine_type"
   ]
  },
  {
   "cell_type": "code",
   "execution_count": 37,
   "id": "71db2ceb",
   "metadata": {},
   "outputs": [
    {
     "name": "stdout",
     "output_type": "stream",
     "text": [
      "Restaurant Name: Al haj akhtar\n",
      "Cuisine Type: Mexican\n"
     ]
    }
   ],
   "source": [
    "ice1.describe_restaurant()"
   ]
  },
  {
   "cell_type": "code",
   "execution_count": 38,
   "id": "29974a37",
   "metadata": {},
   "outputs": [],
   "source": [
    "class User:\n",
    "    def __init__(self, first_name, last_name, gender, age):\n",
    "        self.first_name = first_name\n",
    "        self.last_name = last_name\n",
    "        self.gender = gender\n",
    "        self.age = age\n",
    "        self.campus = 'SMIT'\n",
    "\n",
    "    def describe_user(self):\n",
    "        print(f\"User's name is {self.first_name} {self.last_name}\\nAge: {self.age}\\nGender: {self.gender}\\nCampus: {self.campus}\")\n",
    "\n",
    "    def greet_user(self):\n",
    "        print(f'Hello {self.first_name}Welcome to our page')\n",
    "        \n",
    "    # No need to create this method, since we have built in method setattr\n",
    "\n",
    "    # def set_attribute(self,attribute, value):\n",
    "    #     # self.attribute = value\n",
    "    #     setattr(self, attribute, value)"
   ]
  },
  {
   "cell_type": "code",
   "execution_count": 39,
   "id": "000a81f2",
   "metadata": {},
   "outputs": [],
   "source": [
    "class Admin(User):\n",
    "    def __init__(self, first_name, last_name, gender, age, privileges):\n",
    "        super().__init__(first_name, last_name, gender, age)\n",
    "\n",
    "        self.privileges = privileges\n",
    "\n",
    "    def show_privileges(self):\n",
    "        print(f'These are the privileges {', '.join(self.privileges)}')"
   ]
  },
  {
   "cell_type": "code",
   "execution_count": 40,
   "id": "87e18e92",
   "metadata": {},
   "outputs": [],
   "source": [
    "admin1 = Admin('Ali', 'khan', 'Male', 18, [\"can add post\", \"can delete post\", \"can ban user\"])"
   ]
  },
  {
   "cell_type": "code",
   "execution_count": 41,
   "id": "172bc8ac",
   "metadata": {},
   "outputs": [
    {
     "name": "stdout",
     "output_type": "stream",
     "text": [
      "These are the privileges can add post, can delete post, can ban user\n"
     ]
    }
   ],
   "source": [
    "admin1.show_privileges()"
   ]
  },
  {
   "cell_type": "markdown",
   "id": "15b7ee6a",
   "metadata": {},
   "source": [
    "#### Instances as Attributes"
   ]
  },
  {
   "cell_type": "code",
   "execution_count": 42,
   "id": "4fcccbbd",
   "metadata": {},
   "outputs": [],
   "source": [
    "class Car:\n",
    "    def __init__(self,make, model, year):\n",
    "        # Attributes\n",
    "        self.make = make\n",
    "        self.model = model\n",
    "        self.year =  year \n",
    "    \n",
    "    # Methods\n",
    "    def apply_accelerator(self):\n",
    "        print('Accelerator is applied')\n",
    "    \n",
    "    def apply_breaks(self):\n",
    "        print('Brakes are applied')"
   ]
  },
  {
   "cell_type": "code",
   "execution_count": 43,
   "id": "b407a812",
   "metadata": {},
   "outputs": [],
   "source": [
    "class Battery:\n",
    "    def __init__(self, company, voltage, capacity):\n",
    "        self.company = company  \n",
    "        self.voltage = voltage  \n",
    "        self.capacity = capacity  \n",
    "\n",
    "    def battery_info(self):\n",
    "        print(f'Company: {self. company}\\nVoltage:{self.voltage}\\nCapacity: {self.capacity}')\n"
   ]
  },
  {
   "cell_type": "code",
   "execution_count": 49,
   "id": "e6c4db04",
   "metadata": {},
   "outputs": [],
   "source": [
    "class ElectricCar(Car):\n",
    "    def __init__(self,make, model, year, company, voltage, capacity):\n",
    "        super().__init__(make,model,year)\n",
    "\n",
    "        # Additional Attribute\n",
    "        self.battery = Battery(company, voltage, capacity)\n",
    "\n",
    "\n",
    "    # Additional Method\n",
    "    def recharge(self):\n",
    "        print('The battery is recharged now ')"
   ]
  },
  {
   "cell_type": "code",
   "execution_count": 50,
   "id": "68ddb028",
   "metadata": {},
   "outputs": [],
   "source": [
    "b1 = Battery('osaka','12V', '55AH')"
   ]
  },
  {
   "cell_type": "code",
   "execution_count": 51,
   "id": "011a6e5c",
   "metadata": {},
   "outputs": [
    {
     "name": "stdout",
     "output_type": "stream",
     "text": [
      "Company: osaka\n",
      "Voltage:12V\n",
      "Capacity: 55AH\n"
     ]
    }
   ],
   "source": [
    "b1.battery_info()"
   ]
  },
  {
   "cell_type": "code",
   "execution_count": 54,
   "id": "1f710e52",
   "metadata": {},
   "outputs": [
    {
     "ename": "TypeError",
     "evalue": "ElectricCar.__init__() missing 2 required positional arguments: 'voltage' and 'capacity'",
     "output_type": "error",
     "traceback": [
      "\u001b[31m---------------------------------------------------------------------------\u001b[39m",
      "\u001b[31mTypeError\u001b[39m                                 Traceback (most recent call last)",
      "\u001b[36mCell\u001b[39m\u001b[36m \u001b[39m\u001b[32mIn[54]\u001b[39m\u001b[32m, line 2\u001b[39m\n\u001b[32m      1\u001b[39m b1 = Battery(\u001b[33m'\u001b[39m\u001b[33mosaka\u001b[39m\u001b[33m'\u001b[39m,\u001b[33m'\u001b[39m\u001b[33m12V\u001b[39m\u001b[33m'\u001b[39m, \u001b[33m'\u001b[39m\u001b[33m55AH\u001b[39m\u001b[33m'\u001b[39m)\n\u001b[32m----> \u001b[39m\u001b[32m2\u001b[39m newec = \u001b[43mElectricCar\u001b[49m\u001b[43m(\u001b[49m\u001b[33;43m'\u001b[39;49m\u001b[33;43mHonda\u001b[39;49m\u001b[33;43m'\u001b[39;49m\u001b[43m,\u001b[49m\u001b[43m \u001b[49m\u001b[33;43m'\u001b[39;49m\u001b[33;43mCivic\u001b[39;49m\u001b[33;43m'\u001b[39;49m\u001b[43m,\u001b[49m\u001b[43m \u001b[49m\u001b[32;43m2025\u001b[39;49m\u001b[43m,\u001b[49m\u001b[43m \u001b[49m\u001b[43mb1\u001b[49m\u001b[43m)\u001b[49m \n",
      "\u001b[31mTypeError\u001b[39m: ElectricCar.__init__() missing 2 required positional arguments: 'voltage' and 'capacity'"
     ]
    }
   ],
   "source": [
    "b1 = Battery('osaka','12V', '55AH')\n",
    "newec = ElectricCar('Honda', 'Civic', 2025, b1) "
   ]
  },
  {
   "cell_type": "code",
   "execution_count": 55,
   "id": "64f3ea50",
   "metadata": {},
   "outputs": [
    {
     "ename": "NameError",
     "evalue": "name 'newec' is not defined",
     "output_type": "error",
     "traceback": [
      "\u001b[31m---------------------------------------------------------------------------\u001b[39m",
      "\u001b[31mNameError\u001b[39m                                 Traceback (most recent call last)",
      "\u001b[36mCell\u001b[39m\u001b[36m \u001b[39m\u001b[32mIn[55]\u001b[39m\u001b[32m, line 1\u001b[39m\n\u001b[32m----> \u001b[39m\u001b[32m1\u001b[39m \u001b[43mnewec\u001b[49m.battery.battery_info()\n",
      "\u001b[31mNameError\u001b[39m: name 'newec' is not defined"
     ]
    }
   ],
   "source": [
    "newec.battery.battery_info()"
   ]
  },
  {
   "cell_type": "code",
   "execution_count": 56,
   "id": "516fa85f",
   "metadata": {},
   "outputs": [],
   "source": [
    "newec = ElectricCar('Honda', 'Civic', 2025, 'osaka','12V', '55AH')"
   ]
  },
  {
   "cell_type": "code",
   "execution_count": 57,
   "id": "58ec1cbe",
   "metadata": {},
   "outputs": [
    {
     "name": "stdout",
     "output_type": "stream",
     "text": [
      "Company: osaka\n",
      "Voltage:12V\n",
      "Capacity: 55AH\n"
     ]
    }
   ],
   "source": [
    "newec.battery.battery_info()"
   ]
  }
 ],
 "metadata": {
  "kernelspec": {
   "display_name": "Python 3",
   "language": "python",
   "name": "python3"
  },
  "language_info": {
   "codemirror_mode": {
    "name": "ipython",
    "version": 3
   },
   "file_extension": ".py",
   "mimetype": "text/x-python",
   "name": "python",
   "nbconvert_exporter": "python",
   "pygments_lexer": "ipython3",
   "version": "3.13.5"
  }
 },
 "nbformat": 4,
 "nbformat_minor": 5
}
