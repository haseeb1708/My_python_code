{
 "cells": [
  {
   "cell_type": "markdown",
   "id": "15969f5c-7195-4bac-9334-4469535f0b6b",
   "metadata": {},
   "source": [
    "### NESTED IF"
   ]
  },
  {
   "cell_type": "markdown",
   "id": "541b52f4-a3a1-4f9a-bbaa-b001a1379f76",
   "metadata": {},
   "source": [
    "requirement:\n",
    "- Bike\n",
    "- 125\n",
    "- Honda\n",
    "- 2025\n",
    "- Red\n",
    "- New"
   ]
  },
  {
   "cell_type": "code",
   "execution_count": 8,
   "id": "27a9ed0a-bd3f-4693-8219-741045051dec",
   "metadata": {},
   "outputs": [
    {
     "name": "stdin",
     "output_type": "stream",
     "text": [
      "Beta kiya chahiye?  Bike\n",
      "Konsi cc chahiye?  125\n",
      "Konsi company ki?  Honda\n",
      "Konsa model chahye?  2025\n",
      "Konsa color chahiye?  Red\n",
      "Acha new chahye ya purani?  New\n"
     ]
    },
    {
     "name": "stdout",
     "output_type": "stream",
     "text": [
      "Thik hai bhai, Done\n"
     ]
    }
   ],
   "source": [
    "vehicle = input('Beta kiya chahiye? ')\n",
    "if vehicle == 'Bike':\n",
    "    cc = input('Konsi cc chahiye? ')\n",
    "\n",
    "    if cc == '125':\n",
    "        company = input('Konsi company ki? ')\n",
    "\n",
    "        if company == 'Honda':\n",
    "            model = int(input('Konsa model chahye? '))  # Converting input to integer\n",
    "            \n",
    "            if model == 2025:\n",
    "                color = input('Konsa color chahiye? ')  # Asking for color\n",
    "\n",
    "                if color == 'Red':\n",
    "                    condition = input('Acha new chahye ya purani? ')\n",
    "\n",
    "                    if condition == 'New':\n",
    "                        print('Thik hai bhai, Done')\n",
    "                    else:\n",
    "                        print('Purani nahi chahiye')\n",
    "\n",
    "                else:\n",
    "                    print('Mujhe to red chahye')\n",
    "                    \n",
    "            else:\n",
    "                print('Me te honda ee laysan')\n",
    "\n",
    "        else: \n",
    "            print('Mujhe to 2025 ka chahiye')\n",
    "            \n",
    "    else:\n",
    "        print('Mujhe 125 chahiye')\n",
    "\n",
    "else:\n",
    "    print('Beta kuchh or mango')\n"
   ]
  },
  {
   "cell_type": "markdown",
   "id": "90aec534-1c8f-4bee-b1c8-70355ef68d3f",
   "metadata": {},
   "source": [
    "### LOOPS\n",
    "- for\n",
    "- While"
   ]
  },
  {
   "cell_type": "code",
   "execution_count": 10,
   "id": "0d6b5070-e14d-48c0-957f-7bfaf69a153d",
   "metadata": {},
   "outputs": [
    {
     "name": "stdout",
     "output_type": "stream",
     "text": [
      "This is a line\n",
      "This is a line\n",
      "This is a line\n",
      "This is a line\n",
      "This is a line\n"
     ]
    }
   ],
   "source": [
    "for variable_name in range(5):\n",
    "    print('This is a line')"
   ]
  },
  {
   "cell_type": "code",
   "execution_count": 11,
   "id": "8b3e5000-3438-4078-bec1-7b26e2af7e9c",
   "metadata": {},
   "outputs": [
    {
     "name": "stdout",
     "output_type": "stream",
     "text": [
      "0\n",
      "1\n",
      "2\n",
      "3\n",
      "4\n",
      "5\n"
     ]
    }
   ],
   "source": [
    "for num in range(6):\n",
    "    print(num)"
   ]
  },
  {
   "cell_type": "code",
   "execution_count": 18,
   "id": "c8df0d57-844b-4e7b-8a16-54a25d870f4f",
   "metadata": {},
   "outputs": [
    {
     "data": {
      "text/plain": [
       "range"
      ]
     },
     "execution_count": 18,
     "metadata": {},
     "output_type": "execute_result"
    }
   ],
   "source": [
    "type(range(5))"
   ]
  },
  {
   "cell_type": "code",
   "execution_count": 23,
   "id": "f9425930-af88-4583-abf1-584fee987106",
   "metadata": {},
   "outputs": [
    {
     "name": "stdout",
     "output_type": "stream",
     "text": [
      "2 x 0 = 0\n",
      "2 x 1 = 2\n",
      "2 x 2 = 4\n",
      "2 x 3 = 6\n",
      "2 x 4 = 8\n",
      "2 x 5 = 10\n",
      "2 x 6 = 12\n",
      "2 x 7 = 14\n",
      "2 x 8 = 16\n",
      "2 x 9 = 18\n",
      "2 x 10 = 20\n"
     ]
    }
   ],
   "source": [
    "# for variable in iterable\n",
    "for num in range(11):\n",
    "    print(f'2 x {num} = {2*num}')"
   ]
  },
  {
   "cell_type": "code",
   "execution_count": 30,
   "id": "9cc780ed-71f0-4a87-a6af-90e05a2d5dfd",
   "metadata": {},
   "outputs": [],
   "source": [
    "data = {\n",
    "    \"name\": \"Alice\",\n",
    "    \"age\": 20,\n",
    "    \"major\": \"Computer Science\"\n",
    "}"
   ]
  },
  {
   "cell_type": "code",
   "execution_count": 31,
   "id": "781949a9-1e0e-41ff-877a-deb45f16beb5",
   "metadata": {},
   "outputs": [
    {
     "data": {
      "text/plain": [
       "dict_values(['Alice', 20, 'Computer Science'])"
      ]
     },
     "execution_count": 31,
     "metadata": {},
     "output_type": "execute_result"
    }
   ],
   "source": [
    "data.values()"
   ]
  },
  {
   "cell_type": "code",
   "execution_count": 29,
   "id": "2c545b44-00aa-45d3-a377-ee78c7e5ab9e",
   "metadata": {},
   "outputs": [
    {
     "name": "stdout",
     "output_type": "stream",
     "text": [
      "Alice\n",
      "20\n",
      "Computer Science\n"
     ]
    }
   ],
   "source": [
    "for info in data.values():\n",
    "    print(info)"
   ]
  },
  {
   "cell_type": "code",
   "execution_count": 32,
   "id": "bb6753f3-7fe7-4d1e-8c17-455702022563",
   "metadata": {},
   "outputs": [
    {
     "name": "stdout",
     "output_type": "stream",
     "text": [
      "('name', 'Alice')\n",
      "('age', 20)\n",
      "('major', 'Computer Science')\n"
     ]
    }
   ],
   "source": [
    "for info in data.items():\n",
    "    print(info)"
   ]
  },
  {
   "cell_type": "code",
   "execution_count": 36,
   "id": "fec49d05-a8e5-4c23-b96a-bce037a86d38",
   "metadata": {},
   "outputs": [
    {
     "data": {
      "text/plain": [
       "dict_items([('name', 'Alice'), ('age', 20), ('major', 'Computer Science')])"
      ]
     },
     "execution_count": 36,
     "metadata": {},
     "output_type": "execute_result"
    }
   ],
   "source": [
    "data.items()"
   ]
  },
  {
   "cell_type": "code",
   "execution_count": 35,
   "id": "b216bf76-accb-4040-9770-fd22a8fc793d",
   "metadata": {},
   "outputs": [
    {
     "name": "stdout",
     "output_type": "stream",
     "text": [
      "name Alice\n",
      "age 20\n",
      "major Computer Science\n"
     ]
    }
   ],
   "source": [
    "for key, value in data.items():\n",
    "    print(key, value)"
   ]
  },
  {
   "cell_type": "code",
   "execution_count": 37,
   "id": "53ebf4bd-17e3-4864-acd3-22ad6c849db0",
   "metadata": {},
   "outputs": [],
   "source": [
    "fruits = ('appe', 'mango', 'orange')"
   ]
  },
  {
   "cell_type": "code",
   "execution_count": 38,
   "id": "516c9711-bfe1-4378-a90c-3c6df8fe2ccd",
   "metadata": {},
   "outputs": [
    {
     "name": "stdout",
     "output_type": "stream",
     "text": [
      "appe\n",
      "mango\n",
      "orange\n"
     ]
    }
   ],
   "source": [
    "a, b, c = ('appe', 'mango', 'orange')\n",
    "print(a)\n",
    "print(b)\n",
    "print(c)"
   ]
  },
  {
   "cell_type": "code",
   "execution_count": 39,
   "id": "2c9f0e68-b2ea-41d9-b855-0daad5a76d2f",
   "metadata": {},
   "outputs": [
    {
     "data": {
      "text/plain": [
       "('appe', 'mango', 'orange')"
      ]
     },
     "execution_count": 39,
     "metadata": {},
     "output_type": "execute_result"
    }
   ],
   "source": [
    "fruits"
   ]
  },
  {
   "cell_type": "code",
   "execution_count": null,
   "id": "9b1c8e22-a08a-4469-8b34-7fb109b622a1",
   "metadata": {},
   "outputs": [],
   "source": []
  }
 ],
 "metadata": {
  "kernelspec": {
   "display_name": "Python 3 (ipykernel)",
   "language": "python",
   "name": "python3"
  },
  "language_info": {
   "codemirror_mode": {
    "name": "ipython",
    "version": 3
   },
   "file_extension": ".py",
   "mimetype": "text/x-python",
   "name": "python",
   "nbconvert_exporter": "python",
   "pygments_lexer": "ipython3",
   "version": "3.11.7"
  }
 },
 "nbformat": 4,
 "nbformat_minor": 5
}
