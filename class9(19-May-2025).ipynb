{
 "cells": [
  {
   "cell_type": "code",
   "execution_count": 2,
   "id": "515f3778-9811-4244-809c-d69158921a38",
   "metadata": {},
   "outputs": [],
   "source": [
    "info = {'name': 'ali khan','email': 'alikhan@gmail.com','contact': '0335'}"
   ]
  },
  {
   "cell_type": "code",
   "execution_count": 3,
   "id": "d558e037-1c06-49ed-a43e-a8a3dc592b74",
   "metadata": {},
   "outputs": [
    {
     "data": {
      "text/plain": [
       "{'name': 'ali khan', 'email': 'alikhan@gmail.com', 'contact': '0335'}"
      ]
     },
     "execution_count": 3,
     "metadata": {},
     "output_type": "execute_result"
    }
   ],
   "source": [
    "info "
   ]
  },
  {
   "cell_type": "code",
   "execution_count": 14,
   "id": "07b1e788-ee83-44e7-b173-eecbd51c8647",
   "metadata": {},
   "outputs": [],
   "source": [
    "info = {'name': 'waseem bhai', 'email': 'waseembhai@gmail.com', 'contact': '0335'}"
   ]
  },
  {
   "cell_type": "code",
   "execution_count": 7,
   "id": "0860c2c1-69e8-405a-8e59-43f9a1d7eb92",
   "metadata": {},
   "outputs": [
    {
     "data": {
      "text/plain": [
       "{'name': 'waseem bhai', 'email': 'waseembhai@gmail.com', 'contact': '0335'}"
      ]
     },
     "execution_count": 7,
     "metadata": {},
     "output_type": "execute_result"
    }
   ],
   "source": [
    "info"
   ]
  },
  {
   "cell_type": "code",
   "execution_count": 8,
   "id": "6a1f9f90-584d-4054-a5d9-e1f49407d507",
   "metadata": {},
   "outputs": [],
   "source": [
    "copy_dic = info.copy()"
   ]
  },
  {
   "cell_type": "code",
   "execution_count": 9,
   "id": "78cf41ac-9ed9-44d4-a8a9-9b02455419bd",
   "metadata": {},
   "outputs": [
    {
     "data": {
      "text/plain": [
       "{'name': 'waseem bhai', 'email': 'waseembhai@gmail.com', 'contact': '0335'}"
      ]
     },
     "execution_count": 9,
     "metadata": {},
     "output_type": "execute_result"
    }
   ],
   "source": [
    "copy_dic"
   ]
  },
  {
   "cell_type": "code",
   "execution_count": 12,
   "id": "ea20ee3f-ca4b-42de-b8c4-9b5d480171df",
   "metadata": {},
   "outputs": [],
   "source": [
    "copy_dic.update({\n",
    "    'course' : 'python',\n",
    "    'email' : 'sattarbhai@gmail.com'\n",
    "})"
   ]
  },
  {
   "cell_type": "code",
   "execution_count": 13,
   "id": "d38957b3-0e21-4e67-b57c-7cb5f81924be",
   "metadata": {},
   "outputs": [
    {
     "data": {
      "text/plain": [
       "{'name': 'waseem bhai',\n",
       " 'email': 'sattarbhai@gmail.com',\n",
       " 'contact': '0335',\n",
       " 'course': 'python'}"
      ]
     },
     "execution_count": 13,
     "metadata": {},
     "output_type": "execute_result"
    }
   ],
   "source": [
    "copy_dic"
   ]
  },
  {
   "cell_type": "code",
   "execution_count": 19,
   "id": "112b6950-dcbb-4494-8b92-bf741d170b8c",
   "metadata": {},
   "outputs": [],
   "source": [
    "details = {\n",
    "    'marks' : (10,20,39,49),\n",
    "    'courses' : ['Eng','Math','Urdu','Comp'],\n",
    "    'students' : [{'name' : 'ali khan '}, {'name' : 'taha khan'}, {'name' : 'hamza khan'}]\n",
    "}    "
   ]
  },
  {
   "cell_type": "code",
   "execution_count": 20,
   "id": "522a2c2a-7727-4f31-b63c-b45ff3139dfc",
   "metadata": {},
   "outputs": [
    {
     "name": "stdout",
     "output_type": "stream",
     "text": [
      "{'marks': (10, 20, 39, 49), 'courses': ['Eng', 'Math', 'Urdu', 'Comp'], 'students': [{'name': 'ali khan '}, {'name': 'taha khan'}, {'name': 'hamza khan'}]}\n"
     ]
    }
   ],
   "source": [
    "print(details)"
   ]
  },
  {
   "cell_type": "code",
   "execution_count": 24,
   "id": "d9f23fc3-7f3b-4221-af95-08759ab89b78",
   "metadata": {},
   "outputs": [
    {
     "data": {
      "text/plain": [
       "'taha khan'"
      ]
     },
     "execution_count": 24,
     "metadata": {},
     "output_type": "execute_result"
    }
   ],
   "source": [
    "details.get('students') [1].get('name')"
   ]
  },
  {
   "cell_type": "code",
   "execution_count": 21,
   "id": "f5e4ee90-de5e-4540-a7d3-3f1705d1ebfd",
   "metadata": {},
   "outputs": [
    {
     "data": {
      "text/plain": [
       "[{'name': 'ali khan '}, {'name': 'taha khan'}, {'name': 'hamza khan'}]"
      ]
     },
     "execution_count": 21,
     "metadata": {},
     "output_type": "execute_result"
    }
   ],
   "source": [
    "details.get('students')"
   ]
  },
  {
   "cell_type": "code",
   "execution_count": 25,
   "id": "6a8498ee-3155-46b3-b8f9-ee4c04af6992",
   "metadata": {},
   "outputs": [
    {
     "data": {
      "text/plain": [
       "'Comp'"
      ]
     },
     "execution_count": 25,
     "metadata": {},
     "output_type": "execute_result"
    }
   ],
   "source": [
    "details.get('courses')[3]"
   ]
  },
  {
   "cell_type": "code",
   "execution_count": 27,
   "id": "5b7af996-86e5-4d55-8e51-42d7c81f004d",
   "metadata": {},
   "outputs": [],
   "source": [
    "detail_copy = details.copy()"
   ]
  },
  {
   "cell_type": "code",
   "execution_count": 28,
   "id": "e4f696c7-6232-4d52-9964-6e8fe7f91583",
   "metadata": {},
   "outputs": [
    {
     "data": {
      "text/plain": [
       "{'marks': (10, 20, 39, 49),\n",
       " 'courses': ['Eng', 'Math', 'Urdu', 'Comp'],\n",
       " 'students': [{'name': 'ali khan '},\n",
       "  {'name': 'taha khan'},\n",
       "  {'name': 'hamza khan'}]}"
      ]
     },
     "execution_count": 28,
     "metadata": {},
     "output_type": "execute_result"
    }
   ],
   "source": [
    "detail_copy"
   ]
  },
  {
   "cell_type": "code",
   "execution_count": 29,
   "id": "f5744c85-a3f0-4cea-ab3d-d3b623ee1e47",
   "metadata": {},
   "outputs": [
    {
     "data": {
      "text/plain": [
       "['Eng', 'Math', 'Urdu', 'Comp']"
      ]
     },
     "execution_count": 29,
     "metadata": {},
     "output_type": "execute_result"
    }
   ],
   "source": [
    "detail_copy.get('courses')"
   ]
  },
  {
   "cell_type": "code",
   "execution_count": 32,
   "id": "f730e316-8965-45b2-bf31-75a5a31832f7",
   "metadata": {},
   "outputs": [],
   "source": [
    "detail_copy.get('courses')[3] = 'Python'"
   ]
  },
  {
   "cell_type": "code",
   "execution_count": 33,
   "id": "bdd907d6-76b0-408a-bf38-a656300326f5",
   "metadata": {},
   "outputs": [
    {
     "data": {
      "text/plain": [
       "{'marks': (10, 20, 39, 49),\n",
       " 'courses': ['Eng', 'Math', 'Urdu', 'Python'],\n",
       " 'students': [{'name': 'ali khan '},\n",
       "  {'name': 'taha khan'},\n",
       "  {'name': 'hamza khan'}]}"
      ]
     },
     "execution_count": 33,
     "metadata": {},
     "output_type": "execute_result"
    }
   ],
   "source": [
    "detail_copy"
   ]
  },
  {
   "cell_type": "code",
   "execution_count": 34,
   "id": "2a337099-bb8a-4dca-9cf0-1199db347d74",
   "metadata": {},
   "outputs": [],
   "source": [
    "detail_copy.get('courses')[1] = 'Phy'"
   ]
  },
  {
   "cell_type": "code",
   "execution_count": 36,
   "id": "f16d169c-a1c1-4f38-b0b1-d6ff24b06c55",
   "metadata": {},
   "outputs": [
    {
     "data": {
      "text/plain": [
       "{'marks': (10, 20, 39, 49),\n",
       " 'courses': ['Eng', 'Phy', 'Urdu', 'Python'],\n",
       " 'students': [{'name': 'ali khan '},\n",
       "  {'name': 'taha khan'},\n",
       "  {'name': 'hamza khan'}]}"
      ]
     },
     "execution_count": 36,
     "metadata": {},
     "output_type": "execute_result"
    }
   ],
   "source": [
    "detail_copy"
   ]
  },
  {
   "cell_type": "code",
   "execution_count": 41,
   "id": "09ee5dd3-b83c-4c46-af46-deec0e689339",
   "metadata": {},
   "outputs": [],
   "source": [
    "detail_copy.get('students')[0] = {'age' : 10}"
   ]
  },
  {
   "cell_type": "code",
   "execution_count": 42,
   "id": "cb8d68f2-16f1-4d2d-9bd0-fac76fcae773",
   "metadata": {},
   "outputs": [
    {
     "data": {
      "text/plain": [
       "{'marks': (10, 20, 39, 49),\n",
       " 'courses': ['Eng', 'Phy', 'Urdu', 'Python'],\n",
       " 'students': [{'age': 10}, {'name': 'taha khan'}, {'name': 'hamza khan'}]}"
      ]
     },
     "execution_count": 42,
     "metadata": {},
     "output_type": "execute_result"
    }
   ],
   "source": [
    "detail_copy"
   ]
  },
  {
   "cell_type": "code",
   "execution_count": 43,
   "id": "dc43d735-a64f-44ab-9e6d-e90e846b607a",
   "metadata": {},
   "outputs": [
    {
     "data": {
      "text/plain": [
       "[{'age': 10}, {'name': 'taha khan'}, {'name': 'hamza khan'}]"
      ]
     },
     "execution_count": 43,
     "metadata": {},
     "output_type": "execute_result"
    }
   ],
   "source": [
    "detail_copy.get('students')"
   ]
  },
  {
   "cell_type": "code",
   "execution_count": null,
   "id": "12a2a454-1b62-40bc-9fa6-24fed4697475",
   "metadata": {},
   "outputs": [],
   "source": []
  },
  {
   "cell_type": "code",
   "execution_count": 45,
   "id": "0917e2fa-c316-47b6-8abd-58c5a0c740e3",
   "metadata": {},
   "outputs": [],
   "source": [
    "detail_copy = {\n",
    "'marks': (10, 20, 39, 49),\n",
    " 'courses': ['Eng', 'Phy', 'Urdu', 'Python'],\n",
    " 'students': [{'name': 'ali khan '},\n",
    "  {'name': 'taha khan'},\n",
    "  {'name': 'hamza khan'}]}\n",
    "\n"
   ]
  },
  {
   "cell_type": "code",
   "execution_count": 51,
   "id": "6388ad07-da44-4bec-9228-72b09930cc67",
   "metadata": {},
   "outputs": [],
   "source": [
    "detail_copy.get('students')[0].update({'age' : 13})"
   ]
  },
  {
   "cell_type": "code",
   "execution_count": 52,
   "id": "19f7f50c-a73b-44c9-9521-a764befade26",
   "metadata": {},
   "outputs": [
    {
     "data": {
      "text/plain": [
       "{'marks': (10, 20, 39, 49),\n",
       " 'courses': ['Eng', 'Phy', 'Urdu', 'Python'],\n",
       " 'students': [{'name': 'ali khan ', 'age': 13},\n",
       "  {'name': 'taha khan'},\n",
       "  {'name': 'hamza khan'}]}"
      ]
     },
     "execution_count": 52,
     "metadata": {},
     "output_type": "execute_result"
    }
   ],
   "source": [
    "detail_copy"
   ]
  },
  {
   "cell_type": "code",
   "execution_count": 53,
   "id": "4a5b478d-ef59-4d5d-bff4-0ca224a63422",
   "metadata": {},
   "outputs": [],
   "source": [
    "detail = detail_copy"
   ]
  },
  {
   "cell_type": "code",
   "execution_count": 55,
   "id": "2da4b383-ac6a-4c10-9a4c-a4185c93d5f9",
   "metadata": {},
   "outputs": [
    {
     "data": {
      "text/plain": [
       "{'marks': (10, 20, 39, 49),\n",
       " 'courses': ['Eng', 'Phy', 'Urdu', 'Python'],\n",
       " 'students': [{'name': 'ali khan ', 'age': 13},\n",
       "  {'name': 'taha khan'},\n",
       "  {'name': 'hamza khan'}]}"
      ]
     },
     "execution_count": 55,
     "metadata": {},
     "output_type": "execute_result"
    }
   ],
   "source": [
    "detail"
   ]
  },
  {
   "cell_type": "code",
   "execution_count": 57,
   "id": "2784d4de-31af-43d9-9b2a-12fc25090004",
   "metadata": {},
   "outputs": [],
   "source": [
    "one_more_dic = {('name', 'ali khan',) : 'tuple'}"
   ]
  },
  {
   "cell_type": "code",
   "execution_count": 58,
   "id": "a3d23495-72be-4cfa-bf1a-ab58ea49043d",
   "metadata": {},
   "outputs": [
    {
     "data": {
      "text/plain": [
       "{('name', 'ali khan'): 'tuple'}"
      ]
     },
     "execution_count": 58,
     "metadata": {},
     "output_type": "execute_result"
    }
   ],
   "source": [
    "one_more_dic"
   ]
  },
  {
   "cell_type": "code",
   "execution_count": 59,
   "id": "4b9cc978-77de-485e-bfb9-35d2c8219214",
   "metadata": {},
   "outputs": [],
   "source": [
    "sets = {('name', 'ali khan',) : 'sets'}"
   ]
  },
  {
   "cell_type": "code",
   "execution_count": 60,
   "id": "00a6776d-2791-486c-8f43-e25dd4bf5f13",
   "metadata": {},
   "outputs": [
    {
     "data": {
      "text/plain": [
       "{('name', 'ali khan'): 'sets'}"
      ]
     },
     "execution_count": 60,
     "metadata": {},
     "output_type": "execute_result"
    }
   ],
   "source": [
    "sets"
   ]
  },
  {
   "cell_type": "code",
   "execution_count": 63,
   "id": "22eb63f1-65bb-42ee-9bca-b6c2fb844253",
   "metadata": {},
   "outputs": [
    {
     "name": "stdin",
     "output_type": "stream",
     "text": [
      "Enter list of cities 'lahore','multan','karachi'\n"
     ]
    }
   ],
   "source": [
    "new_dic = {\n",
    "    'cities' : (input('Enter list of cities'))\n",
    "}"
   ]
  },
  {
   "cell_type": "code",
   "execution_count": 64,
   "id": "a42ab80f-9a6f-4244-a69f-4a22ec5309bd",
   "metadata": {},
   "outputs": [
    {
     "name": "stdin",
     "output_type": "stream",
     "text": [
      "Enter list of cities 'lahore','karachi','multan'\n"
     ]
    },
    {
     "data": {
      "text/plain": [
       "[\"'\",\n",
       " 'l',\n",
       " 'a',\n",
       " 'h',\n",
       " 'o',\n",
       " 'r',\n",
       " 'e',\n",
       " \"'\",\n",
       " ',',\n",
       " \"'\",\n",
       " 'k',\n",
       " 'a',\n",
       " 'r',\n",
       " 'a',\n",
       " 'c',\n",
       " 'h',\n",
       " 'i',\n",
       " \"'\",\n",
       " ',',\n",
       " \"'\",\n",
       " 'm',\n",
       " 'u',\n",
       " 'l',\n",
       " 't',\n",
       " 'a',\n",
       " 'n',\n",
       " \"'\"]"
      ]
     },
     "execution_count": 64,
     "metadata": {},
     "output_type": "execute_result"
    }
   ],
   "source": [
    "list(input('Enter list of cities'))"
   ]
  },
  {
   "cell_type": "code",
   "execution_count": 65,
   "id": "2b69e6d4-20f8-4bdf-817e-b45a35fb9f31",
   "metadata": {},
   "outputs": [
    {
     "data": {
      "text/plain": [
       "{'cities': \"'lahore','multan','karachi'\"}"
      ]
     },
     "execution_count": 65,
     "metadata": {},
     "output_type": "execute_result"
    }
   ],
   "source": [
    "new_dic"
   ]
  },
  {
   "cell_type": "code",
   "execution_count": null,
   "id": "c14a66dd-f594-4308-aa5f-de739afbafc0",
   "metadata": {},
   "outputs": [],
   "source": []
  }
 ],
 "metadata": {
  "kernelspec": {
   "display_name": "Python 3 (ipykernel)",
   "language": "python",
   "name": "python3"
  },
  "language_info": {
   "codemirror_mode": {
    "name": "ipython",
    "version": 3
   },
   "file_extension": ".py",
   "mimetype": "text/x-python",
   "name": "python",
   "nbconvert_exporter": "python",
   "pygments_lexer": "ipython3",
   "version": "3.11.7"
  }
 },
 "nbformat": 4,
 "nbformat_minor": 5
}
