{
 "cells": [
  {
   "cell_type": "code",
   "execution_count": 1,
   "id": "4d6072a9",
   "metadata": {},
   "outputs": [],
   "source": [
    "import xlsxwriter"
   ]
  },
  {
   "cell_type": "code",
   "execution_count": 2,
   "id": "723e23c0",
   "metadata": {},
   "outputs": [],
   "source": [
    "workbook = xlsxwriter.Workbook('hello.xlsx')\n"
   ]
  },
  {
   "cell_type": "code",
   "execution_count": 3,
   "id": "1113fdc6",
   "metadata": {},
   "outputs": [],
   "source": [
    "worksheet = workbook.add_worksheet()\n"
   ]
  },
  {
   "cell_type": "code",
   "execution_count": 4,
   "id": "5c4040a5",
   "metadata": {},
   "outputs": [
    {
     "data": {
      "text/plain": [
       "0"
      ]
     },
     "execution_count": 4,
     "metadata": {},
     "output_type": "execute_result"
    }
   ],
   "source": [
    "worksheet.write('A1', 'Hello world')\n"
   ]
  },
  {
   "cell_type": "code",
   "execution_count": 5,
   "id": "d0f89b4a",
   "metadata": {},
   "outputs": [],
   "source": [
    "workbook.close()\n"
   ]
  },
  {
   "cell_type": "code",
   "execution_count": 6,
   "id": "e824c867",
   "metadata": {},
   "outputs": [],
   "source": [
    "expenses = (\n",
    "    ['Rent', 1000],\n",
    "    ['Gas',   100],\n",
    "    ['Food',  300],\n",
    "    ['Gym',    50],\n",
    ")"
   ]
  },
  {
   "cell_type": "code",
   "execution_count": 7,
   "id": "6cbd029a",
   "metadata": {},
   "outputs": [],
   "source": [
    "workbook = xlsxwriter.Workbook('Expenses01.xlsx')"
   ]
  },
  {
   "cell_type": "code",
   "execution_count": 8,
   "id": "fb6da1b5",
   "metadata": {},
   "outputs": [],
   "source": [
    "worksheet = workbook.add_worksheet('Python sheet')"
   ]
  },
  {
   "cell_type": "code",
   "execution_count": 9,
   "id": "2f63165e",
   "metadata": {},
   "outputs": [],
   "source": [
    "data = (\n",
    "    ['Rent', 1000],\n",
    "    ['Gas',   100],\n",
    "    ['Food',  300],\n",
    "    ['Gym',    50],\n",
    ")"
   ]
  },
  {
   "cell_type": "code",
   "execution_count": 10,
   "id": "87f5dcfc",
   "metadata": {},
   "outputs": [],
   "source": [
    "row = 0\n",
    "col = 0\n",
    "\n",
    "for item in expenses:\n",
    "    worksheet.write(row, col, item[0])\n",
    "    worksheet.write(row, col+1, item[1])\n",
    "    row += 1\n"
   ]
  },
  {
   "cell_type": "code",
   "execution_count": 11,
   "id": "e3d7a7a6",
   "metadata": {},
   "outputs": [],
   "source": [
    "workbook.close()"
   ]
  },
  {
   "cell_type": "code",
   "execution_count": 12,
   "id": "be848aa6",
   "metadata": {},
   "outputs": [],
   "source": [
    "def create_excel_sheet(data, filename, sheet_name):\n",
    "    workbook = xlsxwriter.Workbook(f'{filename.title()}.xlsx')\n",
    "    worksheet = workbook.add_worksheet(sheet_name.title())\n",
    "    row = 0\n",
    "    col = 0\n",
    "\n",
    "    for item in data:\n",
    "        for num in range(len(item)):\n",
    "            worksheet.write(row, num, item[num])\n",
    "            # worksheet.write(row, col+1, item[1])\n",
    "        row += 1\n",
    "\n",
    "    workbook.close()"
   ]
  },
  {
   "cell_type": "code",
   "execution_count": 13,
   "id": "b745b597",
   "metadata": {},
   "outputs": [],
   "source": [
    "data = (\n",
    "    ['Rent', 1000, 200, 10,11,22,33,44],\n",
    "    ['Rent', 1000, 200, 10,11,22,33,44],\n",
    "    ['Rent', 1000, 200, 10,11,22,33,44],\n",
    "\n",
    ")"
   ]
  },
  {
   "cell_type": "code",
   "execution_count": 14,
   "id": "4a84304d",
   "metadata": {},
   "outputs": [],
   "source": [
    "create_excel_sheet(data, 'testing', 'expenses')"
   ]
  }
 ],
 "metadata": {
  "kernelspec": {
   "display_name": "Python 3",
   "language": "python",
   "name": "python3"
  },
  "language_info": {
   "codemirror_mode": {
    "name": "ipython",
    "version": 3
   },
   "file_extension": ".py",
   "mimetype": "text/x-python",
   "name": "python",
   "nbconvert_exporter": "python",
   "pygments_lexer": "ipython3",
   "version": "3.13.5"
  }
 },
 "nbformat": 4,
 "nbformat_minor": 5
}
