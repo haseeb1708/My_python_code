{
 "cells": [
  {
   "cell_type": "code",
   "execution_count": 4,
   "id": "84108bc3-ca97-46ee-a1fe-343a132578f4",
   "metadata": {},
   "outputs": [
    {
     "name": "stdin",
     "output_type": "stream",
     "text": [
      "enter your name haseeb\n",
      "enter reason I just like it\n"
     ]
    },
    {
     "name": "stdout",
     "output_type": "stream",
     "text": [
      "haseeb: I just like it\n"
     ]
    },
    {
     "name": "stdin",
     "output_type": "stream",
     "text": [
      "enter your name fsjdlk\n",
      "enter reason jfl;sad\n"
     ]
    },
    {
     "name": "stdout",
     "output_type": "stream",
     "text": [
      "fsjdlk: jfl;sad\n"
     ]
    },
    {
     "name": "stdin",
     "output_type": "stream",
     "text": [
      "enter your name afjslk;d\n",
      "enter reason sjldf;k\n"
     ]
    },
    {
     "name": "stdout",
     "output_type": "stream",
     "text": [
      "afjslk;d: sjldf;k\n"
     ]
    },
    {
     "name": "stdin",
     "output_type": "stream",
     "text": [
      "enter your name q\n"
     ]
    }
   ],
   "source": [
    "result = {}\n",
    "while True:\n",
    "    name = input('enter your name')\n",
    "    if name.lower() == 'q':\n",
    "        break \n",
    "    reason = input('enter reason') \n",
    "    if reason.lower() == 'q':\n",
    "        break \n",
    "    if name in result:\n",
    "        result[name].append(reason)\n",
    "    else:\n",
    "        result[name] = [reason]\n",
    "    \n",
    "# for name, reason in result.items():\n",
    "\n",
    "    \n",
    "    print(f'{name}: {reason}')"
   ]
  },
  {
   "cell_type": "code",
   "execution_count": 5,
   "id": "400050a7-b288-436d-8f8a-dea189ec0c72",
   "metadata": {},
   "outputs": [
    {
     "name": "stdout",
     "output_type": "stream",
     "text": [
      "{'haseeb': ['I just like it'], 'fsjdlk': ['jfl;sad'], 'afjslk;d': ['sjldf;k']}\n"
     ]
    }
   ],
   "source": [
    "print(result)"
   ]
  },
  {
   "cell_type": "raw",
   "id": "0bbc7e5f-1e24-48be-b68c-e117f12dd22e",
   "metadata": {},
   "source": [
    "{'ali khan': ['i love code', 'dubara se'], 'taha bhai': ['i dont know'], 'faizan bhai': ['faizan bhai ka faizan']}"
   ]
  },
  {
   "cell_type": "raw",
   "id": "8adf21cc-a113-41b6-82ce-f09717a6e1d4",
   "metadata": {},
   "source": [
    "{\n",
    "    'ali khan': ['i love code','i am human'],\n",
    "    'taha khan': ['what is this','where is my reason']\n",
    "}"
   ]
  },
  {
   "cell_type": "code",
   "execution_count": 6,
   "id": "12a1c4ad-fda2-49b0-917f-5c048ac526df",
   "metadata": {},
   "outputs": [
    {
     "data": {
      "text/plain": [
       "'what is this man, dkljfkdjfkdjfkd'"
      ]
     },
     "execution_count": 6,
     "metadata": {},
     "output_type": "execute_result"
    }
   ],
   "source": [
    "', '.join(['what is this man', 'dkljfkdjfkdjfkd'])"
   ]
  },
  {
   "cell_type": "code",
   "execution_count": null,
   "id": "f7279101-82c2-4b99-a87a-a1f4b87321a1",
   "metadata": {},
   "outputs": [],
   "source": [
    "update_reason('record.txt')"
   ]
  },
  {
   "cell_type": "code",
   "execution_count": 3,
   "id": "248312db-ba1b-4fec-a480-1cae4a8b8722",
   "metadata": {},
   "outputs": [],
   "source": [
    "def update_reason(filename,mode='a+'):\n",
    "    flag = True\n",
    "    result = {}\n",
    "    while flag:\n",
    "        name = input('Enter your name: ')\n",
    "        if name.lower() == 'q':\n",
    "            break\n",
    "        reason = input('Why do you love programming? ')\n",
    "\n",
    "        if reason.lower() == 'q':\n",
    "            break\n",
    "        if name in result:\n",
    "            result[name].append(reason)\n",
    "        else:\n",
    "            result[name] = [reason]\n",
    "\n",
    "    with open(filename, mode) as f:\n",
    "        for key in result:\n",
    "            f.write(f'{key}: ')\n",
    "            f.write(f\"{', '.join(result[key])}\\n\")"
   ]
  },
  {
   "cell_type": "code",
   "execution_count": 4,
   "id": "0bb303de-40b8-4aa5-b3ed-a92702ad5c9d",
   "metadata": {},
   "outputs": [
    {
     "name": "stdin",
     "output_type": "stream",
     "text": [
      "Enter your name:  haseeb\n",
      "Why do you love programming?  I like pyhton\n",
      "Enter your name:  haseeb\n",
      "Why do you love programming?  q\n"
     ]
    }
   ],
   "source": [
    "update_reason('record.txt')"
   ]
  },
  {
   "cell_type": "code",
   "execution_count": null,
   "id": "5a6a3bfd-8410-41a5-87f4-c0462123d503",
   "metadata": {},
   "outputs": [],
   "source": []
  }
 ],
 "metadata": {
  "kernelspec": {
   "display_name": "Python 3 (ipykernel)",
   "language": "python",
   "name": "python3"
  },
  "language_info": {
   "codemirror_mode": {
    "name": "ipython",
    "version": 3
   },
   "file_extension": ".py",
   "mimetype": "text/x-python",
   "name": "python",
   "nbconvert_exporter": "python",
   "pygments_lexer": "ipython3",
   "version": "3.11.7"
  }
 },
 "nbformat": 4,
 "nbformat_minor": 5
}
