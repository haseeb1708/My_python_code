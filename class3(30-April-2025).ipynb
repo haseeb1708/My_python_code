{
 "cells": [
  {
   "cell_type": "code",
   "execution_count": 3,
   "id": "17a8dfd4-4687-4bff-8255-6b0d9c2e97d5",
   "metadata": {},
   "outputs": [
    {
     "name": "stdout",
     "output_type": "stream",
     "text": [
      "11.0\n"
     ]
    }
   ],
   "source": [
    "print(((12/3)*2)+3)"
   ]
  },
  {
   "cell_type": "code",
   "execution_count": 4,
   "id": "d3572388-7ecd-4a1f-b079-536b59edf6ba",
   "metadata": {},
   "outputs": [
    {
     "name": "stdout",
     "output_type": "stream",
     "text": [
      "9\n"
     ]
    }
   ],
   "source": [
    "#FOR SQUARING\n",
    "print(3**2)"
   ]
  },
  {
   "cell_type": "code",
   "execution_count": 5,
   "id": "f3964467-7f53-4010-83a2-b346d37c55c5",
   "metadata": {},
   "outputs": [],
   "source": [
    "num1 = 3\n",
    "num2 = 2"
   ]
  },
  {
   "cell_type": "code",
   "execution_count": 6,
   "id": "0079718d-3eea-4f37-b39c-7729585df829",
   "metadata": {},
   "outputs": [
    {
     "name": "stdout",
     "output_type": "stream",
     "text": [
      "9\n"
     ]
    }
   ],
   "source": [
    "result = num1 ** num2\n",
    "print(result)"
   ]
  },
  {
   "cell_type": "code",
   "execution_count": 7,
   "id": "4a0617a5-5181-4fe3-ab69-8165b9149ee8",
   "metadata": {},
   "outputs": [],
   "source": [
    "nam+e = 'Haseeb'"
   ]
  },
  {
   "cell_type": "code",
   "execution_count": 8,
   "id": "1e51eff5-3b37-457e-9f8d-8ac40b307d41",
   "metadata": {},
   "outputs": [
    {
     "name": "stdout",
     "output_type": "stream",
     "text": [
      "My name is Haseeb\n"
     ]
    }
   ],
   "source": [
    "print('My name is ' + name)"
   ]
  },
  {
   "cell_type": "code",
   "execution_count": 10,
   "id": "fdb929eb-14af-4004-9eaa-bc09f52e30f8",
   "metadata": {},
   "outputs": [
    {
     "name": "stdout",
     "output_type": "stream",
     "text": [
      "My name is  Haseeb\n"
     ]
    }
   ],
   "source": [
    "print('My name is ',name)"
   ]
  },
  {
   "cell_type": "code",
   "execution_count": 11,
   "id": "b65a2a06-691c-4083-8acb-66298da4b3a8",
   "metadata": {},
   "outputs": [],
   "source": [
    "course = 'Data science and AI'"
   ]
  },
  {
   "cell_type": "code",
   "execution_count": 12,
   "id": "756d52fa-6d4b-4707-85b2-85aa35394dc2",
   "metadata": {},
   "outputs": [
    {
     "name": "stdout",
     "output_type": "stream",
     "text": [
      "<class 'str'>\n"
     ]
    }
   ],
   "source": [
    "print(type(course))"
   ]
  },
  {
   "cell_type": "code",
   "execution_count": 13,
   "id": "6b18a15c-7041-4953-9ed3-1c3ad4ed8f89",
   "metadata": {},
   "outputs": [
    {
     "name": "stdout",
     "output_type": "stream",
     "text": [
      "19\n"
     ]
    }
   ],
   "source": [
    "print(len(course))"
   ]
  },
  {
   "cell_type": "code",
   "execution_count": 14,
   "id": "ee559a11-82a8-4f28-a6c0-90cb6831bb63",
   "metadata": {},
   "outputs": [],
   "source": [
    "num3 = 6"
   ]
  },
  {
   "cell_type": "code",
   "execution_count": 15,
   "id": "c5f70d6c-7353-41ba-a328-414ca2b47323",
   "metadata": {},
   "outputs": [
    {
     "name": "stdout",
     "output_type": "stream",
     "text": [
      "140720858776520\n"
     ]
    }
   ],
   "source": [
    "print(id(num3))"
   ]
  },
  {
   "cell_type": "code",
   "execution_count": 16,
   "id": "2dc0d5a2-c36e-414a-ac04-ed09f037bd7e",
   "metadata": {},
   "outputs": [],
   "source": [
    "fname = 'Abdul'\n",
    "lname = 'Haseeb'"
   ]
  },
  {
   "cell_type": "code",
   "execution_count": 17,
   "id": "0ebfa303-954d-4b34-83e9-e120246c37d9",
   "metadata": {},
   "outputs": [
    {
     "name": "stdout",
     "output_type": "stream",
     "text": [
      "2396878818352\n"
     ]
    }
   ],
   "source": [
    "print(id(fname))"
   ]
  },
  {
   "cell_type": "code",
   "execution_count": 18,
   "id": "56b29cc3-4885-4a92-a29f-dbf1b665c699",
   "metadata": {},
   "outputs": [
    {
     "name": "stdout",
     "output_type": "stream",
     "text": [
      "2396877895024\n"
     ]
    }
   ],
   "source": [
    "print(id(lname))"
   ]
  },
  {
   "cell_type": "code",
   "execution_count": 21,
   "id": "3a100b63-89fd-4676-9e3a-4064e6192859",
   "metadata": {},
   "outputs": [
    {
     "name": "stdout",
     "output_type": "stream",
     "text": [
      "5\n"
     ]
    }
   ],
   "source": [
    "print(len(fname))"
   ]
  },
  {
   "cell_type": "code",
   "execution_count": 22,
   "id": "7ebdf720-2350-4959-95ee-c59dfdd84a71",
   "metadata": {},
   "outputs": [
    {
     "name": "stdout",
     "output_type": "stream",
     "text": [
      "6\n"
     ]
    }
   ],
   "source": [
    "print(len(lname))"
   ]
  },
  {
   "cell_type": "code",
   "execution_count": 23,
   "id": "8e05e53f-3676-4e94-a2c9-4fb2acab0cd0",
   "metadata": {},
   "outputs": [],
   "source": [
    "name = 'Abdul Haseeb'"
   ]
  },
  {
   "cell_type": "code",
   "execution_count": 24,
   "id": "94f82c12-2a3e-476e-a49d-1332f6dff3ce",
   "metadata": {},
   "outputs": [
    {
     "name": "stdout",
     "output_type": "stream",
     "text": [
      "<class 'str'>\n"
     ]
    }
   ],
   "source": [
    "print(type(name))"
   ]
  },
  {
   "cell_type": "code",
   "execution_count": 25,
   "id": "1602fc10-fa24-4df1-b736-122316871455",
   "metadata": {},
   "outputs": [
    {
     "name": "stdout",
     "output_type": "stream",
     "text": [
      "2396878755696\n"
     ]
    }
   ],
   "source": [
    "print(id(name))"
   ]
  },
  {
   "cell_type": "code",
   "execution_count": 26,
   "id": "5d4fbb7c-d34e-415a-96fc-effb4b5e4045",
   "metadata": {},
   "outputs": [
    {
     "name": "stdout",
     "output_type": "stream",
     "text": [
      "12\n"
     ]
    }
   ],
   "source": [
    "print(len(name))"
   ]
  },
  {
   "cell_type": "code",
   "execution_count": 27,
   "id": "8f00f4fb-3c61-495a-b400-bad4c9e33fb4",
   "metadata": {},
   "outputs": [],
   "source": [
    "num1 = 3\n",
    "num2 = 4 "
   ]
  },
  {
   "cell_type": "code",
   "execution_count": 28,
   "id": "f93f786c-3d5e-4831-b327-0434bf0ef018",
   "metadata": {},
   "outputs": [],
   "source": [
    "result = num1 + num2"
   ]
  },
  {
   "cell_type": "code",
   "execution_count": 29,
   "id": "444d89ec-151a-40ac-8c46-c89716881b8c",
   "metadata": {},
   "outputs": [
    {
     "name": "stdout",
     "output_type": "stream",
     "text": [
      "7\n"
     ]
    }
   ],
   "source": [
    "print(result)"
   ]
  },
  {
   "cell_type": "code",
   "execution_count": 37,
   "id": "a4af7ee2-6a81-4089-81ac-c666c7639db0",
   "metadata": {},
   "outputs": [
    {
     "name": "stdin",
     "output_type": "stream",
     "text": [
      "Enter first number 896\n",
      "Enter second number 321\n"
     ]
    }
   ],
   "source": [
    "a = int(input('Enter first number'))\n",
    "b = int(input('Enter second number'))"
   ]
  },
  {
   "cell_type": "code",
   "execution_count": 38,
   "id": "4279b1d3-ee3b-4bd4-aaef-b7435a0a1fec",
   "metadata": {},
   "outputs": [
    {
     "name": "stdout",
     "output_type": "stream",
     "text": [
      "1217\n"
     ]
    }
   ],
   "source": [
    "print(a + b)"
   ]
  },
  {
   "cell_type": "code",
   "execution_count": 42,
   "id": "3094f3df-fe72-4c96-bdc8-03e525a217ba",
   "metadata": {},
   "outputs": [
    {
     "name": "stdout",
     "output_type": "stream",
     "text": [
      "51\n"
     ]
    }
   ],
   "source": [
    "print('5' + '1')"
   ]
  },
  {
   "cell_type": "code",
   "execution_count": 43,
   "id": "cd6ada02-1e79-41d1-9b17-2aec8831f450",
   "metadata": {},
   "outputs": [
    {
     "name": "stdout",
     "output_type": "stream",
     "text": [
      "6\n"
     ]
    }
   ],
   "source": [
    "print(5 + 1)"
   ]
  },
  {
   "cell_type": "code",
   "execution_count": null,
   "id": "bce5a283-f74c-42e3-a631-10385e87ca35",
   "metadata": {},
   "outputs": [],
   "source": []
  }
 ],
 "metadata": {
  "kernelspec": {
   "display_name": "Python 3 (ipykernel)",
   "language": "python",
   "name": "python3"
  },
  "language_info": {
   "codemirror_mode": {
    "name": "ipython",
    "version": 3
   },
   "file_extension": ".py",
   "mimetype": "text/x-python",
   "name": "python",
   "nbconvert_exporter": "python",
   "pygments_lexer": "ipython3",
   "version": "3.11.7"
  }
 },
 "nbformat": 4,
 "nbformat_minor": 5
}
