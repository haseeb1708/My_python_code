{
 "cells": [
  {
   "cell_type": "markdown",
   "id": "daab6b7d",
   "metadata": {},
   "source": [
    "# Polymorphism\n",
    "- The one way of doing polymorphism is redefining the parent class method with child class"
   ]
  },
  {
   "cell_type": "markdown",
   "id": "7f7f4cd4",
   "metadata": {},
   "source": [
    "Method overloading\n",
    "\n",
    "- Method overloading is like having a function that can do different things based on the number or type of parameters it receives. It allows a class to define multiple methods with the same name but different parameter signatures.\n",
    "- Python does not support traditional method overloading like some other languages. "
   ]
  },
  {
   "cell_type": "code",
   "execution_count": null,
   "id": "2f47cac1",
   "metadata": {},
   "outputs": [],
   "source": [
    "def add(a,b):\n",
    "    print(a+b)"
   ]
  },
  {
   "cell_type": "code",
   "execution_count": null,
   "id": "8665f684",
   "metadata": {},
   "outputs": [],
   "source": [
    "def add(e,f,g):\n",
    "    print(e+f+g)"
   ]
  },
  {
   "cell_type": "code",
   "execution_count": null,
   "id": "a327f9bf",
   "metadata": {},
   "outputs": [
    {
     "ename": "TypeError",
     "evalue": "add() missing 1 required positional argument: 'g'",
     "output_type": "error",
     "traceback": [
      "\u001b[31m---------------------------------------------------------------------------\u001b[39m",
      "\u001b[31mTypeError\u001b[39m                                 Traceback (most recent call last)",
      "\u001b[36mCell\u001b[39m\u001b[36m \u001b[39m\u001b[32mIn[4]\u001b[39m\u001b[32m, line 1\u001b[39m\n\u001b[32m----> \u001b[39m\u001b[32m1\u001b[39m \u001b[43madd\u001b[49m\u001b[43m(\u001b[49m\u001b[32;43m2\u001b[39;49m\u001b[43m,\u001b[49m\u001b[32;43m32\u001b[39;49m\u001b[43m)\u001b[49m\n",
      "\u001b[31mTypeError\u001b[39m: add() missing 1 required positional argument: 'g'"
     ]
    }
   ],
   "source": [
    "add(2,32)"
   ]
  },
  {
   "cell_type": "code",
   "execution_count": null,
   "id": "2e070509",
   "metadata": {},
   "outputs": [
    {
     "name": "stdout",
     "output_type": "stream",
     "text": [
      "6\n"
     ]
    }
   ],
   "source": [
    "add(1,2,3)"
   ]
  },
  {
   "cell_type": "code",
   "execution_count": null,
   "id": "d420a571",
   "metadata": {},
   "outputs": [
    {
     "name": "stdout",
     "output_type": "stream",
     "text": [
      "5\n",
      "aliKhan\n"
     ]
    }
   ],
   "source": [
    "# operator overloading\n",
    "print(2+3)\n",
    "print('ali'+'Khan')"
   ]
  },
  {
   "cell_type": "markdown",
   "id": "435a4a6a",
   "metadata": {},
   "source": [
    "# Method overriding\n",
    "- same methods in different class"
   ]
  },
  {
   "cell_type": "code",
   "execution_count": null,
   "id": "93bbd583",
   "metadata": {},
   "outputs": [],
   "source": [
    "class ElectricCar(Car):\n",
    "    def __init__(self, brand, model, transmission, engine, battery):\n",
    "        self.battery = battery\n",
    "        super().__init__(brand, model, transmission, engine)\n",
    "        \n",
    "    def chargebattery(self):\n",
    "        print('Batter is being charged')\n",
    "        \n",
    "    def fueltank(self):\n",
    "        print(f'{self.car_brand} has no fuel tank')\n",
    "    \n",
    "\n",
    "    "
   ]
  },
  {
   "cell_type": "code",
   "execution_count": null,
   "id": "0ac98621",
   "metadata": {},
   "outputs": [],
   "source": [
    "ec1 = ElectricCar('Tesla', '22', 'Auto', '600cc', 'Osaka')"
   ]
  },
  {
   "cell_type": "code",
   "execution_count": null,
   "id": "ecaca943",
   "metadata": {},
   "outputs": [
    {
     "data": {
      "text/plain": [
       "'Osaka'"
      ]
     },
     "execution_count": 70,
     "metadata": {},
     "output_type": "execute_result"
    }
   ],
   "source": [
    "ec1.battery"
   ]
  },
  {
   "cell_type": "code",
   "execution_count": null,
   "id": "4d5f2899",
   "metadata": {},
   "outputs": [
    {
     "name": "stdout",
     "output_type": "stream",
     "text": [
      "Tesla has no fuel tank\n"
     ]
    }
   ],
   "source": [
    "ec1.fueltank()"
   ]
  },
  {
   "cell_type": "markdown",
   "id": "10a1a055",
   "metadata": {},
   "source": [
    "# Encapulsation\n",
    "- The method of binding attributes and methods together in a class."
   ]
  },
  {
   "cell_type": "code",
   "execution_count": null,
   "id": "15d2771f",
   "metadata": {},
   "outputs": [],
   "source": [
    "class ElectricCar(Car):\n",
    "    def __init__(self, brand, model, transmission, engine, battery):\n",
    "        self.__battery = battery\n",
    "        super().__init__(brand, model, transmission, engine)\n",
    "        \n",
    "    def chargebattery(self):\n",
    "        print('Batter is being charged')\n",
    "        \n",
    "    def fueltank(self):\n",
    "        print(f'{self.car_brand} has no fuel tank')\n",
    "    \n",
    "    def getbattery(self):\n",
    "        print(f'{self.car_brand} has {self.__battery} battery installed')\n",
    "        \n",
    "    def setbattery(self, newname):\n",
    "        self.__battery = newname"
   ]
  },
  {
   "cell_type": "code",
   "execution_count": null,
   "id": "61cf9ed7",
   "metadata": {},
   "outputs": [],
   "source": [
    "ec1 = ElectricCar('Ford', '22', 'Auto', '700cc', 'Atlas')"
   ]
  },
  {
   "cell_type": "code",
   "execution_count": null,
   "id": "75635938",
   "metadata": {},
   "outputs": [],
   "source": [
    "ec1.setbattery('osaka')"
   ]
  },
  {
   "cell_type": "code",
   "execution_count": null,
   "id": "ae8d3e02",
   "metadata": {},
   "outputs": [
    {
     "name": "stdout",
     "output_type": "stream",
     "text": [
      "Ford has osaka battery installed\n"
     ]
    }
   ],
   "source": [
    "ec1.getbattery()"
   ]
  },
  {
   "cell_type": "markdown",
   "id": "aee5d889",
   "metadata": {},
   "source": [
    "# Multilevel Inheritence (without constructor)"
   ]
  },
  {
   "cell_type": "code",
   "execution_count": null,
   "id": "b94c8bdf",
   "metadata": {},
   "outputs": [],
   "source": [
    "class A():\n",
    "    def feature1(self):\n",
    "        print('Feature 1 from class A is working')\n",
    "    def feature2(self):\n",
    "        print('Feature 2 from class A is working')\n",
    "        "
   ]
  },
  {
   "cell_type": "code",
   "execution_count": null,
   "id": "e3ab1df0",
   "metadata": {},
   "outputs": [],
   "source": [
    "class B(A):\n",
    "    def feature3(self):\n",
    "        print('Feature 3 from class B is working')\n",
    "    def feature4(self):\n",
    "        print('Feature 4 from class B is working')\n",
    "        "
   ]
  },
  {
   "cell_type": "code",
   "execution_count": null,
   "id": "8bc5fee4",
   "metadata": {},
   "outputs": [],
   "source": [
    "class C(B):\n",
    "    def feature5(self):\n",
    "        print('Feature 5 from class C is working')"
   ]
  },
  {
   "cell_type": "code",
   "execution_count": null,
   "id": "ce8be9c2",
   "metadata": {},
   "outputs": [
    {
     "name": "stdout",
     "output_type": "stream",
     "text": [
      "Feature 1 from class A is working\n",
      "Feature 2 from class A is working\n",
      "Feature 3 from class B is working\n",
      "Feature 4 from class B is working\n",
      "Feature 5 from class C is working\n"
     ]
    }
   ],
   "source": [
    "c = C()\n",
    "\n",
    "c.feature1()\n",
    "c.feature2()\n",
    "c.feature3()\n",
    "c.feature4()\n",
    "c.feature5()"
   ]
  },
  {
   "cell_type": "markdown",
   "id": "d723ff19",
   "metadata": {},
   "source": [
    "# Multiple Inheritence (without constructor)"
   ]
  },
  {
   "cell_type": "code",
   "execution_count": null,
   "id": "5353388e",
   "metadata": {},
   "outputs": [],
   "source": [
    "class A():\n",
    "    def feature1(self):\n",
    "        print('Feature 1 from class A is working')\n",
    "    def feature2(self):\n",
    "        print('Feature 2 from class A is working')\n",
    "        "
   ]
  },
  {
   "cell_type": "code",
   "execution_count": null,
   "id": "507f0c1c",
   "metadata": {},
   "outputs": [],
   "source": [
    "class B():\n",
    "    def feature3(self):\n",
    "        print('Feature 3 from class B is working')\n",
    "    def feature4(self):\n",
    "        print('Feature 4 from class B is working')\n",
    "        "
   ]
  },
  {
   "cell_type": "code",
   "execution_count": null,
   "id": "83a1e642",
   "metadata": {},
   "outputs": [],
   "source": [
    "class C(A,B):\n",
    "    def feature5(self):\n",
    "        print('Feature 5 from class C is working')"
   ]
  },
  {
   "cell_type": "code",
   "execution_count": null,
   "id": "f63cf532",
   "metadata": {},
   "outputs": [],
   "source": [
    "c1 = C()"
   ]
  },
  {
   "cell_type": "markdown",
   "id": "98be4f51",
   "metadata": {},
   "source": [
    "- Key notes:\n",
    "    \n",
    "    - In multilevel inheritence, the class C having all the features of both class A and B, but for having the features of class A, class C is dependent on class B therefore, if we make any changes in the methods of class A in class B (polymorphism), they are also effected which means class C can not directly access the features of class A without being dependent on class B, to resolve this issue, multiple inheritence comes into place\n",
    "\n",
    "    - In multiple inheritence, all the features of class A and class B are present in class C, but Class C is not dependent on class B to having the features of class A, Class C is directly inheriting the features of both class A and class C"
   ]
  },
  {
   "cell_type": "markdown",
   "id": "059b0ea7",
   "metadata": {},
   "source": [
    "# Constructor in inheritence and method resolution order(MRO)"
   ]
  },
  {
   "cell_type": "markdown",
   "id": "ac4e2bca",
   "metadata": {},
   "source": [
    "## Multilevel Inheritence (with __ __init__ __)"
   ]
  },
  {
   "cell_type": "markdown",
   "id": "4ea6d06b",
   "metadata": {},
   "source": [
    "### Case 1:"
   ]
  },
  {
   "cell_type": "code",
   "execution_count": null,
   "id": "4d66574e",
   "metadata": {},
   "outputs": [],
   "source": [
    "class A():\n",
    "    \n",
    "    def __init__(self):\n",
    "        print('In init of A')\n",
    "    \n",
    "    def feature1(self):\n",
    "        print('Feature 1 from class A is working')\n",
    "    def feature2(self):\n",
    "        print('Feature 2 from class A is working')\n",
    " \n",
    "             "
   ]
  },
  {
   "cell_type": "code",
   "execution_count": null,
   "id": "f96059ea",
   "metadata": {},
   "outputs": [],
   "source": [
    "class B(A):\n",
    "    def feature3(self):\n",
    "        print('Feature 3 from class B is working')\n",
    "    def feature4(self):\n",
    "        print('Feature 4 from class B is working')\n",
    " "
   ]
  },
  {
   "cell_type": "code",
   "execution_count": null,
   "id": "f74d8844",
   "metadata": {},
   "outputs": [
    {
     "name": "stdout",
     "output_type": "stream",
     "text": [
      "In init of A\n"
     ]
    }
   ],
   "source": [
    "a = A()"
   ]
  },
  {
   "cell_type": "code",
   "execution_count": null,
   "id": "73f64163",
   "metadata": {},
   "outputs": [
    {
     "name": "stdout",
     "output_type": "stream",
     "text": [
      "In init of A\n"
     ]
    }
   ],
   "source": [
    "b = B()"
   ]
  },
  {
   "cell_type": "markdown",
   "id": "3c175ed0",
   "metadata": {},
   "source": [
    "### Case 2:"
   ]
  },
  {
   "cell_type": "code",
   "execution_count": null,
   "id": "7fe43362",
   "metadata": {},
   "outputs": [],
   "source": [
    "class A():\n",
    "    \n",
    "    def __init__(self):\n",
    "        print('In init of A')\n",
    "    \n",
    "    def feature1(self):\n",
    "        print('Feature 1 from class A is working')\n",
    "    def feature2(self):\n",
    "        print('Feature 2 from class A is working')\n",
    " \n",
    "             "
   ]
  },
  {
   "cell_type": "code",
   "execution_count": null,
   "id": "90ee637c",
   "metadata": {},
   "outputs": [],
   "source": [
    "class B(A):\n",
    "    \n",
    "    def __init__(self):\n",
    "        # super().__init__()\n",
    "        print('In init of B')\n",
    "    \n",
    "    def feature3(self):\n",
    "        print('Feature 3 from class B is working')\n",
    "    def feature4(self):\n",
    "        print('Feature 4 from class B is working')\n",
    " "
   ]
  },
  {
   "cell_type": "code",
   "execution_count": null,
   "id": "0848713b",
   "metadata": {},
   "outputs": [
    {
     "name": "stdout",
     "output_type": "stream",
     "text": [
      "In init of A\n"
     ]
    }
   ],
   "source": [
    "a = A()"
   ]
  },
  {
   "cell_type": "code",
   "execution_count": null,
   "id": "2c69d573",
   "metadata": {},
   "outputs": [
    {
     "name": "stdout",
     "output_type": "stream",
     "text": [
      "In init of B\n"
     ]
    }
   ],
   "source": [
    "b = B()"
   ]
  },
  {
   "cell_type": "markdown",
   "id": "fa69373e",
   "metadata": {},
   "source": [
    "### Case 3:"
   ]
  },
  {
   "cell_type": "code",
   "execution_count": null,
   "id": "6a78c4d5",
   "metadata": {},
   "outputs": [],
   "source": [
    "class A():\n",
    "    \n",
    "    def __init__(self):\n",
    "        print('In init of A')\n",
    "    \n",
    "    def feature1(self):\n",
    "        print('Feature 1 from class A is working')\n",
    "    def feature2(self):\n",
    "        print('Feature 2 from class A is working')\n",
    " \n",
    "             "
   ]
  },
  {
   "cell_type": "code",
   "execution_count": null,
   "id": "059ec1ef",
   "metadata": {},
   "outputs": [],
   "source": [
    "class B(A):\n",
    "    \n",
    "    def __init__(self):\n",
    "        super().__init__()\n",
    "        print('In init of B')\n",
    "    \n",
    "    def feature3(self):\n",
    "        print('Feature 3 from class B is working')\n",
    "    def feature4(self):\n",
    "        print('Feature 4 from class B is working')\n",
    " "
   ]
  },
  {
   "cell_type": "code",
   "execution_count": null,
   "id": "8fdb8a0f",
   "metadata": {},
   "outputs": [
    {
     "name": "stdout",
     "output_type": "stream",
     "text": [
      "In init of A\n"
     ]
    }
   ],
   "source": [
    "a = A()"
   ]
  },
  {
   "cell_type": "code",
   "execution_count": null,
   "id": "28e20a55",
   "metadata": {},
   "outputs": [
    {
     "name": "stdout",
     "output_type": "stream",
     "text": [
      "In init of A\n",
      "In init of B\n"
     ]
    }
   ],
   "source": [
    "b = B()\n"
   ]
  },
  {
   "cell_type": "markdown",
   "id": "0bb9e840",
   "metadata": {},
   "source": [
    "## Multiple Inheritence (with __ __init__ __)"
   ]
  },
  {
   "cell_type": "code",
   "execution_count": null,
   "id": "e9ea6334",
   "metadata": {},
   "outputs": [],
   "source": [
    "class A():\n",
    "    \n",
    "    def __init__(self):\n",
    "        print('In init of A')\n",
    "    \n",
    "    def feature1(self):\n",
    "        print('Feature 1 from class A is working')\n",
    "    def feature2(self):\n",
    "        print('Feature 2 from class A is working')\n",
    "        \n",
    "    def show(self):\n",
    "        print('I am showing class A')\n",
    " \n",
    "             "
   ]
  },
  {
   "cell_type": "code",
   "execution_count": null,
   "id": "6853915d",
   "metadata": {},
   "outputs": [],
   "source": [
    "class B():\n",
    "    \n",
    "    def __init__(self):\n",
    "        print('In init of B')\n",
    "            \n",
    "    def feature3(self):\n",
    "        print('Feature 3 from class B is working')\n",
    "    def feature4(self):\n",
    "        print('Feature 4 from class B is working')\n",
    "        \n",
    "    def show(self):\n",
    "        print('I am showing class B')\n",
    " "
   ]
  },
  {
   "cell_type": "code",
   "execution_count": null,
   "id": "dbd9c72b",
   "metadata": {},
   "outputs": [],
   "source": [
    "class C(A,B):\n",
    "    \n",
    "    def __init__(self):\n",
    "        print('In init of C')\n",
    "        super().__init__()\n",
    "        \n",
    "        # we have two parent classes super will call init of ??\n",
    "        # There is a term called MRO (method resolution order)\n",
    "        # MRO is from left to right\n",
    "        # init of A will be called (it also applies on methods)"
   ]
  },
  {
   "cell_type": "code",
   "execution_count": null,
   "id": "b6467e72",
   "metadata": {},
   "outputs": [
    {
     "name": "stdout",
     "output_type": "stream",
     "text": [
      "In init of C\n",
      "In init of A\n"
     ]
    }
   ],
   "source": [
    "c = C()\n"
   ]
  },
  {
   "cell_type": "code",
   "execution_count": null,
   "id": "fddb7de4",
   "metadata": {},
   "outputs": [],
   "source": [
    "class C(B,A):\n",
    "    \n",
    "    def __init__(self):\n",
    "        print('In init of C')\n",
    "        super().__init__()\n",
    "        \n",
    "        # we have two parent classes super will call init of ??\n",
    "        # There is a term called MRO \n",
    "        # MRO is from left to right\n",
    "        # init of A will be called (it also applies on methods)"
   ]
  },
  {
   "cell_type": "code",
   "execution_count": null,
   "id": "2d1f94a6",
   "metadata": {},
   "outputs": [
    {
     "name": "stdout",
     "output_type": "stream",
     "text": [
      "In init of C\n",
      "In init of B\n"
     ]
    }
   ],
   "source": [
    "c = C()"
   ]
  },
  {
   "cell_type": "code",
   "execution_count": null,
   "id": "fdb6c6d0",
   "metadata": {},
   "outputs": [
    {
     "name": "stdout",
     "output_type": "stream",
     "text": [
      "In init of C\n",
      "In init of A\n",
      "I am showing class A\n",
      "Feature 2 from class A is working\n"
     ]
    }
   ],
   "source": [
    "class A():\n",
    "    \n",
    "    def __init__(self):\n",
    "        print('In init of A')\n",
    "    \n",
    "    def feature1(self):\n",
    "        print('Feature 1 from class A is working')\n",
    "    def feature2(self):\n",
    "        print('Feature 2 from class A is working')\n",
    "        \n",
    "    def show(self):\n",
    "        print('I am showing class A')\n",
    " \n",
    "class B():\n",
    "    \n",
    "    def __init__(self):\n",
    "        print('In init of B')\n",
    "            \n",
    "    def feature2(self):\n",
    "        print('Feature 2 from class B is working')\n",
    "    def feature4(self):\n",
    "        print('Feature 4 from class B is working')\n",
    "        \n",
    "    def show(self):\n",
    "        print('I am showing class B')\n",
    "        \n",
    "\n",
    "class C(A,B):\n",
    "    \n",
    "    def __init__(self):\n",
    "        print('In init of C')\n",
    "        super().__init__()\n",
    "        super().show()\n",
    "        \n",
    "    def feature2(self):\n",
    "        print('I am in C') \n",
    "    def feat(self):\n",
    "        super().feature2()             \n",
    "\n",
    "\n",
    "c = C()\n",
    "c.feat()"
   ]
  },
  {
   "attachments": {
    "image-2.png": {
     "image/png": "[encoded data removed]"
    },
    "image-3.png": {
     "image/png": "[encoded data removed]"
    },
    "image.png": {
     "image/png": "[encoded data removed]"
    }
   },
   "cell_type": "markdown",
   "id": "f27c3598",
   "metadata": {},
   "source": [
    "![image.png](attachment:image.png) ![image-3.png](attachment:image-3.png) ![image-2.png](attachment:image-2.png)"
   ]
  },
  {
   "cell_type": "markdown",
   "id": "f39ab420",
   "metadata": {},
   "source": [
    "# Polymorphism\n",
    "- can be implemented by the following techniques\n",
    "\n",
    "- Duck Typing\n",
    "- Operator overloading\n",
    "- Operator Overriding\n",
    "- Method overriding"
   ]
  },
  {
   "cell_type": "markdown",
   "id": "e09c2d4c",
   "metadata": {},
   "source": [
    "- jab class banti hai to method create hojate hain jo aap class me bana rahe hon\n",
    "- jab object banate hain to sabse pehle init call hota hai"
   ]
  },
  {
   "cell_type": "code",
   "execution_count": null,
   "id": "0cfa0444",
   "metadata": {},
   "outputs": [],
   "source": []
  }
 ],
 "metadata": {
  "kernelspec": {
   "display_name": "Python 3",
   "language": "python",
   "name": "python3"
  },
  "language_info": {
   "codemirror_mode": {
    "name": "ipython",
    "version": 3
   },
   "file_extension": ".py",
   "mimetype": "text/x-python",
   "name": "python",
   "nbconvert_exporter": "python",
   "pygments_lexer": "ipython3",
   "version": "3.13.5"
  }
 },
 "nbformat": 4,
 "nbformat_minor": 5
}
